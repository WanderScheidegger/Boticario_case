{
    "cells": [
        {
            "cell_type": "code",
            "execution_count": 1,
            "source": [
                "import pandas as pd\n",
                "import numpy as np\n",
                "import matplotlib.pyplot as plt\n",
                "import seaborn as sns\n",
                "\n",
                "import plotly.express as px\n",
                "\n",
                "from mlxtend.frequent_patterns import apriori, association_rules\n",
                "\n",
                "import warnings\n",
                "warnings.filterwarnings(\"ignore\")"
            ],
            "outputs": [],
            "metadata": {}
        },
        {
            "cell_type": "code",
            "execution_count": 2,
            "source": [
                "base = pd.read_excel('Base_case_analista_III.xlsx', header=1)"
            ],
            "outputs": [],
            "metadata": {}
        },
        {
            "cell_type": "code",
            "execution_count": 3,
            "source": [
                "base.columns = ['Ciclo_Ciclo', 'Revendedor', 'Franqueado', 'Loja', 'Produto_Categoria',\n",
                "       'Produto_Codigo', 'Produto_Descricao', 'Produto_Linha',\n",
                "       'Pedido_Valor_Volume', 'Receita_Bruta', 'Receita_Liquida',\n",
                "       'z_Numero_de_Pedidos']\n"
            ],
            "outputs": [],
            "metadata": {}
        },
        {
            "cell_type": "code",
            "execution_count": 4,
            "source": [
                "base['Desconto'] = base['Receita_Bruta'] - base['Receita_Liquida']\n",
                "base['Ciclo'] = base.apply(lambda x: 'Mar-2020' if x['Ciclo_Ciclo'] == 2020.03 else 'Fev-2020', axis=1)"
            ],
            "outputs": [],
            "metadata": {}
        },
        {
            "cell_type": "code",
            "execution_count": 5,
            "source": [
                "base.dtypes"
            ],
            "outputs": [
                {
                    "output_type": "execute_result",
                    "data": {
                        "text/plain": [
                            "Ciclo_Ciclo            float64\n",
                            "Revendedor               int64\n",
                            "Franqueado               int64\n",
                            "Loja                     int64\n",
                            "Produto_Categoria       object\n",
                            "Produto_Codigo           int64\n",
                            "Produto_Descricao       object\n",
                            "Produto_Linha           object\n",
                            "Pedido_Valor_Volume      int64\n",
                            "Receita_Bruta          float64\n",
                            "Receita_Liquida        float64\n",
                            "z_Numero_de_Pedidos      int64\n",
                            "Desconto               float64\n",
                            "Ciclo                   object\n",
                            "dtype: object"
                        ]
                    },
                    "metadata": {},
                    "execution_count": 5
                }
            ],
            "metadata": {}
        },
        {
            "cell_type": "code",
            "execution_count": 6,
            "source": [
                "base['Produto_Categoria'].unique()"
            ],
            "outputs": [
                {
                    "output_type": "execute_result",
                    "data": {
                        "text/plain": [
                            "array(['PERFUMARIA MASCULINA', 'ACESSÓRIOS', 'SUPORTE À VENDA',\n",
                            "       'PERFUMARIA FEMININA', 'GIFTS', 'CATALOGO VENDA DIRETA'],\n",
                            "      dtype=object)"
                        ]
                    },
                    "metadata": {},
                    "execution_count": 6
                }
            ],
            "metadata": {}
        },
        {
            "cell_type": "code",
            "execution_count": 7,
            "source": [
                "len(base['Loja'].unique())"
            ],
            "outputs": [
                {
                    "output_type": "execute_result",
                    "data": {
                        "text/plain": [
                            "892"
                        ]
                    },
                    "metadata": {},
                    "execution_count": 7
                }
            ],
            "metadata": {}
        },
        {
            "cell_type": "code",
            "execution_count": 8,
            "source": [
                "len(base['Franqueado'].unique())"
            ],
            "outputs": [
                {
                    "output_type": "execute_result",
                    "data": {
                        "text/plain": [
                            "504"
                        ]
                    },
                    "metadata": {},
                    "execution_count": 8
                }
            ],
            "metadata": {}
        },
        {
            "cell_type": "code",
            "execution_count": 9,
            "source": [
                "len(base['Revendedor'].unique())"
            ],
            "outputs": [
                {
                    "output_type": "execute_result",
                    "data": {
                        "text/plain": [
                            "73917"
                        ]
                    },
                    "metadata": {},
                    "execution_count": 9
                }
            ],
            "metadata": {}
        },
        {
            "cell_type": "markdown",
            "source": [
                "# Anotações\n",
                "\n",
                "* um franqueado pode ter mais de uma loja\n",
                "* Revendedor fazem as vendas de porta em porta\n",
                "\n",
                "-\n",
                "* 504 franqueados\n",
                "* 892 Lojas\n",
                "* 73917 Revendedores"
            ],
            "metadata": {}
        },
        {
            "cell_type": "markdown",
            "source": [
                "## Analise da categoria"
            ],
            "metadata": {}
        },
        {
            "cell_type": "code",
            "execution_count": 10,
            "source": [
                "categoria = base.groupby(['Produto_Categoria', 'Ciclo']).\\\n",
                "    agg({'Receita_Bruta':'sum', 'Receita_Liquida':'sum', \\\n",
                "        'Desconto':'sum', 'Pedido_Valor_Volume':'sum', 'z_Numero_de_Pedidos':'max'}).round(3).reset_index().\\\n",
                "    rename(columns={\"Pedido_Valor_Volume\": \"Qtde_itens\", 'z_Numero_de_Pedidos': 'Numero_de_Pedidos'})\n",
                "\n",
                "fig = px.bar(categoria, x=\"Produto_Categoria\", y=\"Receita_Bruta\", \\\n",
                "    text=\"Ciclo\", color=\"Ciclo\", hover_data=['Ciclo', 'Qtde_itens', 'Numero_de_Pedidos'], template=\"seaborn\")\n",
                "\n",
                "fig.update_layout(\n",
                "    margin=dict(l=20, r=50, t=50, b=20),\n",
                "    title = 'Receita Bruta - Categorias',\n",
                "    width=700, \n",
                "    height=600,\n",
                "    uniformtext_minsize=12, \n",
                "    uniformtext_mode='hide',\n",
                ")\n",
                "fig.show()"
            ],
            "outputs": [
                {
                    "output_type": "display_data",
                    "data": {
                        "application/vnd.plotly.v1+json": {
                            "config": {
                                "plotlyServerURL": "https://plot.ly"
                            },
                            "data": [
                                {
                                    "alignmentgroup": "True",
                                    "customdata": [
                                        [
                                            "Fev-2020",
                                            6700,
                                            3
                                        ],
                                        [
                                            "Fev-2020",
                                            1620,
                                            3
                                        ],
                                        [
                                            "Fev-2020",
                                            360,
                                            4
                                        ],
                                        [
                                            "Fev-2020",
                                            25967,
                                            2
                                        ],
                                        [
                                            "Fev-2020",
                                            7397,
                                            4
                                        ],
                                        [
                                            "Fev-2020",
                                            4592,
                                            3
                                        ]
                                    ],
                                    "hovertemplate": "Ciclo=%{customdata[0]}<br>Produto_Categoria=%{x}<br>Receita_Bruta=%{y}<br>Qtde_itens=%{customdata[1]}<br>Numero_de_Pedidos=%{customdata[2]}<extra></extra>",
                                    "legendgroup": "Fev-2020",
                                    "marker": {
                                        "color": "rgb(76,114,176)",
                                        "pattern": {
                                            "shape": ""
                                        }
                                    },
                                    "name": "Fev-2020",
                                    "offsetgroup": "Fev-2020",
                                    "orientation": "v",
                                    "showlegend": true,
                                    "text": [
                                        "Fev-2020",
                                        "Fev-2020",
                                        "Fev-2020",
                                        "Fev-2020",
                                        "Fev-2020",
                                        "Fev-2020"
                                    ],
                                    "textposition": "auto",
                                    "type": "bar",
                                    "x": [
                                        "ACESSÓRIOS",
                                        "CATALOGO VENDA DIRETA",
                                        "GIFTS",
                                        "PERFUMARIA FEMININA",
                                        "PERFUMARIA MASCULINA",
                                        "SUPORTE À VENDA"
                                    ],
                                    "xaxis": "x",
                                    "y": [
                                        262070.35,
                                        6237,
                                        8055.95,
                                        3722735.71,
                                        232403.28,
                                        81632.29
                                    ],
                                    "yaxis": "y"
                                },
                                {
                                    "alignmentgroup": "True",
                                    "customdata": [
                                        [
                                            "Mar-2020",
                                            10063,
                                            4
                                        ],
                                        [
                                            "Mar-2020",
                                            4147,
                                            4
                                        ],
                                        [
                                            "Mar-2020",
                                            454,
                                            2
                                        ],
                                        [
                                            "Mar-2020",
                                            22536,
                                            3
                                        ],
                                        [
                                            "Mar-2020",
                                            5368,
                                            4
                                        ],
                                        [
                                            "Mar-2020",
                                            5024,
                                            4
                                        ]
                                    ],
                                    "hovertemplate": "Ciclo=%{customdata[0]}<br>Produto_Categoria=%{x}<br>Receita_Bruta=%{y}<br>Qtde_itens=%{customdata[1]}<br>Numero_de_Pedidos=%{customdata[2]}<extra></extra>",
                                    "legendgroup": "Mar-2020",
                                    "marker": {
                                        "color": "rgb(221,132,82)",
                                        "pattern": {
                                            "shape": ""
                                        }
                                    },
                                    "name": "Mar-2020",
                                    "offsetgroup": "Mar-2020",
                                    "orientation": "v",
                                    "showlegend": true,
                                    "text": [
                                        "Mar-2020",
                                        "Mar-2020",
                                        "Mar-2020",
                                        "Mar-2020",
                                        "Mar-2020",
                                        "Mar-2020"
                                    ],
                                    "textposition": "auto",
                                    "type": "bar",
                                    "x": [
                                        "ACESSÓRIOS",
                                        "CATALOGO VENDA DIRETA",
                                        "GIFTS",
                                        "PERFUMARIA FEMININA",
                                        "PERFUMARIA MASCULINA",
                                        "SUPORTE À VENDA"
                                    ],
                                    "xaxis": "x",
                                    "y": [
                                        313699.54,
                                        15964.19,
                                        10044.83,
                                        3237978.05,
                                        196643.09,
                                        75899.58
                                    ],
                                    "yaxis": "y"
                                }
                            ],
                            "layout": {
                                "barmode": "relative",
                                "height": 600,
                                "legend": {
                                    "title": {
                                        "text": "Ciclo"
                                    },
                                    "tracegroupgap": 0
                                },
                                "margin": {
                                    "b": 20,
                                    "l": 20,
                                    "r": 50,
                                    "t": 50
                                },
                                "template": {
                                    "data": {
                                        "bar": [
                                            {
                                                "error_x": {
                                                    "color": "rgb(36,36,36)"
                                                },
                                                "error_y": {
                                                    "color": "rgb(36,36,36)"
                                                },
                                                "marker": {
                                                    "line": {
                                                        "color": "rgb(234,234,242)",
                                                        "width": 0.5
                                                    },
                                                    "pattern": {
                                                        "fillmode": "overlay",
                                                        "size": 10,
                                                        "solidity": 0.2
                                                    }
                                                },
                                                "type": "bar"
                                            }
                                        ],
                                        "barpolar": [
                                            {
                                                "marker": {
                                                    "line": {
                                                        "color": "rgb(234,234,242)",
                                                        "width": 0.5
                                                    },
                                                    "pattern": {
                                                        "fillmode": "overlay",
                                                        "size": 10,
                                                        "solidity": 0.2
                                                    }
                                                },
                                                "type": "barpolar"
                                            }
                                        ],
                                        "carpet": [
                                            {
                                                "aaxis": {
                                                    "endlinecolor": "rgb(36,36,36)",
                                                    "gridcolor": "white",
                                                    "linecolor": "white",
                                                    "minorgridcolor": "white",
                                                    "startlinecolor": "rgb(36,36,36)"
                                                },
                                                "baxis": {
                                                    "endlinecolor": "rgb(36,36,36)",
                                                    "gridcolor": "white",
                                                    "linecolor": "white",
                                                    "minorgridcolor": "white",
                                                    "startlinecolor": "rgb(36,36,36)"
                                                },
                                                "type": "carpet"
                                            }
                                        ],
                                        "choropleth": [
                                            {
                                                "colorbar": {
                                                    "outlinewidth": 0,
                                                    "tickcolor": "rgb(36,36,36)",
                                                    "ticklen": 8,
                                                    "ticks": "outside",
                                                    "tickwidth": 2
                                                },
                                                "type": "choropleth"
                                            }
                                        ],
                                        "contour": [
                                            {
                                                "colorbar": {
                                                    "outlinewidth": 0,
                                                    "tickcolor": "rgb(36,36,36)",
                                                    "ticklen": 8,
                                                    "ticks": "outside",
                                                    "tickwidth": 2
                                                },
                                                "colorscale": [
                                                    [
                                                        0,
                                                        "rgb(2,4,25)"
                                                    ],
                                                    [
                                                        0.06274509803921569,
                                                        "rgb(24,15,41)"
                                                    ],
                                                    [
                                                        0.12549019607843137,
                                                        "rgb(47,23,57)"
                                                    ],
                                                    [
                                                        0.18823529411764706,
                                                        "rgb(71,28,72)"
                                                    ],
                                                    [
                                                        0.25098039215686274,
                                                        "rgb(97,30,82)"
                                                    ],
                                                    [
                                                        0.3137254901960784,
                                                        "rgb(123,30,89)"
                                                    ],
                                                    [
                                                        0.3764705882352941,
                                                        "rgb(150,27,91)"
                                                    ],
                                                    [
                                                        0.4392156862745098,
                                                        "rgb(177,22,88)"
                                                    ],
                                                    [
                                                        0.5019607843137255,
                                                        "rgb(203,26,79)"
                                                    ],
                                                    [
                                                        0.5647058823529412,
                                                        "rgb(223,47,67)"
                                                    ],
                                                    [
                                                        0.6274509803921569,
                                                        "rgb(236,76,61)"
                                                    ],
                                                    [
                                                        0.6901960784313725,
                                                        "rgb(242,107,73)"
                                                    ],
                                                    [
                                                        0.7529411764705882,
                                                        "rgb(244,135,95)"
                                                    ],
                                                    [
                                                        0.8156862745098039,
                                                        "rgb(245,162,122)"
                                                    ],
                                                    [
                                                        0.8784313725490196,
                                                        "rgb(246,188,153)"
                                                    ],
                                                    [
                                                        0.9411764705882353,
                                                        "rgb(247,212,187)"
                                                    ],
                                                    [
                                                        1,
                                                        "rgb(250,234,220)"
                                                    ]
                                                ],
                                                "type": "contour"
                                            }
                                        ],
                                        "contourcarpet": [
                                            {
                                                "colorbar": {
                                                    "outlinewidth": 0,
                                                    "tickcolor": "rgb(36,36,36)",
                                                    "ticklen": 8,
                                                    "ticks": "outside",
                                                    "tickwidth": 2
                                                },
                                                "type": "contourcarpet"
                                            }
                                        ],
                                        "heatmap": [
                                            {
                                                "colorbar": {
                                                    "outlinewidth": 0,
                                                    "tickcolor": "rgb(36,36,36)",
                                                    "ticklen": 8,
                                                    "ticks": "outside",
                                                    "tickwidth": 2
                                                },
                                                "colorscale": [
                                                    [
                                                        0,
                                                        "rgb(2,4,25)"
                                                    ],
                                                    [
                                                        0.06274509803921569,
                                                        "rgb(24,15,41)"
                                                    ],
                                                    [
                                                        0.12549019607843137,
                                                        "rgb(47,23,57)"
                                                    ],
                                                    [
                                                        0.18823529411764706,
                                                        "rgb(71,28,72)"
                                                    ],
                                                    [
                                                        0.25098039215686274,
                                                        "rgb(97,30,82)"
                                                    ],
                                                    [
                                                        0.3137254901960784,
                                                        "rgb(123,30,89)"
                                                    ],
                                                    [
                                                        0.3764705882352941,
                                                        "rgb(150,27,91)"
                                                    ],
                                                    [
                                                        0.4392156862745098,
                                                        "rgb(177,22,88)"
                                                    ],
                                                    [
                                                        0.5019607843137255,
                                                        "rgb(203,26,79)"
                                                    ],
                                                    [
                                                        0.5647058823529412,
                                                        "rgb(223,47,67)"
                                                    ],
                                                    [
                                                        0.6274509803921569,
                                                        "rgb(236,76,61)"
                                                    ],
                                                    [
                                                        0.6901960784313725,
                                                        "rgb(242,107,73)"
                                                    ],
                                                    [
                                                        0.7529411764705882,
                                                        "rgb(244,135,95)"
                                                    ],
                                                    [
                                                        0.8156862745098039,
                                                        "rgb(245,162,122)"
                                                    ],
                                                    [
                                                        0.8784313725490196,
                                                        "rgb(246,188,153)"
                                                    ],
                                                    [
                                                        0.9411764705882353,
                                                        "rgb(247,212,187)"
                                                    ],
                                                    [
                                                        1,
                                                        "rgb(250,234,220)"
                                                    ]
                                                ],
                                                "type": "heatmap"
                                            }
                                        ],
                                        "heatmapgl": [
                                            {
                                                "colorbar": {
                                                    "outlinewidth": 0,
                                                    "tickcolor": "rgb(36,36,36)",
                                                    "ticklen": 8,
                                                    "ticks": "outside",
                                                    "tickwidth": 2
                                                },
                                                "colorscale": [
                                                    [
                                                        0,
                                                        "rgb(2,4,25)"
                                                    ],
                                                    [
                                                        0.06274509803921569,
                                                        "rgb(24,15,41)"
                                                    ],
                                                    [
                                                        0.12549019607843137,
                                                        "rgb(47,23,57)"
                                                    ],
                                                    [
                                                        0.18823529411764706,
                                                        "rgb(71,28,72)"
                                                    ],
                                                    [
                                                        0.25098039215686274,
                                                        "rgb(97,30,82)"
                                                    ],
                                                    [
                                                        0.3137254901960784,
                                                        "rgb(123,30,89)"
                                                    ],
                                                    [
                                                        0.3764705882352941,
                                                        "rgb(150,27,91)"
                                                    ],
                                                    [
                                                        0.4392156862745098,
                                                        "rgb(177,22,88)"
                                                    ],
                                                    [
                                                        0.5019607843137255,
                                                        "rgb(203,26,79)"
                                                    ],
                                                    [
                                                        0.5647058823529412,
                                                        "rgb(223,47,67)"
                                                    ],
                                                    [
                                                        0.6274509803921569,
                                                        "rgb(236,76,61)"
                                                    ],
                                                    [
                                                        0.6901960784313725,
                                                        "rgb(242,107,73)"
                                                    ],
                                                    [
                                                        0.7529411764705882,
                                                        "rgb(244,135,95)"
                                                    ],
                                                    [
                                                        0.8156862745098039,
                                                        "rgb(245,162,122)"
                                                    ],
                                                    [
                                                        0.8784313725490196,
                                                        "rgb(246,188,153)"
                                                    ],
                                                    [
                                                        0.9411764705882353,
                                                        "rgb(247,212,187)"
                                                    ],
                                                    [
                                                        1,
                                                        "rgb(250,234,220)"
                                                    ]
                                                ],
                                                "type": "heatmapgl"
                                            }
                                        ],
                                        "histogram": [
                                            {
                                                "marker": {
                                                    "pattern": {
                                                        "fillmode": "overlay",
                                                        "size": 10,
                                                        "solidity": 0.2
                                                    }
                                                },
                                                "type": "histogram"
                                            }
                                        ],
                                        "histogram2d": [
                                            {
                                                "colorbar": {
                                                    "outlinewidth": 0,
                                                    "tickcolor": "rgb(36,36,36)",
                                                    "ticklen": 8,
                                                    "ticks": "outside",
                                                    "tickwidth": 2
                                                },
                                                "colorscale": [
                                                    [
                                                        0,
                                                        "rgb(2,4,25)"
                                                    ],
                                                    [
                                                        0.06274509803921569,
                                                        "rgb(24,15,41)"
                                                    ],
                                                    [
                                                        0.12549019607843137,
                                                        "rgb(47,23,57)"
                                                    ],
                                                    [
                                                        0.18823529411764706,
                                                        "rgb(71,28,72)"
                                                    ],
                                                    [
                                                        0.25098039215686274,
                                                        "rgb(97,30,82)"
                                                    ],
                                                    [
                                                        0.3137254901960784,
                                                        "rgb(123,30,89)"
                                                    ],
                                                    [
                                                        0.3764705882352941,
                                                        "rgb(150,27,91)"
                                                    ],
                                                    [
                                                        0.4392156862745098,
                                                        "rgb(177,22,88)"
                                                    ],
                                                    [
                                                        0.5019607843137255,
                                                        "rgb(203,26,79)"
                                                    ],
                                                    [
                                                        0.5647058823529412,
                                                        "rgb(223,47,67)"
                                                    ],
                                                    [
                                                        0.6274509803921569,
                                                        "rgb(236,76,61)"
                                                    ],
                                                    [
                                                        0.6901960784313725,
                                                        "rgb(242,107,73)"
                                                    ],
                                                    [
                                                        0.7529411764705882,
                                                        "rgb(244,135,95)"
                                                    ],
                                                    [
                                                        0.8156862745098039,
                                                        "rgb(245,162,122)"
                                                    ],
                                                    [
                                                        0.8784313725490196,
                                                        "rgb(246,188,153)"
                                                    ],
                                                    [
                                                        0.9411764705882353,
                                                        "rgb(247,212,187)"
                                                    ],
                                                    [
                                                        1,
                                                        "rgb(250,234,220)"
                                                    ]
                                                ],
                                                "type": "histogram2d"
                                            }
                                        ],
                                        "histogram2dcontour": [
                                            {
                                                "colorbar": {
                                                    "outlinewidth": 0,
                                                    "tickcolor": "rgb(36,36,36)",
                                                    "ticklen": 8,
                                                    "ticks": "outside",
                                                    "tickwidth": 2
                                                },
                                                "colorscale": [
                                                    [
                                                        0,
                                                        "rgb(2,4,25)"
                                                    ],
                                                    [
                                                        0.06274509803921569,
                                                        "rgb(24,15,41)"
                                                    ],
                                                    [
                                                        0.12549019607843137,
                                                        "rgb(47,23,57)"
                                                    ],
                                                    [
                                                        0.18823529411764706,
                                                        "rgb(71,28,72)"
                                                    ],
                                                    [
                                                        0.25098039215686274,
                                                        "rgb(97,30,82)"
                                                    ],
                                                    [
                                                        0.3137254901960784,
                                                        "rgb(123,30,89)"
                                                    ],
                                                    [
                                                        0.3764705882352941,
                                                        "rgb(150,27,91)"
                                                    ],
                                                    [
                                                        0.4392156862745098,
                                                        "rgb(177,22,88)"
                                                    ],
                                                    [
                                                        0.5019607843137255,
                                                        "rgb(203,26,79)"
                                                    ],
                                                    [
                                                        0.5647058823529412,
                                                        "rgb(223,47,67)"
                                                    ],
                                                    [
                                                        0.6274509803921569,
                                                        "rgb(236,76,61)"
                                                    ],
                                                    [
                                                        0.6901960784313725,
                                                        "rgb(242,107,73)"
                                                    ],
                                                    [
                                                        0.7529411764705882,
                                                        "rgb(244,135,95)"
                                                    ],
                                                    [
                                                        0.8156862745098039,
                                                        "rgb(245,162,122)"
                                                    ],
                                                    [
                                                        0.8784313725490196,
                                                        "rgb(246,188,153)"
                                                    ],
                                                    [
                                                        0.9411764705882353,
                                                        "rgb(247,212,187)"
                                                    ],
                                                    [
                                                        1,
                                                        "rgb(250,234,220)"
                                                    ]
                                                ],
                                                "type": "histogram2dcontour"
                                            }
                                        ],
                                        "mesh3d": [
                                            {
                                                "colorbar": {
                                                    "outlinewidth": 0,
                                                    "tickcolor": "rgb(36,36,36)",
                                                    "ticklen": 8,
                                                    "ticks": "outside",
                                                    "tickwidth": 2
                                                },
                                                "type": "mesh3d"
                                            }
                                        ],
                                        "parcoords": [
                                            {
                                                "line": {
                                                    "colorbar": {
                                                        "outlinewidth": 0,
                                                        "tickcolor": "rgb(36,36,36)",
                                                        "ticklen": 8,
                                                        "ticks": "outside",
                                                        "tickwidth": 2
                                                    }
                                                },
                                                "type": "parcoords"
                                            }
                                        ],
                                        "pie": [
                                            {
                                                "automargin": true,
                                                "type": "pie"
                                            }
                                        ],
                                        "scatter": [
                                            {
                                                "marker": {
                                                    "colorbar": {
                                                        "outlinewidth": 0,
                                                        "tickcolor": "rgb(36,36,36)",
                                                        "ticklen": 8,
                                                        "ticks": "outside",
                                                        "tickwidth": 2
                                                    }
                                                },
                                                "type": "scatter"
                                            }
                                        ],
                                        "scatter3d": [
                                            {
                                                "line": {
                                                    "colorbar": {
                                                        "outlinewidth": 0,
                                                        "tickcolor": "rgb(36,36,36)",
                                                        "ticklen": 8,
                                                        "ticks": "outside",
                                                        "tickwidth": 2
                                                    }
                                                },
                                                "marker": {
                                                    "colorbar": {
                                                        "outlinewidth": 0,
                                                        "tickcolor": "rgb(36,36,36)",
                                                        "ticklen": 8,
                                                        "ticks": "outside",
                                                        "tickwidth": 2
                                                    }
                                                },
                                                "type": "scatter3d"
                                            }
                                        ],
                                        "scattercarpet": [
                                            {
                                                "marker": {
                                                    "colorbar": {
                                                        "outlinewidth": 0,
                                                        "tickcolor": "rgb(36,36,36)",
                                                        "ticklen": 8,
                                                        "ticks": "outside",
                                                        "tickwidth": 2
                                                    }
                                                },
                                                "type": "scattercarpet"
                                            }
                                        ],
                                        "scattergeo": [
                                            {
                                                "marker": {
                                                    "colorbar": {
                                                        "outlinewidth": 0,
                                                        "tickcolor": "rgb(36,36,36)",
                                                        "ticklen": 8,
                                                        "ticks": "outside",
                                                        "tickwidth": 2
                                                    }
                                                },
                                                "type": "scattergeo"
                                            }
                                        ],
                                        "scattergl": [
                                            {
                                                "marker": {
                                                    "colorbar": {
                                                        "outlinewidth": 0,
                                                        "tickcolor": "rgb(36,36,36)",
                                                        "ticklen": 8,
                                                        "ticks": "outside",
                                                        "tickwidth": 2
                                                    }
                                                },
                                                "type": "scattergl"
                                            }
                                        ],
                                        "scattermapbox": [
                                            {
                                                "marker": {
                                                    "colorbar": {
                                                        "outlinewidth": 0,
                                                        "tickcolor": "rgb(36,36,36)",
                                                        "ticklen": 8,
                                                        "ticks": "outside",
                                                        "tickwidth": 2
                                                    }
                                                },
                                                "type": "scattermapbox"
                                            }
                                        ],
                                        "scatterpolar": [
                                            {
                                                "marker": {
                                                    "colorbar": {
                                                        "outlinewidth": 0,
                                                        "tickcolor": "rgb(36,36,36)",
                                                        "ticklen": 8,
                                                        "ticks": "outside",
                                                        "tickwidth": 2
                                                    }
                                                },
                                                "type": "scatterpolar"
                                            }
                                        ],
                                        "scatterpolargl": [
                                            {
                                                "marker": {
                                                    "colorbar": {
                                                        "outlinewidth": 0,
                                                        "tickcolor": "rgb(36,36,36)",
                                                        "ticklen": 8,
                                                        "ticks": "outside",
                                                        "tickwidth": 2
                                                    }
                                                },
                                                "type": "scatterpolargl"
                                            }
                                        ],
                                        "scatterternary": [
                                            {
                                                "marker": {
                                                    "colorbar": {
                                                        "outlinewidth": 0,
                                                        "tickcolor": "rgb(36,36,36)",
                                                        "ticklen": 8,
                                                        "ticks": "outside",
                                                        "tickwidth": 2
                                                    }
                                                },
                                                "type": "scatterternary"
                                            }
                                        ],
                                        "surface": [
                                            {
                                                "colorbar": {
                                                    "outlinewidth": 0,
                                                    "tickcolor": "rgb(36,36,36)",
                                                    "ticklen": 8,
                                                    "ticks": "outside",
                                                    "tickwidth": 2
                                                },
                                                "colorscale": [
                                                    [
                                                        0,
                                                        "rgb(2,4,25)"
                                                    ],
                                                    [
                                                        0.06274509803921569,
                                                        "rgb(24,15,41)"
                                                    ],
                                                    [
                                                        0.12549019607843137,
                                                        "rgb(47,23,57)"
                                                    ],
                                                    [
                                                        0.18823529411764706,
                                                        "rgb(71,28,72)"
                                                    ],
                                                    [
                                                        0.25098039215686274,
                                                        "rgb(97,30,82)"
                                                    ],
                                                    [
                                                        0.3137254901960784,
                                                        "rgb(123,30,89)"
                                                    ],
                                                    [
                                                        0.3764705882352941,
                                                        "rgb(150,27,91)"
                                                    ],
                                                    [
                                                        0.4392156862745098,
                                                        "rgb(177,22,88)"
                                                    ],
                                                    [
                                                        0.5019607843137255,
                                                        "rgb(203,26,79)"
                                                    ],
                                                    [
                                                        0.5647058823529412,
                                                        "rgb(223,47,67)"
                                                    ],
                                                    [
                                                        0.6274509803921569,
                                                        "rgb(236,76,61)"
                                                    ],
                                                    [
                                                        0.6901960784313725,
                                                        "rgb(242,107,73)"
                                                    ],
                                                    [
                                                        0.7529411764705882,
                                                        "rgb(244,135,95)"
                                                    ],
                                                    [
                                                        0.8156862745098039,
                                                        "rgb(245,162,122)"
                                                    ],
                                                    [
                                                        0.8784313725490196,
                                                        "rgb(246,188,153)"
                                                    ],
                                                    [
                                                        0.9411764705882353,
                                                        "rgb(247,212,187)"
                                                    ],
                                                    [
                                                        1,
                                                        "rgb(250,234,220)"
                                                    ]
                                                ],
                                                "type": "surface"
                                            }
                                        ],
                                        "table": [
                                            {
                                                "cells": {
                                                    "fill": {
                                                        "color": "rgb(231,231,240)"
                                                    },
                                                    "line": {
                                                        "color": "white"
                                                    }
                                                },
                                                "header": {
                                                    "fill": {
                                                        "color": "rgb(183,183,191)"
                                                    },
                                                    "line": {
                                                        "color": "white"
                                                    }
                                                },
                                                "type": "table"
                                            }
                                        ]
                                    },
                                    "layout": {
                                        "annotationdefaults": {
                                            "arrowcolor": "rgb(67,103,167)"
                                        },
                                        "autotypenumbers": "strict",
                                        "coloraxis": {
                                            "colorbar": {
                                                "outlinewidth": 0,
                                                "tickcolor": "rgb(36,36,36)",
                                                "ticklen": 8,
                                                "ticks": "outside",
                                                "tickwidth": 2
                                            }
                                        },
                                        "colorscale": {
                                            "sequential": [
                                                [
                                                    0,
                                                    "rgb(2,4,25)"
                                                ],
                                                [
                                                    0.06274509803921569,
                                                    "rgb(24,15,41)"
                                                ],
                                                [
                                                    0.12549019607843137,
                                                    "rgb(47,23,57)"
                                                ],
                                                [
                                                    0.18823529411764706,
                                                    "rgb(71,28,72)"
                                                ],
                                                [
                                                    0.25098039215686274,
                                                    "rgb(97,30,82)"
                                                ],
                                                [
                                                    0.3137254901960784,
                                                    "rgb(123,30,89)"
                                                ],
                                                [
                                                    0.3764705882352941,
                                                    "rgb(150,27,91)"
                                                ],
                                                [
                                                    0.4392156862745098,
                                                    "rgb(177,22,88)"
                                                ],
                                                [
                                                    0.5019607843137255,
                                                    "rgb(203,26,79)"
                                                ],
                                                [
                                                    0.5647058823529412,
                                                    "rgb(223,47,67)"
                                                ],
                                                [
                                                    0.6274509803921569,
                                                    "rgb(236,76,61)"
                                                ],
                                                [
                                                    0.6901960784313725,
                                                    "rgb(242,107,73)"
                                                ],
                                                [
                                                    0.7529411764705882,
                                                    "rgb(244,135,95)"
                                                ],
                                                [
                                                    0.8156862745098039,
                                                    "rgb(245,162,122)"
                                                ],
                                                [
                                                    0.8784313725490196,
                                                    "rgb(246,188,153)"
                                                ],
                                                [
                                                    0.9411764705882353,
                                                    "rgb(247,212,187)"
                                                ],
                                                [
                                                    1,
                                                    "rgb(250,234,220)"
                                                ]
                                            ],
                                            "sequentialminus": [
                                                [
                                                    0,
                                                    "rgb(2,4,25)"
                                                ],
                                                [
                                                    0.06274509803921569,
                                                    "rgb(24,15,41)"
                                                ],
                                                [
                                                    0.12549019607843137,
                                                    "rgb(47,23,57)"
                                                ],
                                                [
                                                    0.18823529411764706,
                                                    "rgb(71,28,72)"
                                                ],
                                                [
                                                    0.25098039215686274,
                                                    "rgb(97,30,82)"
                                                ],
                                                [
                                                    0.3137254901960784,
                                                    "rgb(123,30,89)"
                                                ],
                                                [
                                                    0.3764705882352941,
                                                    "rgb(150,27,91)"
                                                ],
                                                [
                                                    0.4392156862745098,
                                                    "rgb(177,22,88)"
                                                ],
                                                [
                                                    0.5019607843137255,
                                                    "rgb(203,26,79)"
                                                ],
                                                [
                                                    0.5647058823529412,
                                                    "rgb(223,47,67)"
                                                ],
                                                [
                                                    0.6274509803921569,
                                                    "rgb(236,76,61)"
                                                ],
                                                [
                                                    0.6901960784313725,
                                                    "rgb(242,107,73)"
                                                ],
                                                [
                                                    0.7529411764705882,
                                                    "rgb(244,135,95)"
                                                ],
                                                [
                                                    0.8156862745098039,
                                                    "rgb(245,162,122)"
                                                ],
                                                [
                                                    0.8784313725490196,
                                                    "rgb(246,188,153)"
                                                ],
                                                [
                                                    0.9411764705882353,
                                                    "rgb(247,212,187)"
                                                ],
                                                [
                                                    1,
                                                    "rgb(250,234,220)"
                                                ]
                                            ]
                                        },
                                        "colorway": [
                                            "rgb(76,114,176)",
                                            "rgb(221,132,82)",
                                            "rgb(85,168,104)",
                                            "rgb(196,78,82)",
                                            "rgb(129,114,179)",
                                            "rgb(147,120,96)",
                                            "rgb(218,139,195)",
                                            "rgb(140,140,140)",
                                            "rgb(204,185,116)",
                                            "rgb(100,181,205)"
                                        ],
                                        "font": {
                                            "color": "rgb(36,36,36)"
                                        },
                                        "geo": {
                                            "bgcolor": "white",
                                            "lakecolor": "white",
                                            "landcolor": "rgb(234,234,242)",
                                            "showlakes": true,
                                            "showland": true,
                                            "subunitcolor": "white"
                                        },
                                        "hoverlabel": {
                                            "align": "left"
                                        },
                                        "hovermode": "closest",
                                        "paper_bgcolor": "white",
                                        "plot_bgcolor": "rgb(234,234,242)",
                                        "polar": {
                                            "angularaxis": {
                                                "gridcolor": "white",
                                                "linecolor": "white",
                                                "showgrid": true,
                                                "ticks": ""
                                            },
                                            "bgcolor": "rgb(234,234,242)",
                                            "radialaxis": {
                                                "gridcolor": "white",
                                                "linecolor": "white",
                                                "showgrid": true,
                                                "ticks": ""
                                            }
                                        },
                                        "scene": {
                                            "xaxis": {
                                                "backgroundcolor": "rgb(234,234,242)",
                                                "gridcolor": "white",
                                                "gridwidth": 2,
                                                "linecolor": "white",
                                                "showbackground": true,
                                                "showgrid": true,
                                                "ticks": "",
                                                "zerolinecolor": "white"
                                            },
                                            "yaxis": {
                                                "backgroundcolor": "rgb(234,234,242)",
                                                "gridcolor": "white",
                                                "gridwidth": 2,
                                                "linecolor": "white",
                                                "showbackground": true,
                                                "showgrid": true,
                                                "ticks": "",
                                                "zerolinecolor": "white"
                                            },
                                            "zaxis": {
                                                "backgroundcolor": "rgb(234,234,242)",
                                                "gridcolor": "white",
                                                "gridwidth": 2,
                                                "linecolor": "white",
                                                "showbackground": true,
                                                "showgrid": true,
                                                "ticks": "",
                                                "zerolinecolor": "white"
                                            }
                                        },
                                        "shapedefaults": {
                                            "fillcolor": "rgb(67,103,167)",
                                            "line": {
                                                "width": 0
                                            },
                                            "opacity": 0.5
                                        },
                                        "ternary": {
                                            "aaxis": {
                                                "gridcolor": "white",
                                                "linecolor": "white",
                                                "showgrid": true,
                                                "ticks": ""
                                            },
                                            "baxis": {
                                                "gridcolor": "white",
                                                "linecolor": "white",
                                                "showgrid": true,
                                                "ticks": ""
                                            },
                                            "bgcolor": "rgb(234,234,242)",
                                            "caxis": {
                                                "gridcolor": "white",
                                                "linecolor": "white",
                                                "showgrid": true,
                                                "ticks": ""
                                            }
                                        },
                                        "xaxis": {
                                            "automargin": true,
                                            "gridcolor": "white",
                                            "linecolor": "white",
                                            "showgrid": true,
                                            "ticks": "",
                                            "title": {
                                                "standoff": 15
                                            },
                                            "zerolinecolor": "white"
                                        },
                                        "yaxis": {
                                            "automargin": true,
                                            "gridcolor": "white",
                                            "linecolor": "white",
                                            "showgrid": true,
                                            "ticks": "",
                                            "title": {
                                                "standoff": 15
                                            },
                                            "zerolinecolor": "white"
                                        }
                                    }
                                },
                                "title": {
                                    "text": "Receita Bruta - Categorias"
                                },
                                "uniformtext": {
                                    "minsize": 12,
                                    "mode": "hide"
                                },
                                "width": 700,
                                "xaxis": {
                                    "anchor": "y",
                                    "domain": [
                                        0,
                                        1
                                    ],
                                    "title": {
                                        "text": "Produto_Categoria"
                                    }
                                },
                                "yaxis": {
                                    "anchor": "x",
                                    "domain": [
                                        0,
                                        1
                                    ],
                                    "title": {
                                        "text": "Receita_Bruta"
                                    }
                                }
                            }
                        }
                    },
                    "metadata": {}
                }
            ],
            "metadata": {}
        },
        {
            "cell_type": "code",
            "execution_count": 11,
            "source": [
                "fig = px.bar(categoria, x=\"Produto_Categoria\", y=\"Desconto\", \\\n",
                "    text=\"Desconto\", color=\"Ciclo\", hover_data=['Ciclo', 'Qtde_itens', 'Numero_de_Pedidos'], template=\"seaborn\")\n",
                "\n",
                "fig.update_layout(\n",
                "    margin=dict(l=20, r=50, t=50, b=20),\n",
                "    title = 'Receita Descontos - Categorias',\n",
                "    width=700, \n",
                "    height=600,\n",
                "    uniformtext_minsize=10, \n",
                "    uniformtext_mode='hide',\n",
                ")\n",
                "fig.show()"
            ],
            "outputs": [
                {
                    "output_type": "display_data",
                    "data": {
                        "application/vnd.plotly.v1+json": {
                            "config": {
                                "plotlyServerURL": "https://plot.ly"
                            },
                            "data": [
                                {
                                    "alignmentgroup": "True",
                                    "customdata": [
                                        [
                                            "Fev-2020",
                                            6700,
                                            3
                                        ],
                                        [
                                            "Fev-2020",
                                            1620,
                                            3
                                        ],
                                        [
                                            "Fev-2020",
                                            360,
                                            4
                                        ],
                                        [
                                            "Fev-2020",
                                            25967,
                                            2
                                        ],
                                        [
                                            "Fev-2020",
                                            7397,
                                            4
                                        ],
                                        [
                                            "Fev-2020",
                                            4592,
                                            3
                                        ]
                                    ],
                                    "hovertemplate": "Ciclo=%{customdata[0]}<br>Produto_Categoria=%{x}<br>Desconto=%{text}<br>Qtde_itens=%{customdata[1]}<br>Numero_de_Pedidos=%{customdata[2]}<extra></extra>",
                                    "legendgroup": "Fev-2020",
                                    "marker": {
                                        "color": "rgb(76,114,176)",
                                        "pattern": {
                                            "shape": ""
                                        }
                                    },
                                    "name": "Fev-2020",
                                    "offsetgroup": "Fev-2020",
                                    "orientation": "v",
                                    "showlegend": true,
                                    "text": [
                                        39291.66,
                                        0,
                                        1207.02,
                                        6110.46,
                                        34887.48,
                                        1093.5
                                    ],
                                    "textposition": "auto",
                                    "type": "bar",
                                    "x": [
                                        "ACESSÓRIOS",
                                        "CATALOGO VENDA DIRETA",
                                        "GIFTS",
                                        "PERFUMARIA FEMININA",
                                        "PERFUMARIA MASCULINA",
                                        "SUPORTE À VENDA"
                                    ],
                                    "xaxis": "x",
                                    "y": [
                                        39291.66,
                                        0,
                                        1207.02,
                                        6110.46,
                                        34887.48,
                                        1093.5
                                    ],
                                    "yaxis": "y"
                                },
                                {
                                    "alignmentgroup": "True",
                                    "customdata": [
                                        [
                                            "Mar-2020",
                                            10063,
                                            4
                                        ],
                                        [
                                            "Mar-2020",
                                            4147,
                                            4
                                        ],
                                        [
                                            "Mar-2020",
                                            454,
                                            2
                                        ],
                                        [
                                            "Mar-2020",
                                            22536,
                                            3
                                        ],
                                        [
                                            "Mar-2020",
                                            5368,
                                            4
                                        ],
                                        [
                                            "Mar-2020",
                                            5024,
                                            4
                                        ]
                                    ],
                                    "hovertemplate": "Ciclo=%{customdata[0]}<br>Produto_Categoria=%{x}<br>Desconto=%{text}<br>Qtde_itens=%{customdata[1]}<br>Numero_de_Pedidos=%{customdata[2]}<extra></extra>",
                                    "legendgroup": "Mar-2020",
                                    "marker": {
                                        "color": "rgb(221,132,82)",
                                        "pattern": {
                                            "shape": ""
                                        }
                                    },
                                    "name": "Mar-2020",
                                    "offsetgroup": "Mar-2020",
                                    "orientation": "v",
                                    "showlegend": true,
                                    "text": [
                                        47010.2,
                                        0,
                                        1506.38,
                                        5530.32,
                                        29511.4,
                                        1045.53
                                    ],
                                    "textposition": "auto",
                                    "type": "bar",
                                    "x": [
                                        "ACESSÓRIOS",
                                        "CATALOGO VENDA DIRETA",
                                        "GIFTS",
                                        "PERFUMARIA FEMININA",
                                        "PERFUMARIA MASCULINA",
                                        "SUPORTE À VENDA"
                                    ],
                                    "xaxis": "x",
                                    "y": [
                                        47010.2,
                                        0,
                                        1506.38,
                                        5530.32,
                                        29511.4,
                                        1045.53
                                    ],
                                    "yaxis": "y"
                                }
                            ],
                            "layout": {
                                "barmode": "relative",
                                "height": 600,
                                "legend": {
                                    "title": {
                                        "text": "Ciclo"
                                    },
                                    "tracegroupgap": 0
                                },
                                "margin": {
                                    "b": 20,
                                    "l": 20,
                                    "r": 50,
                                    "t": 50
                                },
                                "template": {
                                    "data": {
                                        "bar": [
                                            {
                                                "error_x": {
                                                    "color": "rgb(36,36,36)"
                                                },
                                                "error_y": {
                                                    "color": "rgb(36,36,36)"
                                                },
                                                "marker": {
                                                    "line": {
                                                        "color": "rgb(234,234,242)",
                                                        "width": 0.5
                                                    },
                                                    "pattern": {
                                                        "fillmode": "overlay",
                                                        "size": 10,
                                                        "solidity": 0.2
                                                    }
                                                },
                                                "type": "bar"
                                            }
                                        ],
                                        "barpolar": [
                                            {
                                                "marker": {
                                                    "line": {
                                                        "color": "rgb(234,234,242)",
                                                        "width": 0.5
                                                    },
                                                    "pattern": {
                                                        "fillmode": "overlay",
                                                        "size": 10,
                                                        "solidity": 0.2
                                                    }
                                                },
                                                "type": "barpolar"
                                            }
                                        ],
                                        "carpet": [
                                            {
                                                "aaxis": {
                                                    "endlinecolor": "rgb(36,36,36)",
                                                    "gridcolor": "white",
                                                    "linecolor": "white",
                                                    "minorgridcolor": "white",
                                                    "startlinecolor": "rgb(36,36,36)"
                                                },
                                                "baxis": {
                                                    "endlinecolor": "rgb(36,36,36)",
                                                    "gridcolor": "white",
                                                    "linecolor": "white",
                                                    "minorgridcolor": "white",
                                                    "startlinecolor": "rgb(36,36,36)"
                                                },
                                                "type": "carpet"
                                            }
                                        ],
                                        "choropleth": [
                                            {
                                                "colorbar": {
                                                    "outlinewidth": 0,
                                                    "tickcolor": "rgb(36,36,36)",
                                                    "ticklen": 8,
                                                    "ticks": "outside",
                                                    "tickwidth": 2
                                                },
                                                "type": "choropleth"
                                            }
                                        ],
                                        "contour": [
                                            {
                                                "colorbar": {
                                                    "outlinewidth": 0,
                                                    "tickcolor": "rgb(36,36,36)",
                                                    "ticklen": 8,
                                                    "ticks": "outside",
                                                    "tickwidth": 2
                                                },
                                                "colorscale": [
                                                    [
                                                        0,
                                                        "rgb(2,4,25)"
                                                    ],
                                                    [
                                                        0.06274509803921569,
                                                        "rgb(24,15,41)"
                                                    ],
                                                    [
                                                        0.12549019607843137,
                                                        "rgb(47,23,57)"
                                                    ],
                                                    [
                                                        0.18823529411764706,
                                                        "rgb(71,28,72)"
                                                    ],
                                                    [
                                                        0.25098039215686274,
                                                        "rgb(97,30,82)"
                                                    ],
                                                    [
                                                        0.3137254901960784,
                                                        "rgb(123,30,89)"
                                                    ],
                                                    [
                                                        0.3764705882352941,
                                                        "rgb(150,27,91)"
                                                    ],
                                                    [
                                                        0.4392156862745098,
                                                        "rgb(177,22,88)"
                                                    ],
                                                    [
                                                        0.5019607843137255,
                                                        "rgb(203,26,79)"
                                                    ],
                                                    [
                                                        0.5647058823529412,
                                                        "rgb(223,47,67)"
                                                    ],
                                                    [
                                                        0.6274509803921569,
                                                        "rgb(236,76,61)"
                                                    ],
                                                    [
                                                        0.6901960784313725,
                                                        "rgb(242,107,73)"
                                                    ],
                                                    [
                                                        0.7529411764705882,
                                                        "rgb(244,135,95)"
                                                    ],
                                                    [
                                                        0.8156862745098039,
                                                        "rgb(245,162,122)"
                                                    ],
                                                    [
                                                        0.8784313725490196,
                                                        "rgb(246,188,153)"
                                                    ],
                                                    [
                                                        0.9411764705882353,
                                                        "rgb(247,212,187)"
                                                    ],
                                                    [
                                                        1,
                                                        "rgb(250,234,220)"
                                                    ]
                                                ],
                                                "type": "contour"
                                            }
                                        ],
                                        "contourcarpet": [
                                            {
                                                "colorbar": {
                                                    "outlinewidth": 0,
                                                    "tickcolor": "rgb(36,36,36)",
                                                    "ticklen": 8,
                                                    "ticks": "outside",
                                                    "tickwidth": 2
                                                },
                                                "type": "contourcarpet"
                                            }
                                        ],
                                        "heatmap": [
                                            {
                                                "colorbar": {
                                                    "outlinewidth": 0,
                                                    "tickcolor": "rgb(36,36,36)",
                                                    "ticklen": 8,
                                                    "ticks": "outside",
                                                    "tickwidth": 2
                                                },
                                                "colorscale": [
                                                    [
                                                        0,
                                                        "rgb(2,4,25)"
                                                    ],
                                                    [
                                                        0.06274509803921569,
                                                        "rgb(24,15,41)"
                                                    ],
                                                    [
                                                        0.12549019607843137,
                                                        "rgb(47,23,57)"
                                                    ],
                                                    [
                                                        0.18823529411764706,
                                                        "rgb(71,28,72)"
                                                    ],
                                                    [
                                                        0.25098039215686274,
                                                        "rgb(97,30,82)"
                                                    ],
                                                    [
                                                        0.3137254901960784,
                                                        "rgb(123,30,89)"
                                                    ],
                                                    [
                                                        0.3764705882352941,
                                                        "rgb(150,27,91)"
                                                    ],
                                                    [
                                                        0.4392156862745098,
                                                        "rgb(177,22,88)"
                                                    ],
                                                    [
                                                        0.5019607843137255,
                                                        "rgb(203,26,79)"
                                                    ],
                                                    [
                                                        0.5647058823529412,
                                                        "rgb(223,47,67)"
                                                    ],
                                                    [
                                                        0.6274509803921569,
                                                        "rgb(236,76,61)"
                                                    ],
                                                    [
                                                        0.6901960784313725,
                                                        "rgb(242,107,73)"
                                                    ],
                                                    [
                                                        0.7529411764705882,
                                                        "rgb(244,135,95)"
                                                    ],
                                                    [
                                                        0.8156862745098039,
                                                        "rgb(245,162,122)"
                                                    ],
                                                    [
                                                        0.8784313725490196,
                                                        "rgb(246,188,153)"
                                                    ],
                                                    [
                                                        0.9411764705882353,
                                                        "rgb(247,212,187)"
                                                    ],
                                                    [
                                                        1,
                                                        "rgb(250,234,220)"
                                                    ]
                                                ],
                                                "type": "heatmap"
                                            }
                                        ],
                                        "heatmapgl": [
                                            {
                                                "colorbar": {
                                                    "outlinewidth": 0,
                                                    "tickcolor": "rgb(36,36,36)",
                                                    "ticklen": 8,
                                                    "ticks": "outside",
                                                    "tickwidth": 2
                                                },
                                                "colorscale": [
                                                    [
                                                        0,
                                                        "rgb(2,4,25)"
                                                    ],
                                                    [
                                                        0.06274509803921569,
                                                        "rgb(24,15,41)"
                                                    ],
                                                    [
                                                        0.12549019607843137,
                                                        "rgb(47,23,57)"
                                                    ],
                                                    [
                                                        0.18823529411764706,
                                                        "rgb(71,28,72)"
                                                    ],
                                                    [
                                                        0.25098039215686274,
                                                        "rgb(97,30,82)"
                                                    ],
                                                    [
                                                        0.3137254901960784,
                                                        "rgb(123,30,89)"
                                                    ],
                                                    [
                                                        0.3764705882352941,
                                                        "rgb(150,27,91)"
                                                    ],
                                                    [
                                                        0.4392156862745098,
                                                        "rgb(177,22,88)"
                                                    ],
                                                    [
                                                        0.5019607843137255,
                                                        "rgb(203,26,79)"
                                                    ],
                                                    [
                                                        0.5647058823529412,
                                                        "rgb(223,47,67)"
                                                    ],
                                                    [
                                                        0.6274509803921569,
                                                        "rgb(236,76,61)"
                                                    ],
                                                    [
                                                        0.6901960784313725,
                                                        "rgb(242,107,73)"
                                                    ],
                                                    [
                                                        0.7529411764705882,
                                                        "rgb(244,135,95)"
                                                    ],
                                                    [
                                                        0.8156862745098039,
                                                        "rgb(245,162,122)"
                                                    ],
                                                    [
                                                        0.8784313725490196,
                                                        "rgb(246,188,153)"
                                                    ],
                                                    [
                                                        0.9411764705882353,
                                                        "rgb(247,212,187)"
                                                    ],
                                                    [
                                                        1,
                                                        "rgb(250,234,220)"
                                                    ]
                                                ],
                                                "type": "heatmapgl"
                                            }
                                        ],
                                        "histogram": [
                                            {
                                                "marker": {
                                                    "pattern": {
                                                        "fillmode": "overlay",
                                                        "size": 10,
                                                        "solidity": 0.2
                                                    }
                                                },
                                                "type": "histogram"
                                            }
                                        ],
                                        "histogram2d": [
                                            {
                                                "colorbar": {
                                                    "outlinewidth": 0,
                                                    "tickcolor": "rgb(36,36,36)",
                                                    "ticklen": 8,
                                                    "ticks": "outside",
                                                    "tickwidth": 2
                                                },
                                                "colorscale": [
                                                    [
                                                        0,
                                                        "rgb(2,4,25)"
                                                    ],
                                                    [
                                                        0.06274509803921569,
                                                        "rgb(24,15,41)"
                                                    ],
                                                    [
                                                        0.12549019607843137,
                                                        "rgb(47,23,57)"
                                                    ],
                                                    [
                                                        0.18823529411764706,
                                                        "rgb(71,28,72)"
                                                    ],
                                                    [
                                                        0.25098039215686274,
                                                        "rgb(97,30,82)"
                                                    ],
                                                    [
                                                        0.3137254901960784,
                                                        "rgb(123,30,89)"
                                                    ],
                                                    [
                                                        0.3764705882352941,
                                                        "rgb(150,27,91)"
                                                    ],
                                                    [
                                                        0.4392156862745098,
                                                        "rgb(177,22,88)"
                                                    ],
                                                    [
                                                        0.5019607843137255,
                                                        "rgb(203,26,79)"
                                                    ],
                                                    [
                                                        0.5647058823529412,
                                                        "rgb(223,47,67)"
                                                    ],
                                                    [
                                                        0.6274509803921569,
                                                        "rgb(236,76,61)"
                                                    ],
                                                    [
                                                        0.6901960784313725,
                                                        "rgb(242,107,73)"
                                                    ],
                                                    [
                                                        0.7529411764705882,
                                                        "rgb(244,135,95)"
                                                    ],
                                                    [
                                                        0.8156862745098039,
                                                        "rgb(245,162,122)"
                                                    ],
                                                    [
                                                        0.8784313725490196,
                                                        "rgb(246,188,153)"
                                                    ],
                                                    [
                                                        0.9411764705882353,
                                                        "rgb(247,212,187)"
                                                    ],
                                                    [
                                                        1,
                                                        "rgb(250,234,220)"
                                                    ]
                                                ],
                                                "type": "histogram2d"
                                            }
                                        ],
                                        "histogram2dcontour": [
                                            {
                                                "colorbar": {
                                                    "outlinewidth": 0,
                                                    "tickcolor": "rgb(36,36,36)",
                                                    "ticklen": 8,
                                                    "ticks": "outside",
                                                    "tickwidth": 2
                                                },
                                                "colorscale": [
                                                    [
                                                        0,
                                                        "rgb(2,4,25)"
                                                    ],
                                                    [
                                                        0.06274509803921569,
                                                        "rgb(24,15,41)"
                                                    ],
                                                    [
                                                        0.12549019607843137,
                                                        "rgb(47,23,57)"
                                                    ],
                                                    [
                                                        0.18823529411764706,
                                                        "rgb(71,28,72)"
                                                    ],
                                                    [
                                                        0.25098039215686274,
                                                        "rgb(97,30,82)"
                                                    ],
                                                    [
                                                        0.3137254901960784,
                                                        "rgb(123,30,89)"
                                                    ],
                                                    [
                                                        0.3764705882352941,
                                                        "rgb(150,27,91)"
                                                    ],
                                                    [
                                                        0.4392156862745098,
                                                        "rgb(177,22,88)"
                                                    ],
                                                    [
                                                        0.5019607843137255,
                                                        "rgb(203,26,79)"
                                                    ],
                                                    [
                                                        0.5647058823529412,
                                                        "rgb(223,47,67)"
                                                    ],
                                                    [
                                                        0.6274509803921569,
                                                        "rgb(236,76,61)"
                                                    ],
                                                    [
                                                        0.6901960784313725,
                                                        "rgb(242,107,73)"
                                                    ],
                                                    [
                                                        0.7529411764705882,
                                                        "rgb(244,135,95)"
                                                    ],
                                                    [
                                                        0.8156862745098039,
                                                        "rgb(245,162,122)"
                                                    ],
                                                    [
                                                        0.8784313725490196,
                                                        "rgb(246,188,153)"
                                                    ],
                                                    [
                                                        0.9411764705882353,
                                                        "rgb(247,212,187)"
                                                    ],
                                                    [
                                                        1,
                                                        "rgb(250,234,220)"
                                                    ]
                                                ],
                                                "type": "histogram2dcontour"
                                            }
                                        ],
                                        "mesh3d": [
                                            {
                                                "colorbar": {
                                                    "outlinewidth": 0,
                                                    "tickcolor": "rgb(36,36,36)",
                                                    "ticklen": 8,
                                                    "ticks": "outside",
                                                    "tickwidth": 2
                                                },
                                                "type": "mesh3d"
                                            }
                                        ],
                                        "parcoords": [
                                            {
                                                "line": {
                                                    "colorbar": {
                                                        "outlinewidth": 0,
                                                        "tickcolor": "rgb(36,36,36)",
                                                        "ticklen": 8,
                                                        "ticks": "outside",
                                                        "tickwidth": 2
                                                    }
                                                },
                                                "type": "parcoords"
                                            }
                                        ],
                                        "pie": [
                                            {
                                                "automargin": true,
                                                "type": "pie"
                                            }
                                        ],
                                        "scatter": [
                                            {
                                                "marker": {
                                                    "colorbar": {
                                                        "outlinewidth": 0,
                                                        "tickcolor": "rgb(36,36,36)",
                                                        "ticklen": 8,
                                                        "ticks": "outside",
                                                        "tickwidth": 2
                                                    }
                                                },
                                                "type": "scatter"
                                            }
                                        ],
                                        "scatter3d": [
                                            {
                                                "line": {
                                                    "colorbar": {
                                                        "outlinewidth": 0,
                                                        "tickcolor": "rgb(36,36,36)",
                                                        "ticklen": 8,
                                                        "ticks": "outside",
                                                        "tickwidth": 2
                                                    }
                                                },
                                                "marker": {
                                                    "colorbar": {
                                                        "outlinewidth": 0,
                                                        "tickcolor": "rgb(36,36,36)",
                                                        "ticklen": 8,
                                                        "ticks": "outside",
                                                        "tickwidth": 2
                                                    }
                                                },
                                                "type": "scatter3d"
                                            }
                                        ],
                                        "scattercarpet": [
                                            {
                                                "marker": {
                                                    "colorbar": {
                                                        "outlinewidth": 0,
                                                        "tickcolor": "rgb(36,36,36)",
                                                        "ticklen": 8,
                                                        "ticks": "outside",
                                                        "tickwidth": 2
                                                    }
                                                },
                                                "type": "scattercarpet"
                                            }
                                        ],
                                        "scattergeo": [
                                            {
                                                "marker": {
                                                    "colorbar": {
                                                        "outlinewidth": 0,
                                                        "tickcolor": "rgb(36,36,36)",
                                                        "ticklen": 8,
                                                        "ticks": "outside",
                                                        "tickwidth": 2
                                                    }
                                                },
                                                "type": "scattergeo"
                                            }
                                        ],
                                        "scattergl": [
                                            {
                                                "marker": {
                                                    "colorbar": {
                                                        "outlinewidth": 0,
                                                        "tickcolor": "rgb(36,36,36)",
                                                        "ticklen": 8,
                                                        "ticks": "outside",
                                                        "tickwidth": 2
                                                    }
                                                },
                                                "type": "scattergl"
                                            }
                                        ],
                                        "scattermapbox": [
                                            {
                                                "marker": {
                                                    "colorbar": {
                                                        "outlinewidth": 0,
                                                        "tickcolor": "rgb(36,36,36)",
                                                        "ticklen": 8,
                                                        "ticks": "outside",
                                                        "tickwidth": 2
                                                    }
                                                },
                                                "type": "scattermapbox"
                                            }
                                        ],
                                        "scatterpolar": [
                                            {
                                                "marker": {
                                                    "colorbar": {
                                                        "outlinewidth": 0,
                                                        "tickcolor": "rgb(36,36,36)",
                                                        "ticklen": 8,
                                                        "ticks": "outside",
                                                        "tickwidth": 2
                                                    }
                                                },
                                                "type": "scatterpolar"
                                            }
                                        ],
                                        "scatterpolargl": [
                                            {
                                                "marker": {
                                                    "colorbar": {
                                                        "outlinewidth": 0,
                                                        "tickcolor": "rgb(36,36,36)",
                                                        "ticklen": 8,
                                                        "ticks": "outside",
                                                        "tickwidth": 2
                                                    }
                                                },
                                                "type": "scatterpolargl"
                                            }
                                        ],
                                        "scatterternary": [
                                            {
                                                "marker": {
                                                    "colorbar": {
                                                        "outlinewidth": 0,
                                                        "tickcolor": "rgb(36,36,36)",
                                                        "ticklen": 8,
                                                        "ticks": "outside",
                                                        "tickwidth": 2
                                                    }
                                                },
                                                "type": "scatterternary"
                                            }
                                        ],
                                        "surface": [
                                            {
                                                "colorbar": {
                                                    "outlinewidth": 0,
                                                    "tickcolor": "rgb(36,36,36)",
                                                    "ticklen": 8,
                                                    "ticks": "outside",
                                                    "tickwidth": 2
                                                },
                                                "colorscale": [
                                                    [
                                                        0,
                                                        "rgb(2,4,25)"
                                                    ],
                                                    [
                                                        0.06274509803921569,
                                                        "rgb(24,15,41)"
                                                    ],
                                                    [
                                                        0.12549019607843137,
                                                        "rgb(47,23,57)"
                                                    ],
                                                    [
                                                        0.18823529411764706,
                                                        "rgb(71,28,72)"
                                                    ],
                                                    [
                                                        0.25098039215686274,
                                                        "rgb(97,30,82)"
                                                    ],
                                                    [
                                                        0.3137254901960784,
                                                        "rgb(123,30,89)"
                                                    ],
                                                    [
                                                        0.3764705882352941,
                                                        "rgb(150,27,91)"
                                                    ],
                                                    [
                                                        0.4392156862745098,
                                                        "rgb(177,22,88)"
                                                    ],
                                                    [
                                                        0.5019607843137255,
                                                        "rgb(203,26,79)"
                                                    ],
                                                    [
                                                        0.5647058823529412,
                                                        "rgb(223,47,67)"
                                                    ],
                                                    [
                                                        0.6274509803921569,
                                                        "rgb(236,76,61)"
                                                    ],
                                                    [
                                                        0.6901960784313725,
                                                        "rgb(242,107,73)"
                                                    ],
                                                    [
                                                        0.7529411764705882,
                                                        "rgb(244,135,95)"
                                                    ],
                                                    [
                                                        0.8156862745098039,
                                                        "rgb(245,162,122)"
                                                    ],
                                                    [
                                                        0.8784313725490196,
                                                        "rgb(246,188,153)"
                                                    ],
                                                    [
                                                        0.9411764705882353,
                                                        "rgb(247,212,187)"
                                                    ],
                                                    [
                                                        1,
                                                        "rgb(250,234,220)"
                                                    ]
                                                ],
                                                "type": "surface"
                                            }
                                        ],
                                        "table": [
                                            {
                                                "cells": {
                                                    "fill": {
                                                        "color": "rgb(231,231,240)"
                                                    },
                                                    "line": {
                                                        "color": "white"
                                                    }
                                                },
                                                "header": {
                                                    "fill": {
                                                        "color": "rgb(183,183,191)"
                                                    },
                                                    "line": {
                                                        "color": "white"
                                                    }
                                                },
                                                "type": "table"
                                            }
                                        ]
                                    },
                                    "layout": {
                                        "annotationdefaults": {
                                            "arrowcolor": "rgb(67,103,167)"
                                        },
                                        "autotypenumbers": "strict",
                                        "coloraxis": {
                                            "colorbar": {
                                                "outlinewidth": 0,
                                                "tickcolor": "rgb(36,36,36)",
                                                "ticklen": 8,
                                                "ticks": "outside",
                                                "tickwidth": 2
                                            }
                                        },
                                        "colorscale": {
                                            "sequential": [
                                                [
                                                    0,
                                                    "rgb(2,4,25)"
                                                ],
                                                [
                                                    0.06274509803921569,
                                                    "rgb(24,15,41)"
                                                ],
                                                [
                                                    0.12549019607843137,
                                                    "rgb(47,23,57)"
                                                ],
                                                [
                                                    0.18823529411764706,
                                                    "rgb(71,28,72)"
                                                ],
                                                [
                                                    0.25098039215686274,
                                                    "rgb(97,30,82)"
                                                ],
                                                [
                                                    0.3137254901960784,
                                                    "rgb(123,30,89)"
                                                ],
                                                [
                                                    0.3764705882352941,
                                                    "rgb(150,27,91)"
                                                ],
                                                [
                                                    0.4392156862745098,
                                                    "rgb(177,22,88)"
                                                ],
                                                [
                                                    0.5019607843137255,
                                                    "rgb(203,26,79)"
                                                ],
                                                [
                                                    0.5647058823529412,
                                                    "rgb(223,47,67)"
                                                ],
                                                [
                                                    0.6274509803921569,
                                                    "rgb(236,76,61)"
                                                ],
                                                [
                                                    0.6901960784313725,
                                                    "rgb(242,107,73)"
                                                ],
                                                [
                                                    0.7529411764705882,
                                                    "rgb(244,135,95)"
                                                ],
                                                [
                                                    0.8156862745098039,
                                                    "rgb(245,162,122)"
                                                ],
                                                [
                                                    0.8784313725490196,
                                                    "rgb(246,188,153)"
                                                ],
                                                [
                                                    0.9411764705882353,
                                                    "rgb(247,212,187)"
                                                ],
                                                [
                                                    1,
                                                    "rgb(250,234,220)"
                                                ]
                                            ],
                                            "sequentialminus": [
                                                [
                                                    0,
                                                    "rgb(2,4,25)"
                                                ],
                                                [
                                                    0.06274509803921569,
                                                    "rgb(24,15,41)"
                                                ],
                                                [
                                                    0.12549019607843137,
                                                    "rgb(47,23,57)"
                                                ],
                                                [
                                                    0.18823529411764706,
                                                    "rgb(71,28,72)"
                                                ],
                                                [
                                                    0.25098039215686274,
                                                    "rgb(97,30,82)"
                                                ],
                                                [
                                                    0.3137254901960784,
                                                    "rgb(123,30,89)"
                                                ],
                                                [
                                                    0.3764705882352941,
                                                    "rgb(150,27,91)"
                                                ],
                                                [
                                                    0.4392156862745098,
                                                    "rgb(177,22,88)"
                                                ],
                                                [
                                                    0.5019607843137255,
                                                    "rgb(203,26,79)"
                                                ],
                                                [
                                                    0.5647058823529412,
                                                    "rgb(223,47,67)"
                                                ],
                                                [
                                                    0.6274509803921569,
                                                    "rgb(236,76,61)"
                                                ],
                                                [
                                                    0.6901960784313725,
                                                    "rgb(242,107,73)"
                                                ],
                                                [
                                                    0.7529411764705882,
                                                    "rgb(244,135,95)"
                                                ],
                                                [
                                                    0.8156862745098039,
                                                    "rgb(245,162,122)"
                                                ],
                                                [
                                                    0.8784313725490196,
                                                    "rgb(246,188,153)"
                                                ],
                                                [
                                                    0.9411764705882353,
                                                    "rgb(247,212,187)"
                                                ],
                                                [
                                                    1,
                                                    "rgb(250,234,220)"
                                                ]
                                            ]
                                        },
                                        "colorway": [
                                            "rgb(76,114,176)",
                                            "rgb(221,132,82)",
                                            "rgb(85,168,104)",
                                            "rgb(196,78,82)",
                                            "rgb(129,114,179)",
                                            "rgb(147,120,96)",
                                            "rgb(218,139,195)",
                                            "rgb(140,140,140)",
                                            "rgb(204,185,116)",
                                            "rgb(100,181,205)"
                                        ],
                                        "font": {
                                            "color": "rgb(36,36,36)"
                                        },
                                        "geo": {
                                            "bgcolor": "white",
                                            "lakecolor": "white",
                                            "landcolor": "rgb(234,234,242)",
                                            "showlakes": true,
                                            "showland": true,
                                            "subunitcolor": "white"
                                        },
                                        "hoverlabel": {
                                            "align": "left"
                                        },
                                        "hovermode": "closest",
                                        "paper_bgcolor": "white",
                                        "plot_bgcolor": "rgb(234,234,242)",
                                        "polar": {
                                            "angularaxis": {
                                                "gridcolor": "white",
                                                "linecolor": "white",
                                                "showgrid": true,
                                                "ticks": ""
                                            },
                                            "bgcolor": "rgb(234,234,242)",
                                            "radialaxis": {
                                                "gridcolor": "white",
                                                "linecolor": "white",
                                                "showgrid": true,
                                                "ticks": ""
                                            }
                                        },
                                        "scene": {
                                            "xaxis": {
                                                "backgroundcolor": "rgb(234,234,242)",
                                                "gridcolor": "white",
                                                "gridwidth": 2,
                                                "linecolor": "white",
                                                "showbackground": true,
                                                "showgrid": true,
                                                "ticks": "",
                                                "zerolinecolor": "white"
                                            },
                                            "yaxis": {
                                                "backgroundcolor": "rgb(234,234,242)",
                                                "gridcolor": "white",
                                                "gridwidth": 2,
                                                "linecolor": "white",
                                                "showbackground": true,
                                                "showgrid": true,
                                                "ticks": "",
                                                "zerolinecolor": "white"
                                            },
                                            "zaxis": {
                                                "backgroundcolor": "rgb(234,234,242)",
                                                "gridcolor": "white",
                                                "gridwidth": 2,
                                                "linecolor": "white",
                                                "showbackground": true,
                                                "showgrid": true,
                                                "ticks": "",
                                                "zerolinecolor": "white"
                                            }
                                        },
                                        "shapedefaults": {
                                            "fillcolor": "rgb(67,103,167)",
                                            "line": {
                                                "width": 0
                                            },
                                            "opacity": 0.5
                                        },
                                        "ternary": {
                                            "aaxis": {
                                                "gridcolor": "white",
                                                "linecolor": "white",
                                                "showgrid": true,
                                                "ticks": ""
                                            },
                                            "baxis": {
                                                "gridcolor": "white",
                                                "linecolor": "white",
                                                "showgrid": true,
                                                "ticks": ""
                                            },
                                            "bgcolor": "rgb(234,234,242)",
                                            "caxis": {
                                                "gridcolor": "white",
                                                "linecolor": "white",
                                                "showgrid": true,
                                                "ticks": ""
                                            }
                                        },
                                        "xaxis": {
                                            "automargin": true,
                                            "gridcolor": "white",
                                            "linecolor": "white",
                                            "showgrid": true,
                                            "ticks": "",
                                            "title": {
                                                "standoff": 15
                                            },
                                            "zerolinecolor": "white"
                                        },
                                        "yaxis": {
                                            "automargin": true,
                                            "gridcolor": "white",
                                            "linecolor": "white",
                                            "showgrid": true,
                                            "ticks": "",
                                            "title": {
                                                "standoff": 15
                                            },
                                            "zerolinecolor": "white"
                                        }
                                    }
                                },
                                "title": {
                                    "text": "Receita Descontos - Categorias"
                                },
                                "uniformtext": {
                                    "minsize": 10,
                                    "mode": "hide"
                                },
                                "width": 700,
                                "xaxis": {
                                    "anchor": "y",
                                    "domain": [
                                        0,
                                        1
                                    ],
                                    "title": {
                                        "text": "Produto_Categoria"
                                    }
                                },
                                "yaxis": {
                                    "anchor": "x",
                                    "domain": [
                                        0,
                                        1
                                    ],
                                    "title": {
                                        "text": "Desconto"
                                    }
                                }
                            }
                        }
                    },
                    "metadata": {}
                }
            ],
            "metadata": {}
        },
        {
            "cell_type": "code",
            "execution_count": 12,
            "source": [
                "base.columns"
            ],
            "outputs": [
                {
                    "output_type": "execute_result",
                    "data": {
                        "text/plain": [
                            "Index(['Ciclo_Ciclo', 'Revendedor', 'Franqueado', 'Loja', 'Produto_Categoria',\n",
                            "       'Produto_Codigo', 'Produto_Descricao', 'Produto_Linha',\n",
                            "       'Pedido_Valor_Volume', 'Receita_Bruta', 'Receita_Liquida',\n",
                            "       'z_Numero_de_Pedidos', 'Desconto', 'Ciclo'],\n",
                            "      dtype='object')"
                        ]
                    },
                    "metadata": {},
                    "execution_count": 12
                }
            ],
            "metadata": {}
        },
        {
            "cell_type": "code",
            "execution_count": 13,
            "source": [
                "revendedores = base.groupby(['Revendedor', 'Ciclo', 'Franqueado', 'Loja']).\\\n",
                "    agg({'Receita_Bruta':'sum', 'Receita_Liquida':'sum', \\\n",
                "        'Desconto':'sum', 'Pedido_Valor_Volume':'sum', 'z_Numero_de_Pedidos':'nunique'}).round(3).reset_index().\\\n",
                "    rename(columns={\"Pedido_Valor_Volume\": \"Qtde_itens\", 'z_Numero_de_Pedidos': 'Numero_de_Pedidos'}).sort_values(by='Receita_Bruta', ascending=False)"
            ],
            "outputs": [],
            "metadata": {}
        },
        {
            "cell_type": "code",
            "execution_count": 14,
            "source": [
                "revendedores['Receita_Bruta'].sum()#.head(20).sort_values(by='Numero_de_Pedidos', ascending=False)"
            ],
            "outputs": [
                {
                    "output_type": "execute_result",
                    "data": {
                        "text/plain": [
                            "8163363.859999999"
                        ]
                    },
                    "metadata": {},
                    "execution_count": 14
                }
            ],
            "metadata": {}
        },
        {
            "cell_type": "markdown",
            "source": [
                "# Desempenho dos revendedores baseado na receita liquida"
            ],
            "metadata": {}
        },
        {
            "cell_type": "code",
            "execution_count": 15,
            "source": [
                "#Fevereiro\n",
                "revendedores[revendedores['Ciclo'] == 'Fev-2020'].sort_values(by='Receita_Liquida', ascending=False).head(10)"
            ],
            "outputs": [
                {
                    "output_type": "execute_result",
                    "data": {
                        "text/plain": [
                            "       Revendedor     Ciclo  Franqueado   Loja  Receita_Bruta  \\\n",
                            "19300     4080295  Fev-2020       10005  13909         1592.0   \n",
                            "8494      1243237  Fev-2020       10039  13347         1280.3   \n",
                            "34630     6999063  Fev-2020       10383  19975         1255.6   \n",
                            "25063     5596406  Fev-2020       10126  17292          796.0   \n",
                            "31866     6692822  Fev-2020       10164  13480          796.0   \n",
                            "8363      1220280  Fev-2020       10439  13437          897.0   \n",
                            "20067     4252834  Fev-2020       13031  13125          756.4   \n",
                            "13464     2538843  Fev-2020       13031  13125          614.4   \n",
                            "22014     4667496  Fev-2020       10351  11105          597.0   \n",
                            "1192       111563  Fev-2020       10522  14750          597.0   \n",
                            "\n",
                            "       Receita_Liquida  Desconto  Qtde_itens  Numero_de_Pedidos  \n",
                            "19300          1592.00      0.00           8                  1  \n",
                            "8494           1088.36    191.94          27                  2  \n",
                            "34630          1067.10    188.50          44                  2  \n",
                            "25063           796.00      0.00           4                  1  \n",
                            "31866           796.00      0.00           4                  1  \n",
                            "8363            762.60    134.40          30                  1  \n",
                            "20067           756.40      0.00           9                  2  \n",
                            "13464           614.40      0.00          12                  1  \n",
                            "22014           597.00      0.00           3                  1  \n",
                            "1192            597.00      0.00           3                  1  "
                        ],
                        "text/html": [
                            "<div>\n",
                            "<style scoped>\n",
                            "    .dataframe tbody tr th:only-of-type {\n",
                            "        vertical-align: middle;\n",
                            "    }\n",
                            "\n",
                            "    .dataframe tbody tr th {\n",
                            "        vertical-align: top;\n",
                            "    }\n",
                            "\n",
                            "    .dataframe thead th {\n",
                            "        text-align: right;\n",
                            "    }\n",
                            "</style>\n",
                            "<table border=\"1\" class=\"dataframe\">\n",
                            "  <thead>\n",
                            "    <tr style=\"text-align: right;\">\n",
                            "      <th></th>\n",
                            "      <th>Revendedor</th>\n",
                            "      <th>Ciclo</th>\n",
                            "      <th>Franqueado</th>\n",
                            "      <th>Loja</th>\n",
                            "      <th>Receita_Bruta</th>\n",
                            "      <th>Receita_Liquida</th>\n",
                            "      <th>Desconto</th>\n",
                            "      <th>Qtde_itens</th>\n",
                            "      <th>Numero_de_Pedidos</th>\n",
                            "    </tr>\n",
                            "  </thead>\n",
                            "  <tbody>\n",
                            "    <tr>\n",
                            "      <th>19300</th>\n",
                            "      <td>4080295</td>\n",
                            "      <td>Fev-2020</td>\n",
                            "      <td>10005</td>\n",
                            "      <td>13909</td>\n",
                            "      <td>1592.0</td>\n",
                            "      <td>1592.00</td>\n",
                            "      <td>0.00</td>\n",
                            "      <td>8</td>\n",
                            "      <td>1</td>\n",
                            "    </tr>\n",
                            "    <tr>\n",
                            "      <th>8494</th>\n",
                            "      <td>1243237</td>\n",
                            "      <td>Fev-2020</td>\n",
                            "      <td>10039</td>\n",
                            "      <td>13347</td>\n",
                            "      <td>1280.3</td>\n",
                            "      <td>1088.36</td>\n",
                            "      <td>191.94</td>\n",
                            "      <td>27</td>\n",
                            "      <td>2</td>\n",
                            "    </tr>\n",
                            "    <tr>\n",
                            "      <th>34630</th>\n",
                            "      <td>6999063</td>\n",
                            "      <td>Fev-2020</td>\n",
                            "      <td>10383</td>\n",
                            "      <td>19975</td>\n",
                            "      <td>1255.6</td>\n",
                            "      <td>1067.10</td>\n",
                            "      <td>188.50</td>\n",
                            "      <td>44</td>\n",
                            "      <td>2</td>\n",
                            "    </tr>\n",
                            "    <tr>\n",
                            "      <th>25063</th>\n",
                            "      <td>5596406</td>\n",
                            "      <td>Fev-2020</td>\n",
                            "      <td>10126</td>\n",
                            "      <td>17292</td>\n",
                            "      <td>796.0</td>\n",
                            "      <td>796.00</td>\n",
                            "      <td>0.00</td>\n",
                            "      <td>4</td>\n",
                            "      <td>1</td>\n",
                            "    </tr>\n",
                            "    <tr>\n",
                            "      <th>31866</th>\n",
                            "      <td>6692822</td>\n",
                            "      <td>Fev-2020</td>\n",
                            "      <td>10164</td>\n",
                            "      <td>13480</td>\n",
                            "      <td>796.0</td>\n",
                            "      <td>796.00</td>\n",
                            "      <td>0.00</td>\n",
                            "      <td>4</td>\n",
                            "      <td>1</td>\n",
                            "    </tr>\n",
                            "    <tr>\n",
                            "      <th>8363</th>\n",
                            "      <td>1220280</td>\n",
                            "      <td>Fev-2020</td>\n",
                            "      <td>10439</td>\n",
                            "      <td>13437</td>\n",
                            "      <td>897.0</td>\n",
                            "      <td>762.60</td>\n",
                            "      <td>134.40</td>\n",
                            "      <td>30</td>\n",
                            "      <td>1</td>\n",
                            "    </tr>\n",
                            "    <tr>\n",
                            "      <th>20067</th>\n",
                            "      <td>4252834</td>\n",
                            "      <td>Fev-2020</td>\n",
                            "      <td>13031</td>\n",
                            "      <td>13125</td>\n",
                            "      <td>756.4</td>\n",
                            "      <td>756.40</td>\n",
                            "      <td>0.00</td>\n",
                            "      <td>9</td>\n",
                            "      <td>2</td>\n",
                            "    </tr>\n",
                            "    <tr>\n",
                            "      <th>13464</th>\n",
                            "      <td>2538843</td>\n",
                            "      <td>Fev-2020</td>\n",
                            "      <td>13031</td>\n",
                            "      <td>13125</td>\n",
                            "      <td>614.4</td>\n",
                            "      <td>614.40</td>\n",
                            "      <td>0.00</td>\n",
                            "      <td>12</td>\n",
                            "      <td>1</td>\n",
                            "    </tr>\n",
                            "    <tr>\n",
                            "      <th>22014</th>\n",
                            "      <td>4667496</td>\n",
                            "      <td>Fev-2020</td>\n",
                            "      <td>10351</td>\n",
                            "      <td>11105</td>\n",
                            "      <td>597.0</td>\n",
                            "      <td>597.00</td>\n",
                            "      <td>0.00</td>\n",
                            "      <td>3</td>\n",
                            "      <td>1</td>\n",
                            "    </tr>\n",
                            "    <tr>\n",
                            "      <th>1192</th>\n",
                            "      <td>111563</td>\n",
                            "      <td>Fev-2020</td>\n",
                            "      <td>10522</td>\n",
                            "      <td>14750</td>\n",
                            "      <td>597.0</td>\n",
                            "      <td>597.00</td>\n",
                            "      <td>0.00</td>\n",
                            "      <td>3</td>\n",
                            "      <td>1</td>\n",
                            "    </tr>\n",
                            "  </tbody>\n",
                            "</table>\n",
                            "</div>"
                        ]
                    },
                    "metadata": {},
                    "execution_count": 15
                }
            ],
            "metadata": {}
        },
        {
            "cell_type": "code",
            "execution_count": 16,
            "source": [
                "#Março\n",
                "revendedores[revendedores['Ciclo'] == 'Mar-2020'].sort_values(by='Receita_Liquida', ascending=False).head(10)"
            ],
            "outputs": [
                {
                    "output_type": "execute_result",
                    "data": {
                        "text/plain": [
                            "       Revendedor     Ciclo  Franqueado   Loja  Receita_Bruta  \\\n",
                            "9363      1406340  Mar-2020       10825  13658          796.0   \n",
                            "30496     6543490  Mar-2020       13031  20890          796.0   \n",
                            "30840     6580794  Mar-2020       11143  11671          796.0   \n",
                            "68863     7771196  Mar-2020       13031  20890          746.0   \n",
                            "17533     3655056  Mar-2020       10074  14363          846.6   \n",
                            "19527     4132723  Mar-2020       10133  18228          788.5   \n",
                            "2880       310534  Mar-2020       10282  20090          747.0   \n",
                            "13730     2612533  Mar-2020       10857  20122          597.0   \n",
                            "12637     2234282  Mar-2020       10066  14044          597.0   \n",
                            "34129     6941062  Mar-2020       10009   3879          597.0   \n",
                            "\n",
                            "       Receita_Liquida  Desconto  Qtde_itens  Numero_de_Pedidos  \n",
                            "9363            796.00      0.00           4                  1  \n",
                            "30496           796.00      0.00           4                  1  \n",
                            "30840           796.00      0.00           4                  1  \n",
                            "68863           746.00      0.00           4                  1  \n",
                            "17533           719.44    127.16          34                  1  \n",
                            "19527           670.30    118.20          15                  1  \n",
                            "2880            634.80    112.20          30                  1  \n",
                            "13730           597.00      0.00           3                  1  \n",
                            "12637           597.00      0.00           3                  2  \n",
                            "34129           597.00      0.00           3                  1  "
                        ],
                        "text/html": [
                            "<div>\n",
                            "<style scoped>\n",
                            "    .dataframe tbody tr th:only-of-type {\n",
                            "        vertical-align: middle;\n",
                            "    }\n",
                            "\n",
                            "    .dataframe tbody tr th {\n",
                            "        vertical-align: top;\n",
                            "    }\n",
                            "\n",
                            "    .dataframe thead th {\n",
                            "        text-align: right;\n",
                            "    }\n",
                            "</style>\n",
                            "<table border=\"1\" class=\"dataframe\">\n",
                            "  <thead>\n",
                            "    <tr style=\"text-align: right;\">\n",
                            "      <th></th>\n",
                            "      <th>Revendedor</th>\n",
                            "      <th>Ciclo</th>\n",
                            "      <th>Franqueado</th>\n",
                            "      <th>Loja</th>\n",
                            "      <th>Receita_Bruta</th>\n",
                            "      <th>Receita_Liquida</th>\n",
                            "      <th>Desconto</th>\n",
                            "      <th>Qtde_itens</th>\n",
                            "      <th>Numero_de_Pedidos</th>\n",
                            "    </tr>\n",
                            "  </thead>\n",
                            "  <tbody>\n",
                            "    <tr>\n",
                            "      <th>9363</th>\n",
                            "      <td>1406340</td>\n",
                            "      <td>Mar-2020</td>\n",
                            "      <td>10825</td>\n",
                            "      <td>13658</td>\n",
                            "      <td>796.0</td>\n",
                            "      <td>796.00</td>\n",
                            "      <td>0.00</td>\n",
                            "      <td>4</td>\n",
                            "      <td>1</td>\n",
                            "    </tr>\n",
                            "    <tr>\n",
                            "      <th>30496</th>\n",
                            "      <td>6543490</td>\n",
                            "      <td>Mar-2020</td>\n",
                            "      <td>13031</td>\n",
                            "      <td>20890</td>\n",
                            "      <td>796.0</td>\n",
                            "      <td>796.00</td>\n",
                            "      <td>0.00</td>\n",
                            "      <td>4</td>\n",
                            "      <td>1</td>\n",
                            "    </tr>\n",
                            "    <tr>\n",
                            "      <th>30840</th>\n",
                            "      <td>6580794</td>\n",
                            "      <td>Mar-2020</td>\n",
                            "      <td>11143</td>\n",
                            "      <td>11671</td>\n",
                            "      <td>796.0</td>\n",
                            "      <td>796.00</td>\n",
                            "      <td>0.00</td>\n",
                            "      <td>4</td>\n",
                            "      <td>1</td>\n",
                            "    </tr>\n",
                            "    <tr>\n",
                            "      <th>68863</th>\n",
                            "      <td>7771196</td>\n",
                            "      <td>Mar-2020</td>\n",
                            "      <td>13031</td>\n",
                            "      <td>20890</td>\n",
                            "      <td>746.0</td>\n",
                            "      <td>746.00</td>\n",
                            "      <td>0.00</td>\n",
                            "      <td>4</td>\n",
                            "      <td>1</td>\n",
                            "    </tr>\n",
                            "    <tr>\n",
                            "      <th>17533</th>\n",
                            "      <td>3655056</td>\n",
                            "      <td>Mar-2020</td>\n",
                            "      <td>10074</td>\n",
                            "      <td>14363</td>\n",
                            "      <td>846.6</td>\n",
                            "      <td>719.44</td>\n",
                            "      <td>127.16</td>\n",
                            "      <td>34</td>\n",
                            "      <td>1</td>\n",
                            "    </tr>\n",
                            "    <tr>\n",
                            "      <th>19527</th>\n",
                            "      <td>4132723</td>\n",
                            "      <td>Mar-2020</td>\n",
                            "      <td>10133</td>\n",
                            "      <td>18228</td>\n",
                            "      <td>788.5</td>\n",
                            "      <td>670.30</td>\n",
                            "      <td>118.20</td>\n",
                            "      <td>15</td>\n",
                            "      <td>1</td>\n",
                            "    </tr>\n",
                            "    <tr>\n",
                            "      <th>2880</th>\n",
                            "      <td>310534</td>\n",
                            "      <td>Mar-2020</td>\n",
                            "      <td>10282</td>\n",
                            "      <td>20090</td>\n",
                            "      <td>747.0</td>\n",
                            "      <td>634.80</td>\n",
                            "      <td>112.20</td>\n",
                            "      <td>30</td>\n",
                            "      <td>1</td>\n",
                            "    </tr>\n",
                            "    <tr>\n",
                            "      <th>13730</th>\n",
                            "      <td>2612533</td>\n",
                            "      <td>Mar-2020</td>\n",
                            "      <td>10857</td>\n",
                            "      <td>20122</td>\n",
                            "      <td>597.0</td>\n",
                            "      <td>597.00</td>\n",
                            "      <td>0.00</td>\n",
                            "      <td>3</td>\n",
                            "      <td>1</td>\n",
                            "    </tr>\n",
                            "    <tr>\n",
                            "      <th>12637</th>\n",
                            "      <td>2234282</td>\n",
                            "      <td>Mar-2020</td>\n",
                            "      <td>10066</td>\n",
                            "      <td>14044</td>\n",
                            "      <td>597.0</td>\n",
                            "      <td>597.00</td>\n",
                            "      <td>0.00</td>\n",
                            "      <td>3</td>\n",
                            "      <td>2</td>\n",
                            "    </tr>\n",
                            "    <tr>\n",
                            "      <th>34129</th>\n",
                            "      <td>6941062</td>\n",
                            "      <td>Mar-2020</td>\n",
                            "      <td>10009</td>\n",
                            "      <td>3879</td>\n",
                            "      <td>597.0</td>\n",
                            "      <td>597.00</td>\n",
                            "      <td>0.00</td>\n",
                            "      <td>3</td>\n",
                            "      <td>1</td>\n",
                            "    </tr>\n",
                            "  </tbody>\n",
                            "</table>\n",
                            "</div>"
                        ]
                    },
                    "metadata": {},
                    "execution_count": 16
                }
            ],
            "metadata": {}
        },
        {
            "cell_type": "markdown",
            "source": [
                "# Desempenho dos franqueados"
            ],
            "metadata": {}
        },
        {
            "cell_type": "code",
            "execution_count": 58,
            "source": [
                "franqueado = revendedores.groupby(['Franqueado', 'Ciclo']).agg({'Receita_Bruta':'sum', \\\n",
                "    'Receita_Liquida':'sum', 'Desconto':'sum', 'Loja':'nunique', 'Revendedor':'nunique', 'Qtde_itens':'sum', 'Numero_de_Pedidos':'sum'}).\\\n",
                "        round(3).reset_index().rename(columns={\"Loja\": \"Qtde_Lojas\", \"Revendedor\": \"Qtde_Rev\", \"Numero_de_Pedidos\":\"N_pedidos\"}).sort_values(by='Receita_Bruta', ascending=False)\n",
                "\n",
                "franqueado['Liq_Med_p_Item'] = franqueado.apply(lambda x: round((x['Receita_Liquida'] / x['Qtde_itens']),2), axis=1)\n",
                "franqueado['Desc_Med_p_Item'] = franqueado.apply(lambda x: round((x['Desconto'] / x['Qtde_itens']),2), axis=1)\n",
                "franqueado['Desc_Med_p_Loja'] = franqueado.apply(lambda x: round((x['Desconto'] / x['Qtde_Lojas']),2), axis=1)\n",
                "franqueado['Receita_Liq_p_Loja'] = franqueado.apply(lambda x: round((x['Receita_Liquida'] / x['Qtde_Lojas']),2), axis=1)\n",
                "franqueado['Receita_Liq_p_Rev'] = franqueado.apply(lambda x: round((x['Receita_Liquida'] / x['Qtde_Rev']),2), axis=1)"
            ],
            "outputs": [],
            "metadata": {}
        },
        {
            "cell_type": "code",
            "execution_count": 59,
            "source": [
                "#Maiores receitas liquidas - Franqueados\n",
                "franqueado.head(10)"
            ],
            "outputs": [
                {
                    "output_type": "execute_result",
                    "data": {
                        "text/plain": [
                            "     Franqueado     Ciclo  Receita_Bruta  Receita_Liquida  Desconto  \\\n",
                            "981       13031  Fev-2020      636000.95        619289.66  16711.29   \n",
                            "982       13031  Mar-2020      596118.34        580552.00  15566.34   \n",
                            "323       10269  Fev-2020      117757.25        116600.11   1157.14   \n",
                            "391       10351  Fev-2020       94463.02         93382.36   1080.66   \n",
                            "392       10351  Mar-2020       67896.12         66622.18   1273.94   \n",
                            "324       10269  Mar-2020       66188.63         64961.33   1227.30   \n",
                            "991       19825  Fev-2020       61445.30         60599.26    846.04   \n",
                            "992       19825  Mar-2020       55112.25         54236.61    875.64   \n",
                            "965       11334  Fev-2020       52635.48         52475.60    159.88   \n",
                            "213       10169  Mar-2020       48156.42         47330.29    826.13   \n",
                            "\n",
                            "     Qtde_Lojas  Qtde_Rev  Qtde_itens  N_pedidos  Liq_Med_p_Item  \\\n",
                            "981          25      6266        8073       6284           76.71   \n",
                            "982          25      6506        8433       6534           68.84   \n",
                            "323          17       872         958        872          121.71   \n",
                            "391           2       761         859        761          108.71   \n",
                            "392           2       622         726        623           91.77   \n",
                            "324          17       584         657        585           98.88   \n",
                            "991           2       511         578        511          104.84   \n",
                            "992           2       484         615        485           88.19   \n",
                            "965           9       355         359        355          146.17   \n",
                            "213           2       420         571        422           82.89   \n",
                            "\n",
                            "     Desc_Med_p_Item  Desc_Med_p_Loja  Receita_Liq_p_Loja  Receita_Liq_p_Rev  \n",
                            "981             2.07           668.45            24771.59              98.83  \n",
                            "982             1.85           622.65            23222.08              89.23  \n",
                            "323             1.21            68.07             6858.83             133.72  \n",
                            "391             1.26           540.33            46691.18             122.71  \n",
                            "392             1.75           636.97            33311.09             107.11  \n",
                            "324             1.87            72.19             3821.25             111.24  \n",
                            "991             1.46           423.02            30299.63             118.59  \n",
                            "992             1.42           437.82            27118.31             112.06  \n",
                            "965             0.45            17.76             5830.62             147.82  \n",
                            "213             1.45           413.06            23665.15             112.69  "
                        ],
                        "text/html": [
                            "<div>\n",
                            "<style scoped>\n",
                            "    .dataframe tbody tr th:only-of-type {\n",
                            "        vertical-align: middle;\n",
                            "    }\n",
                            "\n",
                            "    .dataframe tbody tr th {\n",
                            "        vertical-align: top;\n",
                            "    }\n",
                            "\n",
                            "    .dataframe thead th {\n",
                            "        text-align: right;\n",
                            "    }\n",
                            "</style>\n",
                            "<table border=\"1\" class=\"dataframe\">\n",
                            "  <thead>\n",
                            "    <tr style=\"text-align: right;\">\n",
                            "      <th></th>\n",
                            "      <th>Franqueado</th>\n",
                            "      <th>Ciclo</th>\n",
                            "      <th>Receita_Bruta</th>\n",
                            "      <th>Receita_Liquida</th>\n",
                            "      <th>Desconto</th>\n",
                            "      <th>Qtde_Lojas</th>\n",
                            "      <th>Qtde_Rev</th>\n",
                            "      <th>Qtde_itens</th>\n",
                            "      <th>N_pedidos</th>\n",
                            "      <th>Liq_Med_p_Item</th>\n",
                            "      <th>Desc_Med_p_Item</th>\n",
                            "      <th>Desc_Med_p_Loja</th>\n",
                            "      <th>Receita_Liq_p_Loja</th>\n",
                            "      <th>Receita_Liq_p_Rev</th>\n",
                            "    </tr>\n",
                            "  </thead>\n",
                            "  <tbody>\n",
                            "    <tr>\n",
                            "      <th>981</th>\n",
                            "      <td>13031</td>\n",
                            "      <td>Fev-2020</td>\n",
                            "      <td>636000.95</td>\n",
                            "      <td>619289.66</td>\n",
                            "      <td>16711.29</td>\n",
                            "      <td>25</td>\n",
                            "      <td>6266</td>\n",
                            "      <td>8073</td>\n",
                            "      <td>6284</td>\n",
                            "      <td>76.71</td>\n",
                            "      <td>2.07</td>\n",
                            "      <td>668.45</td>\n",
                            "      <td>24771.59</td>\n",
                            "      <td>98.83</td>\n",
                            "    </tr>\n",
                            "    <tr>\n",
                            "      <th>982</th>\n",
                            "      <td>13031</td>\n",
                            "      <td>Mar-2020</td>\n",
                            "      <td>596118.34</td>\n",
                            "      <td>580552.00</td>\n",
                            "      <td>15566.34</td>\n",
                            "      <td>25</td>\n",
                            "      <td>6506</td>\n",
                            "      <td>8433</td>\n",
                            "      <td>6534</td>\n",
                            "      <td>68.84</td>\n",
                            "      <td>1.85</td>\n",
                            "      <td>622.65</td>\n",
                            "      <td>23222.08</td>\n",
                            "      <td>89.23</td>\n",
                            "    </tr>\n",
                            "    <tr>\n",
                            "      <th>323</th>\n",
                            "      <td>10269</td>\n",
                            "      <td>Fev-2020</td>\n",
                            "      <td>117757.25</td>\n",
                            "      <td>116600.11</td>\n",
                            "      <td>1157.14</td>\n",
                            "      <td>17</td>\n",
                            "      <td>872</td>\n",
                            "      <td>958</td>\n",
                            "      <td>872</td>\n",
                            "      <td>121.71</td>\n",
                            "      <td>1.21</td>\n",
                            "      <td>68.07</td>\n",
                            "      <td>6858.83</td>\n",
                            "      <td>133.72</td>\n",
                            "    </tr>\n",
                            "    <tr>\n",
                            "      <th>391</th>\n",
                            "      <td>10351</td>\n",
                            "      <td>Fev-2020</td>\n",
                            "      <td>94463.02</td>\n",
                            "      <td>93382.36</td>\n",
                            "      <td>1080.66</td>\n",
                            "      <td>2</td>\n",
                            "      <td>761</td>\n",
                            "      <td>859</td>\n",
                            "      <td>761</td>\n",
                            "      <td>108.71</td>\n",
                            "      <td>1.26</td>\n",
                            "      <td>540.33</td>\n",
                            "      <td>46691.18</td>\n",
                            "      <td>122.71</td>\n",
                            "    </tr>\n",
                            "    <tr>\n",
                            "      <th>392</th>\n",
                            "      <td>10351</td>\n",
                            "      <td>Mar-2020</td>\n",
                            "      <td>67896.12</td>\n",
                            "      <td>66622.18</td>\n",
                            "      <td>1273.94</td>\n",
                            "      <td>2</td>\n",
                            "      <td>622</td>\n",
                            "      <td>726</td>\n",
                            "      <td>623</td>\n",
                            "      <td>91.77</td>\n",
                            "      <td>1.75</td>\n",
                            "      <td>636.97</td>\n",
                            "      <td>33311.09</td>\n",
                            "      <td>107.11</td>\n",
                            "    </tr>\n",
                            "    <tr>\n",
                            "      <th>324</th>\n",
                            "      <td>10269</td>\n",
                            "      <td>Mar-2020</td>\n",
                            "      <td>66188.63</td>\n",
                            "      <td>64961.33</td>\n",
                            "      <td>1227.30</td>\n",
                            "      <td>17</td>\n",
                            "      <td>584</td>\n",
                            "      <td>657</td>\n",
                            "      <td>585</td>\n",
                            "      <td>98.88</td>\n",
                            "      <td>1.87</td>\n",
                            "      <td>72.19</td>\n",
                            "      <td>3821.25</td>\n",
                            "      <td>111.24</td>\n",
                            "    </tr>\n",
                            "    <tr>\n",
                            "      <th>991</th>\n",
                            "      <td>19825</td>\n",
                            "      <td>Fev-2020</td>\n",
                            "      <td>61445.30</td>\n",
                            "      <td>60599.26</td>\n",
                            "      <td>846.04</td>\n",
                            "      <td>2</td>\n",
                            "      <td>511</td>\n",
                            "      <td>578</td>\n",
                            "      <td>511</td>\n",
                            "      <td>104.84</td>\n",
                            "      <td>1.46</td>\n",
                            "      <td>423.02</td>\n",
                            "      <td>30299.63</td>\n",
                            "      <td>118.59</td>\n",
                            "    </tr>\n",
                            "    <tr>\n",
                            "      <th>992</th>\n",
                            "      <td>19825</td>\n",
                            "      <td>Mar-2020</td>\n",
                            "      <td>55112.25</td>\n",
                            "      <td>54236.61</td>\n",
                            "      <td>875.64</td>\n",
                            "      <td>2</td>\n",
                            "      <td>484</td>\n",
                            "      <td>615</td>\n",
                            "      <td>485</td>\n",
                            "      <td>88.19</td>\n",
                            "      <td>1.42</td>\n",
                            "      <td>437.82</td>\n",
                            "      <td>27118.31</td>\n",
                            "      <td>112.06</td>\n",
                            "    </tr>\n",
                            "    <tr>\n",
                            "      <th>965</th>\n",
                            "      <td>11334</td>\n",
                            "      <td>Fev-2020</td>\n",
                            "      <td>52635.48</td>\n",
                            "      <td>52475.60</td>\n",
                            "      <td>159.88</td>\n",
                            "      <td>9</td>\n",
                            "      <td>355</td>\n",
                            "      <td>359</td>\n",
                            "      <td>355</td>\n",
                            "      <td>146.17</td>\n",
                            "      <td>0.45</td>\n",
                            "      <td>17.76</td>\n",
                            "      <td>5830.62</td>\n",
                            "      <td>147.82</td>\n",
                            "    </tr>\n",
                            "    <tr>\n",
                            "      <th>213</th>\n",
                            "      <td>10169</td>\n",
                            "      <td>Mar-2020</td>\n",
                            "      <td>48156.42</td>\n",
                            "      <td>47330.29</td>\n",
                            "      <td>826.13</td>\n",
                            "      <td>2</td>\n",
                            "      <td>420</td>\n",
                            "      <td>571</td>\n",
                            "      <td>422</td>\n",
                            "      <td>82.89</td>\n",
                            "      <td>1.45</td>\n",
                            "      <td>413.06</td>\n",
                            "      <td>23665.15</td>\n",
                            "      <td>112.69</td>\n",
                            "    </tr>\n",
                            "  </tbody>\n",
                            "</table>\n",
                            "</div>"
                        ]
                    },
                    "metadata": {},
                    "execution_count": 59
                }
            ],
            "metadata": {}
        },
        {
            "cell_type": "code",
            "execution_count": 60,
            "source": [
                "#Maiores Receitas liquidas por Loja\n",
                "franqueado.sort_values(by='Receita_Liq_p_Loja', ascending=False).head(10)"
            ],
            "outputs": [
                {
                    "output_type": "execute_result",
                    "data": {
                        "text/plain": [
                            "     Franqueado     Ciclo  Receita_Bruta  Receita_Liquida  Desconto  \\\n",
                            "391       10351  Fev-2020       94463.02         93382.36   1080.66   \n",
                            "184       10153  Fev-2020       36464.40         36173.24    291.16   \n",
                            "10        10009  Fev-2020       34394.61         33975.31    419.30   \n",
                            "392       10351  Mar-2020       67896.12         66622.18   1273.94   \n",
                            "991       19825  Fev-2020       61445.30         60599.26    846.04   \n",
                            "202       10164  Fev-2020       30451.40         30036.08    415.32   \n",
                            "203       10164  Mar-2020       29484.69         29132.81    351.88   \n",
                            "11        10009  Mar-2020       28316.50         27951.28    365.22   \n",
                            "992       19825  Mar-2020       55112.25         54236.61    875.64   \n",
                            "981       13031  Fev-2020      636000.95        619289.66  16711.29   \n",
                            "\n",
                            "     Qtde_Lojas  Qtde_Rev  Qtde_itens  N_pedidos  Liq_Med_p_Item  \\\n",
                            "391           2       761         859        761          108.71   \n",
                            "184           1       309         328        309          110.28   \n",
                            "10            1       272         312        272          108.90   \n",
                            "392           2       622         726        623           91.77   \n",
                            "991           2       511         578        511          104.84   \n",
                            "202           1       266         311        266           96.58   \n",
                            "203           1       240         283        240          102.94   \n",
                            "11            1       274         363        274           77.00   \n",
                            "992           2       484         615        485           88.19   \n",
                            "981          25      6266        8073       6284           76.71   \n",
                            "\n",
                            "     Desc_Med_p_Item  Desc_Med_p_Loja  Receita_Liq_p_Loja  Receita_Liq_p_Rev  \n",
                            "391             1.26           540.33            46691.18             122.71  \n",
                            "184             0.89           291.16            36173.24             117.07  \n",
                            "10              1.34           419.30            33975.31             124.91  \n",
                            "392             1.75           636.97            33311.09             107.11  \n",
                            "991             1.46           423.02            30299.63             118.59  \n",
                            "202             1.34           415.32            30036.08             112.92  \n",
                            "203             1.24           351.88            29132.81             121.39  \n",
                            "11              1.01           365.22            27951.28             102.01  \n",
                            "992             1.42           437.82            27118.31             112.06  \n",
                            "981             2.07           668.45            24771.59              98.83  "
                        ],
                        "text/html": [
                            "<div>\n",
                            "<style scoped>\n",
                            "    .dataframe tbody tr th:only-of-type {\n",
                            "        vertical-align: middle;\n",
                            "    }\n",
                            "\n",
                            "    .dataframe tbody tr th {\n",
                            "        vertical-align: top;\n",
                            "    }\n",
                            "\n",
                            "    .dataframe thead th {\n",
                            "        text-align: right;\n",
                            "    }\n",
                            "</style>\n",
                            "<table border=\"1\" class=\"dataframe\">\n",
                            "  <thead>\n",
                            "    <tr style=\"text-align: right;\">\n",
                            "      <th></th>\n",
                            "      <th>Franqueado</th>\n",
                            "      <th>Ciclo</th>\n",
                            "      <th>Receita_Bruta</th>\n",
                            "      <th>Receita_Liquida</th>\n",
                            "      <th>Desconto</th>\n",
                            "      <th>Qtde_Lojas</th>\n",
                            "      <th>Qtde_Rev</th>\n",
                            "      <th>Qtde_itens</th>\n",
                            "      <th>N_pedidos</th>\n",
                            "      <th>Liq_Med_p_Item</th>\n",
                            "      <th>Desc_Med_p_Item</th>\n",
                            "      <th>Desc_Med_p_Loja</th>\n",
                            "      <th>Receita_Liq_p_Loja</th>\n",
                            "      <th>Receita_Liq_p_Rev</th>\n",
                            "    </tr>\n",
                            "  </thead>\n",
                            "  <tbody>\n",
                            "    <tr>\n",
                            "      <th>391</th>\n",
                            "      <td>10351</td>\n",
                            "      <td>Fev-2020</td>\n",
                            "      <td>94463.02</td>\n",
                            "      <td>93382.36</td>\n",
                            "      <td>1080.66</td>\n",
                            "      <td>2</td>\n",
                            "      <td>761</td>\n",
                            "      <td>859</td>\n",
                            "      <td>761</td>\n",
                            "      <td>108.71</td>\n",
                            "      <td>1.26</td>\n",
                            "      <td>540.33</td>\n",
                            "      <td>46691.18</td>\n",
                            "      <td>122.71</td>\n",
                            "    </tr>\n",
                            "    <tr>\n",
                            "      <th>184</th>\n",
                            "      <td>10153</td>\n",
                            "      <td>Fev-2020</td>\n",
                            "      <td>36464.40</td>\n",
                            "      <td>36173.24</td>\n",
                            "      <td>291.16</td>\n",
                            "      <td>1</td>\n",
                            "      <td>309</td>\n",
                            "      <td>328</td>\n",
                            "      <td>309</td>\n",
                            "      <td>110.28</td>\n",
                            "      <td>0.89</td>\n",
                            "      <td>291.16</td>\n",
                            "      <td>36173.24</td>\n",
                            "      <td>117.07</td>\n",
                            "    </tr>\n",
                            "    <tr>\n",
                            "      <th>10</th>\n",
                            "      <td>10009</td>\n",
                            "      <td>Fev-2020</td>\n",
                            "      <td>34394.61</td>\n",
                            "      <td>33975.31</td>\n",
                            "      <td>419.30</td>\n",
                            "      <td>1</td>\n",
                            "      <td>272</td>\n",
                            "      <td>312</td>\n",
                            "      <td>272</td>\n",
                            "      <td>108.90</td>\n",
                            "      <td>1.34</td>\n",
                            "      <td>419.30</td>\n",
                            "      <td>33975.31</td>\n",
                            "      <td>124.91</td>\n",
                            "    </tr>\n",
                            "    <tr>\n",
                            "      <th>392</th>\n",
                            "      <td>10351</td>\n",
                            "      <td>Mar-2020</td>\n",
                            "      <td>67896.12</td>\n",
                            "      <td>66622.18</td>\n",
                            "      <td>1273.94</td>\n",
                            "      <td>2</td>\n",
                            "      <td>622</td>\n",
                            "      <td>726</td>\n",
                            "      <td>623</td>\n",
                            "      <td>91.77</td>\n",
                            "      <td>1.75</td>\n",
                            "      <td>636.97</td>\n",
                            "      <td>33311.09</td>\n",
                            "      <td>107.11</td>\n",
                            "    </tr>\n",
                            "    <tr>\n",
                            "      <th>991</th>\n",
                            "      <td>19825</td>\n",
                            "      <td>Fev-2020</td>\n",
                            "      <td>61445.30</td>\n",
                            "      <td>60599.26</td>\n",
                            "      <td>846.04</td>\n",
                            "      <td>2</td>\n",
                            "      <td>511</td>\n",
                            "      <td>578</td>\n",
                            "      <td>511</td>\n",
                            "      <td>104.84</td>\n",
                            "      <td>1.46</td>\n",
                            "      <td>423.02</td>\n",
                            "      <td>30299.63</td>\n",
                            "      <td>118.59</td>\n",
                            "    </tr>\n",
                            "    <tr>\n",
                            "      <th>202</th>\n",
                            "      <td>10164</td>\n",
                            "      <td>Fev-2020</td>\n",
                            "      <td>30451.40</td>\n",
                            "      <td>30036.08</td>\n",
                            "      <td>415.32</td>\n",
                            "      <td>1</td>\n",
                            "      <td>266</td>\n",
                            "      <td>311</td>\n",
                            "      <td>266</td>\n",
                            "      <td>96.58</td>\n",
                            "      <td>1.34</td>\n",
                            "      <td>415.32</td>\n",
                            "      <td>30036.08</td>\n",
                            "      <td>112.92</td>\n",
                            "    </tr>\n",
                            "    <tr>\n",
                            "      <th>203</th>\n",
                            "      <td>10164</td>\n",
                            "      <td>Mar-2020</td>\n",
                            "      <td>29484.69</td>\n",
                            "      <td>29132.81</td>\n",
                            "      <td>351.88</td>\n",
                            "      <td>1</td>\n",
                            "      <td>240</td>\n",
                            "      <td>283</td>\n",
                            "      <td>240</td>\n",
                            "      <td>102.94</td>\n",
                            "      <td>1.24</td>\n",
                            "      <td>351.88</td>\n",
                            "      <td>29132.81</td>\n",
                            "      <td>121.39</td>\n",
                            "    </tr>\n",
                            "    <tr>\n",
                            "      <th>11</th>\n",
                            "      <td>10009</td>\n",
                            "      <td>Mar-2020</td>\n",
                            "      <td>28316.50</td>\n",
                            "      <td>27951.28</td>\n",
                            "      <td>365.22</td>\n",
                            "      <td>1</td>\n",
                            "      <td>274</td>\n",
                            "      <td>363</td>\n",
                            "      <td>274</td>\n",
                            "      <td>77.00</td>\n",
                            "      <td>1.01</td>\n",
                            "      <td>365.22</td>\n",
                            "      <td>27951.28</td>\n",
                            "      <td>102.01</td>\n",
                            "    </tr>\n",
                            "    <tr>\n",
                            "      <th>992</th>\n",
                            "      <td>19825</td>\n",
                            "      <td>Mar-2020</td>\n",
                            "      <td>55112.25</td>\n",
                            "      <td>54236.61</td>\n",
                            "      <td>875.64</td>\n",
                            "      <td>2</td>\n",
                            "      <td>484</td>\n",
                            "      <td>615</td>\n",
                            "      <td>485</td>\n",
                            "      <td>88.19</td>\n",
                            "      <td>1.42</td>\n",
                            "      <td>437.82</td>\n",
                            "      <td>27118.31</td>\n",
                            "      <td>112.06</td>\n",
                            "    </tr>\n",
                            "    <tr>\n",
                            "      <th>981</th>\n",
                            "      <td>13031</td>\n",
                            "      <td>Fev-2020</td>\n",
                            "      <td>636000.95</td>\n",
                            "      <td>619289.66</td>\n",
                            "      <td>16711.29</td>\n",
                            "      <td>25</td>\n",
                            "      <td>6266</td>\n",
                            "      <td>8073</td>\n",
                            "      <td>6284</td>\n",
                            "      <td>76.71</td>\n",
                            "      <td>2.07</td>\n",
                            "      <td>668.45</td>\n",
                            "      <td>24771.59</td>\n",
                            "      <td>98.83</td>\n",
                            "    </tr>\n",
                            "  </tbody>\n",
                            "</table>\n",
                            "</div>"
                        ]
                    },
                    "metadata": {},
                    "execution_count": 60
                }
            ],
            "metadata": {}
        },
        {
            "cell_type": "code",
            "execution_count": 61,
            "source": [
                "#Maiores Receitas liquidas por Rev\n",
                "franqueado.sort_values(by='Receita_Liq_p_Rev', ascending=False).head(10)"
            ],
            "outputs": [
                {
                    "output_type": "execute_result",
                    "data": {
                        "text/plain": [
                            "     Franqueado     Ciclo  Receita_Bruta  Receita_Liquida  Desconto  \\\n",
                            "242       10195  Fev-2020         845.00           845.00      0.00   \n",
                            "338       10280  Mar-2020        6394.90          6383.82     11.08   \n",
                            "787       10695  Mar-2020         547.00           547.00      0.00   \n",
                            "421       10373  Fev-2020         547.00           547.00      0.00   \n",
                            "930       10825  Mar-2020        1964.05          1946.09     17.96   \n",
                            "768       10682  Mar-2020         348.00           348.00      0.00   \n",
                            "52        10039  Fev-2020        2823.70          2608.88    214.82   \n",
                            "305       10253  Mar-2020       19708.30         19631.38     76.92   \n",
                            "342       10283  Mar-2020       13542.10         13471.86     70.24   \n",
                            "243       10195  Mar-2020         845.00           845.00      0.00   \n",
                            "\n",
                            "     Qtde_Lojas  Qtde_Rev  Qtde_itens  N_pedidos  Liq_Med_p_Item  \\\n",
                            "242           1         4           5          4          169.00   \n",
                            "338           1        31          37         31          172.54   \n",
                            "787           1         3           3          3          182.33   \n",
                            "421           1         3           3          3          182.33   \n",
                            "930           1        11          16         11          121.63   \n",
                            "768           1         2           2          2          174.00   \n",
                            "52            1        15          42         16           62.12   \n",
                            "305           1       114         123        114          159.60   \n",
                            "342           1        79          89         79          151.37   \n",
                            "243           1         5           5          5          169.00   \n",
                            "\n",
                            "     Desc_Med_p_Item  Desc_Med_p_Loja  Receita_Liq_p_Loja  Receita_Liq_p_Rev  \n",
                            "242             0.00             0.00              845.00             211.25  \n",
                            "338             0.30            11.08             6383.82             205.93  \n",
                            "787             0.00             0.00              547.00             182.33  \n",
                            "421             0.00             0.00              547.00             182.33  \n",
                            "930             1.12            17.96             1946.09             176.92  \n",
                            "768             0.00             0.00              348.00             174.00  \n",
                            "52              5.11           214.82             2608.88             173.93  \n",
                            "305             0.63            76.92            19631.38             172.21  \n",
                            "342             0.79            70.24            13471.86             170.53  \n",
                            "243             0.00             0.00              845.00             169.00  "
                        ],
                        "text/html": [
                            "<div>\n",
                            "<style scoped>\n",
                            "    .dataframe tbody tr th:only-of-type {\n",
                            "        vertical-align: middle;\n",
                            "    }\n",
                            "\n",
                            "    .dataframe tbody tr th {\n",
                            "        vertical-align: top;\n",
                            "    }\n",
                            "\n",
                            "    .dataframe thead th {\n",
                            "        text-align: right;\n",
                            "    }\n",
                            "</style>\n",
                            "<table border=\"1\" class=\"dataframe\">\n",
                            "  <thead>\n",
                            "    <tr style=\"text-align: right;\">\n",
                            "      <th></th>\n",
                            "      <th>Franqueado</th>\n",
                            "      <th>Ciclo</th>\n",
                            "      <th>Receita_Bruta</th>\n",
                            "      <th>Receita_Liquida</th>\n",
                            "      <th>Desconto</th>\n",
                            "      <th>Qtde_Lojas</th>\n",
                            "      <th>Qtde_Rev</th>\n",
                            "      <th>Qtde_itens</th>\n",
                            "      <th>N_pedidos</th>\n",
                            "      <th>Liq_Med_p_Item</th>\n",
                            "      <th>Desc_Med_p_Item</th>\n",
                            "      <th>Desc_Med_p_Loja</th>\n",
                            "      <th>Receita_Liq_p_Loja</th>\n",
                            "      <th>Receita_Liq_p_Rev</th>\n",
                            "    </tr>\n",
                            "  </thead>\n",
                            "  <tbody>\n",
                            "    <tr>\n",
                            "      <th>242</th>\n",
                            "      <td>10195</td>\n",
                            "      <td>Fev-2020</td>\n",
                            "      <td>845.00</td>\n",
                            "      <td>845.00</td>\n",
                            "      <td>0.00</td>\n",
                            "      <td>1</td>\n",
                            "      <td>4</td>\n",
                            "      <td>5</td>\n",
                            "      <td>4</td>\n",
                            "      <td>169.00</td>\n",
                            "      <td>0.00</td>\n",
                            "      <td>0.00</td>\n",
                            "      <td>845.00</td>\n",
                            "      <td>211.25</td>\n",
                            "    </tr>\n",
                            "    <tr>\n",
                            "      <th>338</th>\n",
                            "      <td>10280</td>\n",
                            "      <td>Mar-2020</td>\n",
                            "      <td>6394.90</td>\n",
                            "      <td>6383.82</td>\n",
                            "      <td>11.08</td>\n",
                            "      <td>1</td>\n",
                            "      <td>31</td>\n",
                            "      <td>37</td>\n",
                            "      <td>31</td>\n",
                            "      <td>172.54</td>\n",
                            "      <td>0.30</td>\n",
                            "      <td>11.08</td>\n",
                            "      <td>6383.82</td>\n",
                            "      <td>205.93</td>\n",
                            "    </tr>\n",
                            "    <tr>\n",
                            "      <th>787</th>\n",
                            "      <td>10695</td>\n",
                            "      <td>Mar-2020</td>\n",
                            "      <td>547.00</td>\n",
                            "      <td>547.00</td>\n",
                            "      <td>0.00</td>\n",
                            "      <td>1</td>\n",
                            "      <td>3</td>\n",
                            "      <td>3</td>\n",
                            "      <td>3</td>\n",
                            "      <td>182.33</td>\n",
                            "      <td>0.00</td>\n",
                            "      <td>0.00</td>\n",
                            "      <td>547.00</td>\n",
                            "      <td>182.33</td>\n",
                            "    </tr>\n",
                            "    <tr>\n",
                            "      <th>421</th>\n",
                            "      <td>10373</td>\n",
                            "      <td>Fev-2020</td>\n",
                            "      <td>547.00</td>\n",
                            "      <td>547.00</td>\n",
                            "      <td>0.00</td>\n",
                            "      <td>1</td>\n",
                            "      <td>3</td>\n",
                            "      <td>3</td>\n",
                            "      <td>3</td>\n",
                            "      <td>182.33</td>\n",
                            "      <td>0.00</td>\n",
                            "      <td>0.00</td>\n",
                            "      <td>547.00</td>\n",
                            "      <td>182.33</td>\n",
                            "    </tr>\n",
                            "    <tr>\n",
                            "      <th>930</th>\n",
                            "      <td>10825</td>\n",
                            "      <td>Mar-2020</td>\n",
                            "      <td>1964.05</td>\n",
                            "      <td>1946.09</td>\n",
                            "      <td>17.96</td>\n",
                            "      <td>1</td>\n",
                            "      <td>11</td>\n",
                            "      <td>16</td>\n",
                            "      <td>11</td>\n",
                            "      <td>121.63</td>\n",
                            "      <td>1.12</td>\n",
                            "      <td>17.96</td>\n",
                            "      <td>1946.09</td>\n",
                            "      <td>176.92</td>\n",
                            "    </tr>\n",
                            "    <tr>\n",
                            "      <th>768</th>\n",
                            "      <td>10682</td>\n",
                            "      <td>Mar-2020</td>\n",
                            "      <td>348.00</td>\n",
                            "      <td>348.00</td>\n",
                            "      <td>0.00</td>\n",
                            "      <td>1</td>\n",
                            "      <td>2</td>\n",
                            "      <td>2</td>\n",
                            "      <td>2</td>\n",
                            "      <td>174.00</td>\n",
                            "      <td>0.00</td>\n",
                            "      <td>0.00</td>\n",
                            "      <td>348.00</td>\n",
                            "      <td>174.00</td>\n",
                            "    </tr>\n",
                            "    <tr>\n",
                            "      <th>52</th>\n",
                            "      <td>10039</td>\n",
                            "      <td>Fev-2020</td>\n",
                            "      <td>2823.70</td>\n",
                            "      <td>2608.88</td>\n",
                            "      <td>214.82</td>\n",
                            "      <td>1</td>\n",
                            "      <td>15</td>\n",
                            "      <td>42</td>\n",
                            "      <td>16</td>\n",
                            "      <td>62.12</td>\n",
                            "      <td>5.11</td>\n",
                            "      <td>214.82</td>\n",
                            "      <td>2608.88</td>\n",
                            "      <td>173.93</td>\n",
                            "    </tr>\n",
                            "    <tr>\n",
                            "      <th>305</th>\n",
                            "      <td>10253</td>\n",
                            "      <td>Mar-2020</td>\n",
                            "      <td>19708.30</td>\n",
                            "      <td>19631.38</td>\n",
                            "      <td>76.92</td>\n",
                            "      <td>1</td>\n",
                            "      <td>114</td>\n",
                            "      <td>123</td>\n",
                            "      <td>114</td>\n",
                            "      <td>159.60</td>\n",
                            "      <td>0.63</td>\n",
                            "      <td>76.92</td>\n",
                            "      <td>19631.38</td>\n",
                            "      <td>172.21</td>\n",
                            "    </tr>\n",
                            "    <tr>\n",
                            "      <th>342</th>\n",
                            "      <td>10283</td>\n",
                            "      <td>Mar-2020</td>\n",
                            "      <td>13542.10</td>\n",
                            "      <td>13471.86</td>\n",
                            "      <td>70.24</td>\n",
                            "      <td>1</td>\n",
                            "      <td>79</td>\n",
                            "      <td>89</td>\n",
                            "      <td>79</td>\n",
                            "      <td>151.37</td>\n",
                            "      <td>0.79</td>\n",
                            "      <td>70.24</td>\n",
                            "      <td>13471.86</td>\n",
                            "      <td>170.53</td>\n",
                            "    </tr>\n",
                            "    <tr>\n",
                            "      <th>243</th>\n",
                            "      <td>10195</td>\n",
                            "      <td>Mar-2020</td>\n",
                            "      <td>845.00</td>\n",
                            "      <td>845.00</td>\n",
                            "      <td>0.00</td>\n",
                            "      <td>1</td>\n",
                            "      <td>5</td>\n",
                            "      <td>5</td>\n",
                            "      <td>5</td>\n",
                            "      <td>169.00</td>\n",
                            "      <td>0.00</td>\n",
                            "      <td>0.00</td>\n",
                            "      <td>845.00</td>\n",
                            "      <td>169.00</td>\n",
                            "    </tr>\n",
                            "  </tbody>\n",
                            "</table>\n",
                            "</div>"
                        ]
                    },
                    "metadata": {},
                    "execution_count": 61
                }
            ],
            "metadata": {}
        },
        {
            "cell_type": "code",
            "execution_count": 62,
            "source": [
                "#Maiores Desconto liquido por item\n",
                "franqueado.sort_values(by='Desc_Med_p_Item', ascending=False).head(10)"
            ],
            "outputs": [
                {
                    "output_type": "execute_result",
                    "data": {
                        "text/plain": [
                            "     Franqueado     Ciclo  Receita_Bruta  Receita_Liquida  Desconto  \\\n",
                            "872       10773  Fev-2020          149.8           127.34     22.46   \n",
                            "498       10428  Mar-2020          375.4           319.12     56.28   \n",
                            "563       10480  Fev-2020          119.8           101.84     17.96   \n",
                            "903       10802  Mar-2020           59.9            50.92      8.98   \n",
                            "639       10546  Fev-2020          468.5           420.58     47.92   \n",
                            "727       10633  Fev-2020          159.7           135.76     23.94   \n",
                            "801       10706  Mar-2020          105.8            89.94     15.86   \n",
                            "702       10604  Mar-2020          104.8            89.08     15.72   \n",
                            "640       10546  Mar-2020          516.0           438.64     77.36   \n",
                            "742       10651  Mar-2020          249.5           212.10     37.40   \n",
                            "\n",
                            "     Qtde_Lojas  Qtde_Rev  Qtde_itens  N_pedidos  Liq_Med_p_Item  \\\n",
                            "872           1         2           2          2           63.67   \n",
                            "498           1         6           6          6           53.19   \n",
                            "563           1         1           2          1           50.92   \n",
                            "903           1         1           1          1           50.92   \n",
                            "639           1         6           6          6           70.10   \n",
                            "727           1         3           3          3           45.25   \n",
                            "801           1         2           2          2           44.97   \n",
                            "702           1         2           2          2           44.54   \n",
                            "640           1         7          10          7           43.86   \n",
                            "742           1         5           5          5           42.42   \n",
                            "\n",
                            "     Desc_Med_p_Item  Desc_Med_p_Loja  Receita_Liq_p_Loja  Receita_Liq_p_Rev  \n",
                            "872            11.23            22.46              127.34              63.67  \n",
                            "498             9.38            56.28              319.12              53.19  \n",
                            "563             8.98            17.96              101.84             101.84  \n",
                            "903             8.98             8.98               50.92              50.92  \n",
                            "639             7.99            47.92              420.58              70.10  \n",
                            "727             7.98            23.94              135.76              45.25  \n",
                            "801             7.93            15.86               89.94              44.97  \n",
                            "702             7.86            15.72               89.08              44.54  \n",
                            "640             7.74            77.36              438.64              62.66  \n",
                            "742             7.48            37.40              212.10              42.42  "
                        ],
                        "text/html": [
                            "<div>\n",
                            "<style scoped>\n",
                            "    .dataframe tbody tr th:only-of-type {\n",
                            "        vertical-align: middle;\n",
                            "    }\n",
                            "\n",
                            "    .dataframe tbody tr th {\n",
                            "        vertical-align: top;\n",
                            "    }\n",
                            "\n",
                            "    .dataframe thead th {\n",
                            "        text-align: right;\n",
                            "    }\n",
                            "</style>\n",
                            "<table border=\"1\" class=\"dataframe\">\n",
                            "  <thead>\n",
                            "    <tr style=\"text-align: right;\">\n",
                            "      <th></th>\n",
                            "      <th>Franqueado</th>\n",
                            "      <th>Ciclo</th>\n",
                            "      <th>Receita_Bruta</th>\n",
                            "      <th>Receita_Liquida</th>\n",
                            "      <th>Desconto</th>\n",
                            "      <th>Qtde_Lojas</th>\n",
                            "      <th>Qtde_Rev</th>\n",
                            "      <th>Qtde_itens</th>\n",
                            "      <th>N_pedidos</th>\n",
                            "      <th>Liq_Med_p_Item</th>\n",
                            "      <th>Desc_Med_p_Item</th>\n",
                            "      <th>Desc_Med_p_Loja</th>\n",
                            "      <th>Receita_Liq_p_Loja</th>\n",
                            "      <th>Receita_Liq_p_Rev</th>\n",
                            "    </tr>\n",
                            "  </thead>\n",
                            "  <tbody>\n",
                            "    <tr>\n",
                            "      <th>872</th>\n",
                            "      <td>10773</td>\n",
                            "      <td>Fev-2020</td>\n",
                            "      <td>149.8</td>\n",
                            "      <td>127.34</td>\n",
                            "      <td>22.46</td>\n",
                            "      <td>1</td>\n",
                            "      <td>2</td>\n",
                            "      <td>2</td>\n",
                            "      <td>2</td>\n",
                            "      <td>63.67</td>\n",
                            "      <td>11.23</td>\n",
                            "      <td>22.46</td>\n",
                            "      <td>127.34</td>\n",
                            "      <td>63.67</td>\n",
                            "    </tr>\n",
                            "    <tr>\n",
                            "      <th>498</th>\n",
                            "      <td>10428</td>\n",
                            "      <td>Mar-2020</td>\n",
                            "      <td>375.4</td>\n",
                            "      <td>319.12</td>\n",
                            "      <td>56.28</td>\n",
                            "      <td>1</td>\n",
                            "      <td>6</td>\n",
                            "      <td>6</td>\n",
                            "      <td>6</td>\n",
                            "      <td>53.19</td>\n",
                            "      <td>9.38</td>\n",
                            "      <td>56.28</td>\n",
                            "      <td>319.12</td>\n",
                            "      <td>53.19</td>\n",
                            "    </tr>\n",
                            "    <tr>\n",
                            "      <th>563</th>\n",
                            "      <td>10480</td>\n",
                            "      <td>Fev-2020</td>\n",
                            "      <td>119.8</td>\n",
                            "      <td>101.84</td>\n",
                            "      <td>17.96</td>\n",
                            "      <td>1</td>\n",
                            "      <td>1</td>\n",
                            "      <td>2</td>\n",
                            "      <td>1</td>\n",
                            "      <td>50.92</td>\n",
                            "      <td>8.98</td>\n",
                            "      <td>17.96</td>\n",
                            "      <td>101.84</td>\n",
                            "      <td>101.84</td>\n",
                            "    </tr>\n",
                            "    <tr>\n",
                            "      <th>903</th>\n",
                            "      <td>10802</td>\n",
                            "      <td>Mar-2020</td>\n",
                            "      <td>59.9</td>\n",
                            "      <td>50.92</td>\n",
                            "      <td>8.98</td>\n",
                            "      <td>1</td>\n",
                            "      <td>1</td>\n",
                            "      <td>1</td>\n",
                            "      <td>1</td>\n",
                            "      <td>50.92</td>\n",
                            "      <td>8.98</td>\n",
                            "      <td>8.98</td>\n",
                            "      <td>50.92</td>\n",
                            "      <td>50.92</td>\n",
                            "    </tr>\n",
                            "    <tr>\n",
                            "      <th>639</th>\n",
                            "      <td>10546</td>\n",
                            "      <td>Fev-2020</td>\n",
                            "      <td>468.5</td>\n",
                            "      <td>420.58</td>\n",
                            "      <td>47.92</td>\n",
                            "      <td>1</td>\n",
                            "      <td>6</td>\n",
                            "      <td>6</td>\n",
                            "      <td>6</td>\n",
                            "      <td>70.10</td>\n",
                            "      <td>7.99</td>\n",
                            "      <td>47.92</td>\n",
                            "      <td>420.58</td>\n",
                            "      <td>70.10</td>\n",
                            "    </tr>\n",
                            "    <tr>\n",
                            "      <th>727</th>\n",
                            "      <td>10633</td>\n",
                            "      <td>Fev-2020</td>\n",
                            "      <td>159.7</td>\n",
                            "      <td>135.76</td>\n",
                            "      <td>23.94</td>\n",
                            "      <td>1</td>\n",
                            "      <td>3</td>\n",
                            "      <td>3</td>\n",
                            "      <td>3</td>\n",
                            "      <td>45.25</td>\n",
                            "      <td>7.98</td>\n",
                            "      <td>23.94</td>\n",
                            "      <td>135.76</td>\n",
                            "      <td>45.25</td>\n",
                            "    </tr>\n",
                            "    <tr>\n",
                            "      <th>801</th>\n",
                            "      <td>10706</td>\n",
                            "      <td>Mar-2020</td>\n",
                            "      <td>105.8</td>\n",
                            "      <td>89.94</td>\n",
                            "      <td>15.86</td>\n",
                            "      <td>1</td>\n",
                            "      <td>2</td>\n",
                            "      <td>2</td>\n",
                            "      <td>2</td>\n",
                            "      <td>44.97</td>\n",
                            "      <td>7.93</td>\n",
                            "      <td>15.86</td>\n",
                            "      <td>89.94</td>\n",
                            "      <td>44.97</td>\n",
                            "    </tr>\n",
                            "    <tr>\n",
                            "      <th>702</th>\n",
                            "      <td>10604</td>\n",
                            "      <td>Mar-2020</td>\n",
                            "      <td>104.8</td>\n",
                            "      <td>89.08</td>\n",
                            "      <td>15.72</td>\n",
                            "      <td>1</td>\n",
                            "      <td>2</td>\n",
                            "      <td>2</td>\n",
                            "      <td>2</td>\n",
                            "      <td>44.54</td>\n",
                            "      <td>7.86</td>\n",
                            "      <td>15.72</td>\n",
                            "      <td>89.08</td>\n",
                            "      <td>44.54</td>\n",
                            "    </tr>\n",
                            "    <tr>\n",
                            "      <th>640</th>\n",
                            "      <td>10546</td>\n",
                            "      <td>Mar-2020</td>\n",
                            "      <td>516.0</td>\n",
                            "      <td>438.64</td>\n",
                            "      <td>77.36</td>\n",
                            "      <td>1</td>\n",
                            "      <td>7</td>\n",
                            "      <td>10</td>\n",
                            "      <td>7</td>\n",
                            "      <td>43.86</td>\n",
                            "      <td>7.74</td>\n",
                            "      <td>77.36</td>\n",
                            "      <td>438.64</td>\n",
                            "      <td>62.66</td>\n",
                            "    </tr>\n",
                            "    <tr>\n",
                            "      <th>742</th>\n",
                            "      <td>10651</td>\n",
                            "      <td>Mar-2020</td>\n",
                            "      <td>249.5</td>\n",
                            "      <td>212.10</td>\n",
                            "      <td>37.40</td>\n",
                            "      <td>1</td>\n",
                            "      <td>5</td>\n",
                            "      <td>5</td>\n",
                            "      <td>5</td>\n",
                            "      <td>42.42</td>\n",
                            "      <td>7.48</td>\n",
                            "      <td>37.40</td>\n",
                            "      <td>212.10</td>\n",
                            "      <td>42.42</td>\n",
                            "    </tr>\n",
                            "  </tbody>\n",
                            "</table>\n",
                            "</div>"
                        ]
                    },
                    "metadata": {},
                    "execution_count": 62
                }
            ],
            "metadata": {}
        },
        {
            "cell_type": "markdown",
            "source": [
                "## Calculando o preço médio por  produto agrupado por ciclo"
            ],
            "metadata": {}
        },
        {
            "cell_type": "code",
            "execution_count": 17,
            "source": [
                "prec_med_fev = revendedores[revendedores['Ciclo']=='Fev-2020']['Receita_Bruta'].sum() /\\\n",
                "     revendedores[revendedores['Ciclo']=='Fev-2020']['Qtde_itens'].sum()\n",
                "prec_med_fev"
            ],
            "outputs": [
                {
                    "output_type": "execute_result",
                    "data": {
                        "text/plain": [
                            "92.48508834376877"
                        ]
                    },
                    "metadata": {},
                    "execution_count": 17
                }
            ],
            "metadata": {}
        },
        {
            "cell_type": "code",
            "execution_count": 18,
            "source": [
                "prec_med_mar = revendedores[revendedores['Ciclo']=='Mar-2020']['Receita_Bruta'].sum() /\\\n",
                "     revendedores[revendedores['Ciclo']=='Mar-2020']['Qtde_itens'].sum()\n",
                "prec_med_mar"
            ],
            "outputs": [
                {
                    "output_type": "execute_result",
                    "data": {
                        "text/plain": [
                            "80.90076651538074"
                        ]
                    },
                    "metadata": {},
                    "execution_count": 18
                }
            ],
            "metadata": {}
        },
        {
            "cell_type": "markdown",
            "source": [
                "## Desembolso medio por revendedora"
            ],
            "metadata": {}
        },
        {
            "cell_type": "code",
            "execution_count": 19,
            "source": [
                "des_med_por_rev_fev = revendedores[revendedores['Ciclo']=='Fev-2020']['Receita_Bruta'].sum() /\\\n",
                "     len(revendedores[revendedores['Ciclo']=='Fev-2020']['Revendedor'].unique())\n",
                "des_med_por_rev_fev"
            ],
            "outputs": [
                {
                    "output_type": "execute_result",
                    "data": {
                        "text/plain": [
                            "112.39731536978162"
                        ]
                    },
                    "metadata": {},
                    "execution_count": 19
                }
            ],
            "metadata": {}
        },
        {
            "cell_type": "code",
            "execution_count": 20,
            "source": [
                "des_med_por_rev_mar = revendedores[revendedores['Ciclo']=='Mar-2020']['Receita_Bruta'].sum() /\\\n",
                "     len(revendedores[revendedores['Ciclo']=='Mar-2020']['Revendedor'].unique())\n",
                "des_med_por_rev_mar"
            ],
            "outputs": [
                {
                    "output_type": "execute_result",
                    "data": {
                        "text/plain": [
                            "102.17688233108646"
                        ]
                    },
                    "metadata": {},
                    "execution_count": 20
                }
            ],
            "metadata": {}
        },
        {
            "cell_type": "markdown",
            "source": [
                "## Média de itens por boleto"
            ],
            "metadata": {}
        },
        {
            "cell_type": "code",
            "execution_count": 21,
            "source": [
                "itens_por_boleto_fev = revendedores[revendedores['Ciclo'] == 'Fev-2020']['Qtde_itens'].sum() /\\\n",
                "     revendedores[revendedores['Ciclo'] == 'Fev-2020']['Numero_de_Pedidos'].sum()\n",
                "itens_por_boleto_fev"
            ],
            "outputs": [
                {
                    "output_type": "execute_result",
                    "data": {
                        "text/plain": [
                            "1.213341658861484"
                        ]
                    },
                    "metadata": {},
                    "execution_count": 21
                }
            ],
            "metadata": {}
        },
        {
            "cell_type": "code",
            "execution_count": 22,
            "source": [
                "itens_por_boleto_mar = revendedores[revendedores['Ciclo'] == 'Mar-2020']['Qtde_itens'].sum() /\\\n",
                "     revendedores[revendedores['Ciclo'] == 'Mar-2020']['Numero_de_Pedidos'].sum()\n",
                "itens_por_boleto_mar"
            ],
            "outputs": [
                {
                    "output_type": "execute_result",
                    "data": {
                        "text/plain": [
                            "1.259814172644731"
                        ]
                    },
                    "metadata": {},
                    "execution_count": 22
                }
            ],
            "metadata": {}
        },
        {
            "cell_type": "code",
            "execution_count": 23,
            "source": [
                "base.columns"
            ],
            "outputs": [
                {
                    "output_type": "execute_result",
                    "data": {
                        "text/plain": [
                            "Index(['Ciclo_Ciclo', 'Revendedor', 'Franqueado', 'Loja', 'Produto_Categoria',\n",
                            "       'Produto_Codigo', 'Produto_Descricao', 'Produto_Linha',\n",
                            "       'Pedido_Valor_Volume', 'Receita_Bruta', 'Receita_Liquida',\n",
                            "       'z_Numero_de_Pedidos', 'Desconto', 'Ciclo'],\n",
                            "      dtype='object')"
                        ]
                    },
                    "metadata": {},
                    "execution_count": 23
                }
            ],
            "metadata": {}
        },
        {
            "cell_type": "markdown",
            "source": [
                "# Basket analisys - Algoritimo Apriori"
            ],
            "metadata": {}
        },
        {
            "cell_type": "markdown",
            "source": [
                "## ------ Fevereiro - 2020 ----------"
            ],
            "metadata": {}
        },
        {
            "cell_type": "code",
            "execution_count": 24,
            "source": [
                "#criando um id para separar os boletos\n",
                "base['id_basket'] = base.apply(lambda x: str(x['Revendedor']) + '-' + str(x['z_Numero_de_Pedidos']), axis=1)\n",
                "\n",
                "basket_plus = base[base['Ciclo'] == 'Fev-2020'].groupby(['id_basket','Produto_Descricao'])['Pedido_Valor_Volume'].\\\n",
                "    sum().unstack().reset_index().fillna(0).set_index('id_basket')\n",
                "\n",
                "#encode\n",
                "basket_plus = basket_plus.applymap(lambda x: 0 if x<=0 else 1)\n",
                "\n",
                "print(len(basket_plus))\n",
                "\n",
                "#filtrando os que tem mais de um item\n",
                "basket_plus = basket_plus[(basket_plus > 0).sum(axis=1) >= 2]\n",
                "\n",
                "print(len(basket_plus))\n"
            ],
            "outputs": [
                {
                    "output_type": "stream",
                    "name": "stdout",
                    "text": [
                        "38436\n",
                        "1424\n"
                    ]
                }
            ],
            "metadata": {}
        },
        {
            "cell_type": "code",
            "execution_count": 25,
            "source": [
                "#Aplicando o algoritmo Apriori\n",
                "frequent_itens = apriori(basket_plus, min_support=0.03, use_colnames=True).sort_values('support', ascending=False).reset_index(drop=True)"
            ],
            "outputs": [],
            "metadata": {}
        },
        {
            "cell_type": "code",
            "execution_count": 26,
            "source": [
                "frequent_itens['length'] = frequent_itens['itemsets'].apply(lambda x: len(x))\n",
                "frequent_itens"
            ],
            "outputs": [
                {
                    "output_type": "execute_result",
                    "data": {
                        "text/plain": [
                            "     support                                           itemsets  length\n",
                            "0   0.319522             (BOT PERFUME LILLY 75ML - ED ESPECIAL)       1\n",
                            "1   0.231039                    (BOTI DEOS AEROSOL MALBEC 40ML)       1\n",
                            "2   0.162921                          (BOT BLOCO DE PEDIDOS VD)       1\n",
                            "3   0.105337                      (BOT SABONETE LÍQ LILLY 50ML)       1\n",
                            "4   0.089888           (BOTI MASCARA PROT MALHA CINZA MESCLA M)       1\n",
                            "5   0.089185                  (CATALOGO CICLO PROXIMO SELL OUT)       1\n",
                            "6   0.083567                  (BOTI MASCARA PROT MALHA PRETA M)       1\n",
                            "7   0.077247                         (BOTI SPLASH MALBEC 100ML)       1\n",
                            "8   0.074438                 (BOTI NECESS ENVELOPE PU ROSA C/A)       1\n",
                            "9   0.072331                  (BOTI MASCARA PROT MALHA PRETA G)       1\n",
                            "10  0.061798                       (BOTI NECESS VIAGEM PES C/A)       1\n",
                            "11  0.061096                    (BOTI BOLSA TOTE HOLOG TPU C/A)       1\n",
                            "12  0.057584              (BOTI NECESS ENVELOPE DOURADO PU C/A)       1\n",
                            "13  0.054073                         (BOTI NECESS POA PRETA PU)       1\n",
                            "14  0.053371  (BOTI MASCARA PROT MALHA CINZA MESCLA M, BOTI ...       2\n",
                            "15  0.051264           (BOTI NECESS MASC MALBEC CLUB PVC C/ALC)       1\n",
                            "16  0.046348  (BOT PERFUME LILLY 75ML - ED ESPECIAL, BOT BLO...       2\n",
                            "17  0.043539                        (BOTI POCHETE HOLOG PU C/A)       1\n",
                            "18  0.037219                     (BOTI NECESS CINZA NAILON C/A)       1\n",
                            "19  0.037219  (BOT PERFUME LILLY 75ML - ED ESPECIAL, BOTI DE...       2\n",
                            "20  0.035112  (BOT BLOCO DE PEDIDOS VD, CATALOGO CICLO PROXI...       2\n",
                            "21  0.035112  (BOTI MASCARA PROT MALHA CINZA MESCLA M, BOTI ...       2\n",
                            "22  0.033708                    (CATALOGO CICLO ATUAL SELL OUT)       1\n",
                            "23  0.033006                    (BOTI SACO ORGANIZADOR ALGODAO)       1\n",
                            "24  0.032303                         (EGEO SAB BARRA DOLCE 90g)       1\n",
                            "25  0.030899  (BOTI NECESS ENVELOPE DOURADO PU C/A, BOTI NEC...       2\n",
                            "26  0.030197                            (BOTI FITA OLFATIVA VD)       1"
                        ],
                        "text/html": [
                            "<div>\n",
                            "<style scoped>\n",
                            "    .dataframe tbody tr th:only-of-type {\n",
                            "        vertical-align: middle;\n",
                            "    }\n",
                            "\n",
                            "    .dataframe tbody tr th {\n",
                            "        vertical-align: top;\n",
                            "    }\n",
                            "\n",
                            "    .dataframe thead th {\n",
                            "        text-align: right;\n",
                            "    }\n",
                            "</style>\n",
                            "<table border=\"1\" class=\"dataframe\">\n",
                            "  <thead>\n",
                            "    <tr style=\"text-align: right;\">\n",
                            "      <th></th>\n",
                            "      <th>support</th>\n",
                            "      <th>itemsets</th>\n",
                            "      <th>length</th>\n",
                            "    </tr>\n",
                            "  </thead>\n",
                            "  <tbody>\n",
                            "    <tr>\n",
                            "      <th>0</th>\n",
                            "      <td>0.319522</td>\n",
                            "      <td>(BOT PERFUME LILLY 75ML - ED ESPECIAL)</td>\n",
                            "      <td>1</td>\n",
                            "    </tr>\n",
                            "    <tr>\n",
                            "      <th>1</th>\n",
                            "      <td>0.231039</td>\n",
                            "      <td>(BOTI DEOS AEROSOL MALBEC 40ML)</td>\n",
                            "      <td>1</td>\n",
                            "    </tr>\n",
                            "    <tr>\n",
                            "      <th>2</th>\n",
                            "      <td>0.162921</td>\n",
                            "      <td>(BOT BLOCO DE PEDIDOS VD)</td>\n",
                            "      <td>1</td>\n",
                            "    </tr>\n",
                            "    <tr>\n",
                            "      <th>3</th>\n",
                            "      <td>0.105337</td>\n",
                            "      <td>(BOT SABONETE LÍQ LILLY 50ML)</td>\n",
                            "      <td>1</td>\n",
                            "    </tr>\n",
                            "    <tr>\n",
                            "      <th>4</th>\n",
                            "      <td>0.089888</td>\n",
                            "      <td>(BOTI MASCARA PROT MALHA CINZA MESCLA M)</td>\n",
                            "      <td>1</td>\n",
                            "    </tr>\n",
                            "    <tr>\n",
                            "      <th>5</th>\n",
                            "      <td>0.089185</td>\n",
                            "      <td>(CATALOGO CICLO PROXIMO SELL OUT)</td>\n",
                            "      <td>1</td>\n",
                            "    </tr>\n",
                            "    <tr>\n",
                            "      <th>6</th>\n",
                            "      <td>0.083567</td>\n",
                            "      <td>(BOTI MASCARA PROT MALHA PRETA M)</td>\n",
                            "      <td>1</td>\n",
                            "    </tr>\n",
                            "    <tr>\n",
                            "      <th>7</th>\n",
                            "      <td>0.077247</td>\n",
                            "      <td>(BOTI SPLASH MALBEC 100ML)</td>\n",
                            "      <td>1</td>\n",
                            "    </tr>\n",
                            "    <tr>\n",
                            "      <th>8</th>\n",
                            "      <td>0.074438</td>\n",
                            "      <td>(BOTI NECESS ENVELOPE PU ROSA C/A)</td>\n",
                            "      <td>1</td>\n",
                            "    </tr>\n",
                            "    <tr>\n",
                            "      <th>9</th>\n",
                            "      <td>0.072331</td>\n",
                            "      <td>(BOTI MASCARA PROT MALHA PRETA G)</td>\n",
                            "      <td>1</td>\n",
                            "    </tr>\n",
                            "    <tr>\n",
                            "      <th>10</th>\n",
                            "      <td>0.061798</td>\n",
                            "      <td>(BOTI NECESS VIAGEM PES C/A)</td>\n",
                            "      <td>1</td>\n",
                            "    </tr>\n",
                            "    <tr>\n",
                            "      <th>11</th>\n",
                            "      <td>0.061096</td>\n",
                            "      <td>(BOTI BOLSA TOTE HOLOG TPU C/A)</td>\n",
                            "      <td>1</td>\n",
                            "    </tr>\n",
                            "    <tr>\n",
                            "      <th>12</th>\n",
                            "      <td>0.057584</td>\n",
                            "      <td>(BOTI NECESS ENVELOPE DOURADO PU C/A)</td>\n",
                            "      <td>1</td>\n",
                            "    </tr>\n",
                            "    <tr>\n",
                            "      <th>13</th>\n",
                            "      <td>0.054073</td>\n",
                            "      <td>(BOTI NECESS POA PRETA PU)</td>\n",
                            "      <td>1</td>\n",
                            "    </tr>\n",
                            "    <tr>\n",
                            "      <th>14</th>\n",
                            "      <td>0.053371</td>\n",
                            "      <td>(BOTI MASCARA PROT MALHA CINZA MESCLA M, BOTI ...</td>\n",
                            "      <td>2</td>\n",
                            "    </tr>\n",
                            "    <tr>\n",
                            "      <th>15</th>\n",
                            "      <td>0.051264</td>\n",
                            "      <td>(BOTI NECESS MASC MALBEC CLUB PVC C/ALC)</td>\n",
                            "      <td>1</td>\n",
                            "    </tr>\n",
                            "    <tr>\n",
                            "      <th>16</th>\n",
                            "      <td>0.046348</td>\n",
                            "      <td>(BOT PERFUME LILLY 75ML - ED ESPECIAL, BOT BLO...</td>\n",
                            "      <td>2</td>\n",
                            "    </tr>\n",
                            "    <tr>\n",
                            "      <th>17</th>\n",
                            "      <td>0.043539</td>\n",
                            "      <td>(BOTI POCHETE HOLOG PU C/A)</td>\n",
                            "      <td>1</td>\n",
                            "    </tr>\n",
                            "    <tr>\n",
                            "      <th>18</th>\n",
                            "      <td>0.037219</td>\n",
                            "      <td>(BOTI NECESS CINZA NAILON C/A)</td>\n",
                            "      <td>1</td>\n",
                            "    </tr>\n",
                            "    <tr>\n",
                            "      <th>19</th>\n",
                            "      <td>0.037219</td>\n",
                            "      <td>(BOT PERFUME LILLY 75ML - ED ESPECIAL, BOTI DE...</td>\n",
                            "      <td>2</td>\n",
                            "    </tr>\n",
                            "    <tr>\n",
                            "      <th>20</th>\n",
                            "      <td>0.035112</td>\n",
                            "      <td>(BOT BLOCO DE PEDIDOS VD, CATALOGO CICLO PROXI...</td>\n",
                            "      <td>2</td>\n",
                            "    </tr>\n",
                            "    <tr>\n",
                            "      <th>21</th>\n",
                            "      <td>0.035112</td>\n",
                            "      <td>(BOTI MASCARA PROT MALHA CINZA MESCLA M, BOTI ...</td>\n",
                            "      <td>2</td>\n",
                            "    </tr>\n",
                            "    <tr>\n",
                            "      <th>22</th>\n",
                            "      <td>0.033708</td>\n",
                            "      <td>(CATALOGO CICLO ATUAL SELL OUT)</td>\n",
                            "      <td>1</td>\n",
                            "    </tr>\n",
                            "    <tr>\n",
                            "      <th>23</th>\n",
                            "      <td>0.033006</td>\n",
                            "      <td>(BOTI SACO ORGANIZADOR ALGODAO)</td>\n",
                            "      <td>1</td>\n",
                            "    </tr>\n",
                            "    <tr>\n",
                            "      <th>24</th>\n",
                            "      <td>0.032303</td>\n",
                            "      <td>(EGEO SAB BARRA DOLCE 90g)</td>\n",
                            "      <td>1</td>\n",
                            "    </tr>\n",
                            "    <tr>\n",
                            "      <th>25</th>\n",
                            "      <td>0.030899</td>\n",
                            "      <td>(BOTI NECESS ENVELOPE DOURADO PU C/A, BOTI NEC...</td>\n",
                            "      <td>2</td>\n",
                            "    </tr>\n",
                            "    <tr>\n",
                            "      <th>26</th>\n",
                            "      <td>0.030197</td>\n",
                            "      <td>(BOTI FITA OLFATIVA VD)</td>\n",
                            "      <td>1</td>\n",
                            "    </tr>\n",
                            "  </tbody>\n",
                            "</table>\n",
                            "</div>"
                        ]
                    },
                    "metadata": {},
                    "execution_count": 26
                }
            ],
            "metadata": {}
        },
        {
            "cell_type": "code",
            "execution_count": 27,
            "source": [
                "#criando as regras de associação\n",
                "association_rules(frequent_itens, metric='lift', min_threshold=0.8).sort_values(by='lift', ascending=False).reset_index(drop=True)"
            ],
            "outputs": [
                {
                    "output_type": "execute_result",
                    "data": {
                        "text/plain": [
                            "                                antecedents  \\\n",
                            "0     (BOTI NECESS ENVELOPE DOURADO PU C/A)   \n",
                            "1        (BOTI NECESS ENVELOPE PU ROSA C/A)   \n",
                            "2  (BOTI MASCARA PROT MALHA CINZA MESCLA M)   \n",
                            "3         (BOTI MASCARA PROT MALHA PRETA M)   \n",
                            "4  (BOTI MASCARA PROT MALHA CINZA MESCLA M)   \n",
                            "5         (BOTI MASCARA PROT MALHA PRETA G)   \n",
                            "6                 (BOT BLOCO DE PEDIDOS VD)   \n",
                            "7         (CATALOGO CICLO PROXIMO SELL OUT)   \n",
                            "8    (BOT PERFUME LILLY 75ML - ED ESPECIAL)   \n",
                            "9                 (BOT BLOCO DE PEDIDOS VD)   \n",
                            "\n",
                            "                                consequents  antecedent support  \\\n",
                            "0        (BOTI NECESS ENVELOPE PU ROSA C/A)            0.057584   \n",
                            "1     (BOTI NECESS ENVELOPE DOURADO PU C/A)            0.074438   \n",
                            "2         (BOTI MASCARA PROT MALHA PRETA M)            0.089888   \n",
                            "3  (BOTI MASCARA PROT MALHA CINZA MESCLA M)            0.083567   \n",
                            "4         (BOTI MASCARA PROT MALHA PRETA G)            0.089888   \n",
                            "5  (BOTI MASCARA PROT MALHA CINZA MESCLA M)            0.072331   \n",
                            "6         (CATALOGO CICLO PROXIMO SELL OUT)            0.162921   \n",
                            "7                 (BOT BLOCO DE PEDIDOS VD)            0.089185   \n",
                            "8                 (BOT BLOCO DE PEDIDOS VD)            0.319522   \n",
                            "9    (BOT PERFUME LILLY 75ML - ED ESPECIAL)            0.162921   \n",
                            "\n",
                            "   consequent support   support  confidence      lift  leverage  conviction  \n",
                            "0            0.074438  0.030899    0.536585  7.208468  0.026612    1.997265  \n",
                            "1            0.057584  0.030899    0.415094  7.208468  0.026612    1.611227  \n",
                            "2            0.083567  0.053371    0.593750  7.105042  0.045859    2.255834  \n",
                            "3            0.089888  0.053371    0.638655  7.105042  0.045859    2.518683  \n",
                            "4            0.072331  0.035112    0.390625  5.400485  0.028611    1.522328  \n",
                            "5            0.089888  0.035112    0.485437  5.400485  0.028611    1.768709  \n",
                            "6            0.089185  0.035112    0.215517  2.416508  0.020582    1.161038  \n",
                            "7            0.162921  0.035112    0.393701  2.416508  0.020582    1.380636  \n",
                            "8            0.162921  0.046348    0.145055  0.890337 -0.005709    0.979102  \n",
                            "9            0.319522  0.046348    0.284483  0.890337 -0.005709    0.951029  "
                        ],
                        "text/html": [
                            "<div>\n",
                            "<style scoped>\n",
                            "    .dataframe tbody tr th:only-of-type {\n",
                            "        vertical-align: middle;\n",
                            "    }\n",
                            "\n",
                            "    .dataframe tbody tr th {\n",
                            "        vertical-align: top;\n",
                            "    }\n",
                            "\n",
                            "    .dataframe thead th {\n",
                            "        text-align: right;\n",
                            "    }\n",
                            "</style>\n",
                            "<table border=\"1\" class=\"dataframe\">\n",
                            "  <thead>\n",
                            "    <tr style=\"text-align: right;\">\n",
                            "      <th></th>\n",
                            "      <th>antecedents</th>\n",
                            "      <th>consequents</th>\n",
                            "      <th>antecedent support</th>\n",
                            "      <th>consequent support</th>\n",
                            "      <th>support</th>\n",
                            "      <th>confidence</th>\n",
                            "      <th>lift</th>\n",
                            "      <th>leverage</th>\n",
                            "      <th>conviction</th>\n",
                            "    </tr>\n",
                            "  </thead>\n",
                            "  <tbody>\n",
                            "    <tr>\n",
                            "      <th>0</th>\n",
                            "      <td>(BOTI NECESS ENVELOPE DOURADO PU C/A)</td>\n",
                            "      <td>(BOTI NECESS ENVELOPE PU ROSA C/A)</td>\n",
                            "      <td>0.057584</td>\n",
                            "      <td>0.074438</td>\n",
                            "      <td>0.030899</td>\n",
                            "      <td>0.536585</td>\n",
                            "      <td>7.208468</td>\n",
                            "      <td>0.026612</td>\n",
                            "      <td>1.997265</td>\n",
                            "    </tr>\n",
                            "    <tr>\n",
                            "      <th>1</th>\n",
                            "      <td>(BOTI NECESS ENVELOPE PU ROSA C/A)</td>\n",
                            "      <td>(BOTI NECESS ENVELOPE DOURADO PU C/A)</td>\n",
                            "      <td>0.074438</td>\n",
                            "      <td>0.057584</td>\n",
                            "      <td>0.030899</td>\n",
                            "      <td>0.415094</td>\n",
                            "      <td>7.208468</td>\n",
                            "      <td>0.026612</td>\n",
                            "      <td>1.611227</td>\n",
                            "    </tr>\n",
                            "    <tr>\n",
                            "      <th>2</th>\n",
                            "      <td>(BOTI MASCARA PROT MALHA CINZA MESCLA M)</td>\n",
                            "      <td>(BOTI MASCARA PROT MALHA PRETA M)</td>\n",
                            "      <td>0.089888</td>\n",
                            "      <td>0.083567</td>\n",
                            "      <td>0.053371</td>\n",
                            "      <td>0.593750</td>\n",
                            "      <td>7.105042</td>\n",
                            "      <td>0.045859</td>\n",
                            "      <td>2.255834</td>\n",
                            "    </tr>\n",
                            "    <tr>\n",
                            "      <th>3</th>\n",
                            "      <td>(BOTI MASCARA PROT MALHA PRETA M)</td>\n",
                            "      <td>(BOTI MASCARA PROT MALHA CINZA MESCLA M)</td>\n",
                            "      <td>0.083567</td>\n",
                            "      <td>0.089888</td>\n",
                            "      <td>0.053371</td>\n",
                            "      <td>0.638655</td>\n",
                            "      <td>7.105042</td>\n",
                            "      <td>0.045859</td>\n",
                            "      <td>2.518683</td>\n",
                            "    </tr>\n",
                            "    <tr>\n",
                            "      <th>4</th>\n",
                            "      <td>(BOTI MASCARA PROT MALHA CINZA MESCLA M)</td>\n",
                            "      <td>(BOTI MASCARA PROT MALHA PRETA G)</td>\n",
                            "      <td>0.089888</td>\n",
                            "      <td>0.072331</td>\n",
                            "      <td>0.035112</td>\n",
                            "      <td>0.390625</td>\n",
                            "      <td>5.400485</td>\n",
                            "      <td>0.028611</td>\n",
                            "      <td>1.522328</td>\n",
                            "    </tr>\n",
                            "    <tr>\n",
                            "      <th>5</th>\n",
                            "      <td>(BOTI MASCARA PROT MALHA PRETA G)</td>\n",
                            "      <td>(BOTI MASCARA PROT MALHA CINZA MESCLA M)</td>\n",
                            "      <td>0.072331</td>\n",
                            "      <td>0.089888</td>\n",
                            "      <td>0.035112</td>\n",
                            "      <td>0.485437</td>\n",
                            "      <td>5.400485</td>\n",
                            "      <td>0.028611</td>\n",
                            "      <td>1.768709</td>\n",
                            "    </tr>\n",
                            "    <tr>\n",
                            "      <th>6</th>\n",
                            "      <td>(BOT BLOCO DE PEDIDOS VD)</td>\n",
                            "      <td>(CATALOGO CICLO PROXIMO SELL OUT)</td>\n",
                            "      <td>0.162921</td>\n",
                            "      <td>0.089185</td>\n",
                            "      <td>0.035112</td>\n",
                            "      <td>0.215517</td>\n",
                            "      <td>2.416508</td>\n",
                            "      <td>0.020582</td>\n",
                            "      <td>1.161038</td>\n",
                            "    </tr>\n",
                            "    <tr>\n",
                            "      <th>7</th>\n",
                            "      <td>(CATALOGO CICLO PROXIMO SELL OUT)</td>\n",
                            "      <td>(BOT BLOCO DE PEDIDOS VD)</td>\n",
                            "      <td>0.089185</td>\n",
                            "      <td>0.162921</td>\n",
                            "      <td>0.035112</td>\n",
                            "      <td>0.393701</td>\n",
                            "      <td>2.416508</td>\n",
                            "      <td>0.020582</td>\n",
                            "      <td>1.380636</td>\n",
                            "    </tr>\n",
                            "    <tr>\n",
                            "      <th>8</th>\n",
                            "      <td>(BOT PERFUME LILLY 75ML - ED ESPECIAL)</td>\n",
                            "      <td>(BOT BLOCO DE PEDIDOS VD)</td>\n",
                            "      <td>0.319522</td>\n",
                            "      <td>0.162921</td>\n",
                            "      <td>0.046348</td>\n",
                            "      <td>0.145055</td>\n",
                            "      <td>0.890337</td>\n",
                            "      <td>-0.005709</td>\n",
                            "      <td>0.979102</td>\n",
                            "    </tr>\n",
                            "    <tr>\n",
                            "      <th>9</th>\n",
                            "      <td>(BOT BLOCO DE PEDIDOS VD)</td>\n",
                            "      <td>(BOT PERFUME LILLY 75ML - ED ESPECIAL)</td>\n",
                            "      <td>0.162921</td>\n",
                            "      <td>0.319522</td>\n",
                            "      <td>0.046348</td>\n",
                            "      <td>0.284483</td>\n",
                            "      <td>0.890337</td>\n",
                            "      <td>-0.005709</td>\n",
                            "      <td>0.951029</td>\n",
                            "    </tr>\n",
                            "  </tbody>\n",
                            "</table>\n",
                            "</div>"
                        ]
                    },
                    "metadata": {},
                    "execution_count": 27
                }
            ],
            "metadata": {}
        },
        {
            "cell_type": "markdown",
            "source": [
                "## ------ Março - 2020 ----------"
            ],
            "metadata": {}
        },
        {
            "cell_type": "code",
            "execution_count": 28,
            "source": [
                "basket_plus_mar = base[base['Ciclo'] == 'Mar-2020'].groupby(['id_basket','Produto_Descricao'])['Pedido_Valor_Volume'].\\\n",
                "    sum().unstack().reset_index().fillna(0).set_index('id_basket')\n",
                "\n",
                "#encode\n",
                "basket_plus_mar = basket_plus_mar.applymap(lambda x: 0 if x<=0 else 1)\n",
                "\n",
                "print(len(basket_plus_mar))\n",
                "\n",
                "#filtrando os que tem mais de um item\n",
                "basket_plus_mar = basket_plus_mar[(basket_plus_mar > 0).sum(axis=1) >= 2]\n",
                "\n",
                "print(len(basket_plus_mar))\n"
            ],
            "outputs": [
                {
                    "output_type": "stream",
                    "name": "stdout",
                    "text": [
                        "37777\n",
                        "2046\n"
                    ]
                }
            ],
            "metadata": {}
        },
        {
            "cell_type": "code",
            "execution_count": 29,
            "source": [
                "#Aplicando o algoritmo Apriori\n",
                "frequent_itens_mar = apriori(basket_plus_mar, min_support=0.03, use_colnames=True).sort_values('support', ascending=False).reset_index(drop=True)"
            ],
            "outputs": [],
            "metadata": {}
        },
        {
            "cell_type": "code",
            "execution_count": 30,
            "source": [
                "frequent_itens_mar['length'] = frequent_itens_mar['itemsets'].apply(lambda x: len(x))\n",
                "frequent_itens_mar"
            ],
            "outputs": [
                {
                    "output_type": "execute_result",
                    "data": {
                        "text/plain": [
                            "     support                                           itemsets  length\n",
                            "0   0.246334             (BOT PERFUME LILLY 75ML - ED ESPECIAL)       1\n",
                            "1   0.194526                  (CATALOGO CICLO PROXIMO SELL OUT)       1\n",
                            "2   0.180352                 (BOTI NECESS ENVELOPE PU ROSA C/A)       1\n",
                            "3   0.165200                          (BOT BLOCO DE PEDIDOS VD)       1\n",
                            "4   0.155425              (BOTI NECESS ENVELOPE DOURADO PU C/A)       1\n",
                            "5   0.152493                  (BOTI MASCARA PROT MALHA PRETA M)       1\n",
                            "6   0.138807                    (BOTI DEOS AEROSOL MALBEC 40ML)       1\n",
                            "7   0.111437           (BOTI MASCARA PROT MALHA CINZA MESCLA M)       1\n",
                            "8   0.107527  (BOTI NECESS ENVELOPE DOURADO PU C/A, BOTI NEC...       2\n",
                            "9   0.086999                            (BOTI FITA OLFATIVA VD)       1\n",
                            "10  0.081623  (BOTI MASCARA PROT MALHA CINZA MESCLA M, BOTI ...       2\n",
                            "11  0.081623                    (CATALOGO CICLO ATUAL SELL OUT)       1\n",
                            "12  0.068426  (CATALOGO CICLO ATUAL SELL OUT, CATALOGO CICLO...       2\n",
                            "13  0.068426                      (BOT SABONETE LÍQ LILLY 50ML)       1\n",
                            "14  0.065982                         (BOTI SPLASH MALBEC 100ML)       1\n",
                            "15  0.055230  (BOT BLOCO DE PEDIDOS VD, CATALOGO CICLO PROXI...       2\n",
                            "16  0.043011   (BOTI FITA OLFATIVA VD, BOT BLOCO DE PEDIDOS VD)       2\n",
                            "17  0.041544           (BOTI NECESS MASC MALBEC CLUB PVC C/ALC)       1\n",
                            "18  0.041056                  (BOTI MASCARA PROT MALHA PRETA G)       1\n",
                            "19  0.039101  (BOT PERFUME LILLY 75ML - ED ESPECIAL, CATALOG...       2\n",
                            "20  0.036657                    (BOTI BOLSA TOTE HOLOG TPU C/A)       1\n",
                            "21  0.036168                       (BOTI NECESS VIAGEM PES C/A)       1\n",
                            "22  0.033724                (BOTI NECESS HOLOG DREAM PVC S/ALC)       1\n",
                            "23  0.030303                        (BOTI POCHETE HOLOG PU C/A)       1"
                        ],
                        "text/html": [
                            "<div>\n",
                            "<style scoped>\n",
                            "    .dataframe tbody tr th:only-of-type {\n",
                            "        vertical-align: middle;\n",
                            "    }\n",
                            "\n",
                            "    .dataframe tbody tr th {\n",
                            "        vertical-align: top;\n",
                            "    }\n",
                            "\n",
                            "    .dataframe thead th {\n",
                            "        text-align: right;\n",
                            "    }\n",
                            "</style>\n",
                            "<table border=\"1\" class=\"dataframe\">\n",
                            "  <thead>\n",
                            "    <tr style=\"text-align: right;\">\n",
                            "      <th></th>\n",
                            "      <th>support</th>\n",
                            "      <th>itemsets</th>\n",
                            "      <th>length</th>\n",
                            "    </tr>\n",
                            "  </thead>\n",
                            "  <tbody>\n",
                            "    <tr>\n",
                            "      <th>0</th>\n",
                            "      <td>0.246334</td>\n",
                            "      <td>(BOT PERFUME LILLY 75ML - ED ESPECIAL)</td>\n",
                            "      <td>1</td>\n",
                            "    </tr>\n",
                            "    <tr>\n",
                            "      <th>1</th>\n",
                            "      <td>0.194526</td>\n",
                            "      <td>(CATALOGO CICLO PROXIMO SELL OUT)</td>\n",
                            "      <td>1</td>\n",
                            "    </tr>\n",
                            "    <tr>\n",
                            "      <th>2</th>\n",
                            "      <td>0.180352</td>\n",
                            "      <td>(BOTI NECESS ENVELOPE PU ROSA C/A)</td>\n",
                            "      <td>1</td>\n",
                            "    </tr>\n",
                            "    <tr>\n",
                            "      <th>3</th>\n",
                            "      <td>0.165200</td>\n",
                            "      <td>(BOT BLOCO DE PEDIDOS VD)</td>\n",
                            "      <td>1</td>\n",
                            "    </tr>\n",
                            "    <tr>\n",
                            "      <th>4</th>\n",
                            "      <td>0.155425</td>\n",
                            "      <td>(BOTI NECESS ENVELOPE DOURADO PU C/A)</td>\n",
                            "      <td>1</td>\n",
                            "    </tr>\n",
                            "    <tr>\n",
                            "      <th>5</th>\n",
                            "      <td>0.152493</td>\n",
                            "      <td>(BOTI MASCARA PROT MALHA PRETA M)</td>\n",
                            "      <td>1</td>\n",
                            "    </tr>\n",
                            "    <tr>\n",
                            "      <th>6</th>\n",
                            "      <td>0.138807</td>\n",
                            "      <td>(BOTI DEOS AEROSOL MALBEC 40ML)</td>\n",
                            "      <td>1</td>\n",
                            "    </tr>\n",
                            "    <tr>\n",
                            "      <th>7</th>\n",
                            "      <td>0.111437</td>\n",
                            "      <td>(BOTI MASCARA PROT MALHA CINZA MESCLA M)</td>\n",
                            "      <td>1</td>\n",
                            "    </tr>\n",
                            "    <tr>\n",
                            "      <th>8</th>\n",
                            "      <td>0.107527</td>\n",
                            "      <td>(BOTI NECESS ENVELOPE DOURADO PU C/A, BOTI NEC...</td>\n",
                            "      <td>2</td>\n",
                            "    </tr>\n",
                            "    <tr>\n",
                            "      <th>9</th>\n",
                            "      <td>0.086999</td>\n",
                            "      <td>(BOTI FITA OLFATIVA VD)</td>\n",
                            "      <td>1</td>\n",
                            "    </tr>\n",
                            "    <tr>\n",
                            "      <th>10</th>\n",
                            "      <td>0.081623</td>\n",
                            "      <td>(BOTI MASCARA PROT MALHA CINZA MESCLA M, BOTI ...</td>\n",
                            "      <td>2</td>\n",
                            "    </tr>\n",
                            "    <tr>\n",
                            "      <th>11</th>\n",
                            "      <td>0.081623</td>\n",
                            "      <td>(CATALOGO CICLO ATUAL SELL OUT)</td>\n",
                            "      <td>1</td>\n",
                            "    </tr>\n",
                            "    <tr>\n",
                            "      <th>12</th>\n",
                            "      <td>0.068426</td>\n",
                            "      <td>(CATALOGO CICLO ATUAL SELL OUT, CATALOGO CICLO...</td>\n",
                            "      <td>2</td>\n",
                            "    </tr>\n",
                            "    <tr>\n",
                            "      <th>13</th>\n",
                            "      <td>0.068426</td>\n",
                            "      <td>(BOT SABONETE LÍQ LILLY 50ML)</td>\n",
                            "      <td>1</td>\n",
                            "    </tr>\n",
                            "    <tr>\n",
                            "      <th>14</th>\n",
                            "      <td>0.065982</td>\n",
                            "      <td>(BOTI SPLASH MALBEC 100ML)</td>\n",
                            "      <td>1</td>\n",
                            "    </tr>\n",
                            "    <tr>\n",
                            "      <th>15</th>\n",
                            "      <td>0.055230</td>\n",
                            "      <td>(BOT BLOCO DE PEDIDOS VD, CATALOGO CICLO PROXI...</td>\n",
                            "      <td>2</td>\n",
                            "    </tr>\n",
                            "    <tr>\n",
                            "      <th>16</th>\n",
                            "      <td>0.043011</td>\n",
                            "      <td>(BOTI FITA OLFATIVA VD, BOT BLOCO DE PEDIDOS VD)</td>\n",
                            "      <td>2</td>\n",
                            "    </tr>\n",
                            "    <tr>\n",
                            "      <th>17</th>\n",
                            "      <td>0.041544</td>\n",
                            "      <td>(BOTI NECESS MASC MALBEC CLUB PVC C/ALC)</td>\n",
                            "      <td>1</td>\n",
                            "    </tr>\n",
                            "    <tr>\n",
                            "      <th>18</th>\n",
                            "      <td>0.041056</td>\n",
                            "      <td>(BOTI MASCARA PROT MALHA PRETA G)</td>\n",
                            "      <td>1</td>\n",
                            "    </tr>\n",
                            "    <tr>\n",
                            "      <th>19</th>\n",
                            "      <td>0.039101</td>\n",
                            "      <td>(BOT PERFUME LILLY 75ML - ED ESPECIAL, CATALOG...</td>\n",
                            "      <td>2</td>\n",
                            "    </tr>\n",
                            "    <tr>\n",
                            "      <th>20</th>\n",
                            "      <td>0.036657</td>\n",
                            "      <td>(BOTI BOLSA TOTE HOLOG TPU C/A)</td>\n",
                            "      <td>1</td>\n",
                            "    </tr>\n",
                            "    <tr>\n",
                            "      <th>21</th>\n",
                            "      <td>0.036168</td>\n",
                            "      <td>(BOTI NECESS VIAGEM PES C/A)</td>\n",
                            "      <td>1</td>\n",
                            "    </tr>\n",
                            "    <tr>\n",
                            "      <th>22</th>\n",
                            "      <td>0.033724</td>\n",
                            "      <td>(BOTI NECESS HOLOG DREAM PVC S/ALC)</td>\n",
                            "      <td>1</td>\n",
                            "    </tr>\n",
                            "    <tr>\n",
                            "      <th>23</th>\n",
                            "      <td>0.030303</td>\n",
                            "      <td>(BOTI POCHETE HOLOG PU C/A)</td>\n",
                            "      <td>1</td>\n",
                            "    </tr>\n",
                            "  </tbody>\n",
                            "</table>\n",
                            "</div>"
                        ]
                    },
                    "metadata": {},
                    "execution_count": 30
                }
            ],
            "metadata": {}
        },
        {
            "cell_type": "code",
            "execution_count": 31,
            "source": [
                "#criando as regras de associação\n",
                "association_rules(frequent_itens_mar, metric='lift', min_threshold=0.8).sort_values(by='lift', ascending=False).reset_index(drop=True)"
            ],
            "outputs": [
                {
                    "output_type": "execute_result",
                    "data": {
                        "text/plain": [
                            "                                 antecedents  \\\n",
                            "0          (BOTI MASCARA PROT MALHA PRETA M)   \n",
                            "1   (BOTI MASCARA PROT MALHA CINZA MESCLA M)   \n",
                            "2            (CATALOGO CICLO ATUAL SELL OUT)   \n",
                            "3          (CATALOGO CICLO PROXIMO SELL OUT)   \n",
                            "4         (BOTI NECESS ENVELOPE PU ROSA C/A)   \n",
                            "5      (BOTI NECESS ENVELOPE DOURADO PU C/A)   \n",
                            "6                    (BOTI FITA OLFATIVA VD)   \n",
                            "7                  (BOT BLOCO DE PEDIDOS VD)   \n",
                            "8                  (BOT BLOCO DE PEDIDOS VD)   \n",
                            "9          (CATALOGO CICLO PROXIMO SELL OUT)   \n",
                            "10    (BOT PERFUME LILLY 75ML - ED ESPECIAL)   \n",
                            "11         (CATALOGO CICLO PROXIMO SELL OUT)   \n",
                            "\n",
                            "                                 consequents  antecedent support  \\\n",
                            "0   (BOTI MASCARA PROT MALHA CINZA MESCLA M)            0.152493   \n",
                            "1          (BOTI MASCARA PROT MALHA PRETA M)            0.111437   \n",
                            "2          (CATALOGO CICLO PROXIMO SELL OUT)            0.081623   \n",
                            "3            (CATALOGO CICLO ATUAL SELL OUT)            0.194526   \n",
                            "4      (BOTI NECESS ENVELOPE DOURADO PU C/A)            0.180352   \n",
                            "5         (BOTI NECESS ENVELOPE PU ROSA C/A)            0.155425   \n",
                            "6                  (BOT BLOCO DE PEDIDOS VD)            0.086999   \n",
                            "7                    (BOTI FITA OLFATIVA VD)            0.165200   \n",
                            "8          (CATALOGO CICLO PROXIMO SELL OUT)            0.165200   \n",
                            "9                  (BOT BLOCO DE PEDIDOS VD)            0.194526   \n",
                            "10         (CATALOGO CICLO PROXIMO SELL OUT)            0.246334   \n",
                            "11    (BOT PERFUME LILLY 75ML - ED ESPECIAL)            0.194526   \n",
                            "\n",
                            "    consequent support   support  confidence      lift  leverage  conviction  \n",
                            "0             0.111437  0.081623    0.535256  4.803222  0.064629    1.911943  \n",
                            "1             0.152493  0.081623    0.732456  4.803222  0.064629    3.167732  \n",
                            "2             0.194526  0.068426    0.838323  4.309572  0.052548    4.982006  \n",
                            "3             0.081623  0.068426    0.351759  4.309572  0.052548    1.416722  \n",
                            "4             0.155425  0.107527    0.596206  3.835967  0.079496    2.091598  \n",
                            "5             0.180352  0.107527    0.691824  3.835967  0.079496    2.659674  \n",
                            "6             0.165200  0.043011    0.494382  2.992620  0.028638    1.651048  \n",
                            "7             0.086999  0.043011    0.260355  2.992620  0.028638    1.234377  \n",
                            "8             0.194526  0.055230    0.334320  1.718638  0.023094    1.210001  \n",
                            "9             0.165200  0.055230    0.283920  1.718638  0.023094    1.165790  \n",
                            "10            0.194526  0.039101    0.158730  0.815985 -0.008818    0.957450  \n",
                            "11            0.246334  0.039101    0.201005  0.815985 -0.008818    0.943267  "
                        ],
                        "text/html": [
                            "<div>\n",
                            "<style scoped>\n",
                            "    .dataframe tbody tr th:only-of-type {\n",
                            "        vertical-align: middle;\n",
                            "    }\n",
                            "\n",
                            "    .dataframe tbody tr th {\n",
                            "        vertical-align: top;\n",
                            "    }\n",
                            "\n",
                            "    .dataframe thead th {\n",
                            "        text-align: right;\n",
                            "    }\n",
                            "</style>\n",
                            "<table border=\"1\" class=\"dataframe\">\n",
                            "  <thead>\n",
                            "    <tr style=\"text-align: right;\">\n",
                            "      <th></th>\n",
                            "      <th>antecedents</th>\n",
                            "      <th>consequents</th>\n",
                            "      <th>antecedent support</th>\n",
                            "      <th>consequent support</th>\n",
                            "      <th>support</th>\n",
                            "      <th>confidence</th>\n",
                            "      <th>lift</th>\n",
                            "      <th>leverage</th>\n",
                            "      <th>conviction</th>\n",
                            "    </tr>\n",
                            "  </thead>\n",
                            "  <tbody>\n",
                            "    <tr>\n",
                            "      <th>0</th>\n",
                            "      <td>(BOTI MASCARA PROT MALHA PRETA M)</td>\n",
                            "      <td>(BOTI MASCARA PROT MALHA CINZA MESCLA M)</td>\n",
                            "      <td>0.152493</td>\n",
                            "      <td>0.111437</td>\n",
                            "      <td>0.081623</td>\n",
                            "      <td>0.535256</td>\n",
                            "      <td>4.803222</td>\n",
                            "      <td>0.064629</td>\n",
                            "      <td>1.911943</td>\n",
                            "    </tr>\n",
                            "    <tr>\n",
                            "      <th>1</th>\n",
                            "      <td>(BOTI MASCARA PROT MALHA CINZA MESCLA M)</td>\n",
                            "      <td>(BOTI MASCARA PROT MALHA PRETA M)</td>\n",
                            "      <td>0.111437</td>\n",
                            "      <td>0.152493</td>\n",
                            "      <td>0.081623</td>\n",
                            "      <td>0.732456</td>\n",
                            "      <td>4.803222</td>\n",
                            "      <td>0.064629</td>\n",
                            "      <td>3.167732</td>\n",
                            "    </tr>\n",
                            "    <tr>\n",
                            "      <th>2</th>\n",
                            "      <td>(CATALOGO CICLO ATUAL SELL OUT)</td>\n",
                            "      <td>(CATALOGO CICLO PROXIMO SELL OUT)</td>\n",
                            "      <td>0.081623</td>\n",
                            "      <td>0.194526</td>\n",
                            "      <td>0.068426</td>\n",
                            "      <td>0.838323</td>\n",
                            "      <td>4.309572</td>\n",
                            "      <td>0.052548</td>\n",
                            "      <td>4.982006</td>\n",
                            "    </tr>\n",
                            "    <tr>\n",
                            "      <th>3</th>\n",
                            "      <td>(CATALOGO CICLO PROXIMO SELL OUT)</td>\n",
                            "      <td>(CATALOGO CICLO ATUAL SELL OUT)</td>\n",
                            "      <td>0.194526</td>\n",
                            "      <td>0.081623</td>\n",
                            "      <td>0.068426</td>\n",
                            "      <td>0.351759</td>\n",
                            "      <td>4.309572</td>\n",
                            "      <td>0.052548</td>\n",
                            "      <td>1.416722</td>\n",
                            "    </tr>\n",
                            "    <tr>\n",
                            "      <th>4</th>\n",
                            "      <td>(BOTI NECESS ENVELOPE PU ROSA C/A)</td>\n",
                            "      <td>(BOTI NECESS ENVELOPE DOURADO PU C/A)</td>\n",
                            "      <td>0.180352</td>\n",
                            "      <td>0.155425</td>\n",
                            "      <td>0.107527</td>\n",
                            "      <td>0.596206</td>\n",
                            "      <td>3.835967</td>\n",
                            "      <td>0.079496</td>\n",
                            "      <td>2.091598</td>\n",
                            "    </tr>\n",
                            "    <tr>\n",
                            "      <th>5</th>\n",
                            "      <td>(BOTI NECESS ENVELOPE DOURADO PU C/A)</td>\n",
                            "      <td>(BOTI NECESS ENVELOPE PU ROSA C/A)</td>\n",
                            "      <td>0.155425</td>\n",
                            "      <td>0.180352</td>\n",
                            "      <td>0.107527</td>\n",
                            "      <td>0.691824</td>\n",
                            "      <td>3.835967</td>\n",
                            "      <td>0.079496</td>\n",
                            "      <td>2.659674</td>\n",
                            "    </tr>\n",
                            "    <tr>\n",
                            "      <th>6</th>\n",
                            "      <td>(BOTI FITA OLFATIVA VD)</td>\n",
                            "      <td>(BOT BLOCO DE PEDIDOS VD)</td>\n",
                            "      <td>0.086999</td>\n",
                            "      <td>0.165200</td>\n",
                            "      <td>0.043011</td>\n",
                            "      <td>0.494382</td>\n",
                            "      <td>2.992620</td>\n",
                            "      <td>0.028638</td>\n",
                            "      <td>1.651048</td>\n",
                            "    </tr>\n",
                            "    <tr>\n",
                            "      <th>7</th>\n",
                            "      <td>(BOT BLOCO DE PEDIDOS VD)</td>\n",
                            "      <td>(BOTI FITA OLFATIVA VD)</td>\n",
                            "      <td>0.165200</td>\n",
                            "      <td>0.086999</td>\n",
                            "      <td>0.043011</td>\n",
                            "      <td>0.260355</td>\n",
                            "      <td>2.992620</td>\n",
                            "      <td>0.028638</td>\n",
                            "      <td>1.234377</td>\n",
                            "    </tr>\n",
                            "    <tr>\n",
                            "      <th>8</th>\n",
                            "      <td>(BOT BLOCO DE PEDIDOS VD)</td>\n",
                            "      <td>(CATALOGO CICLO PROXIMO SELL OUT)</td>\n",
                            "      <td>0.165200</td>\n",
                            "      <td>0.194526</td>\n",
                            "      <td>0.055230</td>\n",
                            "      <td>0.334320</td>\n",
                            "      <td>1.718638</td>\n",
                            "      <td>0.023094</td>\n",
                            "      <td>1.210001</td>\n",
                            "    </tr>\n",
                            "    <tr>\n",
                            "      <th>9</th>\n",
                            "      <td>(CATALOGO CICLO PROXIMO SELL OUT)</td>\n",
                            "      <td>(BOT BLOCO DE PEDIDOS VD)</td>\n",
                            "      <td>0.194526</td>\n",
                            "      <td>0.165200</td>\n",
                            "      <td>0.055230</td>\n",
                            "      <td>0.283920</td>\n",
                            "      <td>1.718638</td>\n",
                            "      <td>0.023094</td>\n",
                            "      <td>1.165790</td>\n",
                            "    </tr>\n",
                            "    <tr>\n",
                            "      <th>10</th>\n",
                            "      <td>(BOT PERFUME LILLY 75ML - ED ESPECIAL)</td>\n",
                            "      <td>(CATALOGO CICLO PROXIMO SELL OUT)</td>\n",
                            "      <td>0.246334</td>\n",
                            "      <td>0.194526</td>\n",
                            "      <td>0.039101</td>\n",
                            "      <td>0.158730</td>\n",
                            "      <td>0.815985</td>\n",
                            "      <td>-0.008818</td>\n",
                            "      <td>0.957450</td>\n",
                            "    </tr>\n",
                            "    <tr>\n",
                            "      <th>11</th>\n",
                            "      <td>(CATALOGO CICLO PROXIMO SELL OUT)</td>\n",
                            "      <td>(BOT PERFUME LILLY 75ML - ED ESPECIAL)</td>\n",
                            "      <td>0.194526</td>\n",
                            "      <td>0.246334</td>\n",
                            "      <td>0.039101</td>\n",
                            "      <td>0.201005</td>\n",
                            "      <td>0.815985</td>\n",
                            "      <td>-0.008818</td>\n",
                            "      <td>0.943267</td>\n",
                            "    </tr>\n",
                            "  </tbody>\n",
                            "</table>\n",
                            "</div>"
                        ]
                    },
                    "metadata": {},
                    "execution_count": 31
                }
            ],
            "metadata": {}
        },
        {
            "cell_type": "code",
            "execution_count": null,
            "source": [],
            "outputs": [],
            "metadata": {}
        }
    ],
    "metadata": {
        "orig_nbformat": 4,
        "language_info": {
            "name": "python",
            "version": "3.6.9",
            "mimetype": "text/x-python",
            "codemirror_mode": {
                "name": "ipython",
                "version": 3
            },
            "pygments_lexer": "ipython3",
            "nbconvert_exporter": "python",
            "file_extension": ".py"
        },
        "kernelspec": {
            "name": "python3",
            "display_name": "Python 3.6.9 64-bit"
        },
        "interpreter": {
            "hash": "31f2aee4e71d21fbe5cf8b01ff0e069b9275f58929596ceb00d14d90e3e16cd6"
        }
    },
    "nbformat": 4,
    "nbformat_minor": 2
}