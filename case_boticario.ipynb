{
    "cells": [
        {
            "cell_type": "code",
            "execution_count": 1,
            "source": [
                "import pandas as pd\n",
                "import numpy as np\n",
                "import matplotlib.pyplot as plt\n",
                "import seaborn as sns\n",
                "\n",
                "import plotly.express as px\n",
                "\n",
                "from mlxtend.frequent_patterns import apriori, association_rules\n",
                "\n",
                "import warnings\n",
                "warnings.filterwarnings(\"ignore\")"
            ],
            "outputs": [],
            "metadata": {}
        },
        {
            "cell_type": "code",
            "execution_count": 10,
            "source": [
                "pd.set_option('display.float_format', lambda x: '%.2f' % x)"
            ],
            "outputs": [],
            "metadata": {}
        },
        {
            "cell_type": "code",
            "execution_count": 11,
            "source": [
                "base = pd.read_excel('Base_case_analista_III.xlsx', header=1)"
            ],
            "outputs": [],
            "metadata": {}
        },
        {
            "cell_type": "code",
            "execution_count": 12,
            "source": [
                "base.columns = ['Ciclo_Ciclo', 'Revendedor', 'Franqueado', 'Loja', 'Produto_Categoria',\n",
                "       'Produto_Codigo', 'Produto_Descricao', 'Produto_Linha',\n",
                "       'Pedido_Valor_Volume', 'Receita_Bruta', 'Receita_Liquida',\n",
                "       'z_Numero_de_Pedidos']\n"
            ],
            "outputs": [],
            "metadata": {}
        },
        {
            "cell_type": "code",
            "execution_count": 13,
            "source": [
                "base['Desconto'] = base['Receita_Bruta'] - base['Receita_Liquida']\n",
                "base['Ciclo'] = base.apply(lambda x: 'Mar-2020' if x['Ciclo_Ciclo'] == 2020.03 else 'Fev-2020', axis=1)"
            ],
            "outputs": [],
            "metadata": {}
        },
        {
            "cell_type": "code",
            "execution_count": 14,
            "source": [
                "base.dtypes"
            ],
            "outputs": [
                {
                    "output_type": "execute_result",
                    "data": {
                        "text/plain": [
                            "Ciclo_Ciclo            float64\n",
                            "Revendedor               int64\n",
                            "Franqueado               int64\n",
                            "Loja                     int64\n",
                            "Produto_Categoria       object\n",
                            "Produto_Codigo           int64\n",
                            "Produto_Descricao       object\n",
                            "Produto_Linha           object\n",
                            "Pedido_Valor_Volume      int64\n",
                            "Receita_Bruta          float64\n",
                            "Receita_Liquida        float64\n",
                            "z_Numero_de_Pedidos      int64\n",
                            "Desconto               float64\n",
                            "Ciclo                   object\n",
                            "dtype: object"
                        ]
                    },
                    "metadata": {},
                    "execution_count": 14
                }
            ],
            "metadata": {}
        },
        {
            "cell_type": "code",
            "execution_count": 15,
            "source": [
                "base['Produto_Categoria'].unique()"
            ],
            "outputs": [
                {
                    "output_type": "execute_result",
                    "data": {
                        "text/plain": [
                            "array(['PERFUMARIA MASCULINA', 'ACESSÓRIOS', 'SUPORTE À VENDA',\n",
                            "       'PERFUMARIA FEMININA', 'GIFTS', 'CATALOGO VENDA DIRETA'],\n",
                            "      dtype=object)"
                        ]
                    },
                    "metadata": {},
                    "execution_count": 15
                }
            ],
            "metadata": {}
        },
        {
            "cell_type": "code",
            "execution_count": 16,
            "source": [
                "len(base['Loja'].unique())"
            ],
            "outputs": [
                {
                    "output_type": "execute_result",
                    "data": {
                        "text/plain": [
                            "892"
                        ]
                    },
                    "metadata": {},
                    "execution_count": 16
                }
            ],
            "metadata": {}
        },
        {
            "cell_type": "code",
            "execution_count": 17,
            "source": [
                "len(base['Franqueado'].unique())"
            ],
            "outputs": [
                {
                    "output_type": "execute_result",
                    "data": {
                        "text/plain": [
                            "504"
                        ]
                    },
                    "metadata": {},
                    "execution_count": 17
                }
            ],
            "metadata": {}
        },
        {
            "cell_type": "code",
            "execution_count": 18,
            "source": [
                "len(base['Revendedor'].unique())"
            ],
            "outputs": [
                {
                    "output_type": "execute_result",
                    "data": {
                        "text/plain": [
                            "73917"
                        ]
                    },
                    "metadata": {},
                    "execution_count": 18
                }
            ],
            "metadata": {}
        },
        {
            "cell_type": "markdown",
            "source": [
                "# Anotações\n",
                "\n",
                "* um franqueado pode ter mais de uma loja\n",
                "* Revendedor fazem as vendas de porta em porta\n",
                "\n",
                "-\n",
                "* 504 franqueados\n",
                "* 892 Lojas\n",
                "* 73917 Revendedores"
            ],
            "metadata": {}
        },
        {
            "cell_type": "markdown",
            "source": [
                "## Analise da categoria"
            ],
            "metadata": {}
        },
        {
            "cell_type": "code",
            "execution_count": 19,
            "source": [
                "categoria = base.groupby(['Produto_Categoria', 'Ciclo']).\\\n",
                "    agg({'Receita_Bruta':'sum', 'Receita_Liquida':'sum', \\\n",
                "        'Desconto':'sum', 'Pedido_Valor_Volume':'sum'}).round(3).reset_index().\\\n",
                "    rename(columns={\"Pedido_Valor_Volume\": \"Qtde_itens\"}).sort_values(by='Qtde_itens', ascending=False)\n",
                "\n",
                "fig = px.bar(categoria, x=\"Produto_Categoria\", y=\"Receita_Bruta\", \\\n",
                "    text=\"Receita_Bruta\", color=\"Ciclo\", hover_data=['Ciclo', 'Qtde_itens'], template=\"seaborn\")\n",
                "\n",
                "fig.update_layout(\n",
                "    margin=dict(l=20, r=50, t=50, b=20),\n",
                "    title = 'Receita Bruta - Categorias',\n",
                "    xaxis_title=\"Categorias\",\n",
                "    yaxis_title=\"Receita Bruta [R$]\",\n",
                "    legend_title=\"Ciclo\",\n",
                "    width=700, \n",
                "    height=600,\n",
                "    uniformtext_minsize=10, \n",
                "    uniformtext_mode='hide',\n",
                ")\n",
                "fig.show()"
            ],
            "outputs": [
                {
                    "output_type": "display_data",
                    "data": {
                        "application/vnd.plotly.v1+json": {
                            "config": {
                                "plotlyServerURL": "https://plot.ly"
                            },
                            "data": [
                                {
                                    "alignmentgroup": "True",
                                    "customdata": [
                                        [
                                            "Fev-2020",
                                            25967
                                        ],
                                        [
                                            "Fev-2020",
                                            7397
                                        ],
                                        [
                                            "Fev-2020",
                                            6700
                                        ],
                                        [
                                            "Fev-2020",
                                            4592
                                        ],
                                        [
                                            "Fev-2020",
                                            1620
                                        ],
                                        [
                                            "Fev-2020",
                                            360
                                        ]
                                    ],
                                    "hovertemplate": "Ciclo=%{customdata[0]}<br>Produto_Categoria=%{x}<br>Receita_Bruta=%{text}<br>Qtde_itens=%{customdata[1]}<extra></extra>",
                                    "legendgroup": "Fev-2020",
                                    "marker": {
                                        "color": "rgb(76,114,176)",
                                        "pattern": {
                                            "shape": ""
                                        }
                                    },
                                    "name": "Fev-2020",
                                    "offsetgroup": "Fev-2020",
                                    "orientation": "v",
                                    "showlegend": true,
                                    "text": [
                                        3722735.71,
                                        232403.28,
                                        262070.35,
                                        81632.29,
                                        6237,
                                        8055.95
                                    ],
                                    "textposition": "auto",
                                    "type": "bar",
                                    "x": [
                                        "PERFUMARIA FEMININA",
                                        "PERFUMARIA MASCULINA",
                                        "ACESSÓRIOS",
                                        "SUPORTE À VENDA",
                                        "CATALOGO VENDA DIRETA",
                                        "GIFTS"
                                    ],
                                    "xaxis": "x",
                                    "y": [
                                        3722735.71,
                                        232403.28,
                                        262070.35,
                                        81632.29,
                                        6237,
                                        8055.95
                                    ],
                                    "yaxis": "y"
                                },
                                {
                                    "alignmentgroup": "True",
                                    "customdata": [
                                        [
                                            "Mar-2020",
                                            22536
                                        ],
                                        [
                                            "Mar-2020",
                                            10063
                                        ],
                                        [
                                            "Mar-2020",
                                            5368
                                        ],
                                        [
                                            "Mar-2020",
                                            5024
                                        ],
                                        [
                                            "Mar-2020",
                                            4147
                                        ],
                                        [
                                            "Mar-2020",
                                            454
                                        ]
                                    ],
                                    "hovertemplate": "Ciclo=%{customdata[0]}<br>Produto_Categoria=%{x}<br>Receita_Bruta=%{text}<br>Qtde_itens=%{customdata[1]}<extra></extra>",
                                    "legendgroup": "Mar-2020",
                                    "marker": {
                                        "color": "rgb(221,132,82)",
                                        "pattern": {
                                            "shape": ""
                                        }
                                    },
                                    "name": "Mar-2020",
                                    "offsetgroup": "Mar-2020",
                                    "orientation": "v",
                                    "showlegend": true,
                                    "text": [
                                        3237978.05,
                                        313699.54,
                                        196643.09,
                                        75899.58,
                                        15964.19,
                                        10044.83
                                    ],
                                    "textposition": "auto",
                                    "type": "bar",
                                    "x": [
                                        "PERFUMARIA FEMININA",
                                        "ACESSÓRIOS",
                                        "PERFUMARIA MASCULINA",
                                        "SUPORTE À VENDA",
                                        "CATALOGO VENDA DIRETA",
                                        "GIFTS"
                                    ],
                                    "xaxis": "x",
                                    "y": [
                                        3237978.05,
                                        313699.54,
                                        196643.09,
                                        75899.58,
                                        15964.19,
                                        10044.83
                                    ],
                                    "yaxis": "y"
                                }
                            ],
                            "layout": {
                                "barmode": "relative",
                                "height": 600,
                                "legend": {
                                    "title": {
                                        "text": "Ciclo"
                                    },
                                    "tracegroupgap": 0
                                },
                                "margin": {
                                    "b": 20,
                                    "l": 20,
                                    "r": 50,
                                    "t": 50
                                },
                                "template": {
                                    "data": {
                                        "bar": [
                                            {
                                                "error_x": {
                                                    "color": "rgb(36,36,36)"
                                                },
                                                "error_y": {
                                                    "color": "rgb(36,36,36)"
                                                },
                                                "marker": {
                                                    "line": {
                                                        "color": "rgb(234,234,242)",
                                                        "width": 0.5
                                                    },
                                                    "pattern": {
                                                        "fillmode": "overlay",
                                                        "size": 10,
                                                        "solidity": 0.2
                                                    }
                                                },
                                                "type": "bar"
                                            }
                                        ],
                                        "barpolar": [
                                            {
                                                "marker": {
                                                    "line": {
                                                        "color": "rgb(234,234,242)",
                                                        "width": 0.5
                                                    },
                                                    "pattern": {
                                                        "fillmode": "overlay",
                                                        "size": 10,
                                                        "solidity": 0.2
                                                    }
                                                },
                                                "type": "barpolar"
                                            }
                                        ],
                                        "carpet": [
                                            {
                                                "aaxis": {
                                                    "endlinecolor": "rgb(36,36,36)",
                                                    "gridcolor": "white",
                                                    "linecolor": "white",
                                                    "minorgridcolor": "white",
                                                    "startlinecolor": "rgb(36,36,36)"
                                                },
                                                "baxis": {
                                                    "endlinecolor": "rgb(36,36,36)",
                                                    "gridcolor": "white",
                                                    "linecolor": "white",
                                                    "minorgridcolor": "white",
                                                    "startlinecolor": "rgb(36,36,36)"
                                                },
                                                "type": "carpet"
                                            }
                                        ],
                                        "choropleth": [
                                            {
                                                "colorbar": {
                                                    "outlinewidth": 0,
                                                    "tickcolor": "rgb(36,36,36)",
                                                    "ticklen": 8,
                                                    "ticks": "outside",
                                                    "tickwidth": 2
                                                },
                                                "type": "choropleth"
                                            }
                                        ],
                                        "contour": [
                                            {
                                                "colorbar": {
                                                    "outlinewidth": 0,
                                                    "tickcolor": "rgb(36,36,36)",
                                                    "ticklen": 8,
                                                    "ticks": "outside",
                                                    "tickwidth": 2
                                                },
                                                "colorscale": [
                                                    [
                                                        0,
                                                        "rgb(2,4,25)"
                                                    ],
                                                    [
                                                        0.06274509803921569,
                                                        "rgb(24,15,41)"
                                                    ],
                                                    [
                                                        0.12549019607843137,
                                                        "rgb(47,23,57)"
                                                    ],
                                                    [
                                                        0.18823529411764706,
                                                        "rgb(71,28,72)"
                                                    ],
                                                    [
                                                        0.25098039215686274,
                                                        "rgb(97,30,82)"
                                                    ],
                                                    [
                                                        0.3137254901960784,
                                                        "rgb(123,30,89)"
                                                    ],
                                                    [
                                                        0.3764705882352941,
                                                        "rgb(150,27,91)"
                                                    ],
                                                    [
                                                        0.4392156862745098,
                                                        "rgb(177,22,88)"
                                                    ],
                                                    [
                                                        0.5019607843137255,
                                                        "rgb(203,26,79)"
                                                    ],
                                                    [
                                                        0.5647058823529412,
                                                        "rgb(223,47,67)"
                                                    ],
                                                    [
                                                        0.6274509803921569,
                                                        "rgb(236,76,61)"
                                                    ],
                                                    [
                                                        0.6901960784313725,
                                                        "rgb(242,107,73)"
                                                    ],
                                                    [
                                                        0.7529411764705882,
                                                        "rgb(244,135,95)"
                                                    ],
                                                    [
                                                        0.8156862745098039,
                                                        "rgb(245,162,122)"
                                                    ],
                                                    [
                                                        0.8784313725490196,
                                                        "rgb(246,188,153)"
                                                    ],
                                                    [
                                                        0.9411764705882353,
                                                        "rgb(247,212,187)"
                                                    ],
                                                    [
                                                        1,
                                                        "rgb(250,234,220)"
                                                    ]
                                                ],
                                                "type": "contour"
                                            }
                                        ],
                                        "contourcarpet": [
                                            {
                                                "colorbar": {
                                                    "outlinewidth": 0,
                                                    "tickcolor": "rgb(36,36,36)",
                                                    "ticklen": 8,
                                                    "ticks": "outside",
                                                    "tickwidth": 2
                                                },
                                                "type": "contourcarpet"
                                            }
                                        ],
                                        "heatmap": [
                                            {
                                                "colorbar": {
                                                    "outlinewidth": 0,
                                                    "tickcolor": "rgb(36,36,36)",
                                                    "ticklen": 8,
                                                    "ticks": "outside",
                                                    "tickwidth": 2
                                                },
                                                "colorscale": [
                                                    [
                                                        0,
                                                        "rgb(2,4,25)"
                                                    ],
                                                    [
                                                        0.06274509803921569,
                                                        "rgb(24,15,41)"
                                                    ],
                                                    [
                                                        0.12549019607843137,
                                                        "rgb(47,23,57)"
                                                    ],
                                                    [
                                                        0.18823529411764706,
                                                        "rgb(71,28,72)"
                                                    ],
                                                    [
                                                        0.25098039215686274,
                                                        "rgb(97,30,82)"
                                                    ],
                                                    [
                                                        0.3137254901960784,
                                                        "rgb(123,30,89)"
                                                    ],
                                                    [
                                                        0.3764705882352941,
                                                        "rgb(150,27,91)"
                                                    ],
                                                    [
                                                        0.4392156862745098,
                                                        "rgb(177,22,88)"
                                                    ],
                                                    [
                                                        0.5019607843137255,
                                                        "rgb(203,26,79)"
                                                    ],
                                                    [
                                                        0.5647058823529412,
                                                        "rgb(223,47,67)"
                                                    ],
                                                    [
                                                        0.6274509803921569,
                                                        "rgb(236,76,61)"
                                                    ],
                                                    [
                                                        0.6901960784313725,
                                                        "rgb(242,107,73)"
                                                    ],
                                                    [
                                                        0.7529411764705882,
                                                        "rgb(244,135,95)"
                                                    ],
                                                    [
                                                        0.8156862745098039,
                                                        "rgb(245,162,122)"
                                                    ],
                                                    [
                                                        0.8784313725490196,
                                                        "rgb(246,188,153)"
                                                    ],
                                                    [
                                                        0.9411764705882353,
                                                        "rgb(247,212,187)"
                                                    ],
                                                    [
                                                        1,
                                                        "rgb(250,234,220)"
                                                    ]
                                                ],
                                                "type": "heatmap"
                                            }
                                        ],
                                        "heatmapgl": [
                                            {
                                                "colorbar": {
                                                    "outlinewidth": 0,
                                                    "tickcolor": "rgb(36,36,36)",
                                                    "ticklen": 8,
                                                    "ticks": "outside",
                                                    "tickwidth": 2
                                                },
                                                "colorscale": [
                                                    [
                                                        0,
                                                        "rgb(2,4,25)"
                                                    ],
                                                    [
                                                        0.06274509803921569,
                                                        "rgb(24,15,41)"
                                                    ],
                                                    [
                                                        0.12549019607843137,
                                                        "rgb(47,23,57)"
                                                    ],
                                                    [
                                                        0.18823529411764706,
                                                        "rgb(71,28,72)"
                                                    ],
                                                    [
                                                        0.25098039215686274,
                                                        "rgb(97,30,82)"
                                                    ],
                                                    [
                                                        0.3137254901960784,
                                                        "rgb(123,30,89)"
                                                    ],
                                                    [
                                                        0.3764705882352941,
                                                        "rgb(150,27,91)"
                                                    ],
                                                    [
                                                        0.4392156862745098,
                                                        "rgb(177,22,88)"
                                                    ],
                                                    [
                                                        0.5019607843137255,
                                                        "rgb(203,26,79)"
                                                    ],
                                                    [
                                                        0.5647058823529412,
                                                        "rgb(223,47,67)"
                                                    ],
                                                    [
                                                        0.6274509803921569,
                                                        "rgb(236,76,61)"
                                                    ],
                                                    [
                                                        0.6901960784313725,
                                                        "rgb(242,107,73)"
                                                    ],
                                                    [
                                                        0.7529411764705882,
                                                        "rgb(244,135,95)"
                                                    ],
                                                    [
                                                        0.8156862745098039,
                                                        "rgb(245,162,122)"
                                                    ],
                                                    [
                                                        0.8784313725490196,
                                                        "rgb(246,188,153)"
                                                    ],
                                                    [
                                                        0.9411764705882353,
                                                        "rgb(247,212,187)"
                                                    ],
                                                    [
                                                        1,
                                                        "rgb(250,234,220)"
                                                    ]
                                                ],
                                                "type": "heatmapgl"
                                            }
                                        ],
                                        "histogram": [
                                            {
                                                "marker": {
                                                    "pattern": {
                                                        "fillmode": "overlay",
                                                        "size": 10,
                                                        "solidity": 0.2
                                                    }
                                                },
                                                "type": "histogram"
                                            }
                                        ],
                                        "histogram2d": [
                                            {
                                                "colorbar": {
                                                    "outlinewidth": 0,
                                                    "tickcolor": "rgb(36,36,36)",
                                                    "ticklen": 8,
                                                    "ticks": "outside",
                                                    "tickwidth": 2
                                                },
                                                "colorscale": [
                                                    [
                                                        0,
                                                        "rgb(2,4,25)"
                                                    ],
                                                    [
                                                        0.06274509803921569,
                                                        "rgb(24,15,41)"
                                                    ],
                                                    [
                                                        0.12549019607843137,
                                                        "rgb(47,23,57)"
                                                    ],
                                                    [
                                                        0.18823529411764706,
                                                        "rgb(71,28,72)"
                                                    ],
                                                    [
                                                        0.25098039215686274,
                                                        "rgb(97,30,82)"
                                                    ],
                                                    [
                                                        0.3137254901960784,
                                                        "rgb(123,30,89)"
                                                    ],
                                                    [
                                                        0.3764705882352941,
                                                        "rgb(150,27,91)"
                                                    ],
                                                    [
                                                        0.4392156862745098,
                                                        "rgb(177,22,88)"
                                                    ],
                                                    [
                                                        0.5019607843137255,
                                                        "rgb(203,26,79)"
                                                    ],
                                                    [
                                                        0.5647058823529412,
                                                        "rgb(223,47,67)"
                                                    ],
                                                    [
                                                        0.6274509803921569,
                                                        "rgb(236,76,61)"
                                                    ],
                                                    [
                                                        0.6901960784313725,
                                                        "rgb(242,107,73)"
                                                    ],
                                                    [
                                                        0.7529411764705882,
                                                        "rgb(244,135,95)"
                                                    ],
                                                    [
                                                        0.8156862745098039,
                                                        "rgb(245,162,122)"
                                                    ],
                                                    [
                                                        0.8784313725490196,
                                                        "rgb(246,188,153)"
                                                    ],
                                                    [
                                                        0.9411764705882353,
                                                        "rgb(247,212,187)"
                                                    ],
                                                    [
                                                        1,
                                                        "rgb(250,234,220)"
                                                    ]
                                                ],
                                                "type": "histogram2d"
                                            }
                                        ],
                                        "histogram2dcontour": [
                                            {
                                                "colorbar": {
                                                    "outlinewidth": 0,
                                                    "tickcolor": "rgb(36,36,36)",
                                                    "ticklen": 8,
                                                    "ticks": "outside",
                                                    "tickwidth": 2
                                                },
                                                "colorscale": [
                                                    [
                                                        0,
                                                        "rgb(2,4,25)"
                                                    ],
                                                    [
                                                        0.06274509803921569,
                                                        "rgb(24,15,41)"
                                                    ],
                                                    [
                                                        0.12549019607843137,
                                                        "rgb(47,23,57)"
                                                    ],
                                                    [
                                                        0.18823529411764706,
                                                        "rgb(71,28,72)"
                                                    ],
                                                    [
                                                        0.25098039215686274,
                                                        "rgb(97,30,82)"
                                                    ],
                                                    [
                                                        0.3137254901960784,
                                                        "rgb(123,30,89)"
                                                    ],
                                                    [
                                                        0.3764705882352941,
                                                        "rgb(150,27,91)"
                                                    ],
                                                    [
                                                        0.4392156862745098,
                                                        "rgb(177,22,88)"
                                                    ],
                                                    [
                                                        0.5019607843137255,
                                                        "rgb(203,26,79)"
                                                    ],
                                                    [
                                                        0.5647058823529412,
                                                        "rgb(223,47,67)"
                                                    ],
                                                    [
                                                        0.6274509803921569,
                                                        "rgb(236,76,61)"
                                                    ],
                                                    [
                                                        0.6901960784313725,
                                                        "rgb(242,107,73)"
                                                    ],
                                                    [
                                                        0.7529411764705882,
                                                        "rgb(244,135,95)"
                                                    ],
                                                    [
                                                        0.8156862745098039,
                                                        "rgb(245,162,122)"
                                                    ],
                                                    [
                                                        0.8784313725490196,
                                                        "rgb(246,188,153)"
                                                    ],
                                                    [
                                                        0.9411764705882353,
                                                        "rgb(247,212,187)"
                                                    ],
                                                    [
                                                        1,
                                                        "rgb(250,234,220)"
                                                    ]
                                                ],
                                                "type": "histogram2dcontour"
                                            }
                                        ],
                                        "mesh3d": [
                                            {
                                                "colorbar": {
                                                    "outlinewidth": 0,
                                                    "tickcolor": "rgb(36,36,36)",
                                                    "ticklen": 8,
                                                    "ticks": "outside",
                                                    "tickwidth": 2
                                                },
                                                "type": "mesh3d"
                                            }
                                        ],
                                        "parcoords": [
                                            {
                                                "line": {
                                                    "colorbar": {
                                                        "outlinewidth": 0,
                                                        "tickcolor": "rgb(36,36,36)",
                                                        "ticklen": 8,
                                                        "ticks": "outside",
                                                        "tickwidth": 2
                                                    }
                                                },
                                                "type": "parcoords"
                                            }
                                        ],
                                        "pie": [
                                            {
                                                "automargin": true,
                                                "type": "pie"
                                            }
                                        ],
                                        "scatter": [
                                            {
                                                "marker": {
                                                    "colorbar": {
                                                        "outlinewidth": 0,
                                                        "tickcolor": "rgb(36,36,36)",
                                                        "ticklen": 8,
                                                        "ticks": "outside",
                                                        "tickwidth": 2
                                                    }
                                                },
                                                "type": "scatter"
                                            }
                                        ],
                                        "scatter3d": [
                                            {
                                                "line": {
                                                    "colorbar": {
                                                        "outlinewidth": 0,
                                                        "tickcolor": "rgb(36,36,36)",
                                                        "ticklen": 8,
                                                        "ticks": "outside",
                                                        "tickwidth": 2
                                                    }
                                                },
                                                "marker": {
                                                    "colorbar": {
                                                        "outlinewidth": 0,
                                                        "tickcolor": "rgb(36,36,36)",
                                                        "ticklen": 8,
                                                        "ticks": "outside",
                                                        "tickwidth": 2
                                                    }
                                                },
                                                "type": "scatter3d"
                                            }
                                        ],
                                        "scattercarpet": [
                                            {
                                                "marker": {
                                                    "colorbar": {
                                                        "outlinewidth": 0,
                                                        "tickcolor": "rgb(36,36,36)",
                                                        "ticklen": 8,
                                                        "ticks": "outside",
                                                        "tickwidth": 2
                                                    }
                                                },
                                                "type": "scattercarpet"
                                            }
                                        ],
                                        "scattergeo": [
                                            {
                                                "marker": {
                                                    "colorbar": {
                                                        "outlinewidth": 0,
                                                        "tickcolor": "rgb(36,36,36)",
                                                        "ticklen": 8,
                                                        "ticks": "outside",
                                                        "tickwidth": 2
                                                    }
                                                },
                                                "type": "scattergeo"
                                            }
                                        ],
                                        "scattergl": [
                                            {
                                                "marker": {
                                                    "colorbar": {
                                                        "outlinewidth": 0,
                                                        "tickcolor": "rgb(36,36,36)",
                                                        "ticklen": 8,
                                                        "ticks": "outside",
                                                        "tickwidth": 2
                                                    }
                                                },
                                                "type": "scattergl"
                                            }
                                        ],
                                        "scattermapbox": [
                                            {
                                                "marker": {
                                                    "colorbar": {
                                                        "outlinewidth": 0,
                                                        "tickcolor": "rgb(36,36,36)",
                                                        "ticklen": 8,
                                                        "ticks": "outside",
                                                        "tickwidth": 2
                                                    }
                                                },
                                                "type": "scattermapbox"
                                            }
                                        ],
                                        "scatterpolar": [
                                            {
                                                "marker": {
                                                    "colorbar": {
                                                        "outlinewidth": 0,
                                                        "tickcolor": "rgb(36,36,36)",
                                                        "ticklen": 8,
                                                        "ticks": "outside",
                                                        "tickwidth": 2
                                                    }
                                                },
                                                "type": "scatterpolar"
                                            }
                                        ],
                                        "scatterpolargl": [
                                            {
                                                "marker": {
                                                    "colorbar": {
                                                        "outlinewidth": 0,
                                                        "tickcolor": "rgb(36,36,36)",
                                                        "ticklen": 8,
                                                        "ticks": "outside",
                                                        "tickwidth": 2
                                                    }
                                                },
                                                "type": "scatterpolargl"
                                            }
                                        ],
                                        "scatterternary": [
                                            {
                                                "marker": {
                                                    "colorbar": {
                                                        "outlinewidth": 0,
                                                        "tickcolor": "rgb(36,36,36)",
                                                        "ticklen": 8,
                                                        "ticks": "outside",
                                                        "tickwidth": 2
                                                    }
                                                },
                                                "type": "scatterternary"
                                            }
                                        ],
                                        "surface": [
                                            {
                                                "colorbar": {
                                                    "outlinewidth": 0,
                                                    "tickcolor": "rgb(36,36,36)",
                                                    "ticklen": 8,
                                                    "ticks": "outside",
                                                    "tickwidth": 2
                                                },
                                                "colorscale": [
                                                    [
                                                        0,
                                                        "rgb(2,4,25)"
                                                    ],
                                                    [
                                                        0.06274509803921569,
                                                        "rgb(24,15,41)"
                                                    ],
                                                    [
                                                        0.12549019607843137,
                                                        "rgb(47,23,57)"
                                                    ],
                                                    [
                                                        0.18823529411764706,
                                                        "rgb(71,28,72)"
                                                    ],
                                                    [
                                                        0.25098039215686274,
                                                        "rgb(97,30,82)"
                                                    ],
                                                    [
                                                        0.3137254901960784,
                                                        "rgb(123,30,89)"
                                                    ],
                                                    [
                                                        0.3764705882352941,
                                                        "rgb(150,27,91)"
                                                    ],
                                                    [
                                                        0.4392156862745098,
                                                        "rgb(177,22,88)"
                                                    ],
                                                    [
                                                        0.5019607843137255,
                                                        "rgb(203,26,79)"
                                                    ],
                                                    [
                                                        0.5647058823529412,
                                                        "rgb(223,47,67)"
                                                    ],
                                                    [
                                                        0.6274509803921569,
                                                        "rgb(236,76,61)"
                                                    ],
                                                    [
                                                        0.6901960784313725,
                                                        "rgb(242,107,73)"
                                                    ],
                                                    [
                                                        0.7529411764705882,
                                                        "rgb(244,135,95)"
                                                    ],
                                                    [
                                                        0.8156862745098039,
                                                        "rgb(245,162,122)"
                                                    ],
                                                    [
                                                        0.8784313725490196,
                                                        "rgb(246,188,153)"
                                                    ],
                                                    [
                                                        0.9411764705882353,
                                                        "rgb(247,212,187)"
                                                    ],
                                                    [
                                                        1,
                                                        "rgb(250,234,220)"
                                                    ]
                                                ],
                                                "type": "surface"
                                            }
                                        ],
                                        "table": [
                                            {
                                                "cells": {
                                                    "fill": {
                                                        "color": "rgb(231,231,240)"
                                                    },
                                                    "line": {
                                                        "color": "white"
                                                    }
                                                },
                                                "header": {
                                                    "fill": {
                                                        "color": "rgb(183,183,191)"
                                                    },
                                                    "line": {
                                                        "color": "white"
                                                    }
                                                },
                                                "type": "table"
                                            }
                                        ]
                                    },
                                    "layout": {
                                        "annotationdefaults": {
                                            "arrowcolor": "rgb(67,103,167)"
                                        },
                                        "autotypenumbers": "strict",
                                        "coloraxis": {
                                            "colorbar": {
                                                "outlinewidth": 0,
                                                "tickcolor": "rgb(36,36,36)",
                                                "ticklen": 8,
                                                "ticks": "outside",
                                                "tickwidth": 2
                                            }
                                        },
                                        "colorscale": {
                                            "sequential": [
                                                [
                                                    0,
                                                    "rgb(2,4,25)"
                                                ],
                                                [
                                                    0.06274509803921569,
                                                    "rgb(24,15,41)"
                                                ],
                                                [
                                                    0.12549019607843137,
                                                    "rgb(47,23,57)"
                                                ],
                                                [
                                                    0.18823529411764706,
                                                    "rgb(71,28,72)"
                                                ],
                                                [
                                                    0.25098039215686274,
                                                    "rgb(97,30,82)"
                                                ],
                                                [
                                                    0.3137254901960784,
                                                    "rgb(123,30,89)"
                                                ],
                                                [
                                                    0.3764705882352941,
                                                    "rgb(150,27,91)"
                                                ],
                                                [
                                                    0.4392156862745098,
                                                    "rgb(177,22,88)"
                                                ],
                                                [
                                                    0.5019607843137255,
                                                    "rgb(203,26,79)"
                                                ],
                                                [
                                                    0.5647058823529412,
                                                    "rgb(223,47,67)"
                                                ],
                                                [
                                                    0.6274509803921569,
                                                    "rgb(236,76,61)"
                                                ],
                                                [
                                                    0.6901960784313725,
                                                    "rgb(242,107,73)"
                                                ],
                                                [
                                                    0.7529411764705882,
                                                    "rgb(244,135,95)"
                                                ],
                                                [
                                                    0.8156862745098039,
                                                    "rgb(245,162,122)"
                                                ],
                                                [
                                                    0.8784313725490196,
                                                    "rgb(246,188,153)"
                                                ],
                                                [
                                                    0.9411764705882353,
                                                    "rgb(247,212,187)"
                                                ],
                                                [
                                                    1,
                                                    "rgb(250,234,220)"
                                                ]
                                            ],
                                            "sequentialminus": [
                                                [
                                                    0,
                                                    "rgb(2,4,25)"
                                                ],
                                                [
                                                    0.06274509803921569,
                                                    "rgb(24,15,41)"
                                                ],
                                                [
                                                    0.12549019607843137,
                                                    "rgb(47,23,57)"
                                                ],
                                                [
                                                    0.18823529411764706,
                                                    "rgb(71,28,72)"
                                                ],
                                                [
                                                    0.25098039215686274,
                                                    "rgb(97,30,82)"
                                                ],
                                                [
                                                    0.3137254901960784,
                                                    "rgb(123,30,89)"
                                                ],
                                                [
                                                    0.3764705882352941,
                                                    "rgb(150,27,91)"
                                                ],
                                                [
                                                    0.4392156862745098,
                                                    "rgb(177,22,88)"
                                                ],
                                                [
                                                    0.5019607843137255,
                                                    "rgb(203,26,79)"
                                                ],
                                                [
                                                    0.5647058823529412,
                                                    "rgb(223,47,67)"
                                                ],
                                                [
                                                    0.6274509803921569,
                                                    "rgb(236,76,61)"
                                                ],
                                                [
                                                    0.6901960784313725,
                                                    "rgb(242,107,73)"
                                                ],
                                                [
                                                    0.7529411764705882,
                                                    "rgb(244,135,95)"
                                                ],
                                                [
                                                    0.8156862745098039,
                                                    "rgb(245,162,122)"
                                                ],
                                                [
                                                    0.8784313725490196,
                                                    "rgb(246,188,153)"
                                                ],
                                                [
                                                    0.9411764705882353,
                                                    "rgb(247,212,187)"
                                                ],
                                                [
                                                    1,
                                                    "rgb(250,234,220)"
                                                ]
                                            ]
                                        },
                                        "colorway": [
                                            "rgb(76,114,176)",
                                            "rgb(221,132,82)",
                                            "rgb(85,168,104)",
                                            "rgb(196,78,82)",
                                            "rgb(129,114,179)",
                                            "rgb(147,120,96)",
                                            "rgb(218,139,195)",
                                            "rgb(140,140,140)",
                                            "rgb(204,185,116)",
                                            "rgb(100,181,205)"
                                        ],
                                        "font": {
                                            "color": "rgb(36,36,36)"
                                        },
                                        "geo": {
                                            "bgcolor": "white",
                                            "lakecolor": "white",
                                            "landcolor": "rgb(234,234,242)",
                                            "showlakes": true,
                                            "showland": true,
                                            "subunitcolor": "white"
                                        },
                                        "hoverlabel": {
                                            "align": "left"
                                        },
                                        "hovermode": "closest",
                                        "paper_bgcolor": "white",
                                        "plot_bgcolor": "rgb(234,234,242)",
                                        "polar": {
                                            "angularaxis": {
                                                "gridcolor": "white",
                                                "linecolor": "white",
                                                "showgrid": true,
                                                "ticks": ""
                                            },
                                            "bgcolor": "rgb(234,234,242)",
                                            "radialaxis": {
                                                "gridcolor": "white",
                                                "linecolor": "white",
                                                "showgrid": true,
                                                "ticks": ""
                                            }
                                        },
                                        "scene": {
                                            "xaxis": {
                                                "backgroundcolor": "rgb(234,234,242)",
                                                "gridcolor": "white",
                                                "gridwidth": 2,
                                                "linecolor": "white",
                                                "showbackground": true,
                                                "showgrid": true,
                                                "ticks": "",
                                                "zerolinecolor": "white"
                                            },
                                            "yaxis": {
                                                "backgroundcolor": "rgb(234,234,242)",
                                                "gridcolor": "white",
                                                "gridwidth": 2,
                                                "linecolor": "white",
                                                "showbackground": true,
                                                "showgrid": true,
                                                "ticks": "",
                                                "zerolinecolor": "white"
                                            },
                                            "zaxis": {
                                                "backgroundcolor": "rgb(234,234,242)",
                                                "gridcolor": "white",
                                                "gridwidth": 2,
                                                "linecolor": "white",
                                                "showbackground": true,
                                                "showgrid": true,
                                                "ticks": "",
                                                "zerolinecolor": "white"
                                            }
                                        },
                                        "shapedefaults": {
                                            "fillcolor": "rgb(67,103,167)",
                                            "line": {
                                                "width": 0
                                            },
                                            "opacity": 0.5
                                        },
                                        "ternary": {
                                            "aaxis": {
                                                "gridcolor": "white",
                                                "linecolor": "white",
                                                "showgrid": true,
                                                "ticks": ""
                                            },
                                            "baxis": {
                                                "gridcolor": "white",
                                                "linecolor": "white",
                                                "showgrid": true,
                                                "ticks": ""
                                            },
                                            "bgcolor": "rgb(234,234,242)",
                                            "caxis": {
                                                "gridcolor": "white",
                                                "linecolor": "white",
                                                "showgrid": true,
                                                "ticks": ""
                                            }
                                        },
                                        "xaxis": {
                                            "automargin": true,
                                            "gridcolor": "white",
                                            "linecolor": "white",
                                            "showgrid": true,
                                            "ticks": "",
                                            "title": {
                                                "standoff": 15
                                            },
                                            "zerolinecolor": "white"
                                        },
                                        "yaxis": {
                                            "automargin": true,
                                            "gridcolor": "white",
                                            "linecolor": "white",
                                            "showgrid": true,
                                            "ticks": "",
                                            "title": {
                                                "standoff": 15
                                            },
                                            "zerolinecolor": "white"
                                        }
                                    }
                                },
                                "title": {
                                    "text": "Receita Bruta - Categorias"
                                },
                                "uniformtext": {
                                    "minsize": 10,
                                    "mode": "hide"
                                },
                                "width": 700,
                                "xaxis": {
                                    "anchor": "y",
                                    "domain": [
                                        0,
                                        1
                                    ],
                                    "title": {
                                        "text": "Categorias"
                                    }
                                },
                                "yaxis": {
                                    "anchor": "x",
                                    "domain": [
                                        0,
                                        1
                                    ],
                                    "title": {
                                        "text": "Receita Bruta [R$]"
                                    }
                                }
                            }
                        }
                    },
                    "metadata": {}
                }
            ],
            "metadata": {}
        },
        {
            "cell_type": "code",
            "execution_count": 60,
            "source": [
                "categoria.Receita_Bruta.sum()"
            ],
            "outputs": [
                {
                    "output_type": "execute_result",
                    "data": {
                        "text/plain": [
                            "8163363.860000001"
                        ]
                    },
                    "metadata": {},
                    "execution_count": 60
                }
            ],
            "metadata": {}
        },
        {
            "cell_type": "code",
            "execution_count": 20,
            "source": [
                "fig = px.bar(categoria, x=\"Produto_Categoria\", y=\"Qtde_itens\", \\\n",
                "    text=\"Qtde_itens\", color=\"Ciclo\", barmode='group', hover_data=['Ciclo', 'Qtde_itens'], template=\"seaborn\")\n",
                "\n",
                "fig.update_layout(\n",
                "    margin=dict(l=20, r=50, t=50, b=20),\n",
                "    title = 'Quantidade de Itens por Categoria',\n",
                "    xaxis_title=\"Categorias\",\n",
                "    yaxis_title=\"Quantidade [Itens]\",\n",
                "    legend_title=\"Ciclo\",\n",
                "    width=900, \n",
                "    height=600,\n",
                "    uniformtext_minsize=12, \n",
                "    uniformtext_mode='hide',\n",
                ")\n",
                "fig.show()"
            ],
            "outputs": [
                {
                    "output_type": "display_data",
                    "data": {
                        "application/vnd.plotly.v1+json": {
                            "config": {
                                "plotlyServerURL": "https://plot.ly"
                            },
                            "data": [
                                {
                                    "alignmentgroup": "True",
                                    "customdata": [
                                        [
                                            "Fev-2020"
                                        ],
                                        [
                                            "Fev-2020"
                                        ],
                                        [
                                            "Fev-2020"
                                        ],
                                        [
                                            "Fev-2020"
                                        ],
                                        [
                                            "Fev-2020"
                                        ],
                                        [
                                            "Fev-2020"
                                        ]
                                    ],
                                    "hovertemplate": "Ciclo=%{customdata[0]}<br>Produto_Categoria=%{x}<br>Qtde_itens=%{text}<extra></extra>",
                                    "legendgroup": "Fev-2020",
                                    "marker": {
                                        "color": "rgb(76,114,176)",
                                        "pattern": {
                                            "shape": ""
                                        }
                                    },
                                    "name": "Fev-2020",
                                    "offsetgroup": "Fev-2020",
                                    "orientation": "v",
                                    "showlegend": true,
                                    "text": [
                                        25967,
                                        7397,
                                        6700,
                                        4592,
                                        1620,
                                        360
                                    ],
                                    "textposition": "auto",
                                    "type": "bar",
                                    "x": [
                                        "PERFUMARIA FEMININA",
                                        "PERFUMARIA MASCULINA",
                                        "ACESSÓRIOS",
                                        "SUPORTE À VENDA",
                                        "CATALOGO VENDA DIRETA",
                                        "GIFTS"
                                    ],
                                    "xaxis": "x",
                                    "y": [
                                        25967,
                                        7397,
                                        6700,
                                        4592,
                                        1620,
                                        360
                                    ],
                                    "yaxis": "y"
                                },
                                {
                                    "alignmentgroup": "True",
                                    "customdata": [
                                        [
                                            "Mar-2020"
                                        ],
                                        [
                                            "Mar-2020"
                                        ],
                                        [
                                            "Mar-2020"
                                        ],
                                        [
                                            "Mar-2020"
                                        ],
                                        [
                                            "Mar-2020"
                                        ],
                                        [
                                            "Mar-2020"
                                        ]
                                    ],
                                    "hovertemplate": "Ciclo=%{customdata[0]}<br>Produto_Categoria=%{x}<br>Qtde_itens=%{text}<extra></extra>",
                                    "legendgroup": "Mar-2020",
                                    "marker": {
                                        "color": "rgb(221,132,82)",
                                        "pattern": {
                                            "shape": ""
                                        }
                                    },
                                    "name": "Mar-2020",
                                    "offsetgroup": "Mar-2020",
                                    "orientation": "v",
                                    "showlegend": true,
                                    "text": [
                                        22536,
                                        10063,
                                        5368,
                                        5024,
                                        4147,
                                        454
                                    ],
                                    "textposition": "auto",
                                    "type": "bar",
                                    "x": [
                                        "PERFUMARIA FEMININA",
                                        "ACESSÓRIOS",
                                        "PERFUMARIA MASCULINA",
                                        "SUPORTE À VENDA",
                                        "CATALOGO VENDA DIRETA",
                                        "GIFTS"
                                    ],
                                    "xaxis": "x",
                                    "y": [
                                        22536,
                                        10063,
                                        5368,
                                        5024,
                                        4147,
                                        454
                                    ],
                                    "yaxis": "y"
                                }
                            ],
                            "layout": {
                                "barmode": "group",
                                "height": 600,
                                "legend": {
                                    "title": {
                                        "text": "Ciclo"
                                    },
                                    "tracegroupgap": 0
                                },
                                "margin": {
                                    "b": 20,
                                    "l": 20,
                                    "r": 50,
                                    "t": 50
                                },
                                "template": {
                                    "data": {
                                        "bar": [
                                            {
                                                "error_x": {
                                                    "color": "rgb(36,36,36)"
                                                },
                                                "error_y": {
                                                    "color": "rgb(36,36,36)"
                                                },
                                                "marker": {
                                                    "line": {
                                                        "color": "rgb(234,234,242)",
                                                        "width": 0.5
                                                    },
                                                    "pattern": {
                                                        "fillmode": "overlay",
                                                        "size": 10,
                                                        "solidity": 0.2
                                                    }
                                                },
                                                "type": "bar"
                                            }
                                        ],
                                        "barpolar": [
                                            {
                                                "marker": {
                                                    "line": {
                                                        "color": "rgb(234,234,242)",
                                                        "width": 0.5
                                                    },
                                                    "pattern": {
                                                        "fillmode": "overlay",
                                                        "size": 10,
                                                        "solidity": 0.2
                                                    }
                                                },
                                                "type": "barpolar"
                                            }
                                        ],
                                        "carpet": [
                                            {
                                                "aaxis": {
                                                    "endlinecolor": "rgb(36,36,36)",
                                                    "gridcolor": "white",
                                                    "linecolor": "white",
                                                    "minorgridcolor": "white",
                                                    "startlinecolor": "rgb(36,36,36)"
                                                },
                                                "baxis": {
                                                    "endlinecolor": "rgb(36,36,36)",
                                                    "gridcolor": "white",
                                                    "linecolor": "white",
                                                    "minorgridcolor": "white",
                                                    "startlinecolor": "rgb(36,36,36)"
                                                },
                                                "type": "carpet"
                                            }
                                        ],
                                        "choropleth": [
                                            {
                                                "colorbar": {
                                                    "outlinewidth": 0,
                                                    "tickcolor": "rgb(36,36,36)",
                                                    "ticklen": 8,
                                                    "ticks": "outside",
                                                    "tickwidth": 2
                                                },
                                                "type": "choropleth"
                                            }
                                        ],
                                        "contour": [
                                            {
                                                "colorbar": {
                                                    "outlinewidth": 0,
                                                    "tickcolor": "rgb(36,36,36)",
                                                    "ticklen": 8,
                                                    "ticks": "outside",
                                                    "tickwidth": 2
                                                },
                                                "colorscale": [
                                                    [
                                                        0,
                                                        "rgb(2,4,25)"
                                                    ],
                                                    [
                                                        0.06274509803921569,
                                                        "rgb(24,15,41)"
                                                    ],
                                                    [
                                                        0.12549019607843137,
                                                        "rgb(47,23,57)"
                                                    ],
                                                    [
                                                        0.18823529411764706,
                                                        "rgb(71,28,72)"
                                                    ],
                                                    [
                                                        0.25098039215686274,
                                                        "rgb(97,30,82)"
                                                    ],
                                                    [
                                                        0.3137254901960784,
                                                        "rgb(123,30,89)"
                                                    ],
                                                    [
                                                        0.3764705882352941,
                                                        "rgb(150,27,91)"
                                                    ],
                                                    [
                                                        0.4392156862745098,
                                                        "rgb(177,22,88)"
                                                    ],
                                                    [
                                                        0.5019607843137255,
                                                        "rgb(203,26,79)"
                                                    ],
                                                    [
                                                        0.5647058823529412,
                                                        "rgb(223,47,67)"
                                                    ],
                                                    [
                                                        0.6274509803921569,
                                                        "rgb(236,76,61)"
                                                    ],
                                                    [
                                                        0.6901960784313725,
                                                        "rgb(242,107,73)"
                                                    ],
                                                    [
                                                        0.7529411764705882,
                                                        "rgb(244,135,95)"
                                                    ],
                                                    [
                                                        0.8156862745098039,
                                                        "rgb(245,162,122)"
                                                    ],
                                                    [
                                                        0.8784313725490196,
                                                        "rgb(246,188,153)"
                                                    ],
                                                    [
                                                        0.9411764705882353,
                                                        "rgb(247,212,187)"
                                                    ],
                                                    [
                                                        1,
                                                        "rgb(250,234,220)"
                                                    ]
                                                ],
                                                "type": "contour"
                                            }
                                        ],
                                        "contourcarpet": [
                                            {
                                                "colorbar": {
                                                    "outlinewidth": 0,
                                                    "tickcolor": "rgb(36,36,36)",
                                                    "ticklen": 8,
                                                    "ticks": "outside",
                                                    "tickwidth": 2
                                                },
                                                "type": "contourcarpet"
                                            }
                                        ],
                                        "heatmap": [
                                            {
                                                "colorbar": {
                                                    "outlinewidth": 0,
                                                    "tickcolor": "rgb(36,36,36)",
                                                    "ticklen": 8,
                                                    "ticks": "outside",
                                                    "tickwidth": 2
                                                },
                                                "colorscale": [
                                                    [
                                                        0,
                                                        "rgb(2,4,25)"
                                                    ],
                                                    [
                                                        0.06274509803921569,
                                                        "rgb(24,15,41)"
                                                    ],
                                                    [
                                                        0.12549019607843137,
                                                        "rgb(47,23,57)"
                                                    ],
                                                    [
                                                        0.18823529411764706,
                                                        "rgb(71,28,72)"
                                                    ],
                                                    [
                                                        0.25098039215686274,
                                                        "rgb(97,30,82)"
                                                    ],
                                                    [
                                                        0.3137254901960784,
                                                        "rgb(123,30,89)"
                                                    ],
                                                    [
                                                        0.3764705882352941,
                                                        "rgb(150,27,91)"
                                                    ],
                                                    [
                                                        0.4392156862745098,
                                                        "rgb(177,22,88)"
                                                    ],
                                                    [
                                                        0.5019607843137255,
                                                        "rgb(203,26,79)"
                                                    ],
                                                    [
                                                        0.5647058823529412,
                                                        "rgb(223,47,67)"
                                                    ],
                                                    [
                                                        0.6274509803921569,
                                                        "rgb(236,76,61)"
                                                    ],
                                                    [
                                                        0.6901960784313725,
                                                        "rgb(242,107,73)"
                                                    ],
                                                    [
                                                        0.7529411764705882,
                                                        "rgb(244,135,95)"
                                                    ],
                                                    [
                                                        0.8156862745098039,
                                                        "rgb(245,162,122)"
                                                    ],
                                                    [
                                                        0.8784313725490196,
                                                        "rgb(246,188,153)"
                                                    ],
                                                    [
                                                        0.9411764705882353,
                                                        "rgb(247,212,187)"
                                                    ],
                                                    [
                                                        1,
                                                        "rgb(250,234,220)"
                                                    ]
                                                ],
                                                "type": "heatmap"
                                            }
                                        ],
                                        "heatmapgl": [
                                            {
                                                "colorbar": {
                                                    "outlinewidth": 0,
                                                    "tickcolor": "rgb(36,36,36)",
                                                    "ticklen": 8,
                                                    "ticks": "outside",
                                                    "tickwidth": 2
                                                },
                                                "colorscale": [
                                                    [
                                                        0,
                                                        "rgb(2,4,25)"
                                                    ],
                                                    [
                                                        0.06274509803921569,
                                                        "rgb(24,15,41)"
                                                    ],
                                                    [
                                                        0.12549019607843137,
                                                        "rgb(47,23,57)"
                                                    ],
                                                    [
                                                        0.18823529411764706,
                                                        "rgb(71,28,72)"
                                                    ],
                                                    [
                                                        0.25098039215686274,
                                                        "rgb(97,30,82)"
                                                    ],
                                                    [
                                                        0.3137254901960784,
                                                        "rgb(123,30,89)"
                                                    ],
                                                    [
                                                        0.3764705882352941,
                                                        "rgb(150,27,91)"
                                                    ],
                                                    [
                                                        0.4392156862745098,
                                                        "rgb(177,22,88)"
                                                    ],
                                                    [
                                                        0.5019607843137255,
                                                        "rgb(203,26,79)"
                                                    ],
                                                    [
                                                        0.5647058823529412,
                                                        "rgb(223,47,67)"
                                                    ],
                                                    [
                                                        0.6274509803921569,
                                                        "rgb(236,76,61)"
                                                    ],
                                                    [
                                                        0.6901960784313725,
                                                        "rgb(242,107,73)"
                                                    ],
                                                    [
                                                        0.7529411764705882,
                                                        "rgb(244,135,95)"
                                                    ],
                                                    [
                                                        0.8156862745098039,
                                                        "rgb(245,162,122)"
                                                    ],
                                                    [
                                                        0.8784313725490196,
                                                        "rgb(246,188,153)"
                                                    ],
                                                    [
                                                        0.9411764705882353,
                                                        "rgb(247,212,187)"
                                                    ],
                                                    [
                                                        1,
                                                        "rgb(250,234,220)"
                                                    ]
                                                ],
                                                "type": "heatmapgl"
                                            }
                                        ],
                                        "histogram": [
                                            {
                                                "marker": {
                                                    "pattern": {
                                                        "fillmode": "overlay",
                                                        "size": 10,
                                                        "solidity": 0.2
                                                    }
                                                },
                                                "type": "histogram"
                                            }
                                        ],
                                        "histogram2d": [
                                            {
                                                "colorbar": {
                                                    "outlinewidth": 0,
                                                    "tickcolor": "rgb(36,36,36)",
                                                    "ticklen": 8,
                                                    "ticks": "outside",
                                                    "tickwidth": 2
                                                },
                                                "colorscale": [
                                                    [
                                                        0,
                                                        "rgb(2,4,25)"
                                                    ],
                                                    [
                                                        0.06274509803921569,
                                                        "rgb(24,15,41)"
                                                    ],
                                                    [
                                                        0.12549019607843137,
                                                        "rgb(47,23,57)"
                                                    ],
                                                    [
                                                        0.18823529411764706,
                                                        "rgb(71,28,72)"
                                                    ],
                                                    [
                                                        0.25098039215686274,
                                                        "rgb(97,30,82)"
                                                    ],
                                                    [
                                                        0.3137254901960784,
                                                        "rgb(123,30,89)"
                                                    ],
                                                    [
                                                        0.3764705882352941,
                                                        "rgb(150,27,91)"
                                                    ],
                                                    [
                                                        0.4392156862745098,
                                                        "rgb(177,22,88)"
                                                    ],
                                                    [
                                                        0.5019607843137255,
                                                        "rgb(203,26,79)"
                                                    ],
                                                    [
                                                        0.5647058823529412,
                                                        "rgb(223,47,67)"
                                                    ],
                                                    [
                                                        0.6274509803921569,
                                                        "rgb(236,76,61)"
                                                    ],
                                                    [
                                                        0.6901960784313725,
                                                        "rgb(242,107,73)"
                                                    ],
                                                    [
                                                        0.7529411764705882,
                                                        "rgb(244,135,95)"
                                                    ],
                                                    [
                                                        0.8156862745098039,
                                                        "rgb(245,162,122)"
                                                    ],
                                                    [
                                                        0.8784313725490196,
                                                        "rgb(246,188,153)"
                                                    ],
                                                    [
                                                        0.9411764705882353,
                                                        "rgb(247,212,187)"
                                                    ],
                                                    [
                                                        1,
                                                        "rgb(250,234,220)"
                                                    ]
                                                ],
                                                "type": "histogram2d"
                                            }
                                        ],
                                        "histogram2dcontour": [
                                            {
                                                "colorbar": {
                                                    "outlinewidth": 0,
                                                    "tickcolor": "rgb(36,36,36)",
                                                    "ticklen": 8,
                                                    "ticks": "outside",
                                                    "tickwidth": 2
                                                },
                                                "colorscale": [
                                                    [
                                                        0,
                                                        "rgb(2,4,25)"
                                                    ],
                                                    [
                                                        0.06274509803921569,
                                                        "rgb(24,15,41)"
                                                    ],
                                                    [
                                                        0.12549019607843137,
                                                        "rgb(47,23,57)"
                                                    ],
                                                    [
                                                        0.18823529411764706,
                                                        "rgb(71,28,72)"
                                                    ],
                                                    [
                                                        0.25098039215686274,
                                                        "rgb(97,30,82)"
                                                    ],
                                                    [
                                                        0.3137254901960784,
                                                        "rgb(123,30,89)"
                                                    ],
                                                    [
                                                        0.3764705882352941,
                                                        "rgb(150,27,91)"
                                                    ],
                                                    [
                                                        0.4392156862745098,
                                                        "rgb(177,22,88)"
                                                    ],
                                                    [
                                                        0.5019607843137255,
                                                        "rgb(203,26,79)"
                                                    ],
                                                    [
                                                        0.5647058823529412,
                                                        "rgb(223,47,67)"
                                                    ],
                                                    [
                                                        0.6274509803921569,
                                                        "rgb(236,76,61)"
                                                    ],
                                                    [
                                                        0.6901960784313725,
                                                        "rgb(242,107,73)"
                                                    ],
                                                    [
                                                        0.7529411764705882,
                                                        "rgb(244,135,95)"
                                                    ],
                                                    [
                                                        0.8156862745098039,
                                                        "rgb(245,162,122)"
                                                    ],
                                                    [
                                                        0.8784313725490196,
                                                        "rgb(246,188,153)"
                                                    ],
                                                    [
                                                        0.9411764705882353,
                                                        "rgb(247,212,187)"
                                                    ],
                                                    [
                                                        1,
                                                        "rgb(250,234,220)"
                                                    ]
                                                ],
                                                "type": "histogram2dcontour"
                                            }
                                        ],
                                        "mesh3d": [
                                            {
                                                "colorbar": {
                                                    "outlinewidth": 0,
                                                    "tickcolor": "rgb(36,36,36)",
                                                    "ticklen": 8,
                                                    "ticks": "outside",
                                                    "tickwidth": 2
                                                },
                                                "type": "mesh3d"
                                            }
                                        ],
                                        "parcoords": [
                                            {
                                                "line": {
                                                    "colorbar": {
                                                        "outlinewidth": 0,
                                                        "tickcolor": "rgb(36,36,36)",
                                                        "ticklen": 8,
                                                        "ticks": "outside",
                                                        "tickwidth": 2
                                                    }
                                                },
                                                "type": "parcoords"
                                            }
                                        ],
                                        "pie": [
                                            {
                                                "automargin": true,
                                                "type": "pie"
                                            }
                                        ],
                                        "scatter": [
                                            {
                                                "marker": {
                                                    "colorbar": {
                                                        "outlinewidth": 0,
                                                        "tickcolor": "rgb(36,36,36)",
                                                        "ticklen": 8,
                                                        "ticks": "outside",
                                                        "tickwidth": 2
                                                    }
                                                },
                                                "type": "scatter"
                                            }
                                        ],
                                        "scatter3d": [
                                            {
                                                "line": {
                                                    "colorbar": {
                                                        "outlinewidth": 0,
                                                        "tickcolor": "rgb(36,36,36)",
                                                        "ticklen": 8,
                                                        "ticks": "outside",
                                                        "tickwidth": 2
                                                    }
                                                },
                                                "marker": {
                                                    "colorbar": {
                                                        "outlinewidth": 0,
                                                        "tickcolor": "rgb(36,36,36)",
                                                        "ticklen": 8,
                                                        "ticks": "outside",
                                                        "tickwidth": 2
                                                    }
                                                },
                                                "type": "scatter3d"
                                            }
                                        ],
                                        "scattercarpet": [
                                            {
                                                "marker": {
                                                    "colorbar": {
                                                        "outlinewidth": 0,
                                                        "tickcolor": "rgb(36,36,36)",
                                                        "ticklen": 8,
                                                        "ticks": "outside",
                                                        "tickwidth": 2
                                                    }
                                                },
                                                "type": "scattercarpet"
                                            }
                                        ],
                                        "scattergeo": [
                                            {
                                                "marker": {
                                                    "colorbar": {
                                                        "outlinewidth": 0,
                                                        "tickcolor": "rgb(36,36,36)",
                                                        "ticklen": 8,
                                                        "ticks": "outside",
                                                        "tickwidth": 2
                                                    }
                                                },
                                                "type": "scattergeo"
                                            }
                                        ],
                                        "scattergl": [
                                            {
                                                "marker": {
                                                    "colorbar": {
                                                        "outlinewidth": 0,
                                                        "tickcolor": "rgb(36,36,36)",
                                                        "ticklen": 8,
                                                        "ticks": "outside",
                                                        "tickwidth": 2
                                                    }
                                                },
                                                "type": "scattergl"
                                            }
                                        ],
                                        "scattermapbox": [
                                            {
                                                "marker": {
                                                    "colorbar": {
                                                        "outlinewidth": 0,
                                                        "tickcolor": "rgb(36,36,36)",
                                                        "ticklen": 8,
                                                        "ticks": "outside",
                                                        "tickwidth": 2
                                                    }
                                                },
                                                "type": "scattermapbox"
                                            }
                                        ],
                                        "scatterpolar": [
                                            {
                                                "marker": {
                                                    "colorbar": {
                                                        "outlinewidth": 0,
                                                        "tickcolor": "rgb(36,36,36)",
                                                        "ticklen": 8,
                                                        "ticks": "outside",
                                                        "tickwidth": 2
                                                    }
                                                },
                                                "type": "scatterpolar"
                                            }
                                        ],
                                        "scatterpolargl": [
                                            {
                                                "marker": {
                                                    "colorbar": {
                                                        "outlinewidth": 0,
                                                        "tickcolor": "rgb(36,36,36)",
                                                        "ticklen": 8,
                                                        "ticks": "outside",
                                                        "tickwidth": 2
                                                    }
                                                },
                                                "type": "scatterpolargl"
                                            }
                                        ],
                                        "scatterternary": [
                                            {
                                                "marker": {
                                                    "colorbar": {
                                                        "outlinewidth": 0,
                                                        "tickcolor": "rgb(36,36,36)",
                                                        "ticklen": 8,
                                                        "ticks": "outside",
                                                        "tickwidth": 2
                                                    }
                                                },
                                                "type": "scatterternary"
                                            }
                                        ],
                                        "surface": [
                                            {
                                                "colorbar": {
                                                    "outlinewidth": 0,
                                                    "tickcolor": "rgb(36,36,36)",
                                                    "ticklen": 8,
                                                    "ticks": "outside",
                                                    "tickwidth": 2
                                                },
                                                "colorscale": [
                                                    [
                                                        0,
                                                        "rgb(2,4,25)"
                                                    ],
                                                    [
                                                        0.06274509803921569,
                                                        "rgb(24,15,41)"
                                                    ],
                                                    [
                                                        0.12549019607843137,
                                                        "rgb(47,23,57)"
                                                    ],
                                                    [
                                                        0.18823529411764706,
                                                        "rgb(71,28,72)"
                                                    ],
                                                    [
                                                        0.25098039215686274,
                                                        "rgb(97,30,82)"
                                                    ],
                                                    [
                                                        0.3137254901960784,
                                                        "rgb(123,30,89)"
                                                    ],
                                                    [
                                                        0.3764705882352941,
                                                        "rgb(150,27,91)"
                                                    ],
                                                    [
                                                        0.4392156862745098,
                                                        "rgb(177,22,88)"
                                                    ],
                                                    [
                                                        0.5019607843137255,
                                                        "rgb(203,26,79)"
                                                    ],
                                                    [
                                                        0.5647058823529412,
                                                        "rgb(223,47,67)"
                                                    ],
                                                    [
                                                        0.6274509803921569,
                                                        "rgb(236,76,61)"
                                                    ],
                                                    [
                                                        0.6901960784313725,
                                                        "rgb(242,107,73)"
                                                    ],
                                                    [
                                                        0.7529411764705882,
                                                        "rgb(244,135,95)"
                                                    ],
                                                    [
                                                        0.8156862745098039,
                                                        "rgb(245,162,122)"
                                                    ],
                                                    [
                                                        0.8784313725490196,
                                                        "rgb(246,188,153)"
                                                    ],
                                                    [
                                                        0.9411764705882353,
                                                        "rgb(247,212,187)"
                                                    ],
                                                    [
                                                        1,
                                                        "rgb(250,234,220)"
                                                    ]
                                                ],
                                                "type": "surface"
                                            }
                                        ],
                                        "table": [
                                            {
                                                "cells": {
                                                    "fill": {
                                                        "color": "rgb(231,231,240)"
                                                    },
                                                    "line": {
                                                        "color": "white"
                                                    }
                                                },
                                                "header": {
                                                    "fill": {
                                                        "color": "rgb(183,183,191)"
                                                    },
                                                    "line": {
                                                        "color": "white"
                                                    }
                                                },
                                                "type": "table"
                                            }
                                        ]
                                    },
                                    "layout": {
                                        "annotationdefaults": {
                                            "arrowcolor": "rgb(67,103,167)"
                                        },
                                        "autotypenumbers": "strict",
                                        "coloraxis": {
                                            "colorbar": {
                                                "outlinewidth": 0,
                                                "tickcolor": "rgb(36,36,36)",
                                                "ticklen": 8,
                                                "ticks": "outside",
                                                "tickwidth": 2
                                            }
                                        },
                                        "colorscale": {
                                            "sequential": [
                                                [
                                                    0,
                                                    "rgb(2,4,25)"
                                                ],
                                                [
                                                    0.06274509803921569,
                                                    "rgb(24,15,41)"
                                                ],
                                                [
                                                    0.12549019607843137,
                                                    "rgb(47,23,57)"
                                                ],
                                                [
                                                    0.18823529411764706,
                                                    "rgb(71,28,72)"
                                                ],
                                                [
                                                    0.25098039215686274,
                                                    "rgb(97,30,82)"
                                                ],
                                                [
                                                    0.3137254901960784,
                                                    "rgb(123,30,89)"
                                                ],
                                                [
                                                    0.3764705882352941,
                                                    "rgb(150,27,91)"
                                                ],
                                                [
                                                    0.4392156862745098,
                                                    "rgb(177,22,88)"
                                                ],
                                                [
                                                    0.5019607843137255,
                                                    "rgb(203,26,79)"
                                                ],
                                                [
                                                    0.5647058823529412,
                                                    "rgb(223,47,67)"
                                                ],
                                                [
                                                    0.6274509803921569,
                                                    "rgb(236,76,61)"
                                                ],
                                                [
                                                    0.6901960784313725,
                                                    "rgb(242,107,73)"
                                                ],
                                                [
                                                    0.7529411764705882,
                                                    "rgb(244,135,95)"
                                                ],
                                                [
                                                    0.8156862745098039,
                                                    "rgb(245,162,122)"
                                                ],
                                                [
                                                    0.8784313725490196,
                                                    "rgb(246,188,153)"
                                                ],
                                                [
                                                    0.9411764705882353,
                                                    "rgb(247,212,187)"
                                                ],
                                                [
                                                    1,
                                                    "rgb(250,234,220)"
                                                ]
                                            ],
                                            "sequentialminus": [
                                                [
                                                    0,
                                                    "rgb(2,4,25)"
                                                ],
                                                [
                                                    0.06274509803921569,
                                                    "rgb(24,15,41)"
                                                ],
                                                [
                                                    0.12549019607843137,
                                                    "rgb(47,23,57)"
                                                ],
                                                [
                                                    0.18823529411764706,
                                                    "rgb(71,28,72)"
                                                ],
                                                [
                                                    0.25098039215686274,
                                                    "rgb(97,30,82)"
                                                ],
                                                [
                                                    0.3137254901960784,
                                                    "rgb(123,30,89)"
                                                ],
                                                [
                                                    0.3764705882352941,
                                                    "rgb(150,27,91)"
                                                ],
                                                [
                                                    0.4392156862745098,
                                                    "rgb(177,22,88)"
                                                ],
                                                [
                                                    0.5019607843137255,
                                                    "rgb(203,26,79)"
                                                ],
                                                [
                                                    0.5647058823529412,
                                                    "rgb(223,47,67)"
                                                ],
                                                [
                                                    0.6274509803921569,
                                                    "rgb(236,76,61)"
                                                ],
                                                [
                                                    0.6901960784313725,
                                                    "rgb(242,107,73)"
                                                ],
                                                [
                                                    0.7529411764705882,
                                                    "rgb(244,135,95)"
                                                ],
                                                [
                                                    0.8156862745098039,
                                                    "rgb(245,162,122)"
                                                ],
                                                [
                                                    0.8784313725490196,
                                                    "rgb(246,188,153)"
                                                ],
                                                [
                                                    0.9411764705882353,
                                                    "rgb(247,212,187)"
                                                ],
                                                [
                                                    1,
                                                    "rgb(250,234,220)"
                                                ]
                                            ]
                                        },
                                        "colorway": [
                                            "rgb(76,114,176)",
                                            "rgb(221,132,82)",
                                            "rgb(85,168,104)",
                                            "rgb(196,78,82)",
                                            "rgb(129,114,179)",
                                            "rgb(147,120,96)",
                                            "rgb(218,139,195)",
                                            "rgb(140,140,140)",
                                            "rgb(204,185,116)",
                                            "rgb(100,181,205)"
                                        ],
                                        "font": {
                                            "color": "rgb(36,36,36)"
                                        },
                                        "geo": {
                                            "bgcolor": "white",
                                            "lakecolor": "white",
                                            "landcolor": "rgb(234,234,242)",
                                            "showlakes": true,
                                            "showland": true,
                                            "subunitcolor": "white"
                                        },
                                        "hoverlabel": {
                                            "align": "left"
                                        },
                                        "hovermode": "closest",
                                        "paper_bgcolor": "white",
                                        "plot_bgcolor": "rgb(234,234,242)",
                                        "polar": {
                                            "angularaxis": {
                                                "gridcolor": "white",
                                                "linecolor": "white",
                                                "showgrid": true,
                                                "ticks": ""
                                            },
                                            "bgcolor": "rgb(234,234,242)",
                                            "radialaxis": {
                                                "gridcolor": "white",
                                                "linecolor": "white",
                                                "showgrid": true,
                                                "ticks": ""
                                            }
                                        },
                                        "scene": {
                                            "xaxis": {
                                                "backgroundcolor": "rgb(234,234,242)",
                                                "gridcolor": "white",
                                                "gridwidth": 2,
                                                "linecolor": "white",
                                                "showbackground": true,
                                                "showgrid": true,
                                                "ticks": "",
                                                "zerolinecolor": "white"
                                            },
                                            "yaxis": {
                                                "backgroundcolor": "rgb(234,234,242)",
                                                "gridcolor": "white",
                                                "gridwidth": 2,
                                                "linecolor": "white",
                                                "showbackground": true,
                                                "showgrid": true,
                                                "ticks": "",
                                                "zerolinecolor": "white"
                                            },
                                            "zaxis": {
                                                "backgroundcolor": "rgb(234,234,242)",
                                                "gridcolor": "white",
                                                "gridwidth": 2,
                                                "linecolor": "white",
                                                "showbackground": true,
                                                "showgrid": true,
                                                "ticks": "",
                                                "zerolinecolor": "white"
                                            }
                                        },
                                        "shapedefaults": {
                                            "fillcolor": "rgb(67,103,167)",
                                            "line": {
                                                "width": 0
                                            },
                                            "opacity": 0.5
                                        },
                                        "ternary": {
                                            "aaxis": {
                                                "gridcolor": "white",
                                                "linecolor": "white",
                                                "showgrid": true,
                                                "ticks": ""
                                            },
                                            "baxis": {
                                                "gridcolor": "white",
                                                "linecolor": "white",
                                                "showgrid": true,
                                                "ticks": ""
                                            },
                                            "bgcolor": "rgb(234,234,242)",
                                            "caxis": {
                                                "gridcolor": "white",
                                                "linecolor": "white",
                                                "showgrid": true,
                                                "ticks": ""
                                            }
                                        },
                                        "xaxis": {
                                            "automargin": true,
                                            "gridcolor": "white",
                                            "linecolor": "white",
                                            "showgrid": true,
                                            "ticks": "",
                                            "title": {
                                                "standoff": 15
                                            },
                                            "zerolinecolor": "white"
                                        },
                                        "yaxis": {
                                            "automargin": true,
                                            "gridcolor": "white",
                                            "linecolor": "white",
                                            "showgrid": true,
                                            "ticks": "",
                                            "title": {
                                                "standoff": 15
                                            },
                                            "zerolinecolor": "white"
                                        }
                                    }
                                },
                                "title": {
                                    "text": "Quantidade de Itens por Categoria"
                                },
                                "uniformtext": {
                                    "minsize": 12,
                                    "mode": "hide"
                                },
                                "width": 900,
                                "xaxis": {
                                    "anchor": "y",
                                    "domain": [
                                        0,
                                        1
                                    ],
                                    "title": {
                                        "text": "Categorias"
                                    }
                                },
                                "yaxis": {
                                    "anchor": "x",
                                    "domain": [
                                        0,
                                        1
                                    ],
                                    "title": {
                                        "text": "Quantidade [Itens]"
                                    }
                                }
                            }
                        }
                    },
                    "metadata": {}
                }
            ],
            "metadata": {}
        },
        {
            "cell_type": "code",
            "execution_count": 21,
            "source": [
                "desc = base[base['Desconto'] != 0].groupby(['Produto_Categoria', 'Ciclo']).\\\n",
                "    agg({'Receita_Bruta':'sum', 'Receita_Liquida':'sum', \\\n",
                "        'Desconto':'sum', 'Pedido_Valor_Volume':'sum'}).round(3).reset_index().\\\n",
                "    rename(columns={\"Pedido_Valor_Volume\": \"Qtde_itens\"}).sort_values(by='Qtde_itens', ascending=False)\n",
                "\n",
                "desc['Valor_med_p_item'] = desc.apply(lambda x: round(x['Receita_Bruta'] / x['Qtde_itens'],2), axis=1)\n",
                "desc['Desc_p_item'] = desc.apply(lambda x: round(x['Desconto'] / x['Qtde_itens'],2), axis=1)\n",
                "desc['Media_desc_p_item'] = desc.apply(lambda x: round(100 * (x['Desc_p_item'] / x['Valor_med_p_item']),2), axis=1)"
            ],
            "outputs": [],
            "metadata": {}
        },
        {
            "cell_type": "code",
            "execution_count": 22,
            "source": [
                "fig = px.bar(desc, x=\"Produto_Categoria\", y=\"Desconto\", \\\n",
                "    text=\"Desconto\", color=\"Ciclo\", hover_data=['Ciclo', 'Qtde_itens'], template=\"seaborn\")\n",
                "\n",
                "fig.update_layout(\n",
                "    margin=dict(l=20, r=50, t=50, b=20),\n",
                "    title = 'Descontos Aplicados - Categorias',\n",
                "    xaxis_title=\"Categorias\",\n",
                "    yaxis_title=\"Descontos [R$]\",\n",
                "    legend_title=\"Ciclo\",\n",
                "    width=800, \n",
                "    height=700,\n",
                "    uniformtext_minsize=10, \n",
                "    uniformtext_mode='hide',\n",
                ")\n",
                "fig.show()"
            ],
            "outputs": [
                {
                    "output_type": "display_data",
                    "data": {
                        "application/vnd.plotly.v1+json": {
                            "config": {
                                "plotlyServerURL": "https://plot.ly"
                            },
                            "data": [
                                {
                                    "alignmentgroup": "True",
                                    "customdata": [
                                        [
                                            "Mar-2020",
                                            10063
                                        ],
                                        [
                                            "Mar-2020",
                                            5368
                                        ],
                                        [
                                            "Mar-2020",
                                            3456
                                        ],
                                        [
                                            "Mar-2020",
                                            1601
                                        ],
                                        [
                                            "Mar-2020",
                                            454
                                        ]
                                    ],
                                    "hovertemplate": "Ciclo=%{customdata[0]}<br>Produto_Categoria=%{x}<br>Desconto=%{text}<br>Qtde_itens=%{customdata[1]}<extra></extra>",
                                    "legendgroup": "Mar-2020",
                                    "marker": {
                                        "color": "rgb(76,114,176)",
                                        "pattern": {
                                            "shape": ""
                                        }
                                    },
                                    "name": "Mar-2020",
                                    "offsetgroup": "Mar-2020",
                                    "orientation": "v",
                                    "showlegend": true,
                                    "text": [
                                        47010.2,
                                        29511.4,
                                        1045.53,
                                        5530.32,
                                        1506.38
                                    ],
                                    "textposition": "auto",
                                    "type": "bar",
                                    "x": [
                                        "ACESSÓRIOS",
                                        "PERFUMARIA MASCULINA",
                                        "SUPORTE À VENDA",
                                        "PERFUMARIA FEMININA",
                                        "GIFTS"
                                    ],
                                    "xaxis": "x",
                                    "y": [
                                        47010.2,
                                        29511.4,
                                        1045.53,
                                        5530.32,
                                        1506.38
                                    ],
                                    "yaxis": "y"
                                },
                                {
                                    "alignmentgroup": "True",
                                    "customdata": [
                                        [
                                            "Fev-2020",
                                            7397
                                        ],
                                        [
                                            "Fev-2020",
                                            6700
                                        ],
                                        [
                                            "Fev-2020",
                                            3645
                                        ],
                                        [
                                            "Fev-2020",
                                            1776
                                        ],
                                        [
                                            "Fev-2020",
                                            360
                                        ]
                                    ],
                                    "hovertemplate": "Ciclo=%{customdata[0]}<br>Produto_Categoria=%{x}<br>Desconto=%{text}<br>Qtde_itens=%{customdata[1]}<extra></extra>",
                                    "legendgroup": "Fev-2020",
                                    "marker": {
                                        "color": "rgb(221,132,82)",
                                        "pattern": {
                                            "shape": ""
                                        }
                                    },
                                    "name": "Fev-2020",
                                    "offsetgroup": "Fev-2020",
                                    "orientation": "v",
                                    "showlegend": true,
                                    "text": [
                                        34887.48,
                                        39291.66,
                                        1093.5,
                                        6110.46,
                                        1207.02
                                    ],
                                    "textposition": "auto",
                                    "type": "bar",
                                    "x": [
                                        "PERFUMARIA MASCULINA",
                                        "ACESSÓRIOS",
                                        "SUPORTE À VENDA",
                                        "PERFUMARIA FEMININA",
                                        "GIFTS"
                                    ],
                                    "xaxis": "x",
                                    "y": [
                                        34887.48,
                                        39291.66,
                                        1093.5,
                                        6110.46,
                                        1207.02
                                    ],
                                    "yaxis": "y"
                                }
                            ],
                            "layout": {
                                "barmode": "relative",
                                "height": 700,
                                "legend": {
                                    "title": {
                                        "text": "Ciclo"
                                    },
                                    "tracegroupgap": 0
                                },
                                "margin": {
                                    "b": 20,
                                    "l": 20,
                                    "r": 50,
                                    "t": 50
                                },
                                "template": {
                                    "data": {
                                        "bar": [
                                            {
                                                "error_x": {
                                                    "color": "rgb(36,36,36)"
                                                },
                                                "error_y": {
                                                    "color": "rgb(36,36,36)"
                                                },
                                                "marker": {
                                                    "line": {
                                                        "color": "rgb(234,234,242)",
                                                        "width": 0.5
                                                    },
                                                    "pattern": {
                                                        "fillmode": "overlay",
                                                        "size": 10,
                                                        "solidity": 0.2
                                                    }
                                                },
                                                "type": "bar"
                                            }
                                        ],
                                        "barpolar": [
                                            {
                                                "marker": {
                                                    "line": {
                                                        "color": "rgb(234,234,242)",
                                                        "width": 0.5
                                                    },
                                                    "pattern": {
                                                        "fillmode": "overlay",
                                                        "size": 10,
                                                        "solidity": 0.2
                                                    }
                                                },
                                                "type": "barpolar"
                                            }
                                        ],
                                        "carpet": [
                                            {
                                                "aaxis": {
                                                    "endlinecolor": "rgb(36,36,36)",
                                                    "gridcolor": "white",
                                                    "linecolor": "white",
                                                    "minorgridcolor": "white",
                                                    "startlinecolor": "rgb(36,36,36)"
                                                },
                                                "baxis": {
                                                    "endlinecolor": "rgb(36,36,36)",
                                                    "gridcolor": "white",
                                                    "linecolor": "white",
                                                    "minorgridcolor": "white",
                                                    "startlinecolor": "rgb(36,36,36)"
                                                },
                                                "type": "carpet"
                                            }
                                        ],
                                        "choropleth": [
                                            {
                                                "colorbar": {
                                                    "outlinewidth": 0,
                                                    "tickcolor": "rgb(36,36,36)",
                                                    "ticklen": 8,
                                                    "ticks": "outside",
                                                    "tickwidth": 2
                                                },
                                                "type": "choropleth"
                                            }
                                        ],
                                        "contour": [
                                            {
                                                "colorbar": {
                                                    "outlinewidth": 0,
                                                    "tickcolor": "rgb(36,36,36)",
                                                    "ticklen": 8,
                                                    "ticks": "outside",
                                                    "tickwidth": 2
                                                },
                                                "colorscale": [
                                                    [
                                                        0,
                                                        "rgb(2,4,25)"
                                                    ],
                                                    [
                                                        0.06274509803921569,
                                                        "rgb(24,15,41)"
                                                    ],
                                                    [
                                                        0.12549019607843137,
                                                        "rgb(47,23,57)"
                                                    ],
                                                    [
                                                        0.18823529411764706,
                                                        "rgb(71,28,72)"
                                                    ],
                                                    [
                                                        0.25098039215686274,
                                                        "rgb(97,30,82)"
                                                    ],
                                                    [
                                                        0.3137254901960784,
                                                        "rgb(123,30,89)"
                                                    ],
                                                    [
                                                        0.3764705882352941,
                                                        "rgb(150,27,91)"
                                                    ],
                                                    [
                                                        0.4392156862745098,
                                                        "rgb(177,22,88)"
                                                    ],
                                                    [
                                                        0.5019607843137255,
                                                        "rgb(203,26,79)"
                                                    ],
                                                    [
                                                        0.5647058823529412,
                                                        "rgb(223,47,67)"
                                                    ],
                                                    [
                                                        0.6274509803921569,
                                                        "rgb(236,76,61)"
                                                    ],
                                                    [
                                                        0.6901960784313725,
                                                        "rgb(242,107,73)"
                                                    ],
                                                    [
                                                        0.7529411764705882,
                                                        "rgb(244,135,95)"
                                                    ],
                                                    [
                                                        0.8156862745098039,
                                                        "rgb(245,162,122)"
                                                    ],
                                                    [
                                                        0.8784313725490196,
                                                        "rgb(246,188,153)"
                                                    ],
                                                    [
                                                        0.9411764705882353,
                                                        "rgb(247,212,187)"
                                                    ],
                                                    [
                                                        1,
                                                        "rgb(250,234,220)"
                                                    ]
                                                ],
                                                "type": "contour"
                                            }
                                        ],
                                        "contourcarpet": [
                                            {
                                                "colorbar": {
                                                    "outlinewidth": 0,
                                                    "tickcolor": "rgb(36,36,36)",
                                                    "ticklen": 8,
                                                    "ticks": "outside",
                                                    "tickwidth": 2
                                                },
                                                "type": "contourcarpet"
                                            }
                                        ],
                                        "heatmap": [
                                            {
                                                "colorbar": {
                                                    "outlinewidth": 0,
                                                    "tickcolor": "rgb(36,36,36)",
                                                    "ticklen": 8,
                                                    "ticks": "outside",
                                                    "tickwidth": 2
                                                },
                                                "colorscale": [
                                                    [
                                                        0,
                                                        "rgb(2,4,25)"
                                                    ],
                                                    [
                                                        0.06274509803921569,
                                                        "rgb(24,15,41)"
                                                    ],
                                                    [
                                                        0.12549019607843137,
                                                        "rgb(47,23,57)"
                                                    ],
                                                    [
                                                        0.18823529411764706,
                                                        "rgb(71,28,72)"
                                                    ],
                                                    [
                                                        0.25098039215686274,
                                                        "rgb(97,30,82)"
                                                    ],
                                                    [
                                                        0.3137254901960784,
                                                        "rgb(123,30,89)"
                                                    ],
                                                    [
                                                        0.3764705882352941,
                                                        "rgb(150,27,91)"
                                                    ],
                                                    [
                                                        0.4392156862745098,
                                                        "rgb(177,22,88)"
                                                    ],
                                                    [
                                                        0.5019607843137255,
                                                        "rgb(203,26,79)"
                                                    ],
                                                    [
                                                        0.5647058823529412,
                                                        "rgb(223,47,67)"
                                                    ],
                                                    [
                                                        0.6274509803921569,
                                                        "rgb(236,76,61)"
                                                    ],
                                                    [
                                                        0.6901960784313725,
                                                        "rgb(242,107,73)"
                                                    ],
                                                    [
                                                        0.7529411764705882,
                                                        "rgb(244,135,95)"
                                                    ],
                                                    [
                                                        0.8156862745098039,
                                                        "rgb(245,162,122)"
                                                    ],
                                                    [
                                                        0.8784313725490196,
                                                        "rgb(246,188,153)"
                                                    ],
                                                    [
                                                        0.9411764705882353,
                                                        "rgb(247,212,187)"
                                                    ],
                                                    [
                                                        1,
                                                        "rgb(250,234,220)"
                                                    ]
                                                ],
                                                "type": "heatmap"
                                            }
                                        ],
                                        "heatmapgl": [
                                            {
                                                "colorbar": {
                                                    "outlinewidth": 0,
                                                    "tickcolor": "rgb(36,36,36)",
                                                    "ticklen": 8,
                                                    "ticks": "outside",
                                                    "tickwidth": 2
                                                },
                                                "colorscale": [
                                                    [
                                                        0,
                                                        "rgb(2,4,25)"
                                                    ],
                                                    [
                                                        0.06274509803921569,
                                                        "rgb(24,15,41)"
                                                    ],
                                                    [
                                                        0.12549019607843137,
                                                        "rgb(47,23,57)"
                                                    ],
                                                    [
                                                        0.18823529411764706,
                                                        "rgb(71,28,72)"
                                                    ],
                                                    [
                                                        0.25098039215686274,
                                                        "rgb(97,30,82)"
                                                    ],
                                                    [
                                                        0.3137254901960784,
                                                        "rgb(123,30,89)"
                                                    ],
                                                    [
                                                        0.3764705882352941,
                                                        "rgb(150,27,91)"
                                                    ],
                                                    [
                                                        0.4392156862745098,
                                                        "rgb(177,22,88)"
                                                    ],
                                                    [
                                                        0.5019607843137255,
                                                        "rgb(203,26,79)"
                                                    ],
                                                    [
                                                        0.5647058823529412,
                                                        "rgb(223,47,67)"
                                                    ],
                                                    [
                                                        0.6274509803921569,
                                                        "rgb(236,76,61)"
                                                    ],
                                                    [
                                                        0.6901960784313725,
                                                        "rgb(242,107,73)"
                                                    ],
                                                    [
                                                        0.7529411764705882,
                                                        "rgb(244,135,95)"
                                                    ],
                                                    [
                                                        0.8156862745098039,
                                                        "rgb(245,162,122)"
                                                    ],
                                                    [
                                                        0.8784313725490196,
                                                        "rgb(246,188,153)"
                                                    ],
                                                    [
                                                        0.9411764705882353,
                                                        "rgb(247,212,187)"
                                                    ],
                                                    [
                                                        1,
                                                        "rgb(250,234,220)"
                                                    ]
                                                ],
                                                "type": "heatmapgl"
                                            }
                                        ],
                                        "histogram": [
                                            {
                                                "marker": {
                                                    "pattern": {
                                                        "fillmode": "overlay",
                                                        "size": 10,
                                                        "solidity": 0.2
                                                    }
                                                },
                                                "type": "histogram"
                                            }
                                        ],
                                        "histogram2d": [
                                            {
                                                "colorbar": {
                                                    "outlinewidth": 0,
                                                    "tickcolor": "rgb(36,36,36)",
                                                    "ticklen": 8,
                                                    "ticks": "outside",
                                                    "tickwidth": 2
                                                },
                                                "colorscale": [
                                                    [
                                                        0,
                                                        "rgb(2,4,25)"
                                                    ],
                                                    [
                                                        0.06274509803921569,
                                                        "rgb(24,15,41)"
                                                    ],
                                                    [
                                                        0.12549019607843137,
                                                        "rgb(47,23,57)"
                                                    ],
                                                    [
                                                        0.18823529411764706,
                                                        "rgb(71,28,72)"
                                                    ],
                                                    [
                                                        0.25098039215686274,
                                                        "rgb(97,30,82)"
                                                    ],
                                                    [
                                                        0.3137254901960784,
                                                        "rgb(123,30,89)"
                                                    ],
                                                    [
                                                        0.3764705882352941,
                                                        "rgb(150,27,91)"
                                                    ],
                                                    [
                                                        0.4392156862745098,
                                                        "rgb(177,22,88)"
                                                    ],
                                                    [
                                                        0.5019607843137255,
                                                        "rgb(203,26,79)"
                                                    ],
                                                    [
                                                        0.5647058823529412,
                                                        "rgb(223,47,67)"
                                                    ],
                                                    [
                                                        0.6274509803921569,
                                                        "rgb(236,76,61)"
                                                    ],
                                                    [
                                                        0.6901960784313725,
                                                        "rgb(242,107,73)"
                                                    ],
                                                    [
                                                        0.7529411764705882,
                                                        "rgb(244,135,95)"
                                                    ],
                                                    [
                                                        0.8156862745098039,
                                                        "rgb(245,162,122)"
                                                    ],
                                                    [
                                                        0.8784313725490196,
                                                        "rgb(246,188,153)"
                                                    ],
                                                    [
                                                        0.9411764705882353,
                                                        "rgb(247,212,187)"
                                                    ],
                                                    [
                                                        1,
                                                        "rgb(250,234,220)"
                                                    ]
                                                ],
                                                "type": "histogram2d"
                                            }
                                        ],
                                        "histogram2dcontour": [
                                            {
                                                "colorbar": {
                                                    "outlinewidth": 0,
                                                    "tickcolor": "rgb(36,36,36)",
                                                    "ticklen": 8,
                                                    "ticks": "outside",
                                                    "tickwidth": 2
                                                },
                                                "colorscale": [
                                                    [
                                                        0,
                                                        "rgb(2,4,25)"
                                                    ],
                                                    [
                                                        0.06274509803921569,
                                                        "rgb(24,15,41)"
                                                    ],
                                                    [
                                                        0.12549019607843137,
                                                        "rgb(47,23,57)"
                                                    ],
                                                    [
                                                        0.18823529411764706,
                                                        "rgb(71,28,72)"
                                                    ],
                                                    [
                                                        0.25098039215686274,
                                                        "rgb(97,30,82)"
                                                    ],
                                                    [
                                                        0.3137254901960784,
                                                        "rgb(123,30,89)"
                                                    ],
                                                    [
                                                        0.3764705882352941,
                                                        "rgb(150,27,91)"
                                                    ],
                                                    [
                                                        0.4392156862745098,
                                                        "rgb(177,22,88)"
                                                    ],
                                                    [
                                                        0.5019607843137255,
                                                        "rgb(203,26,79)"
                                                    ],
                                                    [
                                                        0.5647058823529412,
                                                        "rgb(223,47,67)"
                                                    ],
                                                    [
                                                        0.6274509803921569,
                                                        "rgb(236,76,61)"
                                                    ],
                                                    [
                                                        0.6901960784313725,
                                                        "rgb(242,107,73)"
                                                    ],
                                                    [
                                                        0.7529411764705882,
                                                        "rgb(244,135,95)"
                                                    ],
                                                    [
                                                        0.8156862745098039,
                                                        "rgb(245,162,122)"
                                                    ],
                                                    [
                                                        0.8784313725490196,
                                                        "rgb(246,188,153)"
                                                    ],
                                                    [
                                                        0.9411764705882353,
                                                        "rgb(247,212,187)"
                                                    ],
                                                    [
                                                        1,
                                                        "rgb(250,234,220)"
                                                    ]
                                                ],
                                                "type": "histogram2dcontour"
                                            }
                                        ],
                                        "mesh3d": [
                                            {
                                                "colorbar": {
                                                    "outlinewidth": 0,
                                                    "tickcolor": "rgb(36,36,36)",
                                                    "ticklen": 8,
                                                    "ticks": "outside",
                                                    "tickwidth": 2
                                                },
                                                "type": "mesh3d"
                                            }
                                        ],
                                        "parcoords": [
                                            {
                                                "line": {
                                                    "colorbar": {
                                                        "outlinewidth": 0,
                                                        "tickcolor": "rgb(36,36,36)",
                                                        "ticklen": 8,
                                                        "ticks": "outside",
                                                        "tickwidth": 2
                                                    }
                                                },
                                                "type": "parcoords"
                                            }
                                        ],
                                        "pie": [
                                            {
                                                "automargin": true,
                                                "type": "pie"
                                            }
                                        ],
                                        "scatter": [
                                            {
                                                "marker": {
                                                    "colorbar": {
                                                        "outlinewidth": 0,
                                                        "tickcolor": "rgb(36,36,36)",
                                                        "ticklen": 8,
                                                        "ticks": "outside",
                                                        "tickwidth": 2
                                                    }
                                                },
                                                "type": "scatter"
                                            }
                                        ],
                                        "scatter3d": [
                                            {
                                                "line": {
                                                    "colorbar": {
                                                        "outlinewidth": 0,
                                                        "tickcolor": "rgb(36,36,36)",
                                                        "ticklen": 8,
                                                        "ticks": "outside",
                                                        "tickwidth": 2
                                                    }
                                                },
                                                "marker": {
                                                    "colorbar": {
                                                        "outlinewidth": 0,
                                                        "tickcolor": "rgb(36,36,36)",
                                                        "ticklen": 8,
                                                        "ticks": "outside",
                                                        "tickwidth": 2
                                                    }
                                                },
                                                "type": "scatter3d"
                                            }
                                        ],
                                        "scattercarpet": [
                                            {
                                                "marker": {
                                                    "colorbar": {
                                                        "outlinewidth": 0,
                                                        "tickcolor": "rgb(36,36,36)",
                                                        "ticklen": 8,
                                                        "ticks": "outside",
                                                        "tickwidth": 2
                                                    }
                                                },
                                                "type": "scattercarpet"
                                            }
                                        ],
                                        "scattergeo": [
                                            {
                                                "marker": {
                                                    "colorbar": {
                                                        "outlinewidth": 0,
                                                        "tickcolor": "rgb(36,36,36)",
                                                        "ticklen": 8,
                                                        "ticks": "outside",
                                                        "tickwidth": 2
                                                    }
                                                },
                                                "type": "scattergeo"
                                            }
                                        ],
                                        "scattergl": [
                                            {
                                                "marker": {
                                                    "colorbar": {
                                                        "outlinewidth": 0,
                                                        "tickcolor": "rgb(36,36,36)",
                                                        "ticklen": 8,
                                                        "ticks": "outside",
                                                        "tickwidth": 2
                                                    }
                                                },
                                                "type": "scattergl"
                                            }
                                        ],
                                        "scattermapbox": [
                                            {
                                                "marker": {
                                                    "colorbar": {
                                                        "outlinewidth": 0,
                                                        "tickcolor": "rgb(36,36,36)",
                                                        "ticklen": 8,
                                                        "ticks": "outside",
                                                        "tickwidth": 2
                                                    }
                                                },
                                                "type": "scattermapbox"
                                            }
                                        ],
                                        "scatterpolar": [
                                            {
                                                "marker": {
                                                    "colorbar": {
                                                        "outlinewidth": 0,
                                                        "tickcolor": "rgb(36,36,36)",
                                                        "ticklen": 8,
                                                        "ticks": "outside",
                                                        "tickwidth": 2
                                                    }
                                                },
                                                "type": "scatterpolar"
                                            }
                                        ],
                                        "scatterpolargl": [
                                            {
                                                "marker": {
                                                    "colorbar": {
                                                        "outlinewidth": 0,
                                                        "tickcolor": "rgb(36,36,36)",
                                                        "ticklen": 8,
                                                        "ticks": "outside",
                                                        "tickwidth": 2
                                                    }
                                                },
                                                "type": "scatterpolargl"
                                            }
                                        ],
                                        "scatterternary": [
                                            {
                                                "marker": {
                                                    "colorbar": {
                                                        "outlinewidth": 0,
                                                        "tickcolor": "rgb(36,36,36)",
                                                        "ticklen": 8,
                                                        "ticks": "outside",
                                                        "tickwidth": 2
                                                    }
                                                },
                                                "type": "scatterternary"
                                            }
                                        ],
                                        "surface": [
                                            {
                                                "colorbar": {
                                                    "outlinewidth": 0,
                                                    "tickcolor": "rgb(36,36,36)",
                                                    "ticklen": 8,
                                                    "ticks": "outside",
                                                    "tickwidth": 2
                                                },
                                                "colorscale": [
                                                    [
                                                        0,
                                                        "rgb(2,4,25)"
                                                    ],
                                                    [
                                                        0.06274509803921569,
                                                        "rgb(24,15,41)"
                                                    ],
                                                    [
                                                        0.12549019607843137,
                                                        "rgb(47,23,57)"
                                                    ],
                                                    [
                                                        0.18823529411764706,
                                                        "rgb(71,28,72)"
                                                    ],
                                                    [
                                                        0.25098039215686274,
                                                        "rgb(97,30,82)"
                                                    ],
                                                    [
                                                        0.3137254901960784,
                                                        "rgb(123,30,89)"
                                                    ],
                                                    [
                                                        0.3764705882352941,
                                                        "rgb(150,27,91)"
                                                    ],
                                                    [
                                                        0.4392156862745098,
                                                        "rgb(177,22,88)"
                                                    ],
                                                    [
                                                        0.5019607843137255,
                                                        "rgb(203,26,79)"
                                                    ],
                                                    [
                                                        0.5647058823529412,
                                                        "rgb(223,47,67)"
                                                    ],
                                                    [
                                                        0.6274509803921569,
                                                        "rgb(236,76,61)"
                                                    ],
                                                    [
                                                        0.6901960784313725,
                                                        "rgb(242,107,73)"
                                                    ],
                                                    [
                                                        0.7529411764705882,
                                                        "rgb(244,135,95)"
                                                    ],
                                                    [
                                                        0.8156862745098039,
                                                        "rgb(245,162,122)"
                                                    ],
                                                    [
                                                        0.8784313725490196,
                                                        "rgb(246,188,153)"
                                                    ],
                                                    [
                                                        0.9411764705882353,
                                                        "rgb(247,212,187)"
                                                    ],
                                                    [
                                                        1,
                                                        "rgb(250,234,220)"
                                                    ]
                                                ],
                                                "type": "surface"
                                            }
                                        ],
                                        "table": [
                                            {
                                                "cells": {
                                                    "fill": {
                                                        "color": "rgb(231,231,240)"
                                                    },
                                                    "line": {
                                                        "color": "white"
                                                    }
                                                },
                                                "header": {
                                                    "fill": {
                                                        "color": "rgb(183,183,191)"
                                                    },
                                                    "line": {
                                                        "color": "white"
                                                    }
                                                },
                                                "type": "table"
                                            }
                                        ]
                                    },
                                    "layout": {
                                        "annotationdefaults": {
                                            "arrowcolor": "rgb(67,103,167)"
                                        },
                                        "autotypenumbers": "strict",
                                        "coloraxis": {
                                            "colorbar": {
                                                "outlinewidth": 0,
                                                "tickcolor": "rgb(36,36,36)",
                                                "ticklen": 8,
                                                "ticks": "outside",
                                                "tickwidth": 2
                                            }
                                        },
                                        "colorscale": {
                                            "sequential": [
                                                [
                                                    0,
                                                    "rgb(2,4,25)"
                                                ],
                                                [
                                                    0.06274509803921569,
                                                    "rgb(24,15,41)"
                                                ],
                                                [
                                                    0.12549019607843137,
                                                    "rgb(47,23,57)"
                                                ],
                                                [
                                                    0.18823529411764706,
                                                    "rgb(71,28,72)"
                                                ],
                                                [
                                                    0.25098039215686274,
                                                    "rgb(97,30,82)"
                                                ],
                                                [
                                                    0.3137254901960784,
                                                    "rgb(123,30,89)"
                                                ],
                                                [
                                                    0.3764705882352941,
                                                    "rgb(150,27,91)"
                                                ],
                                                [
                                                    0.4392156862745098,
                                                    "rgb(177,22,88)"
                                                ],
                                                [
                                                    0.5019607843137255,
                                                    "rgb(203,26,79)"
                                                ],
                                                [
                                                    0.5647058823529412,
                                                    "rgb(223,47,67)"
                                                ],
                                                [
                                                    0.6274509803921569,
                                                    "rgb(236,76,61)"
                                                ],
                                                [
                                                    0.6901960784313725,
                                                    "rgb(242,107,73)"
                                                ],
                                                [
                                                    0.7529411764705882,
                                                    "rgb(244,135,95)"
                                                ],
                                                [
                                                    0.8156862745098039,
                                                    "rgb(245,162,122)"
                                                ],
                                                [
                                                    0.8784313725490196,
                                                    "rgb(246,188,153)"
                                                ],
                                                [
                                                    0.9411764705882353,
                                                    "rgb(247,212,187)"
                                                ],
                                                [
                                                    1,
                                                    "rgb(250,234,220)"
                                                ]
                                            ],
                                            "sequentialminus": [
                                                [
                                                    0,
                                                    "rgb(2,4,25)"
                                                ],
                                                [
                                                    0.06274509803921569,
                                                    "rgb(24,15,41)"
                                                ],
                                                [
                                                    0.12549019607843137,
                                                    "rgb(47,23,57)"
                                                ],
                                                [
                                                    0.18823529411764706,
                                                    "rgb(71,28,72)"
                                                ],
                                                [
                                                    0.25098039215686274,
                                                    "rgb(97,30,82)"
                                                ],
                                                [
                                                    0.3137254901960784,
                                                    "rgb(123,30,89)"
                                                ],
                                                [
                                                    0.3764705882352941,
                                                    "rgb(150,27,91)"
                                                ],
                                                [
                                                    0.4392156862745098,
                                                    "rgb(177,22,88)"
                                                ],
                                                [
                                                    0.5019607843137255,
                                                    "rgb(203,26,79)"
                                                ],
                                                [
                                                    0.5647058823529412,
                                                    "rgb(223,47,67)"
                                                ],
                                                [
                                                    0.6274509803921569,
                                                    "rgb(236,76,61)"
                                                ],
                                                [
                                                    0.6901960784313725,
                                                    "rgb(242,107,73)"
                                                ],
                                                [
                                                    0.7529411764705882,
                                                    "rgb(244,135,95)"
                                                ],
                                                [
                                                    0.8156862745098039,
                                                    "rgb(245,162,122)"
                                                ],
                                                [
                                                    0.8784313725490196,
                                                    "rgb(246,188,153)"
                                                ],
                                                [
                                                    0.9411764705882353,
                                                    "rgb(247,212,187)"
                                                ],
                                                [
                                                    1,
                                                    "rgb(250,234,220)"
                                                ]
                                            ]
                                        },
                                        "colorway": [
                                            "rgb(76,114,176)",
                                            "rgb(221,132,82)",
                                            "rgb(85,168,104)",
                                            "rgb(196,78,82)",
                                            "rgb(129,114,179)",
                                            "rgb(147,120,96)",
                                            "rgb(218,139,195)",
                                            "rgb(140,140,140)",
                                            "rgb(204,185,116)",
                                            "rgb(100,181,205)"
                                        ],
                                        "font": {
                                            "color": "rgb(36,36,36)"
                                        },
                                        "geo": {
                                            "bgcolor": "white",
                                            "lakecolor": "white",
                                            "landcolor": "rgb(234,234,242)",
                                            "showlakes": true,
                                            "showland": true,
                                            "subunitcolor": "white"
                                        },
                                        "hoverlabel": {
                                            "align": "left"
                                        },
                                        "hovermode": "closest",
                                        "paper_bgcolor": "white",
                                        "plot_bgcolor": "rgb(234,234,242)",
                                        "polar": {
                                            "angularaxis": {
                                                "gridcolor": "white",
                                                "linecolor": "white",
                                                "showgrid": true,
                                                "ticks": ""
                                            },
                                            "bgcolor": "rgb(234,234,242)",
                                            "radialaxis": {
                                                "gridcolor": "white",
                                                "linecolor": "white",
                                                "showgrid": true,
                                                "ticks": ""
                                            }
                                        },
                                        "scene": {
                                            "xaxis": {
                                                "backgroundcolor": "rgb(234,234,242)",
                                                "gridcolor": "white",
                                                "gridwidth": 2,
                                                "linecolor": "white",
                                                "showbackground": true,
                                                "showgrid": true,
                                                "ticks": "",
                                                "zerolinecolor": "white"
                                            },
                                            "yaxis": {
                                                "backgroundcolor": "rgb(234,234,242)",
                                                "gridcolor": "white",
                                                "gridwidth": 2,
                                                "linecolor": "white",
                                                "showbackground": true,
                                                "showgrid": true,
                                                "ticks": "",
                                                "zerolinecolor": "white"
                                            },
                                            "zaxis": {
                                                "backgroundcolor": "rgb(234,234,242)",
                                                "gridcolor": "white",
                                                "gridwidth": 2,
                                                "linecolor": "white",
                                                "showbackground": true,
                                                "showgrid": true,
                                                "ticks": "",
                                                "zerolinecolor": "white"
                                            }
                                        },
                                        "shapedefaults": {
                                            "fillcolor": "rgb(67,103,167)",
                                            "line": {
                                                "width": 0
                                            },
                                            "opacity": 0.5
                                        },
                                        "ternary": {
                                            "aaxis": {
                                                "gridcolor": "white",
                                                "linecolor": "white",
                                                "showgrid": true,
                                                "ticks": ""
                                            },
                                            "baxis": {
                                                "gridcolor": "white",
                                                "linecolor": "white",
                                                "showgrid": true,
                                                "ticks": ""
                                            },
                                            "bgcolor": "rgb(234,234,242)",
                                            "caxis": {
                                                "gridcolor": "white",
                                                "linecolor": "white",
                                                "showgrid": true,
                                                "ticks": ""
                                            }
                                        },
                                        "xaxis": {
                                            "automargin": true,
                                            "gridcolor": "white",
                                            "linecolor": "white",
                                            "showgrid": true,
                                            "ticks": "",
                                            "title": {
                                                "standoff": 15
                                            },
                                            "zerolinecolor": "white"
                                        },
                                        "yaxis": {
                                            "automargin": true,
                                            "gridcolor": "white",
                                            "linecolor": "white",
                                            "showgrid": true,
                                            "ticks": "",
                                            "title": {
                                                "standoff": 15
                                            },
                                            "zerolinecolor": "white"
                                        }
                                    }
                                },
                                "title": {
                                    "text": "Descontos Aplicados - Categorias"
                                },
                                "uniformtext": {
                                    "minsize": 10,
                                    "mode": "hide"
                                },
                                "width": 800,
                                "xaxis": {
                                    "anchor": "y",
                                    "domain": [
                                        0,
                                        1
                                    ],
                                    "title": {
                                        "text": "Categorias"
                                    }
                                },
                                "yaxis": {
                                    "anchor": "x",
                                    "domain": [
                                        0,
                                        1
                                    ],
                                    "title": {
                                        "text": "Descontos [R$]"
                                    }
                                }
                            }
                        }
                    },
                    "metadata": {}
                }
            ],
            "metadata": {}
        },
        {
            "cell_type": "code",
            "execution_count": 23,
            "source": [
                "desc"
            ],
            "outputs": [
                {
                    "output_type": "execute_result",
                    "data": {
                        "text/html": [
                            "<div>\n",
                            "<style scoped>\n",
                            "    .dataframe tbody tr th:only-of-type {\n",
                            "        vertical-align: middle;\n",
                            "    }\n",
                            "\n",
                            "    .dataframe tbody tr th {\n",
                            "        vertical-align: top;\n",
                            "    }\n",
                            "\n",
                            "    .dataframe thead th {\n",
                            "        text-align: right;\n",
                            "    }\n",
                            "</style>\n",
                            "<table border=\"1\" class=\"dataframe\">\n",
                            "  <thead>\n",
                            "    <tr style=\"text-align: right;\">\n",
                            "      <th></th>\n",
                            "      <th>Produto_Categoria</th>\n",
                            "      <th>Ciclo</th>\n",
                            "      <th>Receita_Bruta</th>\n",
                            "      <th>Receita_Liquida</th>\n",
                            "      <th>Desconto</th>\n",
                            "      <th>Qtde_itens</th>\n",
                            "      <th>Valor_med_p_item</th>\n",
                            "      <th>Desc_p_item</th>\n",
                            "      <th>Media_desc_p_item</th>\n",
                            "    </tr>\n",
                            "  </thead>\n",
                            "  <tbody>\n",
                            "    <tr>\n",
                            "      <th>1</th>\n",
                            "      <td>ACESSÓRIOS</td>\n",
                            "      <td>Mar-2020</td>\n",
                            "      <td>313699.54</td>\n",
                            "      <td>266689.34</td>\n",
                            "      <td>47010.20</td>\n",
                            "      <td>10063</td>\n",
                            "      <td>31.17</td>\n",
                            "      <td>4.67</td>\n",
                            "      <td>14.98</td>\n",
                            "    </tr>\n",
                            "    <tr>\n",
                            "      <th>6</th>\n",
                            "      <td>PERFUMARIA MASCULINA</td>\n",
                            "      <td>Fev-2020</td>\n",
                            "      <td>232403.28</td>\n",
                            "      <td>197515.80</td>\n",
                            "      <td>34887.48</td>\n",
                            "      <td>7397</td>\n",
                            "      <td>31.42</td>\n",
                            "      <td>4.72</td>\n",
                            "      <td>15.02</td>\n",
                            "    </tr>\n",
                            "    <tr>\n",
                            "      <th>0</th>\n",
                            "      <td>ACESSÓRIOS</td>\n",
                            "      <td>Fev-2020</td>\n",
                            "      <td>262070.35</td>\n",
                            "      <td>222778.69</td>\n",
                            "      <td>39291.66</td>\n",
                            "      <td>6700</td>\n",
                            "      <td>39.11</td>\n",
                            "      <td>5.86</td>\n",
                            "      <td>14.98</td>\n",
                            "    </tr>\n",
                            "    <tr>\n",
                            "      <th>7</th>\n",
                            "      <td>PERFUMARIA MASCULINA</td>\n",
                            "      <td>Mar-2020</td>\n",
                            "      <td>196643.09</td>\n",
                            "      <td>167131.69</td>\n",
                            "      <td>29511.40</td>\n",
                            "      <td>5368</td>\n",
                            "      <td>36.63</td>\n",
                            "      <td>5.50</td>\n",
                            "      <td>15.02</td>\n",
                            "    </tr>\n",
                            "    <tr>\n",
                            "      <th>8</th>\n",
                            "      <td>SUPORTE À VENDA</td>\n",
                            "      <td>Fev-2020</td>\n",
                            "      <td>7290.00</td>\n",
                            "      <td>6196.50</td>\n",
                            "      <td>1093.50</td>\n",
                            "      <td>3645</td>\n",
                            "      <td>2.00</td>\n",
                            "      <td>0.30</td>\n",
                            "      <td>15.00</td>\n",
                            "    </tr>\n",
                            "    <tr>\n",
                            "      <th>9</th>\n",
                            "      <td>SUPORTE À VENDA</td>\n",
                            "      <td>Mar-2020</td>\n",
                            "      <td>6970.19</td>\n",
                            "      <td>5924.66</td>\n",
                            "      <td>1045.53</td>\n",
                            "      <td>3456</td>\n",
                            "      <td>2.02</td>\n",
                            "      <td>0.30</td>\n",
                            "      <td>14.85</td>\n",
                            "    </tr>\n",
                            "    <tr>\n",
                            "      <th>4</th>\n",
                            "      <td>PERFUMARIA FEMININA</td>\n",
                            "      <td>Fev-2020</td>\n",
                            "      <td>40795.17</td>\n",
                            "      <td>34684.71</td>\n",
                            "      <td>6110.46</td>\n",
                            "      <td>1776</td>\n",
                            "      <td>22.97</td>\n",
                            "      <td>3.44</td>\n",
                            "      <td>14.98</td>\n",
                            "    </tr>\n",
                            "    <tr>\n",
                            "      <th>5</th>\n",
                            "      <td>PERFUMARIA FEMININA</td>\n",
                            "      <td>Mar-2020</td>\n",
                            "      <td>36921.41</td>\n",
                            "      <td>31391.09</td>\n",
                            "      <td>5530.32</td>\n",
                            "      <td>1601</td>\n",
                            "      <td>23.06</td>\n",
                            "      <td>3.45</td>\n",
                            "      <td>14.96</td>\n",
                            "    </tr>\n",
                            "    <tr>\n",
                            "      <th>3</th>\n",
                            "      <td>GIFTS</td>\n",
                            "      <td>Mar-2020</td>\n",
                            "      <td>10044.83</td>\n",
                            "      <td>8538.45</td>\n",
                            "      <td>1506.38</td>\n",
                            "      <td>454</td>\n",
                            "      <td>22.13</td>\n",
                            "      <td>3.32</td>\n",
                            "      <td>15.00</td>\n",
                            "    </tr>\n",
                            "    <tr>\n",
                            "      <th>2</th>\n",
                            "      <td>GIFTS</td>\n",
                            "      <td>Fev-2020</td>\n",
                            "      <td>8055.95</td>\n",
                            "      <td>6848.93</td>\n",
                            "      <td>1207.02</td>\n",
                            "      <td>360</td>\n",
                            "      <td>22.38</td>\n",
                            "      <td>3.35</td>\n",
                            "      <td>14.97</td>\n",
                            "    </tr>\n",
                            "  </tbody>\n",
                            "</table>\n",
                            "</div>"
                        ],
                        "text/plain": [
                            "      Produto_Categoria     Ciclo  Receita_Bruta  Receita_Liquida  Desconto  \\\n",
                            "1            ACESSÓRIOS  Mar-2020      313699.54        266689.34  47010.20   \n",
                            "6  PERFUMARIA MASCULINA  Fev-2020      232403.28        197515.80  34887.48   \n",
                            "0            ACESSÓRIOS  Fev-2020      262070.35        222778.69  39291.66   \n",
                            "7  PERFUMARIA MASCULINA  Mar-2020      196643.09        167131.69  29511.40   \n",
                            "8       SUPORTE À VENDA  Fev-2020        7290.00          6196.50   1093.50   \n",
                            "9       SUPORTE À VENDA  Mar-2020        6970.19          5924.66   1045.53   \n",
                            "4   PERFUMARIA FEMININA  Fev-2020       40795.17         34684.71   6110.46   \n",
                            "5   PERFUMARIA FEMININA  Mar-2020       36921.41         31391.09   5530.32   \n",
                            "3                 GIFTS  Mar-2020       10044.83          8538.45   1506.38   \n",
                            "2                 GIFTS  Fev-2020        8055.95          6848.93   1207.02   \n",
                            "\n",
                            "   Qtde_itens  Valor_med_p_item  Desc_p_item  Media_desc_p_item  \n",
                            "1       10063             31.17         4.67              14.98  \n",
                            "6        7397             31.42         4.72              15.02  \n",
                            "0        6700             39.11         5.86              14.98  \n",
                            "7        5368             36.63         5.50              15.02  \n",
                            "8        3645              2.00         0.30              15.00  \n",
                            "9        3456              2.02         0.30              14.85  \n",
                            "4        1776             22.97         3.44              14.98  \n",
                            "5        1601             23.06         3.45              14.96  \n",
                            "3         454             22.13         3.32              15.00  \n",
                            "2         360             22.38         3.35              14.97  "
                        ]
                    },
                    "metadata": {},
                    "execution_count": 23
                }
            ],
            "metadata": {}
        },
        {
            "cell_type": "code",
            "execution_count": 24,
            "source": [
                "fig = px.bar(desc, x=\"Produto_Categoria\", y=\"Media_desc_p_item\", \\\n",
                "    text=\"Media_desc_p_item\", color=\"Ciclo\", hover_data=['Valor_med_p_item', 'Qtde_itens', 'Desc_p_item'], template=\"seaborn\")\n",
                "\n",
                "fig.update_layout(\n",
                "    margin=dict(l=20, r=50, t=50, b=20),\n",
                "    title = 'Percentual de Descontos aplicados por Item',\n",
                "    xaxis_title=\"Categorias\",\n",
                "    yaxis_title=\"Descontos [R$]\",\n",
                "    legend_title=\"Ciclo\",\n",
                "    width=800, \n",
                "    height=700,\n",
                "    uniformtext_minsize=10, \n",
                "    uniformtext_mode='hide',\n",
                ")\n",
                "fig.show()"
            ],
            "outputs": [
                {
                    "output_type": "display_data",
                    "data": {
                        "application/vnd.plotly.v1+json": {
                            "config": {
                                "plotlyServerURL": "https://plot.ly"
                            },
                            "data": [
                                {
                                    "alignmentgroup": "True",
                                    "customdata": [
                                        [
                                            31.17,
                                            10063,
                                            4.67
                                        ],
                                        [
                                            36.63,
                                            5368,
                                            5.5
                                        ],
                                        [
                                            2.02,
                                            3456,
                                            0.3
                                        ],
                                        [
                                            23.06,
                                            1601,
                                            3.45
                                        ],
                                        [
                                            22.13,
                                            454,
                                            3.32
                                        ]
                                    ],
                                    "hovertemplate": "Ciclo=Mar-2020<br>Produto_Categoria=%{x}<br>Media_desc_p_item=%{text}<br>Valor_med_p_item=%{customdata[0]}<br>Qtde_itens=%{customdata[1]}<br>Desc_p_item=%{customdata[2]}<extra></extra>",
                                    "legendgroup": "Mar-2020",
                                    "marker": {
                                        "color": "rgb(76,114,176)",
                                        "pattern": {
                                            "shape": ""
                                        }
                                    },
                                    "name": "Mar-2020",
                                    "offsetgroup": "Mar-2020",
                                    "orientation": "v",
                                    "showlegend": true,
                                    "text": [
                                        14.98,
                                        15.02,
                                        14.85,
                                        14.96,
                                        15
                                    ],
                                    "textposition": "auto",
                                    "type": "bar",
                                    "x": [
                                        "ACESSÓRIOS",
                                        "PERFUMARIA MASCULINA",
                                        "SUPORTE À VENDA",
                                        "PERFUMARIA FEMININA",
                                        "GIFTS"
                                    ],
                                    "xaxis": "x",
                                    "y": [
                                        14.98,
                                        15.02,
                                        14.85,
                                        14.96,
                                        15
                                    ],
                                    "yaxis": "y"
                                },
                                {
                                    "alignmentgroup": "True",
                                    "customdata": [
                                        [
                                            31.42,
                                            7397,
                                            4.72
                                        ],
                                        [
                                            39.11,
                                            6700,
                                            5.86
                                        ],
                                        [
                                            2,
                                            3645,
                                            0.3
                                        ],
                                        [
                                            22.97,
                                            1776,
                                            3.44
                                        ],
                                        [
                                            22.38,
                                            360,
                                            3.35
                                        ]
                                    ],
                                    "hovertemplate": "Ciclo=Fev-2020<br>Produto_Categoria=%{x}<br>Media_desc_p_item=%{text}<br>Valor_med_p_item=%{customdata[0]}<br>Qtde_itens=%{customdata[1]}<br>Desc_p_item=%{customdata[2]}<extra></extra>",
                                    "legendgroup": "Fev-2020",
                                    "marker": {
                                        "color": "rgb(221,132,82)",
                                        "pattern": {
                                            "shape": ""
                                        }
                                    },
                                    "name": "Fev-2020",
                                    "offsetgroup": "Fev-2020",
                                    "orientation": "v",
                                    "showlegend": true,
                                    "text": [
                                        15.02,
                                        14.98,
                                        15,
                                        14.98,
                                        14.97
                                    ],
                                    "textposition": "auto",
                                    "type": "bar",
                                    "x": [
                                        "PERFUMARIA MASCULINA",
                                        "ACESSÓRIOS",
                                        "SUPORTE À VENDA",
                                        "PERFUMARIA FEMININA",
                                        "GIFTS"
                                    ],
                                    "xaxis": "x",
                                    "y": [
                                        15.02,
                                        14.98,
                                        15,
                                        14.98,
                                        14.97
                                    ],
                                    "yaxis": "y"
                                }
                            ],
                            "layout": {
                                "barmode": "relative",
                                "height": 700,
                                "legend": {
                                    "title": {
                                        "text": "Ciclo"
                                    },
                                    "tracegroupgap": 0
                                },
                                "margin": {
                                    "b": 20,
                                    "l": 20,
                                    "r": 50,
                                    "t": 50
                                },
                                "template": {
                                    "data": {
                                        "bar": [
                                            {
                                                "error_x": {
                                                    "color": "rgb(36,36,36)"
                                                },
                                                "error_y": {
                                                    "color": "rgb(36,36,36)"
                                                },
                                                "marker": {
                                                    "line": {
                                                        "color": "rgb(234,234,242)",
                                                        "width": 0.5
                                                    },
                                                    "pattern": {
                                                        "fillmode": "overlay",
                                                        "size": 10,
                                                        "solidity": 0.2
                                                    }
                                                },
                                                "type": "bar"
                                            }
                                        ],
                                        "barpolar": [
                                            {
                                                "marker": {
                                                    "line": {
                                                        "color": "rgb(234,234,242)",
                                                        "width": 0.5
                                                    },
                                                    "pattern": {
                                                        "fillmode": "overlay",
                                                        "size": 10,
                                                        "solidity": 0.2
                                                    }
                                                },
                                                "type": "barpolar"
                                            }
                                        ],
                                        "carpet": [
                                            {
                                                "aaxis": {
                                                    "endlinecolor": "rgb(36,36,36)",
                                                    "gridcolor": "white",
                                                    "linecolor": "white",
                                                    "minorgridcolor": "white",
                                                    "startlinecolor": "rgb(36,36,36)"
                                                },
                                                "baxis": {
                                                    "endlinecolor": "rgb(36,36,36)",
                                                    "gridcolor": "white",
                                                    "linecolor": "white",
                                                    "minorgridcolor": "white",
                                                    "startlinecolor": "rgb(36,36,36)"
                                                },
                                                "type": "carpet"
                                            }
                                        ],
                                        "choropleth": [
                                            {
                                                "colorbar": {
                                                    "outlinewidth": 0,
                                                    "tickcolor": "rgb(36,36,36)",
                                                    "ticklen": 8,
                                                    "ticks": "outside",
                                                    "tickwidth": 2
                                                },
                                                "type": "choropleth"
                                            }
                                        ],
                                        "contour": [
                                            {
                                                "colorbar": {
                                                    "outlinewidth": 0,
                                                    "tickcolor": "rgb(36,36,36)",
                                                    "ticklen": 8,
                                                    "ticks": "outside",
                                                    "tickwidth": 2
                                                },
                                                "colorscale": [
                                                    [
                                                        0,
                                                        "rgb(2,4,25)"
                                                    ],
                                                    [
                                                        0.06274509803921569,
                                                        "rgb(24,15,41)"
                                                    ],
                                                    [
                                                        0.12549019607843137,
                                                        "rgb(47,23,57)"
                                                    ],
                                                    [
                                                        0.18823529411764706,
                                                        "rgb(71,28,72)"
                                                    ],
                                                    [
                                                        0.25098039215686274,
                                                        "rgb(97,30,82)"
                                                    ],
                                                    [
                                                        0.3137254901960784,
                                                        "rgb(123,30,89)"
                                                    ],
                                                    [
                                                        0.3764705882352941,
                                                        "rgb(150,27,91)"
                                                    ],
                                                    [
                                                        0.4392156862745098,
                                                        "rgb(177,22,88)"
                                                    ],
                                                    [
                                                        0.5019607843137255,
                                                        "rgb(203,26,79)"
                                                    ],
                                                    [
                                                        0.5647058823529412,
                                                        "rgb(223,47,67)"
                                                    ],
                                                    [
                                                        0.6274509803921569,
                                                        "rgb(236,76,61)"
                                                    ],
                                                    [
                                                        0.6901960784313725,
                                                        "rgb(242,107,73)"
                                                    ],
                                                    [
                                                        0.7529411764705882,
                                                        "rgb(244,135,95)"
                                                    ],
                                                    [
                                                        0.8156862745098039,
                                                        "rgb(245,162,122)"
                                                    ],
                                                    [
                                                        0.8784313725490196,
                                                        "rgb(246,188,153)"
                                                    ],
                                                    [
                                                        0.9411764705882353,
                                                        "rgb(247,212,187)"
                                                    ],
                                                    [
                                                        1,
                                                        "rgb(250,234,220)"
                                                    ]
                                                ],
                                                "type": "contour"
                                            }
                                        ],
                                        "contourcarpet": [
                                            {
                                                "colorbar": {
                                                    "outlinewidth": 0,
                                                    "tickcolor": "rgb(36,36,36)",
                                                    "ticklen": 8,
                                                    "ticks": "outside",
                                                    "tickwidth": 2
                                                },
                                                "type": "contourcarpet"
                                            }
                                        ],
                                        "heatmap": [
                                            {
                                                "colorbar": {
                                                    "outlinewidth": 0,
                                                    "tickcolor": "rgb(36,36,36)",
                                                    "ticklen": 8,
                                                    "ticks": "outside",
                                                    "tickwidth": 2
                                                },
                                                "colorscale": [
                                                    [
                                                        0,
                                                        "rgb(2,4,25)"
                                                    ],
                                                    [
                                                        0.06274509803921569,
                                                        "rgb(24,15,41)"
                                                    ],
                                                    [
                                                        0.12549019607843137,
                                                        "rgb(47,23,57)"
                                                    ],
                                                    [
                                                        0.18823529411764706,
                                                        "rgb(71,28,72)"
                                                    ],
                                                    [
                                                        0.25098039215686274,
                                                        "rgb(97,30,82)"
                                                    ],
                                                    [
                                                        0.3137254901960784,
                                                        "rgb(123,30,89)"
                                                    ],
                                                    [
                                                        0.3764705882352941,
                                                        "rgb(150,27,91)"
                                                    ],
                                                    [
                                                        0.4392156862745098,
                                                        "rgb(177,22,88)"
                                                    ],
                                                    [
                                                        0.5019607843137255,
                                                        "rgb(203,26,79)"
                                                    ],
                                                    [
                                                        0.5647058823529412,
                                                        "rgb(223,47,67)"
                                                    ],
                                                    [
                                                        0.6274509803921569,
                                                        "rgb(236,76,61)"
                                                    ],
                                                    [
                                                        0.6901960784313725,
                                                        "rgb(242,107,73)"
                                                    ],
                                                    [
                                                        0.7529411764705882,
                                                        "rgb(244,135,95)"
                                                    ],
                                                    [
                                                        0.8156862745098039,
                                                        "rgb(245,162,122)"
                                                    ],
                                                    [
                                                        0.8784313725490196,
                                                        "rgb(246,188,153)"
                                                    ],
                                                    [
                                                        0.9411764705882353,
                                                        "rgb(247,212,187)"
                                                    ],
                                                    [
                                                        1,
                                                        "rgb(250,234,220)"
                                                    ]
                                                ],
                                                "type": "heatmap"
                                            }
                                        ],
                                        "heatmapgl": [
                                            {
                                                "colorbar": {
                                                    "outlinewidth": 0,
                                                    "tickcolor": "rgb(36,36,36)",
                                                    "ticklen": 8,
                                                    "ticks": "outside",
                                                    "tickwidth": 2
                                                },
                                                "colorscale": [
                                                    [
                                                        0,
                                                        "rgb(2,4,25)"
                                                    ],
                                                    [
                                                        0.06274509803921569,
                                                        "rgb(24,15,41)"
                                                    ],
                                                    [
                                                        0.12549019607843137,
                                                        "rgb(47,23,57)"
                                                    ],
                                                    [
                                                        0.18823529411764706,
                                                        "rgb(71,28,72)"
                                                    ],
                                                    [
                                                        0.25098039215686274,
                                                        "rgb(97,30,82)"
                                                    ],
                                                    [
                                                        0.3137254901960784,
                                                        "rgb(123,30,89)"
                                                    ],
                                                    [
                                                        0.3764705882352941,
                                                        "rgb(150,27,91)"
                                                    ],
                                                    [
                                                        0.4392156862745098,
                                                        "rgb(177,22,88)"
                                                    ],
                                                    [
                                                        0.5019607843137255,
                                                        "rgb(203,26,79)"
                                                    ],
                                                    [
                                                        0.5647058823529412,
                                                        "rgb(223,47,67)"
                                                    ],
                                                    [
                                                        0.6274509803921569,
                                                        "rgb(236,76,61)"
                                                    ],
                                                    [
                                                        0.6901960784313725,
                                                        "rgb(242,107,73)"
                                                    ],
                                                    [
                                                        0.7529411764705882,
                                                        "rgb(244,135,95)"
                                                    ],
                                                    [
                                                        0.8156862745098039,
                                                        "rgb(245,162,122)"
                                                    ],
                                                    [
                                                        0.8784313725490196,
                                                        "rgb(246,188,153)"
                                                    ],
                                                    [
                                                        0.9411764705882353,
                                                        "rgb(247,212,187)"
                                                    ],
                                                    [
                                                        1,
                                                        "rgb(250,234,220)"
                                                    ]
                                                ],
                                                "type": "heatmapgl"
                                            }
                                        ],
                                        "histogram": [
                                            {
                                                "marker": {
                                                    "pattern": {
                                                        "fillmode": "overlay",
                                                        "size": 10,
                                                        "solidity": 0.2
                                                    }
                                                },
                                                "type": "histogram"
                                            }
                                        ],
                                        "histogram2d": [
                                            {
                                                "colorbar": {
                                                    "outlinewidth": 0,
                                                    "tickcolor": "rgb(36,36,36)",
                                                    "ticklen": 8,
                                                    "ticks": "outside",
                                                    "tickwidth": 2
                                                },
                                                "colorscale": [
                                                    [
                                                        0,
                                                        "rgb(2,4,25)"
                                                    ],
                                                    [
                                                        0.06274509803921569,
                                                        "rgb(24,15,41)"
                                                    ],
                                                    [
                                                        0.12549019607843137,
                                                        "rgb(47,23,57)"
                                                    ],
                                                    [
                                                        0.18823529411764706,
                                                        "rgb(71,28,72)"
                                                    ],
                                                    [
                                                        0.25098039215686274,
                                                        "rgb(97,30,82)"
                                                    ],
                                                    [
                                                        0.3137254901960784,
                                                        "rgb(123,30,89)"
                                                    ],
                                                    [
                                                        0.3764705882352941,
                                                        "rgb(150,27,91)"
                                                    ],
                                                    [
                                                        0.4392156862745098,
                                                        "rgb(177,22,88)"
                                                    ],
                                                    [
                                                        0.5019607843137255,
                                                        "rgb(203,26,79)"
                                                    ],
                                                    [
                                                        0.5647058823529412,
                                                        "rgb(223,47,67)"
                                                    ],
                                                    [
                                                        0.6274509803921569,
                                                        "rgb(236,76,61)"
                                                    ],
                                                    [
                                                        0.6901960784313725,
                                                        "rgb(242,107,73)"
                                                    ],
                                                    [
                                                        0.7529411764705882,
                                                        "rgb(244,135,95)"
                                                    ],
                                                    [
                                                        0.8156862745098039,
                                                        "rgb(245,162,122)"
                                                    ],
                                                    [
                                                        0.8784313725490196,
                                                        "rgb(246,188,153)"
                                                    ],
                                                    [
                                                        0.9411764705882353,
                                                        "rgb(247,212,187)"
                                                    ],
                                                    [
                                                        1,
                                                        "rgb(250,234,220)"
                                                    ]
                                                ],
                                                "type": "histogram2d"
                                            }
                                        ],
                                        "histogram2dcontour": [
                                            {
                                                "colorbar": {
                                                    "outlinewidth": 0,
                                                    "tickcolor": "rgb(36,36,36)",
                                                    "ticklen": 8,
                                                    "ticks": "outside",
                                                    "tickwidth": 2
                                                },
                                                "colorscale": [
                                                    [
                                                        0,
                                                        "rgb(2,4,25)"
                                                    ],
                                                    [
                                                        0.06274509803921569,
                                                        "rgb(24,15,41)"
                                                    ],
                                                    [
                                                        0.12549019607843137,
                                                        "rgb(47,23,57)"
                                                    ],
                                                    [
                                                        0.18823529411764706,
                                                        "rgb(71,28,72)"
                                                    ],
                                                    [
                                                        0.25098039215686274,
                                                        "rgb(97,30,82)"
                                                    ],
                                                    [
                                                        0.3137254901960784,
                                                        "rgb(123,30,89)"
                                                    ],
                                                    [
                                                        0.3764705882352941,
                                                        "rgb(150,27,91)"
                                                    ],
                                                    [
                                                        0.4392156862745098,
                                                        "rgb(177,22,88)"
                                                    ],
                                                    [
                                                        0.5019607843137255,
                                                        "rgb(203,26,79)"
                                                    ],
                                                    [
                                                        0.5647058823529412,
                                                        "rgb(223,47,67)"
                                                    ],
                                                    [
                                                        0.6274509803921569,
                                                        "rgb(236,76,61)"
                                                    ],
                                                    [
                                                        0.6901960784313725,
                                                        "rgb(242,107,73)"
                                                    ],
                                                    [
                                                        0.7529411764705882,
                                                        "rgb(244,135,95)"
                                                    ],
                                                    [
                                                        0.8156862745098039,
                                                        "rgb(245,162,122)"
                                                    ],
                                                    [
                                                        0.8784313725490196,
                                                        "rgb(246,188,153)"
                                                    ],
                                                    [
                                                        0.9411764705882353,
                                                        "rgb(247,212,187)"
                                                    ],
                                                    [
                                                        1,
                                                        "rgb(250,234,220)"
                                                    ]
                                                ],
                                                "type": "histogram2dcontour"
                                            }
                                        ],
                                        "mesh3d": [
                                            {
                                                "colorbar": {
                                                    "outlinewidth": 0,
                                                    "tickcolor": "rgb(36,36,36)",
                                                    "ticklen": 8,
                                                    "ticks": "outside",
                                                    "tickwidth": 2
                                                },
                                                "type": "mesh3d"
                                            }
                                        ],
                                        "parcoords": [
                                            {
                                                "line": {
                                                    "colorbar": {
                                                        "outlinewidth": 0,
                                                        "tickcolor": "rgb(36,36,36)",
                                                        "ticklen": 8,
                                                        "ticks": "outside",
                                                        "tickwidth": 2
                                                    }
                                                },
                                                "type": "parcoords"
                                            }
                                        ],
                                        "pie": [
                                            {
                                                "automargin": true,
                                                "type": "pie"
                                            }
                                        ],
                                        "scatter": [
                                            {
                                                "marker": {
                                                    "colorbar": {
                                                        "outlinewidth": 0,
                                                        "tickcolor": "rgb(36,36,36)",
                                                        "ticklen": 8,
                                                        "ticks": "outside",
                                                        "tickwidth": 2
                                                    }
                                                },
                                                "type": "scatter"
                                            }
                                        ],
                                        "scatter3d": [
                                            {
                                                "line": {
                                                    "colorbar": {
                                                        "outlinewidth": 0,
                                                        "tickcolor": "rgb(36,36,36)",
                                                        "ticklen": 8,
                                                        "ticks": "outside",
                                                        "tickwidth": 2
                                                    }
                                                },
                                                "marker": {
                                                    "colorbar": {
                                                        "outlinewidth": 0,
                                                        "tickcolor": "rgb(36,36,36)",
                                                        "ticklen": 8,
                                                        "ticks": "outside",
                                                        "tickwidth": 2
                                                    }
                                                },
                                                "type": "scatter3d"
                                            }
                                        ],
                                        "scattercarpet": [
                                            {
                                                "marker": {
                                                    "colorbar": {
                                                        "outlinewidth": 0,
                                                        "tickcolor": "rgb(36,36,36)",
                                                        "ticklen": 8,
                                                        "ticks": "outside",
                                                        "tickwidth": 2
                                                    }
                                                },
                                                "type": "scattercarpet"
                                            }
                                        ],
                                        "scattergeo": [
                                            {
                                                "marker": {
                                                    "colorbar": {
                                                        "outlinewidth": 0,
                                                        "tickcolor": "rgb(36,36,36)",
                                                        "ticklen": 8,
                                                        "ticks": "outside",
                                                        "tickwidth": 2
                                                    }
                                                },
                                                "type": "scattergeo"
                                            }
                                        ],
                                        "scattergl": [
                                            {
                                                "marker": {
                                                    "colorbar": {
                                                        "outlinewidth": 0,
                                                        "tickcolor": "rgb(36,36,36)",
                                                        "ticklen": 8,
                                                        "ticks": "outside",
                                                        "tickwidth": 2
                                                    }
                                                },
                                                "type": "scattergl"
                                            }
                                        ],
                                        "scattermapbox": [
                                            {
                                                "marker": {
                                                    "colorbar": {
                                                        "outlinewidth": 0,
                                                        "tickcolor": "rgb(36,36,36)",
                                                        "ticklen": 8,
                                                        "ticks": "outside",
                                                        "tickwidth": 2
                                                    }
                                                },
                                                "type": "scattermapbox"
                                            }
                                        ],
                                        "scatterpolar": [
                                            {
                                                "marker": {
                                                    "colorbar": {
                                                        "outlinewidth": 0,
                                                        "tickcolor": "rgb(36,36,36)",
                                                        "ticklen": 8,
                                                        "ticks": "outside",
                                                        "tickwidth": 2
                                                    }
                                                },
                                                "type": "scatterpolar"
                                            }
                                        ],
                                        "scatterpolargl": [
                                            {
                                                "marker": {
                                                    "colorbar": {
                                                        "outlinewidth": 0,
                                                        "tickcolor": "rgb(36,36,36)",
                                                        "ticklen": 8,
                                                        "ticks": "outside",
                                                        "tickwidth": 2
                                                    }
                                                },
                                                "type": "scatterpolargl"
                                            }
                                        ],
                                        "scatterternary": [
                                            {
                                                "marker": {
                                                    "colorbar": {
                                                        "outlinewidth": 0,
                                                        "tickcolor": "rgb(36,36,36)",
                                                        "ticklen": 8,
                                                        "ticks": "outside",
                                                        "tickwidth": 2
                                                    }
                                                },
                                                "type": "scatterternary"
                                            }
                                        ],
                                        "surface": [
                                            {
                                                "colorbar": {
                                                    "outlinewidth": 0,
                                                    "tickcolor": "rgb(36,36,36)",
                                                    "ticklen": 8,
                                                    "ticks": "outside",
                                                    "tickwidth": 2
                                                },
                                                "colorscale": [
                                                    [
                                                        0,
                                                        "rgb(2,4,25)"
                                                    ],
                                                    [
                                                        0.06274509803921569,
                                                        "rgb(24,15,41)"
                                                    ],
                                                    [
                                                        0.12549019607843137,
                                                        "rgb(47,23,57)"
                                                    ],
                                                    [
                                                        0.18823529411764706,
                                                        "rgb(71,28,72)"
                                                    ],
                                                    [
                                                        0.25098039215686274,
                                                        "rgb(97,30,82)"
                                                    ],
                                                    [
                                                        0.3137254901960784,
                                                        "rgb(123,30,89)"
                                                    ],
                                                    [
                                                        0.3764705882352941,
                                                        "rgb(150,27,91)"
                                                    ],
                                                    [
                                                        0.4392156862745098,
                                                        "rgb(177,22,88)"
                                                    ],
                                                    [
                                                        0.5019607843137255,
                                                        "rgb(203,26,79)"
                                                    ],
                                                    [
                                                        0.5647058823529412,
                                                        "rgb(223,47,67)"
                                                    ],
                                                    [
                                                        0.6274509803921569,
                                                        "rgb(236,76,61)"
                                                    ],
                                                    [
                                                        0.6901960784313725,
                                                        "rgb(242,107,73)"
                                                    ],
                                                    [
                                                        0.7529411764705882,
                                                        "rgb(244,135,95)"
                                                    ],
                                                    [
                                                        0.8156862745098039,
                                                        "rgb(245,162,122)"
                                                    ],
                                                    [
                                                        0.8784313725490196,
                                                        "rgb(246,188,153)"
                                                    ],
                                                    [
                                                        0.9411764705882353,
                                                        "rgb(247,212,187)"
                                                    ],
                                                    [
                                                        1,
                                                        "rgb(250,234,220)"
                                                    ]
                                                ],
                                                "type": "surface"
                                            }
                                        ],
                                        "table": [
                                            {
                                                "cells": {
                                                    "fill": {
                                                        "color": "rgb(231,231,240)"
                                                    },
                                                    "line": {
                                                        "color": "white"
                                                    }
                                                },
                                                "header": {
                                                    "fill": {
                                                        "color": "rgb(183,183,191)"
                                                    },
                                                    "line": {
                                                        "color": "white"
                                                    }
                                                },
                                                "type": "table"
                                            }
                                        ]
                                    },
                                    "layout": {
                                        "annotationdefaults": {
                                            "arrowcolor": "rgb(67,103,167)"
                                        },
                                        "autotypenumbers": "strict",
                                        "coloraxis": {
                                            "colorbar": {
                                                "outlinewidth": 0,
                                                "tickcolor": "rgb(36,36,36)",
                                                "ticklen": 8,
                                                "ticks": "outside",
                                                "tickwidth": 2
                                            }
                                        },
                                        "colorscale": {
                                            "sequential": [
                                                [
                                                    0,
                                                    "rgb(2,4,25)"
                                                ],
                                                [
                                                    0.06274509803921569,
                                                    "rgb(24,15,41)"
                                                ],
                                                [
                                                    0.12549019607843137,
                                                    "rgb(47,23,57)"
                                                ],
                                                [
                                                    0.18823529411764706,
                                                    "rgb(71,28,72)"
                                                ],
                                                [
                                                    0.25098039215686274,
                                                    "rgb(97,30,82)"
                                                ],
                                                [
                                                    0.3137254901960784,
                                                    "rgb(123,30,89)"
                                                ],
                                                [
                                                    0.3764705882352941,
                                                    "rgb(150,27,91)"
                                                ],
                                                [
                                                    0.4392156862745098,
                                                    "rgb(177,22,88)"
                                                ],
                                                [
                                                    0.5019607843137255,
                                                    "rgb(203,26,79)"
                                                ],
                                                [
                                                    0.5647058823529412,
                                                    "rgb(223,47,67)"
                                                ],
                                                [
                                                    0.6274509803921569,
                                                    "rgb(236,76,61)"
                                                ],
                                                [
                                                    0.6901960784313725,
                                                    "rgb(242,107,73)"
                                                ],
                                                [
                                                    0.7529411764705882,
                                                    "rgb(244,135,95)"
                                                ],
                                                [
                                                    0.8156862745098039,
                                                    "rgb(245,162,122)"
                                                ],
                                                [
                                                    0.8784313725490196,
                                                    "rgb(246,188,153)"
                                                ],
                                                [
                                                    0.9411764705882353,
                                                    "rgb(247,212,187)"
                                                ],
                                                [
                                                    1,
                                                    "rgb(250,234,220)"
                                                ]
                                            ],
                                            "sequentialminus": [
                                                [
                                                    0,
                                                    "rgb(2,4,25)"
                                                ],
                                                [
                                                    0.06274509803921569,
                                                    "rgb(24,15,41)"
                                                ],
                                                [
                                                    0.12549019607843137,
                                                    "rgb(47,23,57)"
                                                ],
                                                [
                                                    0.18823529411764706,
                                                    "rgb(71,28,72)"
                                                ],
                                                [
                                                    0.25098039215686274,
                                                    "rgb(97,30,82)"
                                                ],
                                                [
                                                    0.3137254901960784,
                                                    "rgb(123,30,89)"
                                                ],
                                                [
                                                    0.3764705882352941,
                                                    "rgb(150,27,91)"
                                                ],
                                                [
                                                    0.4392156862745098,
                                                    "rgb(177,22,88)"
                                                ],
                                                [
                                                    0.5019607843137255,
                                                    "rgb(203,26,79)"
                                                ],
                                                [
                                                    0.5647058823529412,
                                                    "rgb(223,47,67)"
                                                ],
                                                [
                                                    0.6274509803921569,
                                                    "rgb(236,76,61)"
                                                ],
                                                [
                                                    0.6901960784313725,
                                                    "rgb(242,107,73)"
                                                ],
                                                [
                                                    0.7529411764705882,
                                                    "rgb(244,135,95)"
                                                ],
                                                [
                                                    0.8156862745098039,
                                                    "rgb(245,162,122)"
                                                ],
                                                [
                                                    0.8784313725490196,
                                                    "rgb(246,188,153)"
                                                ],
                                                [
                                                    0.9411764705882353,
                                                    "rgb(247,212,187)"
                                                ],
                                                [
                                                    1,
                                                    "rgb(250,234,220)"
                                                ]
                                            ]
                                        },
                                        "colorway": [
                                            "rgb(76,114,176)",
                                            "rgb(221,132,82)",
                                            "rgb(85,168,104)",
                                            "rgb(196,78,82)",
                                            "rgb(129,114,179)",
                                            "rgb(147,120,96)",
                                            "rgb(218,139,195)",
                                            "rgb(140,140,140)",
                                            "rgb(204,185,116)",
                                            "rgb(100,181,205)"
                                        ],
                                        "font": {
                                            "color": "rgb(36,36,36)"
                                        },
                                        "geo": {
                                            "bgcolor": "white",
                                            "lakecolor": "white",
                                            "landcolor": "rgb(234,234,242)",
                                            "showlakes": true,
                                            "showland": true,
                                            "subunitcolor": "white"
                                        },
                                        "hoverlabel": {
                                            "align": "left"
                                        },
                                        "hovermode": "closest",
                                        "paper_bgcolor": "white",
                                        "plot_bgcolor": "rgb(234,234,242)",
                                        "polar": {
                                            "angularaxis": {
                                                "gridcolor": "white",
                                                "linecolor": "white",
                                                "showgrid": true,
                                                "ticks": ""
                                            },
                                            "bgcolor": "rgb(234,234,242)",
                                            "radialaxis": {
                                                "gridcolor": "white",
                                                "linecolor": "white",
                                                "showgrid": true,
                                                "ticks": ""
                                            }
                                        },
                                        "scene": {
                                            "xaxis": {
                                                "backgroundcolor": "rgb(234,234,242)",
                                                "gridcolor": "white",
                                                "gridwidth": 2,
                                                "linecolor": "white",
                                                "showbackground": true,
                                                "showgrid": true,
                                                "ticks": "",
                                                "zerolinecolor": "white"
                                            },
                                            "yaxis": {
                                                "backgroundcolor": "rgb(234,234,242)",
                                                "gridcolor": "white",
                                                "gridwidth": 2,
                                                "linecolor": "white",
                                                "showbackground": true,
                                                "showgrid": true,
                                                "ticks": "",
                                                "zerolinecolor": "white"
                                            },
                                            "zaxis": {
                                                "backgroundcolor": "rgb(234,234,242)",
                                                "gridcolor": "white",
                                                "gridwidth": 2,
                                                "linecolor": "white",
                                                "showbackground": true,
                                                "showgrid": true,
                                                "ticks": "",
                                                "zerolinecolor": "white"
                                            }
                                        },
                                        "shapedefaults": {
                                            "fillcolor": "rgb(67,103,167)",
                                            "line": {
                                                "width": 0
                                            },
                                            "opacity": 0.5
                                        },
                                        "ternary": {
                                            "aaxis": {
                                                "gridcolor": "white",
                                                "linecolor": "white",
                                                "showgrid": true,
                                                "ticks": ""
                                            },
                                            "baxis": {
                                                "gridcolor": "white",
                                                "linecolor": "white",
                                                "showgrid": true,
                                                "ticks": ""
                                            },
                                            "bgcolor": "rgb(234,234,242)",
                                            "caxis": {
                                                "gridcolor": "white",
                                                "linecolor": "white",
                                                "showgrid": true,
                                                "ticks": ""
                                            }
                                        },
                                        "xaxis": {
                                            "automargin": true,
                                            "gridcolor": "white",
                                            "linecolor": "white",
                                            "showgrid": true,
                                            "ticks": "",
                                            "title": {
                                                "standoff": 15
                                            },
                                            "zerolinecolor": "white"
                                        },
                                        "yaxis": {
                                            "automargin": true,
                                            "gridcolor": "white",
                                            "linecolor": "white",
                                            "showgrid": true,
                                            "ticks": "",
                                            "title": {
                                                "standoff": 15
                                            },
                                            "zerolinecolor": "white"
                                        }
                                    }
                                },
                                "title": {
                                    "text": "Percentual de Descontos aplicados por Item"
                                },
                                "uniformtext": {
                                    "minsize": 10,
                                    "mode": "hide"
                                },
                                "width": 800,
                                "xaxis": {
                                    "anchor": "y",
                                    "domain": [
                                        0,
                                        1
                                    ],
                                    "title": {
                                        "text": "Categorias"
                                    }
                                },
                                "yaxis": {
                                    "anchor": "x",
                                    "domain": [
                                        0,
                                        1
                                    ],
                                    "title": {
                                        "text": "Descontos [R$]"
                                    }
                                }
                            }
                        }
                    },
                    "metadata": {}
                }
            ],
            "metadata": {}
        },
        {
            "cell_type": "markdown",
            "source": [
                "# Produtos"
            ],
            "metadata": {}
        },
        {
            "cell_type": "code",
            "execution_count": 25,
            "source": [
                "base"
            ],
            "outputs": [
                {
                    "output_type": "execute_result",
                    "data": {
                        "text/html": [
                            "<div>\n",
                            "<style scoped>\n",
                            "    .dataframe tbody tr th:only-of-type {\n",
                            "        vertical-align: middle;\n",
                            "    }\n",
                            "\n",
                            "    .dataframe tbody tr th {\n",
                            "        vertical-align: top;\n",
                            "    }\n",
                            "\n",
                            "    .dataframe thead th {\n",
                            "        text-align: right;\n",
                            "    }\n",
                            "</style>\n",
                            "<table border=\"1\" class=\"dataframe\">\n",
                            "  <thead>\n",
                            "    <tr style=\"text-align: right;\">\n",
                            "      <th></th>\n",
                            "      <th>Ciclo_Ciclo</th>\n",
                            "      <th>Revendedor</th>\n",
                            "      <th>Franqueado</th>\n",
                            "      <th>Loja</th>\n",
                            "      <th>Produto_Categoria</th>\n",
                            "      <th>Produto_Codigo</th>\n",
                            "      <th>Produto_Descricao</th>\n",
                            "      <th>Produto_Linha</th>\n",
                            "      <th>Pedido_Valor_Volume</th>\n",
                            "      <th>Receita_Bruta</th>\n",
                            "      <th>Receita_Liquida</th>\n",
                            "      <th>z_Numero_de_Pedidos</th>\n",
                            "      <th>Desconto</th>\n",
                            "      <th>Ciclo</th>\n",
                            "    </tr>\n",
                            "  </thead>\n",
                            "  <tbody>\n",
                            "    <tr>\n",
                            "      <th>0</th>\n",
                            "      <td>2020.03</td>\n",
                            "      <td>3454333</td>\n",
                            "      <td>10276</td>\n",
                            "      <td>19718</td>\n",
                            "      <td>PERFUMARIA MASCULINA</td>\n",
                            "      <td>42187</td>\n",
                            "      <td>BOTI SHOWER GEL MALBEC 100ML</td>\n",
                            "      <td>BOTI</td>\n",
                            "      <td>9</td>\n",
                            "      <td>359.10</td>\n",
                            "      <td>305.28</td>\n",
                            "      <td>1</td>\n",
                            "      <td>53.82</td>\n",
                            "      <td>Mar-2020</td>\n",
                            "    </tr>\n",
                            "    <tr>\n",
                            "      <th>1</th>\n",
                            "      <td>2020.03</td>\n",
                            "      <td>7427988</td>\n",
                            "      <td>10615</td>\n",
                            "      <td>3791</td>\n",
                            "      <td>ACESSÓRIOS</td>\n",
                            "      <td>37233</td>\n",
                            "      <td>ACESSORIO LATA MAES 2012</td>\n",
                            "      <td>BOTI</td>\n",
                            "      <td>1</td>\n",
                            "      <td>24.99</td>\n",
                            "      <td>21.24</td>\n",
                            "      <td>1</td>\n",
                            "      <td>3.75</td>\n",
                            "      <td>Mar-2020</td>\n",
                            "    </tr>\n",
                            "    <tr>\n",
                            "      <th>2</th>\n",
                            "      <td>2020.03</td>\n",
                            "      <td>5874455</td>\n",
                            "      <td>10276</td>\n",
                            "      <td>19718</td>\n",
                            "      <td>PERFUMARIA MASCULINA</td>\n",
                            "      <td>42187</td>\n",
                            "      <td>BOTI SHOWER GEL MALBEC 100ML</td>\n",
                            "      <td>BOTI</td>\n",
                            "      <td>9</td>\n",
                            "      <td>359.10</td>\n",
                            "      <td>305.28</td>\n",
                            "      <td>1</td>\n",
                            "      <td>53.82</td>\n",
                            "      <td>Mar-2020</td>\n",
                            "    </tr>\n",
                            "    <tr>\n",
                            "      <th>3</th>\n",
                            "      <td>2020.02</td>\n",
                            "      <td>1287249</td>\n",
                            "      <td>10260</td>\n",
                            "      <td>13838</td>\n",
                            "      <td>PERFUMARIA MASCULINA</td>\n",
                            "      <td>44865</td>\n",
                            "      <td>BOTI DEOS AEROSOL MALBEC 40ML</td>\n",
                            "      <td>BOTI</td>\n",
                            "      <td>9</td>\n",
                            "      <td>224.10</td>\n",
                            "      <td>190.44</td>\n",
                            "      <td>1</td>\n",
                            "      <td>33.66</td>\n",
                            "      <td>Fev-2020</td>\n",
                            "    </tr>\n",
                            "    <tr>\n",
                            "      <th>4</th>\n",
                            "      <td>2020.02</td>\n",
                            "      <td>1365227</td>\n",
                            "      <td>10040</td>\n",
                            "      <td>14241</td>\n",
                            "      <td>PERFUMARIA MASCULINA</td>\n",
                            "      <td>44865</td>\n",
                            "      <td>BOTI DEOS AEROSOL MALBEC 40ML</td>\n",
                            "      <td>BOTI</td>\n",
                            "      <td>9</td>\n",
                            "      <td>224.10</td>\n",
                            "      <td>190.44</td>\n",
                            "      <td>1</td>\n",
                            "      <td>33.66</td>\n",
                            "      <td>Fev-2020</td>\n",
                            "    </tr>\n",
                            "    <tr>\n",
                            "      <th>...</th>\n",
                            "      <td>...</td>\n",
                            "      <td>...</td>\n",
                            "      <td>...</td>\n",
                            "      <td>...</td>\n",
                            "      <td>...</td>\n",
                            "      <td>...</td>\n",
                            "      <td>...</td>\n",
                            "      <td>...</td>\n",
                            "      <td>...</td>\n",
                            "      <td>...</td>\n",
                            "      <td>...</td>\n",
                            "      <td>...</td>\n",
                            "      <td>...</td>\n",
                            "      <td>...</td>\n",
                            "    </tr>\n",
                            "    <tr>\n",
                            "      <th>80083</th>\n",
                            "      <td>2020.03</td>\n",
                            "      <td>7147375</td>\n",
                            "      <td>10361</td>\n",
                            "      <td>13460</td>\n",
                            "      <td>SUPORTE À VENDA</td>\n",
                            "      <td>44692</td>\n",
                            "      <td>BOTI FITA OLFATIVA VD</td>\n",
                            "      <td>BOTI</td>\n",
                            "      <td>1</td>\n",
                            "      <td>1.38</td>\n",
                            "      <td>1.38</td>\n",
                            "      <td>1</td>\n",
                            "      <td>0.00</td>\n",
                            "      <td>Mar-2020</td>\n",
                            "    </tr>\n",
                            "    <tr>\n",
                            "      <th>80084</th>\n",
                            "      <td>2020.02</td>\n",
                            "      <td>1712873</td>\n",
                            "      <td>10442</td>\n",
                            "      <td>13654</td>\n",
                            "      <td>SUPORTE À VENDA</td>\n",
                            "      <td>46573</td>\n",
                            "      <td>BOTI CARTUCHO COMB NAT/20 VDA</td>\n",
                            "      <td>BOTI</td>\n",
                            "      <td>9</td>\n",
                            "      <td>0.27</td>\n",
                            "      <td>0.27</td>\n",
                            "      <td>1</td>\n",
                            "      <td>0.00</td>\n",
                            "      <td>Fev-2020</td>\n",
                            "    </tr>\n",
                            "    <tr>\n",
                            "      <th>80085</th>\n",
                            "      <td>2020.03</td>\n",
                            "      <td>1886905</td>\n",
                            "      <td>10345</td>\n",
                            "      <td>14398</td>\n",
                            "      <td>SUPORTE À VENDA</td>\n",
                            "      <td>46573</td>\n",
                            "      <td>BOTI CARTUCHO COMB NAT/20 VDA</td>\n",
                            "      <td>BOTI</td>\n",
                            "      <td>5</td>\n",
                            "      <td>0.15</td>\n",
                            "      <td>0.15</td>\n",
                            "      <td>1</td>\n",
                            "      <td>0.00</td>\n",
                            "      <td>Mar-2020</td>\n",
                            "    </tr>\n",
                            "    <tr>\n",
                            "      <th>80086</th>\n",
                            "      <td>2020.02</td>\n",
                            "      <td>527762</td>\n",
                            "      <td>10560</td>\n",
                            "      <td>18240</td>\n",
                            "      <td>SUPORTE À VENDA</td>\n",
                            "      <td>46573</td>\n",
                            "      <td>BOTI CARTUCHO COMB NAT/20 VDA</td>\n",
                            "      <td>BOTI</td>\n",
                            "      <td>4</td>\n",
                            "      <td>0.12</td>\n",
                            "      <td>0.12</td>\n",
                            "      <td>1</td>\n",
                            "      <td>0.00</td>\n",
                            "      <td>Fev-2020</td>\n",
                            "    </tr>\n",
                            "    <tr>\n",
                            "      <th>80087</th>\n",
                            "      <td>2020.02</td>\n",
                            "      <td>5857019</td>\n",
                            "      <td>10560</td>\n",
                            "      <td>18240</td>\n",
                            "      <td>SUPORTE À VENDA</td>\n",
                            "      <td>46573</td>\n",
                            "      <td>BOTI CARTUCHO COMB NAT/20 VDA</td>\n",
                            "      <td>BOTI</td>\n",
                            "      <td>2</td>\n",
                            "      <td>0.06</td>\n",
                            "      <td>0.06</td>\n",
                            "      <td>1</td>\n",
                            "      <td>0.00</td>\n",
                            "      <td>Fev-2020</td>\n",
                            "    </tr>\n",
                            "  </tbody>\n",
                            "</table>\n",
                            "<p>80088 rows × 14 columns</p>\n",
                            "</div>"
                        ],
                        "text/plain": [
                            "       Ciclo_Ciclo  Revendedor  Franqueado   Loja     Produto_Categoria  \\\n",
                            "0          2020.03     3454333       10276  19718  PERFUMARIA MASCULINA   \n",
                            "1          2020.03     7427988       10615   3791            ACESSÓRIOS   \n",
                            "2          2020.03     5874455       10276  19718  PERFUMARIA MASCULINA   \n",
                            "3          2020.02     1287249       10260  13838  PERFUMARIA MASCULINA   \n",
                            "4          2020.02     1365227       10040  14241  PERFUMARIA MASCULINA   \n",
                            "...            ...         ...         ...    ...                   ...   \n",
                            "80083      2020.03     7147375       10361  13460       SUPORTE À VENDA   \n",
                            "80084      2020.02     1712873       10442  13654       SUPORTE À VENDA   \n",
                            "80085      2020.03     1886905       10345  14398       SUPORTE À VENDA   \n",
                            "80086      2020.02      527762       10560  18240       SUPORTE À VENDA   \n",
                            "80087      2020.02     5857019       10560  18240       SUPORTE À VENDA   \n",
                            "\n",
                            "       Produto_Codigo              Produto_Descricao Produto_Linha  \\\n",
                            "0               42187   BOTI SHOWER GEL MALBEC 100ML          BOTI   \n",
                            "1               37233       ACESSORIO LATA MAES 2012          BOTI   \n",
                            "2               42187   BOTI SHOWER GEL MALBEC 100ML          BOTI   \n",
                            "3               44865  BOTI DEOS AEROSOL MALBEC 40ML          BOTI   \n",
                            "4               44865  BOTI DEOS AEROSOL MALBEC 40ML          BOTI   \n",
                            "...               ...                            ...           ...   \n",
                            "80083           44692          BOTI FITA OLFATIVA VD          BOTI   \n",
                            "80084           46573  BOTI CARTUCHO COMB NAT/20 VDA          BOTI   \n",
                            "80085           46573  BOTI CARTUCHO COMB NAT/20 VDA          BOTI   \n",
                            "80086           46573  BOTI CARTUCHO COMB NAT/20 VDA          BOTI   \n",
                            "80087           46573  BOTI CARTUCHO COMB NAT/20 VDA          BOTI   \n",
                            "\n",
                            "       Pedido_Valor_Volume  Receita_Bruta  Receita_Liquida  \\\n",
                            "0                        9         359.10           305.28   \n",
                            "1                        1          24.99            21.24   \n",
                            "2                        9         359.10           305.28   \n",
                            "3                        9         224.10           190.44   \n",
                            "4                        9         224.10           190.44   \n",
                            "...                    ...            ...              ...   \n",
                            "80083                    1           1.38             1.38   \n",
                            "80084                    9           0.27             0.27   \n",
                            "80085                    5           0.15             0.15   \n",
                            "80086                    4           0.12             0.12   \n",
                            "80087                    2           0.06             0.06   \n",
                            "\n",
                            "       z_Numero_de_Pedidos  Desconto     Ciclo  \n",
                            "0                        1     53.82  Mar-2020  \n",
                            "1                        1      3.75  Mar-2020  \n",
                            "2                        1     53.82  Mar-2020  \n",
                            "3                        1     33.66  Fev-2020  \n",
                            "4                        1     33.66  Fev-2020  \n",
                            "...                    ...       ...       ...  \n",
                            "80083                    1      0.00  Mar-2020  \n",
                            "80084                    1      0.00  Fev-2020  \n",
                            "80085                    1      0.00  Mar-2020  \n",
                            "80086                    1      0.00  Fev-2020  \n",
                            "80087                    1      0.00  Fev-2020  \n",
                            "\n",
                            "[80088 rows x 14 columns]"
                        ]
                    },
                    "metadata": {},
                    "execution_count": 25
                }
            ],
            "metadata": {}
        },
        {
            "cell_type": "code",
            "execution_count": 26,
            "source": [
                "produtos = base.groupby(['Produto_Descricao', 'Ciclo']).\\\n",
                "    agg({'Receita_Bruta':'sum', 'Receita_Liquida':'sum', \\\n",
                "        'Desconto':'sum', 'Pedido_Valor_Volume':'sum'}).round(3).\\\n",
                "    rename(columns={\"Pedido_Valor_Volume\": \"Qtde_itens\"}).sort_values(by='Qtde_itens', ascending=False).reset_index()\n",
                "\n",
                "produtos['ReceitaL_p_Item'] = round(produtos['Receita_Liquida'] / produtos['Qtde_itens'],2)\n",
                "\n",
                "produtos['% Qtde_Itens'] = produtos.apply(lambda x: round(100*(x['Qtde_itens'] / ((produtos[produtos['Produto_Descricao']==x['Produto_Descricao']]['Qtde_itens'].sum()) \\\n",
                "    - x['Qtde_itens']) - 1), 2), axis=1)\n",
                "\n",
                "produtos['% Liq_med_p_Item'] = produtos.apply(lambda x: round(100*(x['ReceitaL_p_Item'] / ((produtos[produtos['Produto_Descricao']==x['Produto_Descricao']]['ReceitaL_p_Item'].sum()) \\\n",
                "    - x['ReceitaL_p_Item']) - 1), 2), axis=1)"
            ],
            "outputs": [],
            "metadata": {}
        },
        {
            "cell_type": "code",
            "execution_count": 27,
            "source": [
                "produtos[produtos['Ciclo'] == 'Fev-2020'].head(10)"
            ],
            "outputs": [
                {
                    "output_type": "execute_result",
                    "data": {
                        "text/html": [
                            "<div>\n",
                            "<style scoped>\n",
                            "    .dataframe tbody tr th:only-of-type {\n",
                            "        vertical-align: middle;\n",
                            "    }\n",
                            "\n",
                            "    .dataframe tbody tr th {\n",
                            "        vertical-align: top;\n",
                            "    }\n",
                            "\n",
                            "    .dataframe thead th {\n",
                            "        text-align: right;\n",
                            "    }\n",
                            "</style>\n",
                            "<table border=\"1\" class=\"dataframe\">\n",
                            "  <thead>\n",
                            "    <tr style=\"text-align: right;\">\n",
                            "      <th></th>\n",
                            "      <th>Produto_Descricao</th>\n",
                            "      <th>Ciclo</th>\n",
                            "      <th>Receita_Bruta</th>\n",
                            "      <th>Receita_Liquida</th>\n",
                            "      <th>Desconto</th>\n",
                            "      <th>Qtde_itens</th>\n",
                            "      <th>ReceitaL_p_Item</th>\n",
                            "      <th>% Qtde_Itens</th>\n",
                            "      <th>% Liq_med_p_Item</th>\n",
                            "    </tr>\n",
                            "  </thead>\n",
                            "  <tbody>\n",
                            "    <tr>\n",
                            "      <th>0</th>\n",
                            "      <td>BOT PERFUME LILLY 75ML - ED ESPECIAL</td>\n",
                            "      <td>Fev-2020</td>\n",
                            "      <td>3681940.54</td>\n",
                            "      <td>3681940.54</td>\n",
                            "      <td>0.00</td>\n",
                            "      <td>24191</td>\n",
                            "      <td>152.20</td>\n",
                            "      <td>15.55</td>\n",
                            "      <td>-0.46</td>\n",
                            "    </tr>\n",
                            "    <tr>\n",
                            "      <th>2</th>\n",
                            "      <td>BOTI DEOS AEROSOL MALBEC 40ML</td>\n",
                            "      <td>Fev-2020</td>\n",
                            "      <td>159009.90</td>\n",
                            "      <td>135127.16</td>\n",
                            "      <td>23882.74</td>\n",
                            "      <td>6401</td>\n",
                            "      <td>21.11</td>\n",
                            "      <td>53.57</td>\n",
                            "      <td>-0.19</td>\n",
                            "    </tr>\n",
                            "    <tr>\n",
                            "      <th>5</th>\n",
                            "      <td>BOT BLOCO DE PEDIDOS VD</td>\n",
                            "      <td>Fev-2020</td>\n",
                            "      <td>7290.00</td>\n",
                            "      <td>6196.50</td>\n",
                            "      <td>1093.50</td>\n",
                            "      <td>3645</td>\n",
                            "      <td>1.70</td>\n",
                            "      <td>5.53</td>\n",
                            "      <td>0.00</td>\n",
                            "    </tr>\n",
                            "    <tr>\n",
                            "      <th>9</th>\n",
                            "      <td>BOT SABONETE LÍQ LILLY 50ML</td>\n",
                            "      <td>Fev-2020</td>\n",
                            "      <td>32830.20</td>\n",
                            "      <td>27913.96</td>\n",
                            "      <td>4916.24</td>\n",
                            "      <td>1658</td>\n",
                            "      <td>16.84</td>\n",
                            "      <td>11.35</td>\n",
                            "      <td>-0.47</td>\n",
                            "    </tr>\n",
                            "    <tr>\n",
                            "      <th>11</th>\n",
                            "      <td>CATALOGO CICLO PROXIMO SELL OUT</td>\n",
                            "      <td>Fev-2020</td>\n",
                            "      <td>5082.00</td>\n",
                            "      <td>5082.00</td>\n",
                            "      <td>0.00</td>\n",
                            "      <td>1320</td>\n",
                            "      <td>3.85</td>\n",
                            "      <td>-64.35</td>\n",
                            "      <td>0.00</td>\n",
                            "    </tr>\n",
                            "    <tr>\n",
                            "      <th>15</th>\n",
                            "      <td>BOTI SPLASH MALBEC 100ML</td>\n",
                            "      <td>Fev-2020</td>\n",
                            "      <td>69552.80</td>\n",
                            "      <td>59124.24</td>\n",
                            "      <td>10428.56</td>\n",
                            "      <td>872</td>\n",
                            "      <td>67.80</td>\n",
                            "      <td>-22.90</td>\n",
                            "      <td>-0.13</td>\n",
                            "    </tr>\n",
                            "    <tr>\n",
                            "      <th>17</th>\n",
                            "      <td>BOTI MASCARA PROT MALHA PRETA M</td>\n",
                            "      <td>Fev-2020</td>\n",
                            "      <td>9386.70</td>\n",
                            "      <td>7981.32</td>\n",
                            "      <td>1405.38</td>\n",
                            "      <td>525</td>\n",
                            "      <td>15.20</td>\n",
                            "      <td>-73.46</td>\n",
                            "      <td>-0.13</td>\n",
                            "    </tr>\n",
                            "    <tr>\n",
                            "      <th>18</th>\n",
                            "      <td>BOTI NECESS VIAGEM PES C/A</td>\n",
                            "      <td>Fev-2020</td>\n",
                            "      <td>35472.90</td>\n",
                            "      <td>30154.30</td>\n",
                            "      <td>5318.60</td>\n",
                            "      <td>521</td>\n",
                            "      <td>57.88</td>\n",
                            "      <td>11.09</td>\n",
                            "      <td>-2.59</td>\n",
                            "    </tr>\n",
                            "    <tr>\n",
                            "      <th>19</th>\n",
                            "      <td>BOTI NECESS MASC MALBEC CLUB PVC C/ALC</td>\n",
                            "      <td>Fev-2020</td>\n",
                            "      <td>30992.20</td>\n",
                            "      <td>26345.96</td>\n",
                            "      <td>4646.24</td>\n",
                            "      <td>518</td>\n",
                            "      <td>50.86</td>\n",
                            "      <td>9.05</td>\n",
                            "      <td>-0.10</td>\n",
                            "    </tr>\n",
                            "    <tr>\n",
                            "      <th>20</th>\n",
                            "      <td>BOTI MASCARA PROT MALHA CINZA MESCLA M</td>\n",
                            "      <td>Fev-2020</td>\n",
                            "      <td>8505.90</td>\n",
                            "      <td>7232.40</td>\n",
                            "      <td>1273.50</td>\n",
                            "      <td>477</td>\n",
                            "      <td>15.16</td>\n",
                            "      <td>-35.71</td>\n",
                            "      <td>-0.39</td>\n",
                            "    </tr>\n",
                            "  </tbody>\n",
                            "</table>\n",
                            "</div>"
                        ],
                        "text/plain": [
                            "                         Produto_Descricao     Ciclo  Receita_Bruta  \\\n",
                            "0     BOT PERFUME LILLY 75ML - ED ESPECIAL  Fev-2020     3681940.54   \n",
                            "2            BOTI DEOS AEROSOL MALBEC 40ML  Fev-2020      159009.90   \n",
                            "5                  BOT BLOCO DE PEDIDOS VD  Fev-2020        7290.00   \n",
                            "9              BOT SABONETE LÍQ LILLY 50ML  Fev-2020       32830.20   \n",
                            "11         CATALOGO CICLO PROXIMO SELL OUT  Fev-2020        5082.00   \n",
                            "15                BOTI SPLASH MALBEC 100ML  Fev-2020       69552.80   \n",
                            "17         BOTI MASCARA PROT MALHA PRETA M  Fev-2020        9386.70   \n",
                            "18              BOTI NECESS VIAGEM PES C/A  Fev-2020       35472.90   \n",
                            "19  BOTI NECESS MASC MALBEC CLUB PVC C/ALC  Fev-2020       30992.20   \n",
                            "20  BOTI MASCARA PROT MALHA CINZA MESCLA M  Fev-2020        8505.90   \n",
                            "\n",
                            "    Receita_Liquida  Desconto  Qtde_itens  ReceitaL_p_Item  % Qtde_Itens  \\\n",
                            "0        3681940.54      0.00       24191           152.20         15.55   \n",
                            "2         135127.16  23882.74        6401            21.11         53.57   \n",
                            "5           6196.50   1093.50        3645             1.70          5.53   \n",
                            "9          27913.96   4916.24        1658            16.84         11.35   \n",
                            "11          5082.00      0.00        1320             3.85        -64.35   \n",
                            "15         59124.24  10428.56         872            67.80        -22.90   \n",
                            "17          7981.32   1405.38         525            15.20        -73.46   \n",
                            "18         30154.30   5318.60         521            57.88         11.09   \n",
                            "19         26345.96   4646.24         518            50.86          9.05   \n",
                            "20          7232.40   1273.50         477            15.16        -35.71   \n",
                            "\n",
                            "    % Liq_med_p_Item  \n",
                            "0              -0.46  \n",
                            "2              -0.19  \n",
                            "5               0.00  \n",
                            "9              -0.47  \n",
                            "11              0.00  \n",
                            "15             -0.13  \n",
                            "17             -0.13  \n",
                            "18             -2.59  \n",
                            "19             -0.10  \n",
                            "20             -0.39  "
                        ]
                    },
                    "metadata": {},
                    "execution_count": 27
                }
            ],
            "metadata": {}
        },
        {
            "cell_type": "code",
            "execution_count": 28,
            "source": [
                "fig = px.bar(produtos[produtos['Ciclo'] == 'Fev-2020'].head(10), x=\"Produto_Descricao\", y=\"% Qtde_Itens\", \\\n",
                "    text=\"% Liq_med_p_Item\", color=\"Produto_Descricao\", hover_data=['Produto_Descricao', 'ReceitaL_p_Item', '% Qtde_Itens', '% Liq_med_p_Item'], template=\"seaborn\")\n",
                "\n",
                "fig.update_layout(\n",
                "    margin=dict(l=20, r=50, t=50, b=20),\n",
                "    title = 'Proodutos mais Vendidos - Ciclo Fev-2020',\n",
                "    xaxis_title=\"Categorias\",\n",
                "    yaxis_title=\"Percentual [%]\",\n",
                "    legend_title=\"Ciclo\",\n",
                "    width=900, \n",
                "    height=600,\n",
                "    uniformtext_minsize=10, \n",
                "    uniformtext_mode='hide',\n",
                ")\n",
                "fig.update_xaxes(visible=False)\n",
                "fig.show()"
            ],
            "outputs": [
                {
                    "output_type": "display_data",
                    "data": {
                        "application/vnd.plotly.v1+json": {
                            "config": {
                                "plotlyServerURL": "https://plot.ly"
                            },
                            "data": [
                                {
                                    "alignmentgroup": "True",
                                    "customdata": [
                                        [
                                            152.2,
                                            -0.46
                                        ]
                                    ],
                                    "hovertemplate": "Produto_Descricao=%{x}<br>% Qtde_Itens=%{y}<br>% Liq_med_p_Item=%{customdata[1]}<br>ReceitaL_p_Item=%{customdata[0]}<extra></extra>",
                                    "legendgroup": "BOT PERFUME LILLY 75ML - ED ESPECIAL",
                                    "marker": {
                                        "color": "rgb(76,114,176)",
                                        "pattern": {
                                            "shape": ""
                                        }
                                    },
                                    "name": "BOT PERFUME LILLY 75ML - ED ESPECIAL",
                                    "offsetgroup": "BOT PERFUME LILLY 75ML - ED ESPECIAL",
                                    "orientation": "v",
                                    "showlegend": true,
                                    "text": [
                                        -0.46
                                    ],
                                    "textposition": "auto",
                                    "type": "bar",
                                    "x": [
                                        "BOT PERFUME LILLY 75ML - ED ESPECIAL"
                                    ],
                                    "xaxis": "x",
                                    "y": [
                                        15.55
                                    ],
                                    "yaxis": "y"
                                },
                                {
                                    "alignmentgroup": "True",
                                    "customdata": [
                                        [
                                            21.11,
                                            -0.19
                                        ]
                                    ],
                                    "hovertemplate": "Produto_Descricao=%{x}<br>% Qtde_Itens=%{y}<br>% Liq_med_p_Item=%{customdata[1]}<br>ReceitaL_p_Item=%{customdata[0]}<extra></extra>",
                                    "legendgroup": "BOTI DEOS AEROSOL MALBEC 40ML",
                                    "marker": {
                                        "color": "rgb(221,132,82)",
                                        "pattern": {
                                            "shape": ""
                                        }
                                    },
                                    "name": "BOTI DEOS AEROSOL MALBEC 40ML",
                                    "offsetgroup": "BOTI DEOS AEROSOL MALBEC 40ML",
                                    "orientation": "v",
                                    "showlegend": true,
                                    "text": [
                                        -0.19
                                    ],
                                    "textposition": "auto",
                                    "type": "bar",
                                    "x": [
                                        "BOTI DEOS AEROSOL MALBEC 40ML"
                                    ],
                                    "xaxis": "x",
                                    "y": [
                                        53.57
                                    ],
                                    "yaxis": "y"
                                },
                                {
                                    "alignmentgroup": "True",
                                    "customdata": [
                                        [
                                            1.7,
                                            0
                                        ]
                                    ],
                                    "hovertemplate": "Produto_Descricao=%{x}<br>% Qtde_Itens=%{y}<br>% Liq_med_p_Item=%{customdata[1]}<br>ReceitaL_p_Item=%{customdata[0]}<extra></extra>",
                                    "legendgroup": "BOT BLOCO DE PEDIDOS VD",
                                    "marker": {
                                        "color": "rgb(85,168,104)",
                                        "pattern": {
                                            "shape": ""
                                        }
                                    },
                                    "name": "BOT BLOCO DE PEDIDOS VD",
                                    "offsetgroup": "BOT BLOCO DE PEDIDOS VD",
                                    "orientation": "v",
                                    "showlegend": true,
                                    "text": [
                                        0
                                    ],
                                    "textposition": "auto",
                                    "type": "bar",
                                    "x": [
                                        "BOT BLOCO DE PEDIDOS VD"
                                    ],
                                    "xaxis": "x",
                                    "y": [
                                        5.53
                                    ],
                                    "yaxis": "y"
                                },
                                {
                                    "alignmentgroup": "True",
                                    "customdata": [
                                        [
                                            16.84,
                                            -0.47
                                        ]
                                    ],
                                    "hovertemplate": "Produto_Descricao=%{x}<br>% Qtde_Itens=%{y}<br>% Liq_med_p_Item=%{customdata[1]}<br>ReceitaL_p_Item=%{customdata[0]}<extra></extra>",
                                    "legendgroup": "BOT SABONETE LÍQ LILLY 50ML",
                                    "marker": {
                                        "color": "rgb(196,78,82)",
                                        "pattern": {
                                            "shape": ""
                                        }
                                    },
                                    "name": "BOT SABONETE LÍQ LILLY 50ML",
                                    "offsetgroup": "BOT SABONETE LÍQ LILLY 50ML",
                                    "orientation": "v",
                                    "showlegend": true,
                                    "text": [
                                        -0.47
                                    ],
                                    "textposition": "auto",
                                    "type": "bar",
                                    "x": [
                                        "BOT SABONETE LÍQ LILLY 50ML"
                                    ],
                                    "xaxis": "x",
                                    "y": [
                                        11.35
                                    ],
                                    "yaxis": "y"
                                },
                                {
                                    "alignmentgroup": "True",
                                    "customdata": [
                                        [
                                            3.85,
                                            0
                                        ]
                                    ],
                                    "hovertemplate": "Produto_Descricao=%{x}<br>% Qtde_Itens=%{y}<br>% Liq_med_p_Item=%{customdata[1]}<br>ReceitaL_p_Item=%{customdata[0]}<extra></extra>",
                                    "legendgroup": "CATALOGO CICLO PROXIMO SELL OUT",
                                    "marker": {
                                        "color": "rgb(129,114,179)",
                                        "pattern": {
                                            "shape": ""
                                        }
                                    },
                                    "name": "CATALOGO CICLO PROXIMO SELL OUT",
                                    "offsetgroup": "CATALOGO CICLO PROXIMO SELL OUT",
                                    "orientation": "v",
                                    "showlegend": true,
                                    "text": [
                                        0
                                    ],
                                    "textposition": "auto",
                                    "type": "bar",
                                    "x": [
                                        "CATALOGO CICLO PROXIMO SELL OUT"
                                    ],
                                    "xaxis": "x",
                                    "y": [
                                        -64.35
                                    ],
                                    "yaxis": "y"
                                },
                                {
                                    "alignmentgroup": "True",
                                    "customdata": [
                                        [
                                            67.8,
                                            -0.13
                                        ]
                                    ],
                                    "hovertemplate": "Produto_Descricao=%{x}<br>% Qtde_Itens=%{y}<br>% Liq_med_p_Item=%{customdata[1]}<br>ReceitaL_p_Item=%{customdata[0]}<extra></extra>",
                                    "legendgroup": "BOTI SPLASH MALBEC 100ML",
                                    "marker": {
                                        "color": "rgb(147,120,96)",
                                        "pattern": {
                                            "shape": ""
                                        }
                                    },
                                    "name": "BOTI SPLASH MALBEC 100ML",
                                    "offsetgroup": "BOTI SPLASH MALBEC 100ML",
                                    "orientation": "v",
                                    "showlegend": true,
                                    "text": [
                                        -0.13
                                    ],
                                    "textposition": "auto",
                                    "type": "bar",
                                    "x": [
                                        "BOTI SPLASH MALBEC 100ML"
                                    ],
                                    "xaxis": "x",
                                    "y": [
                                        -22.9
                                    ],
                                    "yaxis": "y"
                                },
                                {
                                    "alignmentgroup": "True",
                                    "customdata": [
                                        [
                                            15.2,
                                            -0.13
                                        ]
                                    ],
                                    "hovertemplate": "Produto_Descricao=%{x}<br>% Qtde_Itens=%{y}<br>% Liq_med_p_Item=%{customdata[1]}<br>ReceitaL_p_Item=%{customdata[0]}<extra></extra>",
                                    "legendgroup": "BOTI MASCARA PROT MALHA PRETA M",
                                    "marker": {
                                        "color": "rgb(218,139,195)",
                                        "pattern": {
                                            "shape": ""
                                        }
                                    },
                                    "name": "BOTI MASCARA PROT MALHA PRETA M",
                                    "offsetgroup": "BOTI MASCARA PROT MALHA PRETA M",
                                    "orientation": "v",
                                    "showlegend": true,
                                    "text": [
                                        -0.13
                                    ],
                                    "textposition": "auto",
                                    "type": "bar",
                                    "x": [
                                        "BOTI MASCARA PROT MALHA PRETA M"
                                    ],
                                    "xaxis": "x",
                                    "y": [
                                        -73.46
                                    ],
                                    "yaxis": "y"
                                },
                                {
                                    "alignmentgroup": "True",
                                    "customdata": [
                                        [
                                            57.88,
                                            -2.59
                                        ]
                                    ],
                                    "hovertemplate": "Produto_Descricao=%{x}<br>% Qtde_Itens=%{y}<br>% Liq_med_p_Item=%{customdata[1]}<br>ReceitaL_p_Item=%{customdata[0]}<extra></extra>",
                                    "legendgroup": "BOTI NECESS VIAGEM PES C/A",
                                    "marker": {
                                        "color": "rgb(140,140,140)",
                                        "pattern": {
                                            "shape": ""
                                        }
                                    },
                                    "name": "BOTI NECESS VIAGEM PES C/A",
                                    "offsetgroup": "BOTI NECESS VIAGEM PES C/A",
                                    "orientation": "v",
                                    "showlegend": true,
                                    "text": [
                                        -2.59
                                    ],
                                    "textposition": "auto",
                                    "type": "bar",
                                    "x": [
                                        "BOTI NECESS VIAGEM PES C/A"
                                    ],
                                    "xaxis": "x",
                                    "y": [
                                        11.09
                                    ],
                                    "yaxis": "y"
                                },
                                {
                                    "alignmentgroup": "True",
                                    "customdata": [
                                        [
                                            50.86,
                                            -0.1
                                        ]
                                    ],
                                    "hovertemplate": "Produto_Descricao=%{x}<br>% Qtde_Itens=%{y}<br>% Liq_med_p_Item=%{customdata[1]}<br>ReceitaL_p_Item=%{customdata[0]}<extra></extra>",
                                    "legendgroup": "BOTI NECESS MASC MALBEC CLUB PVC C/ALC",
                                    "marker": {
                                        "color": "rgb(204,185,116)",
                                        "pattern": {
                                            "shape": ""
                                        }
                                    },
                                    "name": "BOTI NECESS MASC MALBEC CLUB PVC C/ALC",
                                    "offsetgroup": "BOTI NECESS MASC MALBEC CLUB PVC C/ALC",
                                    "orientation": "v",
                                    "showlegend": true,
                                    "text": [
                                        -0.1
                                    ],
                                    "textposition": "auto",
                                    "type": "bar",
                                    "x": [
                                        "BOTI NECESS MASC MALBEC CLUB PVC C/ALC"
                                    ],
                                    "xaxis": "x",
                                    "y": [
                                        9.05
                                    ],
                                    "yaxis": "y"
                                },
                                {
                                    "alignmentgroup": "True",
                                    "customdata": [
                                        [
                                            15.16,
                                            -0.39
                                        ]
                                    ],
                                    "hovertemplate": "Produto_Descricao=%{x}<br>% Qtde_Itens=%{y}<br>% Liq_med_p_Item=%{customdata[1]}<br>ReceitaL_p_Item=%{customdata[0]}<extra></extra>",
                                    "legendgroup": "BOTI MASCARA PROT MALHA CINZA MESCLA M",
                                    "marker": {
                                        "color": "rgb(100,181,205)",
                                        "pattern": {
                                            "shape": ""
                                        }
                                    },
                                    "name": "BOTI MASCARA PROT MALHA CINZA MESCLA M",
                                    "offsetgroup": "BOTI MASCARA PROT MALHA CINZA MESCLA M",
                                    "orientation": "v",
                                    "showlegend": true,
                                    "text": [
                                        -0.39
                                    ],
                                    "textposition": "auto",
                                    "type": "bar",
                                    "x": [
                                        "BOTI MASCARA PROT MALHA CINZA MESCLA M"
                                    ],
                                    "xaxis": "x",
                                    "y": [
                                        -35.71
                                    ],
                                    "yaxis": "y"
                                }
                            ],
                            "layout": {
                                "barmode": "relative",
                                "height": 600,
                                "legend": {
                                    "title": {
                                        "text": "Ciclo"
                                    },
                                    "tracegroupgap": 0
                                },
                                "margin": {
                                    "b": 20,
                                    "l": 20,
                                    "r": 50,
                                    "t": 50
                                },
                                "template": {
                                    "data": {
                                        "bar": [
                                            {
                                                "error_x": {
                                                    "color": "rgb(36,36,36)"
                                                },
                                                "error_y": {
                                                    "color": "rgb(36,36,36)"
                                                },
                                                "marker": {
                                                    "line": {
                                                        "color": "rgb(234,234,242)",
                                                        "width": 0.5
                                                    },
                                                    "pattern": {
                                                        "fillmode": "overlay",
                                                        "size": 10,
                                                        "solidity": 0.2
                                                    }
                                                },
                                                "type": "bar"
                                            }
                                        ],
                                        "barpolar": [
                                            {
                                                "marker": {
                                                    "line": {
                                                        "color": "rgb(234,234,242)",
                                                        "width": 0.5
                                                    },
                                                    "pattern": {
                                                        "fillmode": "overlay",
                                                        "size": 10,
                                                        "solidity": 0.2
                                                    }
                                                },
                                                "type": "barpolar"
                                            }
                                        ],
                                        "carpet": [
                                            {
                                                "aaxis": {
                                                    "endlinecolor": "rgb(36,36,36)",
                                                    "gridcolor": "white",
                                                    "linecolor": "white",
                                                    "minorgridcolor": "white",
                                                    "startlinecolor": "rgb(36,36,36)"
                                                },
                                                "baxis": {
                                                    "endlinecolor": "rgb(36,36,36)",
                                                    "gridcolor": "white",
                                                    "linecolor": "white",
                                                    "minorgridcolor": "white",
                                                    "startlinecolor": "rgb(36,36,36)"
                                                },
                                                "type": "carpet"
                                            }
                                        ],
                                        "choropleth": [
                                            {
                                                "colorbar": {
                                                    "outlinewidth": 0,
                                                    "tickcolor": "rgb(36,36,36)",
                                                    "ticklen": 8,
                                                    "ticks": "outside",
                                                    "tickwidth": 2
                                                },
                                                "type": "choropleth"
                                            }
                                        ],
                                        "contour": [
                                            {
                                                "colorbar": {
                                                    "outlinewidth": 0,
                                                    "tickcolor": "rgb(36,36,36)",
                                                    "ticklen": 8,
                                                    "ticks": "outside",
                                                    "tickwidth": 2
                                                },
                                                "colorscale": [
                                                    [
                                                        0,
                                                        "rgb(2,4,25)"
                                                    ],
                                                    [
                                                        0.06274509803921569,
                                                        "rgb(24,15,41)"
                                                    ],
                                                    [
                                                        0.12549019607843137,
                                                        "rgb(47,23,57)"
                                                    ],
                                                    [
                                                        0.18823529411764706,
                                                        "rgb(71,28,72)"
                                                    ],
                                                    [
                                                        0.25098039215686274,
                                                        "rgb(97,30,82)"
                                                    ],
                                                    [
                                                        0.3137254901960784,
                                                        "rgb(123,30,89)"
                                                    ],
                                                    [
                                                        0.3764705882352941,
                                                        "rgb(150,27,91)"
                                                    ],
                                                    [
                                                        0.4392156862745098,
                                                        "rgb(177,22,88)"
                                                    ],
                                                    [
                                                        0.5019607843137255,
                                                        "rgb(203,26,79)"
                                                    ],
                                                    [
                                                        0.5647058823529412,
                                                        "rgb(223,47,67)"
                                                    ],
                                                    [
                                                        0.6274509803921569,
                                                        "rgb(236,76,61)"
                                                    ],
                                                    [
                                                        0.6901960784313725,
                                                        "rgb(242,107,73)"
                                                    ],
                                                    [
                                                        0.7529411764705882,
                                                        "rgb(244,135,95)"
                                                    ],
                                                    [
                                                        0.8156862745098039,
                                                        "rgb(245,162,122)"
                                                    ],
                                                    [
                                                        0.8784313725490196,
                                                        "rgb(246,188,153)"
                                                    ],
                                                    [
                                                        0.9411764705882353,
                                                        "rgb(247,212,187)"
                                                    ],
                                                    [
                                                        1,
                                                        "rgb(250,234,220)"
                                                    ]
                                                ],
                                                "type": "contour"
                                            }
                                        ],
                                        "contourcarpet": [
                                            {
                                                "colorbar": {
                                                    "outlinewidth": 0,
                                                    "tickcolor": "rgb(36,36,36)",
                                                    "ticklen": 8,
                                                    "ticks": "outside",
                                                    "tickwidth": 2
                                                },
                                                "type": "contourcarpet"
                                            }
                                        ],
                                        "heatmap": [
                                            {
                                                "colorbar": {
                                                    "outlinewidth": 0,
                                                    "tickcolor": "rgb(36,36,36)",
                                                    "ticklen": 8,
                                                    "ticks": "outside",
                                                    "tickwidth": 2
                                                },
                                                "colorscale": [
                                                    [
                                                        0,
                                                        "rgb(2,4,25)"
                                                    ],
                                                    [
                                                        0.06274509803921569,
                                                        "rgb(24,15,41)"
                                                    ],
                                                    [
                                                        0.12549019607843137,
                                                        "rgb(47,23,57)"
                                                    ],
                                                    [
                                                        0.18823529411764706,
                                                        "rgb(71,28,72)"
                                                    ],
                                                    [
                                                        0.25098039215686274,
                                                        "rgb(97,30,82)"
                                                    ],
                                                    [
                                                        0.3137254901960784,
                                                        "rgb(123,30,89)"
                                                    ],
                                                    [
                                                        0.3764705882352941,
                                                        "rgb(150,27,91)"
                                                    ],
                                                    [
                                                        0.4392156862745098,
                                                        "rgb(177,22,88)"
                                                    ],
                                                    [
                                                        0.5019607843137255,
                                                        "rgb(203,26,79)"
                                                    ],
                                                    [
                                                        0.5647058823529412,
                                                        "rgb(223,47,67)"
                                                    ],
                                                    [
                                                        0.6274509803921569,
                                                        "rgb(236,76,61)"
                                                    ],
                                                    [
                                                        0.6901960784313725,
                                                        "rgb(242,107,73)"
                                                    ],
                                                    [
                                                        0.7529411764705882,
                                                        "rgb(244,135,95)"
                                                    ],
                                                    [
                                                        0.8156862745098039,
                                                        "rgb(245,162,122)"
                                                    ],
                                                    [
                                                        0.8784313725490196,
                                                        "rgb(246,188,153)"
                                                    ],
                                                    [
                                                        0.9411764705882353,
                                                        "rgb(247,212,187)"
                                                    ],
                                                    [
                                                        1,
                                                        "rgb(250,234,220)"
                                                    ]
                                                ],
                                                "type": "heatmap"
                                            }
                                        ],
                                        "heatmapgl": [
                                            {
                                                "colorbar": {
                                                    "outlinewidth": 0,
                                                    "tickcolor": "rgb(36,36,36)",
                                                    "ticklen": 8,
                                                    "ticks": "outside",
                                                    "tickwidth": 2
                                                },
                                                "colorscale": [
                                                    [
                                                        0,
                                                        "rgb(2,4,25)"
                                                    ],
                                                    [
                                                        0.06274509803921569,
                                                        "rgb(24,15,41)"
                                                    ],
                                                    [
                                                        0.12549019607843137,
                                                        "rgb(47,23,57)"
                                                    ],
                                                    [
                                                        0.18823529411764706,
                                                        "rgb(71,28,72)"
                                                    ],
                                                    [
                                                        0.25098039215686274,
                                                        "rgb(97,30,82)"
                                                    ],
                                                    [
                                                        0.3137254901960784,
                                                        "rgb(123,30,89)"
                                                    ],
                                                    [
                                                        0.3764705882352941,
                                                        "rgb(150,27,91)"
                                                    ],
                                                    [
                                                        0.4392156862745098,
                                                        "rgb(177,22,88)"
                                                    ],
                                                    [
                                                        0.5019607843137255,
                                                        "rgb(203,26,79)"
                                                    ],
                                                    [
                                                        0.5647058823529412,
                                                        "rgb(223,47,67)"
                                                    ],
                                                    [
                                                        0.6274509803921569,
                                                        "rgb(236,76,61)"
                                                    ],
                                                    [
                                                        0.6901960784313725,
                                                        "rgb(242,107,73)"
                                                    ],
                                                    [
                                                        0.7529411764705882,
                                                        "rgb(244,135,95)"
                                                    ],
                                                    [
                                                        0.8156862745098039,
                                                        "rgb(245,162,122)"
                                                    ],
                                                    [
                                                        0.8784313725490196,
                                                        "rgb(246,188,153)"
                                                    ],
                                                    [
                                                        0.9411764705882353,
                                                        "rgb(247,212,187)"
                                                    ],
                                                    [
                                                        1,
                                                        "rgb(250,234,220)"
                                                    ]
                                                ],
                                                "type": "heatmapgl"
                                            }
                                        ],
                                        "histogram": [
                                            {
                                                "marker": {
                                                    "pattern": {
                                                        "fillmode": "overlay",
                                                        "size": 10,
                                                        "solidity": 0.2
                                                    }
                                                },
                                                "type": "histogram"
                                            }
                                        ],
                                        "histogram2d": [
                                            {
                                                "colorbar": {
                                                    "outlinewidth": 0,
                                                    "tickcolor": "rgb(36,36,36)",
                                                    "ticklen": 8,
                                                    "ticks": "outside",
                                                    "tickwidth": 2
                                                },
                                                "colorscale": [
                                                    [
                                                        0,
                                                        "rgb(2,4,25)"
                                                    ],
                                                    [
                                                        0.06274509803921569,
                                                        "rgb(24,15,41)"
                                                    ],
                                                    [
                                                        0.12549019607843137,
                                                        "rgb(47,23,57)"
                                                    ],
                                                    [
                                                        0.18823529411764706,
                                                        "rgb(71,28,72)"
                                                    ],
                                                    [
                                                        0.25098039215686274,
                                                        "rgb(97,30,82)"
                                                    ],
                                                    [
                                                        0.3137254901960784,
                                                        "rgb(123,30,89)"
                                                    ],
                                                    [
                                                        0.3764705882352941,
                                                        "rgb(150,27,91)"
                                                    ],
                                                    [
                                                        0.4392156862745098,
                                                        "rgb(177,22,88)"
                                                    ],
                                                    [
                                                        0.5019607843137255,
                                                        "rgb(203,26,79)"
                                                    ],
                                                    [
                                                        0.5647058823529412,
                                                        "rgb(223,47,67)"
                                                    ],
                                                    [
                                                        0.6274509803921569,
                                                        "rgb(236,76,61)"
                                                    ],
                                                    [
                                                        0.6901960784313725,
                                                        "rgb(242,107,73)"
                                                    ],
                                                    [
                                                        0.7529411764705882,
                                                        "rgb(244,135,95)"
                                                    ],
                                                    [
                                                        0.8156862745098039,
                                                        "rgb(245,162,122)"
                                                    ],
                                                    [
                                                        0.8784313725490196,
                                                        "rgb(246,188,153)"
                                                    ],
                                                    [
                                                        0.9411764705882353,
                                                        "rgb(247,212,187)"
                                                    ],
                                                    [
                                                        1,
                                                        "rgb(250,234,220)"
                                                    ]
                                                ],
                                                "type": "histogram2d"
                                            }
                                        ],
                                        "histogram2dcontour": [
                                            {
                                                "colorbar": {
                                                    "outlinewidth": 0,
                                                    "tickcolor": "rgb(36,36,36)",
                                                    "ticklen": 8,
                                                    "ticks": "outside",
                                                    "tickwidth": 2
                                                },
                                                "colorscale": [
                                                    [
                                                        0,
                                                        "rgb(2,4,25)"
                                                    ],
                                                    [
                                                        0.06274509803921569,
                                                        "rgb(24,15,41)"
                                                    ],
                                                    [
                                                        0.12549019607843137,
                                                        "rgb(47,23,57)"
                                                    ],
                                                    [
                                                        0.18823529411764706,
                                                        "rgb(71,28,72)"
                                                    ],
                                                    [
                                                        0.25098039215686274,
                                                        "rgb(97,30,82)"
                                                    ],
                                                    [
                                                        0.3137254901960784,
                                                        "rgb(123,30,89)"
                                                    ],
                                                    [
                                                        0.3764705882352941,
                                                        "rgb(150,27,91)"
                                                    ],
                                                    [
                                                        0.4392156862745098,
                                                        "rgb(177,22,88)"
                                                    ],
                                                    [
                                                        0.5019607843137255,
                                                        "rgb(203,26,79)"
                                                    ],
                                                    [
                                                        0.5647058823529412,
                                                        "rgb(223,47,67)"
                                                    ],
                                                    [
                                                        0.6274509803921569,
                                                        "rgb(236,76,61)"
                                                    ],
                                                    [
                                                        0.6901960784313725,
                                                        "rgb(242,107,73)"
                                                    ],
                                                    [
                                                        0.7529411764705882,
                                                        "rgb(244,135,95)"
                                                    ],
                                                    [
                                                        0.8156862745098039,
                                                        "rgb(245,162,122)"
                                                    ],
                                                    [
                                                        0.8784313725490196,
                                                        "rgb(246,188,153)"
                                                    ],
                                                    [
                                                        0.9411764705882353,
                                                        "rgb(247,212,187)"
                                                    ],
                                                    [
                                                        1,
                                                        "rgb(250,234,220)"
                                                    ]
                                                ],
                                                "type": "histogram2dcontour"
                                            }
                                        ],
                                        "mesh3d": [
                                            {
                                                "colorbar": {
                                                    "outlinewidth": 0,
                                                    "tickcolor": "rgb(36,36,36)",
                                                    "ticklen": 8,
                                                    "ticks": "outside",
                                                    "tickwidth": 2
                                                },
                                                "type": "mesh3d"
                                            }
                                        ],
                                        "parcoords": [
                                            {
                                                "line": {
                                                    "colorbar": {
                                                        "outlinewidth": 0,
                                                        "tickcolor": "rgb(36,36,36)",
                                                        "ticklen": 8,
                                                        "ticks": "outside",
                                                        "tickwidth": 2
                                                    }
                                                },
                                                "type": "parcoords"
                                            }
                                        ],
                                        "pie": [
                                            {
                                                "automargin": true,
                                                "type": "pie"
                                            }
                                        ],
                                        "scatter": [
                                            {
                                                "marker": {
                                                    "colorbar": {
                                                        "outlinewidth": 0,
                                                        "tickcolor": "rgb(36,36,36)",
                                                        "ticklen": 8,
                                                        "ticks": "outside",
                                                        "tickwidth": 2
                                                    }
                                                },
                                                "type": "scatter"
                                            }
                                        ],
                                        "scatter3d": [
                                            {
                                                "line": {
                                                    "colorbar": {
                                                        "outlinewidth": 0,
                                                        "tickcolor": "rgb(36,36,36)",
                                                        "ticklen": 8,
                                                        "ticks": "outside",
                                                        "tickwidth": 2
                                                    }
                                                },
                                                "marker": {
                                                    "colorbar": {
                                                        "outlinewidth": 0,
                                                        "tickcolor": "rgb(36,36,36)",
                                                        "ticklen": 8,
                                                        "ticks": "outside",
                                                        "tickwidth": 2
                                                    }
                                                },
                                                "type": "scatter3d"
                                            }
                                        ],
                                        "scattercarpet": [
                                            {
                                                "marker": {
                                                    "colorbar": {
                                                        "outlinewidth": 0,
                                                        "tickcolor": "rgb(36,36,36)",
                                                        "ticklen": 8,
                                                        "ticks": "outside",
                                                        "tickwidth": 2
                                                    }
                                                },
                                                "type": "scattercarpet"
                                            }
                                        ],
                                        "scattergeo": [
                                            {
                                                "marker": {
                                                    "colorbar": {
                                                        "outlinewidth": 0,
                                                        "tickcolor": "rgb(36,36,36)",
                                                        "ticklen": 8,
                                                        "ticks": "outside",
                                                        "tickwidth": 2
                                                    }
                                                },
                                                "type": "scattergeo"
                                            }
                                        ],
                                        "scattergl": [
                                            {
                                                "marker": {
                                                    "colorbar": {
                                                        "outlinewidth": 0,
                                                        "tickcolor": "rgb(36,36,36)",
                                                        "ticklen": 8,
                                                        "ticks": "outside",
                                                        "tickwidth": 2
                                                    }
                                                },
                                                "type": "scattergl"
                                            }
                                        ],
                                        "scattermapbox": [
                                            {
                                                "marker": {
                                                    "colorbar": {
                                                        "outlinewidth": 0,
                                                        "tickcolor": "rgb(36,36,36)",
                                                        "ticklen": 8,
                                                        "ticks": "outside",
                                                        "tickwidth": 2
                                                    }
                                                },
                                                "type": "scattermapbox"
                                            }
                                        ],
                                        "scatterpolar": [
                                            {
                                                "marker": {
                                                    "colorbar": {
                                                        "outlinewidth": 0,
                                                        "tickcolor": "rgb(36,36,36)",
                                                        "ticklen": 8,
                                                        "ticks": "outside",
                                                        "tickwidth": 2
                                                    }
                                                },
                                                "type": "scatterpolar"
                                            }
                                        ],
                                        "scatterpolargl": [
                                            {
                                                "marker": {
                                                    "colorbar": {
                                                        "outlinewidth": 0,
                                                        "tickcolor": "rgb(36,36,36)",
                                                        "ticklen": 8,
                                                        "ticks": "outside",
                                                        "tickwidth": 2
                                                    }
                                                },
                                                "type": "scatterpolargl"
                                            }
                                        ],
                                        "scatterternary": [
                                            {
                                                "marker": {
                                                    "colorbar": {
                                                        "outlinewidth": 0,
                                                        "tickcolor": "rgb(36,36,36)",
                                                        "ticklen": 8,
                                                        "ticks": "outside",
                                                        "tickwidth": 2
                                                    }
                                                },
                                                "type": "scatterternary"
                                            }
                                        ],
                                        "surface": [
                                            {
                                                "colorbar": {
                                                    "outlinewidth": 0,
                                                    "tickcolor": "rgb(36,36,36)",
                                                    "ticklen": 8,
                                                    "ticks": "outside",
                                                    "tickwidth": 2
                                                },
                                                "colorscale": [
                                                    [
                                                        0,
                                                        "rgb(2,4,25)"
                                                    ],
                                                    [
                                                        0.06274509803921569,
                                                        "rgb(24,15,41)"
                                                    ],
                                                    [
                                                        0.12549019607843137,
                                                        "rgb(47,23,57)"
                                                    ],
                                                    [
                                                        0.18823529411764706,
                                                        "rgb(71,28,72)"
                                                    ],
                                                    [
                                                        0.25098039215686274,
                                                        "rgb(97,30,82)"
                                                    ],
                                                    [
                                                        0.3137254901960784,
                                                        "rgb(123,30,89)"
                                                    ],
                                                    [
                                                        0.3764705882352941,
                                                        "rgb(150,27,91)"
                                                    ],
                                                    [
                                                        0.4392156862745098,
                                                        "rgb(177,22,88)"
                                                    ],
                                                    [
                                                        0.5019607843137255,
                                                        "rgb(203,26,79)"
                                                    ],
                                                    [
                                                        0.5647058823529412,
                                                        "rgb(223,47,67)"
                                                    ],
                                                    [
                                                        0.6274509803921569,
                                                        "rgb(236,76,61)"
                                                    ],
                                                    [
                                                        0.6901960784313725,
                                                        "rgb(242,107,73)"
                                                    ],
                                                    [
                                                        0.7529411764705882,
                                                        "rgb(244,135,95)"
                                                    ],
                                                    [
                                                        0.8156862745098039,
                                                        "rgb(245,162,122)"
                                                    ],
                                                    [
                                                        0.8784313725490196,
                                                        "rgb(246,188,153)"
                                                    ],
                                                    [
                                                        0.9411764705882353,
                                                        "rgb(247,212,187)"
                                                    ],
                                                    [
                                                        1,
                                                        "rgb(250,234,220)"
                                                    ]
                                                ],
                                                "type": "surface"
                                            }
                                        ],
                                        "table": [
                                            {
                                                "cells": {
                                                    "fill": {
                                                        "color": "rgb(231,231,240)"
                                                    },
                                                    "line": {
                                                        "color": "white"
                                                    }
                                                },
                                                "header": {
                                                    "fill": {
                                                        "color": "rgb(183,183,191)"
                                                    },
                                                    "line": {
                                                        "color": "white"
                                                    }
                                                },
                                                "type": "table"
                                            }
                                        ]
                                    },
                                    "layout": {
                                        "annotationdefaults": {
                                            "arrowcolor": "rgb(67,103,167)"
                                        },
                                        "autotypenumbers": "strict",
                                        "coloraxis": {
                                            "colorbar": {
                                                "outlinewidth": 0,
                                                "tickcolor": "rgb(36,36,36)",
                                                "ticklen": 8,
                                                "ticks": "outside",
                                                "tickwidth": 2
                                            }
                                        },
                                        "colorscale": {
                                            "sequential": [
                                                [
                                                    0,
                                                    "rgb(2,4,25)"
                                                ],
                                                [
                                                    0.06274509803921569,
                                                    "rgb(24,15,41)"
                                                ],
                                                [
                                                    0.12549019607843137,
                                                    "rgb(47,23,57)"
                                                ],
                                                [
                                                    0.18823529411764706,
                                                    "rgb(71,28,72)"
                                                ],
                                                [
                                                    0.25098039215686274,
                                                    "rgb(97,30,82)"
                                                ],
                                                [
                                                    0.3137254901960784,
                                                    "rgb(123,30,89)"
                                                ],
                                                [
                                                    0.3764705882352941,
                                                    "rgb(150,27,91)"
                                                ],
                                                [
                                                    0.4392156862745098,
                                                    "rgb(177,22,88)"
                                                ],
                                                [
                                                    0.5019607843137255,
                                                    "rgb(203,26,79)"
                                                ],
                                                [
                                                    0.5647058823529412,
                                                    "rgb(223,47,67)"
                                                ],
                                                [
                                                    0.6274509803921569,
                                                    "rgb(236,76,61)"
                                                ],
                                                [
                                                    0.6901960784313725,
                                                    "rgb(242,107,73)"
                                                ],
                                                [
                                                    0.7529411764705882,
                                                    "rgb(244,135,95)"
                                                ],
                                                [
                                                    0.8156862745098039,
                                                    "rgb(245,162,122)"
                                                ],
                                                [
                                                    0.8784313725490196,
                                                    "rgb(246,188,153)"
                                                ],
                                                [
                                                    0.9411764705882353,
                                                    "rgb(247,212,187)"
                                                ],
                                                [
                                                    1,
                                                    "rgb(250,234,220)"
                                                ]
                                            ],
                                            "sequentialminus": [
                                                [
                                                    0,
                                                    "rgb(2,4,25)"
                                                ],
                                                [
                                                    0.06274509803921569,
                                                    "rgb(24,15,41)"
                                                ],
                                                [
                                                    0.12549019607843137,
                                                    "rgb(47,23,57)"
                                                ],
                                                [
                                                    0.18823529411764706,
                                                    "rgb(71,28,72)"
                                                ],
                                                [
                                                    0.25098039215686274,
                                                    "rgb(97,30,82)"
                                                ],
                                                [
                                                    0.3137254901960784,
                                                    "rgb(123,30,89)"
                                                ],
                                                [
                                                    0.3764705882352941,
                                                    "rgb(150,27,91)"
                                                ],
                                                [
                                                    0.4392156862745098,
                                                    "rgb(177,22,88)"
                                                ],
                                                [
                                                    0.5019607843137255,
                                                    "rgb(203,26,79)"
                                                ],
                                                [
                                                    0.5647058823529412,
                                                    "rgb(223,47,67)"
                                                ],
                                                [
                                                    0.6274509803921569,
                                                    "rgb(236,76,61)"
                                                ],
                                                [
                                                    0.6901960784313725,
                                                    "rgb(242,107,73)"
                                                ],
                                                [
                                                    0.7529411764705882,
                                                    "rgb(244,135,95)"
                                                ],
                                                [
                                                    0.8156862745098039,
                                                    "rgb(245,162,122)"
                                                ],
                                                [
                                                    0.8784313725490196,
                                                    "rgb(246,188,153)"
                                                ],
                                                [
                                                    0.9411764705882353,
                                                    "rgb(247,212,187)"
                                                ],
                                                [
                                                    1,
                                                    "rgb(250,234,220)"
                                                ]
                                            ]
                                        },
                                        "colorway": [
                                            "rgb(76,114,176)",
                                            "rgb(221,132,82)",
                                            "rgb(85,168,104)",
                                            "rgb(196,78,82)",
                                            "rgb(129,114,179)",
                                            "rgb(147,120,96)",
                                            "rgb(218,139,195)",
                                            "rgb(140,140,140)",
                                            "rgb(204,185,116)",
                                            "rgb(100,181,205)"
                                        ],
                                        "font": {
                                            "color": "rgb(36,36,36)"
                                        },
                                        "geo": {
                                            "bgcolor": "white",
                                            "lakecolor": "white",
                                            "landcolor": "rgb(234,234,242)",
                                            "showlakes": true,
                                            "showland": true,
                                            "subunitcolor": "white"
                                        },
                                        "hoverlabel": {
                                            "align": "left"
                                        },
                                        "hovermode": "closest",
                                        "paper_bgcolor": "white",
                                        "plot_bgcolor": "rgb(234,234,242)",
                                        "polar": {
                                            "angularaxis": {
                                                "gridcolor": "white",
                                                "linecolor": "white",
                                                "showgrid": true,
                                                "ticks": ""
                                            },
                                            "bgcolor": "rgb(234,234,242)",
                                            "radialaxis": {
                                                "gridcolor": "white",
                                                "linecolor": "white",
                                                "showgrid": true,
                                                "ticks": ""
                                            }
                                        },
                                        "scene": {
                                            "xaxis": {
                                                "backgroundcolor": "rgb(234,234,242)",
                                                "gridcolor": "white",
                                                "gridwidth": 2,
                                                "linecolor": "white",
                                                "showbackground": true,
                                                "showgrid": true,
                                                "ticks": "",
                                                "zerolinecolor": "white"
                                            },
                                            "yaxis": {
                                                "backgroundcolor": "rgb(234,234,242)",
                                                "gridcolor": "white",
                                                "gridwidth": 2,
                                                "linecolor": "white",
                                                "showbackground": true,
                                                "showgrid": true,
                                                "ticks": "",
                                                "zerolinecolor": "white"
                                            },
                                            "zaxis": {
                                                "backgroundcolor": "rgb(234,234,242)",
                                                "gridcolor": "white",
                                                "gridwidth": 2,
                                                "linecolor": "white",
                                                "showbackground": true,
                                                "showgrid": true,
                                                "ticks": "",
                                                "zerolinecolor": "white"
                                            }
                                        },
                                        "shapedefaults": {
                                            "fillcolor": "rgb(67,103,167)",
                                            "line": {
                                                "width": 0
                                            },
                                            "opacity": 0.5
                                        },
                                        "ternary": {
                                            "aaxis": {
                                                "gridcolor": "white",
                                                "linecolor": "white",
                                                "showgrid": true,
                                                "ticks": ""
                                            },
                                            "baxis": {
                                                "gridcolor": "white",
                                                "linecolor": "white",
                                                "showgrid": true,
                                                "ticks": ""
                                            },
                                            "bgcolor": "rgb(234,234,242)",
                                            "caxis": {
                                                "gridcolor": "white",
                                                "linecolor": "white",
                                                "showgrid": true,
                                                "ticks": ""
                                            }
                                        },
                                        "xaxis": {
                                            "automargin": true,
                                            "gridcolor": "white",
                                            "linecolor": "white",
                                            "showgrid": true,
                                            "ticks": "",
                                            "title": {
                                                "standoff": 15
                                            },
                                            "zerolinecolor": "white"
                                        },
                                        "yaxis": {
                                            "automargin": true,
                                            "gridcolor": "white",
                                            "linecolor": "white",
                                            "showgrid": true,
                                            "ticks": "",
                                            "title": {
                                                "standoff": 15
                                            },
                                            "zerolinecolor": "white"
                                        }
                                    }
                                },
                                "title": {
                                    "text": "Proodutos mais Vendidos - Ciclo Fev-2020"
                                },
                                "uniformtext": {
                                    "minsize": 10,
                                    "mode": "hide"
                                },
                                "width": 900,
                                "xaxis": {
                                    "anchor": "y",
                                    "categoryarray": [
                                        "BOT PERFUME LILLY 75ML - ED ESPECIAL",
                                        "BOTI DEOS AEROSOL MALBEC 40ML",
                                        "BOT BLOCO DE PEDIDOS VD",
                                        "BOT SABONETE LÍQ LILLY 50ML",
                                        "CATALOGO CICLO PROXIMO SELL OUT",
                                        "BOTI SPLASH MALBEC 100ML",
                                        "BOTI MASCARA PROT MALHA PRETA M",
                                        "BOTI NECESS VIAGEM PES C/A",
                                        "BOTI NECESS MASC MALBEC CLUB PVC C/ALC",
                                        "BOTI MASCARA PROT MALHA CINZA MESCLA M"
                                    ],
                                    "categoryorder": "array",
                                    "domain": [
                                        0,
                                        1
                                    ],
                                    "title": {
                                        "text": "Categorias"
                                    },
                                    "visible": false
                                },
                                "yaxis": {
                                    "anchor": "x",
                                    "domain": [
                                        0,
                                        1
                                    ],
                                    "title": {
                                        "text": "Percentual [%]"
                                    }
                                }
                            }
                        }
                    },
                    "metadata": {}
                }
            ],
            "metadata": {}
        },
        {
            "cell_type": "code",
            "execution_count": 29,
            "source": [
                "produtos[produtos['Ciclo'] == 'Mar-2020'].head(10)"
            ],
            "outputs": [
                {
                    "output_type": "execute_result",
                    "data": {
                        "text/html": [
                            "<div>\n",
                            "<style scoped>\n",
                            "    .dataframe tbody tr th:only-of-type {\n",
                            "        vertical-align: middle;\n",
                            "    }\n",
                            "\n",
                            "    .dataframe tbody tr th {\n",
                            "        vertical-align: top;\n",
                            "    }\n",
                            "\n",
                            "    .dataframe thead th {\n",
                            "        text-align: right;\n",
                            "    }\n",
                            "</style>\n",
                            "<table border=\"1\" class=\"dataframe\">\n",
                            "  <thead>\n",
                            "    <tr style=\"text-align: right;\">\n",
                            "      <th></th>\n",
                            "      <th>Produto_Descricao</th>\n",
                            "      <th>Ciclo</th>\n",
                            "      <th>Receita_Bruta</th>\n",
                            "      <th>Receita_Liquida</th>\n",
                            "      <th>Desconto</th>\n",
                            "      <th>Qtde_itens</th>\n",
                            "      <th>ReceitaL_p_Item</th>\n",
                            "      <th>% Qtde_Itens</th>\n",
                            "      <th>% Liq_med_p_Item</th>\n",
                            "    </tr>\n",
                            "  </thead>\n",
                            "  <tbody>\n",
                            "    <tr>\n",
                            "      <th>1</th>\n",
                            "      <td>BOT PERFUME LILLY 75ML - ED ESPECIAL</td>\n",
                            "      <td>Mar-2020</td>\n",
                            "      <td>3201056.64</td>\n",
                            "      <td>3201056.64</td>\n",
                            "      <td>0.00</td>\n",
                            "      <td>20935</td>\n",
                            "      <td>152.90</td>\n",
                            "      <td>-13.46</td>\n",
                            "      <td>0.46</td>\n",
                            "    </tr>\n",
                            "    <tr>\n",
                            "      <th>3</th>\n",
                            "      <td>BOTI DEOS AEROSOL MALBEC 40ML</td>\n",
                            "      <td>Mar-2020</td>\n",
                            "      <td>103746.03</td>\n",
                            "      <td>88163.41</td>\n",
                            "      <td>15582.62</td>\n",
                            "      <td>4168</td>\n",
                            "      <td>21.15</td>\n",
                            "      <td>-34.89</td>\n",
                            "      <td>0.19</td>\n",
                            "    </tr>\n",
                            "    <tr>\n",
                            "      <th>4</th>\n",
                            "      <td>CATALOGO CICLO PROXIMO SELL OUT</td>\n",
                            "      <td>Mar-2020</td>\n",
                            "      <td>14254.79</td>\n",
                            "      <td>14254.79</td>\n",
                            "      <td>0.00</td>\n",
                            "      <td>3703</td>\n",
                            "      <td>3.85</td>\n",
                            "      <td>180.53</td>\n",
                            "      <td>0.00</td>\n",
                            "    </tr>\n",
                            "    <tr>\n",
                            "      <th>6</th>\n",
                            "      <td>BOT BLOCO DE PEDIDOS VD</td>\n",
                            "      <td>Mar-2020</td>\n",
                            "      <td>6906.21</td>\n",
                            "      <td>5870.28</td>\n",
                            "      <td>1035.93</td>\n",
                            "      <td>3454</td>\n",
                            "      <td>1.70</td>\n",
                            "      <td>-5.24</td>\n",
                            "      <td>0.00</td>\n",
                            "    </tr>\n",
                            "    <tr>\n",
                            "      <th>7</th>\n",
                            "      <td>BOTI MASCARA PROT MALHA PRETA M</td>\n",
                            "      <td>Mar-2020</td>\n",
                            "      <td>35404.33</td>\n",
                            "      <td>30103.56</td>\n",
                            "      <td>5300.77</td>\n",
                            "      <td>1978</td>\n",
                            "      <td>15.22</td>\n",
                            "      <td>276.76</td>\n",
                            "      <td>0.13</td>\n",
                            "    </tr>\n",
                            "    <tr>\n",
                            "      <th>8</th>\n",
                            "      <td>BOTI NECESS ENVELOPE PU ROSA C/A</td>\n",
                            "      <td>Mar-2020</td>\n",
                            "      <td>33617.92</td>\n",
                            "      <td>28583.62</td>\n",
                            "      <td>5034.30</td>\n",
                            "      <td>1690</td>\n",
                            "      <td>16.91</td>\n",
                            "      <td>293.02</td>\n",
                            "      <td>-20.09</td>\n",
                            "    </tr>\n",
                            "    <tr>\n",
                            "      <th>10</th>\n",
                            "      <td>BOT SABONETE LÍQ LILLY 50ML</td>\n",
                            "      <td>Mar-2020</td>\n",
                            "      <td>29625.97</td>\n",
                            "      <td>25189.49</td>\n",
                            "      <td>4436.48</td>\n",
                            "      <td>1489</td>\n",
                            "      <td>16.92</td>\n",
                            "      <td>-10.19</td>\n",
                            "      <td>0.48</td>\n",
                            "    </tr>\n",
                            "    <tr>\n",
                            "      <th>12</th>\n",
                            "      <td>BOTI NECESS ENVELOPE DOURADO PU C/A</td>\n",
                            "      <td>Mar-2020</td>\n",
                            "      <td>24924.05</td>\n",
                            "      <td>21191.60</td>\n",
                            "      <td>3732.45</td>\n",
                            "      <td>1252</td>\n",
                            "      <td>16.93</td>\n",
                            "      <td>284.05</td>\n",
                            "      <td>-19.15</td>\n",
                            "    </tr>\n",
                            "    <tr>\n",
                            "      <th>13</th>\n",
                            "      <td>BOTI SPLASH MALBEC 100ML</td>\n",
                            "      <td>Mar-2020</td>\n",
                            "      <td>90326.08</td>\n",
                            "      <td>76782.78</td>\n",
                            "      <td>13543.30</td>\n",
                            "      <td>1131</td>\n",
                            "      <td>67.89</td>\n",
                            "      <td>29.70</td>\n",
                            "      <td>0.13</td>\n",
                            "    </tr>\n",
                            "    <tr>\n",
                            "      <th>14</th>\n",
                            "      <td>BOTI FITA OLFATIVA VD</td>\n",
                            "      <td>Mar-2020</td>\n",
                            "      <td>1556.26</td>\n",
                            "      <td>1556.26</td>\n",
                            "      <td>0.00</td>\n",
                            "      <td>1038</td>\n",
                            "      <td>1.50</td>\n",
                            "      <td>371.82</td>\n",
                            "      <td>0.00</td>\n",
                            "    </tr>\n",
                            "  </tbody>\n",
                            "</table>\n",
                            "</div>"
                        ],
                        "text/plain": [
                            "                       Produto_Descricao     Ciclo  Receita_Bruta  \\\n",
                            "1   BOT PERFUME LILLY 75ML - ED ESPECIAL  Mar-2020     3201056.64   \n",
                            "3          BOTI DEOS AEROSOL MALBEC 40ML  Mar-2020      103746.03   \n",
                            "4        CATALOGO CICLO PROXIMO SELL OUT  Mar-2020       14254.79   \n",
                            "6                BOT BLOCO DE PEDIDOS VD  Mar-2020        6906.21   \n",
                            "7        BOTI MASCARA PROT MALHA PRETA M  Mar-2020       35404.33   \n",
                            "8       BOTI NECESS ENVELOPE PU ROSA C/A  Mar-2020       33617.92   \n",
                            "10           BOT SABONETE LÍQ LILLY 50ML  Mar-2020       29625.97   \n",
                            "12   BOTI NECESS ENVELOPE DOURADO PU C/A  Mar-2020       24924.05   \n",
                            "13              BOTI SPLASH MALBEC 100ML  Mar-2020       90326.08   \n",
                            "14                 BOTI FITA OLFATIVA VD  Mar-2020        1556.26   \n",
                            "\n",
                            "    Receita_Liquida  Desconto  Qtde_itens  ReceitaL_p_Item  % Qtde_Itens  \\\n",
                            "1        3201056.64      0.00       20935           152.90        -13.46   \n",
                            "3          88163.41  15582.62        4168            21.15        -34.89   \n",
                            "4          14254.79      0.00        3703             3.85        180.53   \n",
                            "6           5870.28   1035.93        3454             1.70         -5.24   \n",
                            "7          30103.56   5300.77        1978            15.22        276.76   \n",
                            "8          28583.62   5034.30        1690            16.91        293.02   \n",
                            "10         25189.49   4436.48        1489            16.92        -10.19   \n",
                            "12         21191.60   3732.45        1252            16.93        284.05   \n",
                            "13         76782.78  13543.30        1131            67.89         29.70   \n",
                            "14          1556.26      0.00        1038             1.50        371.82   \n",
                            "\n",
                            "    % Liq_med_p_Item  \n",
                            "1               0.46  \n",
                            "3               0.19  \n",
                            "4               0.00  \n",
                            "6               0.00  \n",
                            "7               0.13  \n",
                            "8             -20.09  \n",
                            "10              0.48  \n",
                            "12            -19.15  \n",
                            "13              0.13  \n",
                            "14              0.00  "
                        ]
                    },
                    "metadata": {},
                    "execution_count": 29
                }
            ],
            "metadata": {}
        },
        {
            "cell_type": "code",
            "execution_count": 30,
            "source": [
                "fig = px.bar(produtos[produtos['Ciclo'] == 'Mar-2020'].head(10), x=\"Produto_Descricao\", y=\"% Qtde_Itens\", \\\n",
                "    text=\"% Liq_med_p_Item\", color=\"Produto_Descricao\", hover_data=['Produto_Descricao', 'ReceitaL_p_Item', '% Qtde_Itens', '% Liq_med_p_Item'], template=\"seaborn\")\n",
                "\n",
                "fig.update_layout(\n",
                "    margin=dict(l=20, r=50, t=50, b=20),\n",
                "    title = 'Proodutos mais Vendidos - Ciclo Mar-2020',\n",
                "    xaxis_title=\"Categorias\",\n",
                "    yaxis_title=\"Percentual [%]\",\n",
                "    legend_title=\"Ciclo\",\n",
                "    width=900, \n",
                "    height=600,\n",
                "    uniformtext_minsize=10, \n",
                "    uniformtext_mode='hide',\n",
                ")\n",
                "fig.update_xaxes(visible=False)\n",
                "fig.show()"
            ],
            "outputs": [
                {
                    "output_type": "display_data",
                    "data": {
                        "application/vnd.plotly.v1+json": {
                            "config": {
                                "plotlyServerURL": "https://plot.ly"
                            },
                            "data": [
                                {
                                    "alignmentgroup": "True",
                                    "customdata": [
                                        [
                                            152.9,
                                            0.46
                                        ]
                                    ],
                                    "hovertemplate": "Produto_Descricao=%{x}<br>% Qtde_Itens=%{y}<br>% Liq_med_p_Item=%{customdata[1]}<br>ReceitaL_p_Item=%{customdata[0]}<extra></extra>",
                                    "legendgroup": "BOT PERFUME LILLY 75ML - ED ESPECIAL",
                                    "marker": {
                                        "color": "rgb(76,114,176)",
                                        "pattern": {
                                            "shape": ""
                                        }
                                    },
                                    "name": "BOT PERFUME LILLY 75ML - ED ESPECIAL",
                                    "offsetgroup": "BOT PERFUME LILLY 75ML - ED ESPECIAL",
                                    "orientation": "v",
                                    "showlegend": true,
                                    "text": [
                                        0.46
                                    ],
                                    "textposition": "auto",
                                    "type": "bar",
                                    "x": [
                                        "BOT PERFUME LILLY 75ML - ED ESPECIAL"
                                    ],
                                    "xaxis": "x",
                                    "y": [
                                        -13.46
                                    ],
                                    "yaxis": "y"
                                },
                                {
                                    "alignmentgroup": "True",
                                    "customdata": [
                                        [
                                            21.15,
                                            0.19
                                        ]
                                    ],
                                    "hovertemplate": "Produto_Descricao=%{x}<br>% Qtde_Itens=%{y}<br>% Liq_med_p_Item=%{customdata[1]}<br>ReceitaL_p_Item=%{customdata[0]}<extra></extra>",
                                    "legendgroup": "BOTI DEOS AEROSOL MALBEC 40ML",
                                    "marker": {
                                        "color": "rgb(221,132,82)",
                                        "pattern": {
                                            "shape": ""
                                        }
                                    },
                                    "name": "BOTI DEOS AEROSOL MALBEC 40ML",
                                    "offsetgroup": "BOTI DEOS AEROSOL MALBEC 40ML",
                                    "orientation": "v",
                                    "showlegend": true,
                                    "text": [
                                        0.19
                                    ],
                                    "textposition": "auto",
                                    "type": "bar",
                                    "x": [
                                        "BOTI DEOS AEROSOL MALBEC 40ML"
                                    ],
                                    "xaxis": "x",
                                    "y": [
                                        -34.89
                                    ],
                                    "yaxis": "y"
                                },
                                {
                                    "alignmentgroup": "True",
                                    "customdata": [
                                        [
                                            3.85,
                                            0
                                        ]
                                    ],
                                    "hovertemplate": "Produto_Descricao=%{x}<br>% Qtde_Itens=%{y}<br>% Liq_med_p_Item=%{customdata[1]}<br>ReceitaL_p_Item=%{customdata[0]}<extra></extra>",
                                    "legendgroup": "CATALOGO CICLO PROXIMO SELL OUT",
                                    "marker": {
                                        "color": "rgb(85,168,104)",
                                        "pattern": {
                                            "shape": ""
                                        }
                                    },
                                    "name": "CATALOGO CICLO PROXIMO SELL OUT",
                                    "offsetgroup": "CATALOGO CICLO PROXIMO SELL OUT",
                                    "orientation": "v",
                                    "showlegend": true,
                                    "text": [
                                        0
                                    ],
                                    "textposition": "auto",
                                    "type": "bar",
                                    "x": [
                                        "CATALOGO CICLO PROXIMO SELL OUT"
                                    ],
                                    "xaxis": "x",
                                    "y": [
                                        180.53
                                    ],
                                    "yaxis": "y"
                                },
                                {
                                    "alignmentgroup": "True",
                                    "customdata": [
                                        [
                                            1.7,
                                            0
                                        ]
                                    ],
                                    "hovertemplate": "Produto_Descricao=%{x}<br>% Qtde_Itens=%{y}<br>% Liq_med_p_Item=%{customdata[1]}<br>ReceitaL_p_Item=%{customdata[0]}<extra></extra>",
                                    "legendgroup": "BOT BLOCO DE PEDIDOS VD",
                                    "marker": {
                                        "color": "rgb(196,78,82)",
                                        "pattern": {
                                            "shape": ""
                                        }
                                    },
                                    "name": "BOT BLOCO DE PEDIDOS VD",
                                    "offsetgroup": "BOT BLOCO DE PEDIDOS VD",
                                    "orientation": "v",
                                    "showlegend": true,
                                    "text": [
                                        0
                                    ],
                                    "textposition": "auto",
                                    "type": "bar",
                                    "x": [
                                        "BOT BLOCO DE PEDIDOS VD"
                                    ],
                                    "xaxis": "x",
                                    "y": [
                                        -5.24
                                    ],
                                    "yaxis": "y"
                                },
                                {
                                    "alignmentgroup": "True",
                                    "customdata": [
                                        [
                                            15.22,
                                            0.13
                                        ]
                                    ],
                                    "hovertemplate": "Produto_Descricao=%{x}<br>% Qtde_Itens=%{y}<br>% Liq_med_p_Item=%{customdata[1]}<br>ReceitaL_p_Item=%{customdata[0]}<extra></extra>",
                                    "legendgroup": "BOTI MASCARA PROT MALHA PRETA M",
                                    "marker": {
                                        "color": "rgb(129,114,179)",
                                        "pattern": {
                                            "shape": ""
                                        }
                                    },
                                    "name": "BOTI MASCARA PROT MALHA PRETA M",
                                    "offsetgroup": "BOTI MASCARA PROT MALHA PRETA M",
                                    "orientation": "v",
                                    "showlegend": true,
                                    "text": [
                                        0.13
                                    ],
                                    "textposition": "auto",
                                    "type": "bar",
                                    "x": [
                                        "BOTI MASCARA PROT MALHA PRETA M"
                                    ],
                                    "xaxis": "x",
                                    "y": [
                                        276.76
                                    ],
                                    "yaxis": "y"
                                },
                                {
                                    "alignmentgroup": "True",
                                    "customdata": [
                                        [
                                            16.91,
                                            -20.09
                                        ]
                                    ],
                                    "hovertemplate": "Produto_Descricao=%{x}<br>% Qtde_Itens=%{y}<br>% Liq_med_p_Item=%{customdata[1]}<br>ReceitaL_p_Item=%{customdata[0]}<extra></extra>",
                                    "legendgroup": "BOTI NECESS ENVELOPE PU ROSA C/A",
                                    "marker": {
                                        "color": "rgb(147,120,96)",
                                        "pattern": {
                                            "shape": ""
                                        }
                                    },
                                    "name": "BOTI NECESS ENVELOPE PU ROSA C/A",
                                    "offsetgroup": "BOTI NECESS ENVELOPE PU ROSA C/A",
                                    "orientation": "v",
                                    "showlegend": true,
                                    "text": [
                                        -20.09
                                    ],
                                    "textposition": "auto",
                                    "type": "bar",
                                    "x": [
                                        "BOTI NECESS ENVELOPE PU ROSA C/A"
                                    ],
                                    "xaxis": "x",
                                    "y": [
                                        293.02
                                    ],
                                    "yaxis": "y"
                                },
                                {
                                    "alignmentgroup": "True",
                                    "customdata": [
                                        [
                                            16.92,
                                            0.48
                                        ]
                                    ],
                                    "hovertemplate": "Produto_Descricao=%{x}<br>% Qtde_Itens=%{y}<br>% Liq_med_p_Item=%{customdata[1]}<br>ReceitaL_p_Item=%{customdata[0]}<extra></extra>",
                                    "legendgroup": "BOT SABONETE LÍQ LILLY 50ML",
                                    "marker": {
                                        "color": "rgb(218,139,195)",
                                        "pattern": {
                                            "shape": ""
                                        }
                                    },
                                    "name": "BOT SABONETE LÍQ LILLY 50ML",
                                    "offsetgroup": "BOT SABONETE LÍQ LILLY 50ML",
                                    "orientation": "v",
                                    "showlegend": true,
                                    "text": [
                                        0.48
                                    ],
                                    "textposition": "auto",
                                    "type": "bar",
                                    "x": [
                                        "BOT SABONETE LÍQ LILLY 50ML"
                                    ],
                                    "xaxis": "x",
                                    "y": [
                                        -10.19
                                    ],
                                    "yaxis": "y"
                                },
                                {
                                    "alignmentgroup": "True",
                                    "customdata": [
                                        [
                                            16.93,
                                            -19.15
                                        ]
                                    ],
                                    "hovertemplate": "Produto_Descricao=%{x}<br>% Qtde_Itens=%{y}<br>% Liq_med_p_Item=%{customdata[1]}<br>ReceitaL_p_Item=%{customdata[0]}<extra></extra>",
                                    "legendgroup": "BOTI NECESS ENVELOPE DOURADO PU C/A",
                                    "marker": {
                                        "color": "rgb(140,140,140)",
                                        "pattern": {
                                            "shape": ""
                                        }
                                    },
                                    "name": "BOTI NECESS ENVELOPE DOURADO PU C/A",
                                    "offsetgroup": "BOTI NECESS ENVELOPE DOURADO PU C/A",
                                    "orientation": "v",
                                    "showlegend": true,
                                    "text": [
                                        -19.15
                                    ],
                                    "textposition": "auto",
                                    "type": "bar",
                                    "x": [
                                        "BOTI NECESS ENVELOPE DOURADO PU C/A"
                                    ],
                                    "xaxis": "x",
                                    "y": [
                                        284.05
                                    ],
                                    "yaxis": "y"
                                },
                                {
                                    "alignmentgroup": "True",
                                    "customdata": [
                                        [
                                            67.89,
                                            0.13
                                        ]
                                    ],
                                    "hovertemplate": "Produto_Descricao=%{x}<br>% Qtde_Itens=%{y}<br>% Liq_med_p_Item=%{customdata[1]}<br>ReceitaL_p_Item=%{customdata[0]}<extra></extra>",
                                    "legendgroup": "BOTI SPLASH MALBEC 100ML",
                                    "marker": {
                                        "color": "rgb(204,185,116)",
                                        "pattern": {
                                            "shape": ""
                                        }
                                    },
                                    "name": "BOTI SPLASH MALBEC 100ML",
                                    "offsetgroup": "BOTI SPLASH MALBEC 100ML",
                                    "orientation": "v",
                                    "showlegend": true,
                                    "text": [
                                        0.13
                                    ],
                                    "textposition": "auto",
                                    "type": "bar",
                                    "x": [
                                        "BOTI SPLASH MALBEC 100ML"
                                    ],
                                    "xaxis": "x",
                                    "y": [
                                        29.7
                                    ],
                                    "yaxis": "y"
                                },
                                {
                                    "alignmentgroup": "True",
                                    "customdata": [
                                        [
                                            1.5,
                                            0
                                        ]
                                    ],
                                    "hovertemplate": "Produto_Descricao=%{x}<br>% Qtde_Itens=%{y}<br>% Liq_med_p_Item=%{customdata[1]}<br>ReceitaL_p_Item=%{customdata[0]}<extra></extra>",
                                    "legendgroup": "BOTI FITA OLFATIVA VD",
                                    "marker": {
                                        "color": "rgb(100,181,205)",
                                        "pattern": {
                                            "shape": ""
                                        }
                                    },
                                    "name": "BOTI FITA OLFATIVA VD",
                                    "offsetgroup": "BOTI FITA OLFATIVA VD",
                                    "orientation": "v",
                                    "showlegend": true,
                                    "text": [
                                        0
                                    ],
                                    "textposition": "auto",
                                    "type": "bar",
                                    "x": [
                                        "BOTI FITA OLFATIVA VD"
                                    ],
                                    "xaxis": "x",
                                    "y": [
                                        371.82
                                    ],
                                    "yaxis": "y"
                                }
                            ],
                            "layout": {
                                "barmode": "relative",
                                "height": 600,
                                "legend": {
                                    "title": {
                                        "text": "Ciclo"
                                    },
                                    "tracegroupgap": 0
                                },
                                "margin": {
                                    "b": 20,
                                    "l": 20,
                                    "r": 50,
                                    "t": 50
                                },
                                "template": {
                                    "data": {
                                        "bar": [
                                            {
                                                "error_x": {
                                                    "color": "rgb(36,36,36)"
                                                },
                                                "error_y": {
                                                    "color": "rgb(36,36,36)"
                                                },
                                                "marker": {
                                                    "line": {
                                                        "color": "rgb(234,234,242)",
                                                        "width": 0.5
                                                    },
                                                    "pattern": {
                                                        "fillmode": "overlay",
                                                        "size": 10,
                                                        "solidity": 0.2
                                                    }
                                                },
                                                "type": "bar"
                                            }
                                        ],
                                        "barpolar": [
                                            {
                                                "marker": {
                                                    "line": {
                                                        "color": "rgb(234,234,242)",
                                                        "width": 0.5
                                                    },
                                                    "pattern": {
                                                        "fillmode": "overlay",
                                                        "size": 10,
                                                        "solidity": 0.2
                                                    }
                                                },
                                                "type": "barpolar"
                                            }
                                        ],
                                        "carpet": [
                                            {
                                                "aaxis": {
                                                    "endlinecolor": "rgb(36,36,36)",
                                                    "gridcolor": "white",
                                                    "linecolor": "white",
                                                    "minorgridcolor": "white",
                                                    "startlinecolor": "rgb(36,36,36)"
                                                },
                                                "baxis": {
                                                    "endlinecolor": "rgb(36,36,36)",
                                                    "gridcolor": "white",
                                                    "linecolor": "white",
                                                    "minorgridcolor": "white",
                                                    "startlinecolor": "rgb(36,36,36)"
                                                },
                                                "type": "carpet"
                                            }
                                        ],
                                        "choropleth": [
                                            {
                                                "colorbar": {
                                                    "outlinewidth": 0,
                                                    "tickcolor": "rgb(36,36,36)",
                                                    "ticklen": 8,
                                                    "ticks": "outside",
                                                    "tickwidth": 2
                                                },
                                                "type": "choropleth"
                                            }
                                        ],
                                        "contour": [
                                            {
                                                "colorbar": {
                                                    "outlinewidth": 0,
                                                    "tickcolor": "rgb(36,36,36)",
                                                    "ticklen": 8,
                                                    "ticks": "outside",
                                                    "tickwidth": 2
                                                },
                                                "colorscale": [
                                                    [
                                                        0,
                                                        "rgb(2,4,25)"
                                                    ],
                                                    [
                                                        0.06274509803921569,
                                                        "rgb(24,15,41)"
                                                    ],
                                                    [
                                                        0.12549019607843137,
                                                        "rgb(47,23,57)"
                                                    ],
                                                    [
                                                        0.18823529411764706,
                                                        "rgb(71,28,72)"
                                                    ],
                                                    [
                                                        0.25098039215686274,
                                                        "rgb(97,30,82)"
                                                    ],
                                                    [
                                                        0.3137254901960784,
                                                        "rgb(123,30,89)"
                                                    ],
                                                    [
                                                        0.3764705882352941,
                                                        "rgb(150,27,91)"
                                                    ],
                                                    [
                                                        0.4392156862745098,
                                                        "rgb(177,22,88)"
                                                    ],
                                                    [
                                                        0.5019607843137255,
                                                        "rgb(203,26,79)"
                                                    ],
                                                    [
                                                        0.5647058823529412,
                                                        "rgb(223,47,67)"
                                                    ],
                                                    [
                                                        0.6274509803921569,
                                                        "rgb(236,76,61)"
                                                    ],
                                                    [
                                                        0.6901960784313725,
                                                        "rgb(242,107,73)"
                                                    ],
                                                    [
                                                        0.7529411764705882,
                                                        "rgb(244,135,95)"
                                                    ],
                                                    [
                                                        0.8156862745098039,
                                                        "rgb(245,162,122)"
                                                    ],
                                                    [
                                                        0.8784313725490196,
                                                        "rgb(246,188,153)"
                                                    ],
                                                    [
                                                        0.9411764705882353,
                                                        "rgb(247,212,187)"
                                                    ],
                                                    [
                                                        1,
                                                        "rgb(250,234,220)"
                                                    ]
                                                ],
                                                "type": "contour"
                                            }
                                        ],
                                        "contourcarpet": [
                                            {
                                                "colorbar": {
                                                    "outlinewidth": 0,
                                                    "tickcolor": "rgb(36,36,36)",
                                                    "ticklen": 8,
                                                    "ticks": "outside",
                                                    "tickwidth": 2
                                                },
                                                "type": "contourcarpet"
                                            }
                                        ],
                                        "heatmap": [
                                            {
                                                "colorbar": {
                                                    "outlinewidth": 0,
                                                    "tickcolor": "rgb(36,36,36)",
                                                    "ticklen": 8,
                                                    "ticks": "outside",
                                                    "tickwidth": 2
                                                },
                                                "colorscale": [
                                                    [
                                                        0,
                                                        "rgb(2,4,25)"
                                                    ],
                                                    [
                                                        0.06274509803921569,
                                                        "rgb(24,15,41)"
                                                    ],
                                                    [
                                                        0.12549019607843137,
                                                        "rgb(47,23,57)"
                                                    ],
                                                    [
                                                        0.18823529411764706,
                                                        "rgb(71,28,72)"
                                                    ],
                                                    [
                                                        0.25098039215686274,
                                                        "rgb(97,30,82)"
                                                    ],
                                                    [
                                                        0.3137254901960784,
                                                        "rgb(123,30,89)"
                                                    ],
                                                    [
                                                        0.3764705882352941,
                                                        "rgb(150,27,91)"
                                                    ],
                                                    [
                                                        0.4392156862745098,
                                                        "rgb(177,22,88)"
                                                    ],
                                                    [
                                                        0.5019607843137255,
                                                        "rgb(203,26,79)"
                                                    ],
                                                    [
                                                        0.5647058823529412,
                                                        "rgb(223,47,67)"
                                                    ],
                                                    [
                                                        0.6274509803921569,
                                                        "rgb(236,76,61)"
                                                    ],
                                                    [
                                                        0.6901960784313725,
                                                        "rgb(242,107,73)"
                                                    ],
                                                    [
                                                        0.7529411764705882,
                                                        "rgb(244,135,95)"
                                                    ],
                                                    [
                                                        0.8156862745098039,
                                                        "rgb(245,162,122)"
                                                    ],
                                                    [
                                                        0.8784313725490196,
                                                        "rgb(246,188,153)"
                                                    ],
                                                    [
                                                        0.9411764705882353,
                                                        "rgb(247,212,187)"
                                                    ],
                                                    [
                                                        1,
                                                        "rgb(250,234,220)"
                                                    ]
                                                ],
                                                "type": "heatmap"
                                            }
                                        ],
                                        "heatmapgl": [
                                            {
                                                "colorbar": {
                                                    "outlinewidth": 0,
                                                    "tickcolor": "rgb(36,36,36)",
                                                    "ticklen": 8,
                                                    "ticks": "outside",
                                                    "tickwidth": 2
                                                },
                                                "colorscale": [
                                                    [
                                                        0,
                                                        "rgb(2,4,25)"
                                                    ],
                                                    [
                                                        0.06274509803921569,
                                                        "rgb(24,15,41)"
                                                    ],
                                                    [
                                                        0.12549019607843137,
                                                        "rgb(47,23,57)"
                                                    ],
                                                    [
                                                        0.18823529411764706,
                                                        "rgb(71,28,72)"
                                                    ],
                                                    [
                                                        0.25098039215686274,
                                                        "rgb(97,30,82)"
                                                    ],
                                                    [
                                                        0.3137254901960784,
                                                        "rgb(123,30,89)"
                                                    ],
                                                    [
                                                        0.3764705882352941,
                                                        "rgb(150,27,91)"
                                                    ],
                                                    [
                                                        0.4392156862745098,
                                                        "rgb(177,22,88)"
                                                    ],
                                                    [
                                                        0.5019607843137255,
                                                        "rgb(203,26,79)"
                                                    ],
                                                    [
                                                        0.5647058823529412,
                                                        "rgb(223,47,67)"
                                                    ],
                                                    [
                                                        0.6274509803921569,
                                                        "rgb(236,76,61)"
                                                    ],
                                                    [
                                                        0.6901960784313725,
                                                        "rgb(242,107,73)"
                                                    ],
                                                    [
                                                        0.7529411764705882,
                                                        "rgb(244,135,95)"
                                                    ],
                                                    [
                                                        0.8156862745098039,
                                                        "rgb(245,162,122)"
                                                    ],
                                                    [
                                                        0.8784313725490196,
                                                        "rgb(246,188,153)"
                                                    ],
                                                    [
                                                        0.9411764705882353,
                                                        "rgb(247,212,187)"
                                                    ],
                                                    [
                                                        1,
                                                        "rgb(250,234,220)"
                                                    ]
                                                ],
                                                "type": "heatmapgl"
                                            }
                                        ],
                                        "histogram": [
                                            {
                                                "marker": {
                                                    "pattern": {
                                                        "fillmode": "overlay",
                                                        "size": 10,
                                                        "solidity": 0.2
                                                    }
                                                },
                                                "type": "histogram"
                                            }
                                        ],
                                        "histogram2d": [
                                            {
                                                "colorbar": {
                                                    "outlinewidth": 0,
                                                    "tickcolor": "rgb(36,36,36)",
                                                    "ticklen": 8,
                                                    "ticks": "outside",
                                                    "tickwidth": 2
                                                },
                                                "colorscale": [
                                                    [
                                                        0,
                                                        "rgb(2,4,25)"
                                                    ],
                                                    [
                                                        0.06274509803921569,
                                                        "rgb(24,15,41)"
                                                    ],
                                                    [
                                                        0.12549019607843137,
                                                        "rgb(47,23,57)"
                                                    ],
                                                    [
                                                        0.18823529411764706,
                                                        "rgb(71,28,72)"
                                                    ],
                                                    [
                                                        0.25098039215686274,
                                                        "rgb(97,30,82)"
                                                    ],
                                                    [
                                                        0.3137254901960784,
                                                        "rgb(123,30,89)"
                                                    ],
                                                    [
                                                        0.3764705882352941,
                                                        "rgb(150,27,91)"
                                                    ],
                                                    [
                                                        0.4392156862745098,
                                                        "rgb(177,22,88)"
                                                    ],
                                                    [
                                                        0.5019607843137255,
                                                        "rgb(203,26,79)"
                                                    ],
                                                    [
                                                        0.5647058823529412,
                                                        "rgb(223,47,67)"
                                                    ],
                                                    [
                                                        0.6274509803921569,
                                                        "rgb(236,76,61)"
                                                    ],
                                                    [
                                                        0.6901960784313725,
                                                        "rgb(242,107,73)"
                                                    ],
                                                    [
                                                        0.7529411764705882,
                                                        "rgb(244,135,95)"
                                                    ],
                                                    [
                                                        0.8156862745098039,
                                                        "rgb(245,162,122)"
                                                    ],
                                                    [
                                                        0.8784313725490196,
                                                        "rgb(246,188,153)"
                                                    ],
                                                    [
                                                        0.9411764705882353,
                                                        "rgb(247,212,187)"
                                                    ],
                                                    [
                                                        1,
                                                        "rgb(250,234,220)"
                                                    ]
                                                ],
                                                "type": "histogram2d"
                                            }
                                        ],
                                        "histogram2dcontour": [
                                            {
                                                "colorbar": {
                                                    "outlinewidth": 0,
                                                    "tickcolor": "rgb(36,36,36)",
                                                    "ticklen": 8,
                                                    "ticks": "outside",
                                                    "tickwidth": 2
                                                },
                                                "colorscale": [
                                                    [
                                                        0,
                                                        "rgb(2,4,25)"
                                                    ],
                                                    [
                                                        0.06274509803921569,
                                                        "rgb(24,15,41)"
                                                    ],
                                                    [
                                                        0.12549019607843137,
                                                        "rgb(47,23,57)"
                                                    ],
                                                    [
                                                        0.18823529411764706,
                                                        "rgb(71,28,72)"
                                                    ],
                                                    [
                                                        0.25098039215686274,
                                                        "rgb(97,30,82)"
                                                    ],
                                                    [
                                                        0.3137254901960784,
                                                        "rgb(123,30,89)"
                                                    ],
                                                    [
                                                        0.3764705882352941,
                                                        "rgb(150,27,91)"
                                                    ],
                                                    [
                                                        0.4392156862745098,
                                                        "rgb(177,22,88)"
                                                    ],
                                                    [
                                                        0.5019607843137255,
                                                        "rgb(203,26,79)"
                                                    ],
                                                    [
                                                        0.5647058823529412,
                                                        "rgb(223,47,67)"
                                                    ],
                                                    [
                                                        0.6274509803921569,
                                                        "rgb(236,76,61)"
                                                    ],
                                                    [
                                                        0.6901960784313725,
                                                        "rgb(242,107,73)"
                                                    ],
                                                    [
                                                        0.7529411764705882,
                                                        "rgb(244,135,95)"
                                                    ],
                                                    [
                                                        0.8156862745098039,
                                                        "rgb(245,162,122)"
                                                    ],
                                                    [
                                                        0.8784313725490196,
                                                        "rgb(246,188,153)"
                                                    ],
                                                    [
                                                        0.9411764705882353,
                                                        "rgb(247,212,187)"
                                                    ],
                                                    [
                                                        1,
                                                        "rgb(250,234,220)"
                                                    ]
                                                ],
                                                "type": "histogram2dcontour"
                                            }
                                        ],
                                        "mesh3d": [
                                            {
                                                "colorbar": {
                                                    "outlinewidth": 0,
                                                    "tickcolor": "rgb(36,36,36)",
                                                    "ticklen": 8,
                                                    "ticks": "outside",
                                                    "tickwidth": 2
                                                },
                                                "type": "mesh3d"
                                            }
                                        ],
                                        "parcoords": [
                                            {
                                                "line": {
                                                    "colorbar": {
                                                        "outlinewidth": 0,
                                                        "tickcolor": "rgb(36,36,36)",
                                                        "ticklen": 8,
                                                        "ticks": "outside",
                                                        "tickwidth": 2
                                                    }
                                                },
                                                "type": "parcoords"
                                            }
                                        ],
                                        "pie": [
                                            {
                                                "automargin": true,
                                                "type": "pie"
                                            }
                                        ],
                                        "scatter": [
                                            {
                                                "marker": {
                                                    "colorbar": {
                                                        "outlinewidth": 0,
                                                        "tickcolor": "rgb(36,36,36)",
                                                        "ticklen": 8,
                                                        "ticks": "outside",
                                                        "tickwidth": 2
                                                    }
                                                },
                                                "type": "scatter"
                                            }
                                        ],
                                        "scatter3d": [
                                            {
                                                "line": {
                                                    "colorbar": {
                                                        "outlinewidth": 0,
                                                        "tickcolor": "rgb(36,36,36)",
                                                        "ticklen": 8,
                                                        "ticks": "outside",
                                                        "tickwidth": 2
                                                    }
                                                },
                                                "marker": {
                                                    "colorbar": {
                                                        "outlinewidth": 0,
                                                        "tickcolor": "rgb(36,36,36)",
                                                        "ticklen": 8,
                                                        "ticks": "outside",
                                                        "tickwidth": 2
                                                    }
                                                },
                                                "type": "scatter3d"
                                            }
                                        ],
                                        "scattercarpet": [
                                            {
                                                "marker": {
                                                    "colorbar": {
                                                        "outlinewidth": 0,
                                                        "tickcolor": "rgb(36,36,36)",
                                                        "ticklen": 8,
                                                        "ticks": "outside",
                                                        "tickwidth": 2
                                                    }
                                                },
                                                "type": "scattercarpet"
                                            }
                                        ],
                                        "scattergeo": [
                                            {
                                                "marker": {
                                                    "colorbar": {
                                                        "outlinewidth": 0,
                                                        "tickcolor": "rgb(36,36,36)",
                                                        "ticklen": 8,
                                                        "ticks": "outside",
                                                        "tickwidth": 2
                                                    }
                                                },
                                                "type": "scattergeo"
                                            }
                                        ],
                                        "scattergl": [
                                            {
                                                "marker": {
                                                    "colorbar": {
                                                        "outlinewidth": 0,
                                                        "tickcolor": "rgb(36,36,36)",
                                                        "ticklen": 8,
                                                        "ticks": "outside",
                                                        "tickwidth": 2
                                                    }
                                                },
                                                "type": "scattergl"
                                            }
                                        ],
                                        "scattermapbox": [
                                            {
                                                "marker": {
                                                    "colorbar": {
                                                        "outlinewidth": 0,
                                                        "tickcolor": "rgb(36,36,36)",
                                                        "ticklen": 8,
                                                        "ticks": "outside",
                                                        "tickwidth": 2
                                                    }
                                                },
                                                "type": "scattermapbox"
                                            }
                                        ],
                                        "scatterpolar": [
                                            {
                                                "marker": {
                                                    "colorbar": {
                                                        "outlinewidth": 0,
                                                        "tickcolor": "rgb(36,36,36)",
                                                        "ticklen": 8,
                                                        "ticks": "outside",
                                                        "tickwidth": 2
                                                    }
                                                },
                                                "type": "scatterpolar"
                                            }
                                        ],
                                        "scatterpolargl": [
                                            {
                                                "marker": {
                                                    "colorbar": {
                                                        "outlinewidth": 0,
                                                        "tickcolor": "rgb(36,36,36)",
                                                        "ticklen": 8,
                                                        "ticks": "outside",
                                                        "tickwidth": 2
                                                    }
                                                },
                                                "type": "scatterpolargl"
                                            }
                                        ],
                                        "scatterternary": [
                                            {
                                                "marker": {
                                                    "colorbar": {
                                                        "outlinewidth": 0,
                                                        "tickcolor": "rgb(36,36,36)",
                                                        "ticklen": 8,
                                                        "ticks": "outside",
                                                        "tickwidth": 2
                                                    }
                                                },
                                                "type": "scatterternary"
                                            }
                                        ],
                                        "surface": [
                                            {
                                                "colorbar": {
                                                    "outlinewidth": 0,
                                                    "tickcolor": "rgb(36,36,36)",
                                                    "ticklen": 8,
                                                    "ticks": "outside",
                                                    "tickwidth": 2
                                                },
                                                "colorscale": [
                                                    [
                                                        0,
                                                        "rgb(2,4,25)"
                                                    ],
                                                    [
                                                        0.06274509803921569,
                                                        "rgb(24,15,41)"
                                                    ],
                                                    [
                                                        0.12549019607843137,
                                                        "rgb(47,23,57)"
                                                    ],
                                                    [
                                                        0.18823529411764706,
                                                        "rgb(71,28,72)"
                                                    ],
                                                    [
                                                        0.25098039215686274,
                                                        "rgb(97,30,82)"
                                                    ],
                                                    [
                                                        0.3137254901960784,
                                                        "rgb(123,30,89)"
                                                    ],
                                                    [
                                                        0.3764705882352941,
                                                        "rgb(150,27,91)"
                                                    ],
                                                    [
                                                        0.4392156862745098,
                                                        "rgb(177,22,88)"
                                                    ],
                                                    [
                                                        0.5019607843137255,
                                                        "rgb(203,26,79)"
                                                    ],
                                                    [
                                                        0.5647058823529412,
                                                        "rgb(223,47,67)"
                                                    ],
                                                    [
                                                        0.6274509803921569,
                                                        "rgb(236,76,61)"
                                                    ],
                                                    [
                                                        0.6901960784313725,
                                                        "rgb(242,107,73)"
                                                    ],
                                                    [
                                                        0.7529411764705882,
                                                        "rgb(244,135,95)"
                                                    ],
                                                    [
                                                        0.8156862745098039,
                                                        "rgb(245,162,122)"
                                                    ],
                                                    [
                                                        0.8784313725490196,
                                                        "rgb(246,188,153)"
                                                    ],
                                                    [
                                                        0.9411764705882353,
                                                        "rgb(247,212,187)"
                                                    ],
                                                    [
                                                        1,
                                                        "rgb(250,234,220)"
                                                    ]
                                                ],
                                                "type": "surface"
                                            }
                                        ],
                                        "table": [
                                            {
                                                "cells": {
                                                    "fill": {
                                                        "color": "rgb(231,231,240)"
                                                    },
                                                    "line": {
                                                        "color": "white"
                                                    }
                                                },
                                                "header": {
                                                    "fill": {
                                                        "color": "rgb(183,183,191)"
                                                    },
                                                    "line": {
                                                        "color": "white"
                                                    }
                                                },
                                                "type": "table"
                                            }
                                        ]
                                    },
                                    "layout": {
                                        "annotationdefaults": {
                                            "arrowcolor": "rgb(67,103,167)"
                                        },
                                        "autotypenumbers": "strict",
                                        "coloraxis": {
                                            "colorbar": {
                                                "outlinewidth": 0,
                                                "tickcolor": "rgb(36,36,36)",
                                                "ticklen": 8,
                                                "ticks": "outside",
                                                "tickwidth": 2
                                            }
                                        },
                                        "colorscale": {
                                            "sequential": [
                                                [
                                                    0,
                                                    "rgb(2,4,25)"
                                                ],
                                                [
                                                    0.06274509803921569,
                                                    "rgb(24,15,41)"
                                                ],
                                                [
                                                    0.12549019607843137,
                                                    "rgb(47,23,57)"
                                                ],
                                                [
                                                    0.18823529411764706,
                                                    "rgb(71,28,72)"
                                                ],
                                                [
                                                    0.25098039215686274,
                                                    "rgb(97,30,82)"
                                                ],
                                                [
                                                    0.3137254901960784,
                                                    "rgb(123,30,89)"
                                                ],
                                                [
                                                    0.3764705882352941,
                                                    "rgb(150,27,91)"
                                                ],
                                                [
                                                    0.4392156862745098,
                                                    "rgb(177,22,88)"
                                                ],
                                                [
                                                    0.5019607843137255,
                                                    "rgb(203,26,79)"
                                                ],
                                                [
                                                    0.5647058823529412,
                                                    "rgb(223,47,67)"
                                                ],
                                                [
                                                    0.6274509803921569,
                                                    "rgb(236,76,61)"
                                                ],
                                                [
                                                    0.6901960784313725,
                                                    "rgb(242,107,73)"
                                                ],
                                                [
                                                    0.7529411764705882,
                                                    "rgb(244,135,95)"
                                                ],
                                                [
                                                    0.8156862745098039,
                                                    "rgb(245,162,122)"
                                                ],
                                                [
                                                    0.8784313725490196,
                                                    "rgb(246,188,153)"
                                                ],
                                                [
                                                    0.9411764705882353,
                                                    "rgb(247,212,187)"
                                                ],
                                                [
                                                    1,
                                                    "rgb(250,234,220)"
                                                ]
                                            ],
                                            "sequentialminus": [
                                                [
                                                    0,
                                                    "rgb(2,4,25)"
                                                ],
                                                [
                                                    0.06274509803921569,
                                                    "rgb(24,15,41)"
                                                ],
                                                [
                                                    0.12549019607843137,
                                                    "rgb(47,23,57)"
                                                ],
                                                [
                                                    0.18823529411764706,
                                                    "rgb(71,28,72)"
                                                ],
                                                [
                                                    0.25098039215686274,
                                                    "rgb(97,30,82)"
                                                ],
                                                [
                                                    0.3137254901960784,
                                                    "rgb(123,30,89)"
                                                ],
                                                [
                                                    0.3764705882352941,
                                                    "rgb(150,27,91)"
                                                ],
                                                [
                                                    0.4392156862745098,
                                                    "rgb(177,22,88)"
                                                ],
                                                [
                                                    0.5019607843137255,
                                                    "rgb(203,26,79)"
                                                ],
                                                [
                                                    0.5647058823529412,
                                                    "rgb(223,47,67)"
                                                ],
                                                [
                                                    0.6274509803921569,
                                                    "rgb(236,76,61)"
                                                ],
                                                [
                                                    0.6901960784313725,
                                                    "rgb(242,107,73)"
                                                ],
                                                [
                                                    0.7529411764705882,
                                                    "rgb(244,135,95)"
                                                ],
                                                [
                                                    0.8156862745098039,
                                                    "rgb(245,162,122)"
                                                ],
                                                [
                                                    0.8784313725490196,
                                                    "rgb(246,188,153)"
                                                ],
                                                [
                                                    0.9411764705882353,
                                                    "rgb(247,212,187)"
                                                ],
                                                [
                                                    1,
                                                    "rgb(250,234,220)"
                                                ]
                                            ]
                                        },
                                        "colorway": [
                                            "rgb(76,114,176)",
                                            "rgb(221,132,82)",
                                            "rgb(85,168,104)",
                                            "rgb(196,78,82)",
                                            "rgb(129,114,179)",
                                            "rgb(147,120,96)",
                                            "rgb(218,139,195)",
                                            "rgb(140,140,140)",
                                            "rgb(204,185,116)",
                                            "rgb(100,181,205)"
                                        ],
                                        "font": {
                                            "color": "rgb(36,36,36)"
                                        },
                                        "geo": {
                                            "bgcolor": "white",
                                            "lakecolor": "white",
                                            "landcolor": "rgb(234,234,242)",
                                            "showlakes": true,
                                            "showland": true,
                                            "subunitcolor": "white"
                                        },
                                        "hoverlabel": {
                                            "align": "left"
                                        },
                                        "hovermode": "closest",
                                        "paper_bgcolor": "white",
                                        "plot_bgcolor": "rgb(234,234,242)",
                                        "polar": {
                                            "angularaxis": {
                                                "gridcolor": "white",
                                                "linecolor": "white",
                                                "showgrid": true,
                                                "ticks": ""
                                            },
                                            "bgcolor": "rgb(234,234,242)",
                                            "radialaxis": {
                                                "gridcolor": "white",
                                                "linecolor": "white",
                                                "showgrid": true,
                                                "ticks": ""
                                            }
                                        },
                                        "scene": {
                                            "xaxis": {
                                                "backgroundcolor": "rgb(234,234,242)",
                                                "gridcolor": "white",
                                                "gridwidth": 2,
                                                "linecolor": "white",
                                                "showbackground": true,
                                                "showgrid": true,
                                                "ticks": "",
                                                "zerolinecolor": "white"
                                            },
                                            "yaxis": {
                                                "backgroundcolor": "rgb(234,234,242)",
                                                "gridcolor": "white",
                                                "gridwidth": 2,
                                                "linecolor": "white",
                                                "showbackground": true,
                                                "showgrid": true,
                                                "ticks": "",
                                                "zerolinecolor": "white"
                                            },
                                            "zaxis": {
                                                "backgroundcolor": "rgb(234,234,242)",
                                                "gridcolor": "white",
                                                "gridwidth": 2,
                                                "linecolor": "white",
                                                "showbackground": true,
                                                "showgrid": true,
                                                "ticks": "",
                                                "zerolinecolor": "white"
                                            }
                                        },
                                        "shapedefaults": {
                                            "fillcolor": "rgb(67,103,167)",
                                            "line": {
                                                "width": 0
                                            },
                                            "opacity": 0.5
                                        },
                                        "ternary": {
                                            "aaxis": {
                                                "gridcolor": "white",
                                                "linecolor": "white",
                                                "showgrid": true,
                                                "ticks": ""
                                            },
                                            "baxis": {
                                                "gridcolor": "white",
                                                "linecolor": "white",
                                                "showgrid": true,
                                                "ticks": ""
                                            },
                                            "bgcolor": "rgb(234,234,242)",
                                            "caxis": {
                                                "gridcolor": "white",
                                                "linecolor": "white",
                                                "showgrid": true,
                                                "ticks": ""
                                            }
                                        },
                                        "xaxis": {
                                            "automargin": true,
                                            "gridcolor": "white",
                                            "linecolor": "white",
                                            "showgrid": true,
                                            "ticks": "",
                                            "title": {
                                                "standoff": 15
                                            },
                                            "zerolinecolor": "white"
                                        },
                                        "yaxis": {
                                            "automargin": true,
                                            "gridcolor": "white",
                                            "linecolor": "white",
                                            "showgrid": true,
                                            "ticks": "",
                                            "title": {
                                                "standoff": 15
                                            },
                                            "zerolinecolor": "white"
                                        }
                                    }
                                },
                                "title": {
                                    "text": "Proodutos mais Vendidos - Ciclo Mar-2020"
                                },
                                "uniformtext": {
                                    "minsize": 10,
                                    "mode": "hide"
                                },
                                "width": 900,
                                "xaxis": {
                                    "anchor": "y",
                                    "categoryarray": [
                                        "BOT PERFUME LILLY 75ML - ED ESPECIAL",
                                        "BOTI DEOS AEROSOL MALBEC 40ML",
                                        "CATALOGO CICLO PROXIMO SELL OUT",
                                        "BOT BLOCO DE PEDIDOS VD",
                                        "BOTI MASCARA PROT MALHA PRETA M",
                                        "BOTI NECESS ENVELOPE PU ROSA C/A",
                                        "BOT SABONETE LÍQ LILLY 50ML",
                                        "BOTI NECESS ENVELOPE DOURADO PU C/A",
                                        "BOTI SPLASH MALBEC 100ML",
                                        "BOTI FITA OLFATIVA VD"
                                    ],
                                    "categoryorder": "array",
                                    "domain": [
                                        0,
                                        1
                                    ],
                                    "title": {
                                        "text": "Categorias"
                                    },
                                    "visible": false
                                },
                                "yaxis": {
                                    "anchor": "x",
                                    "domain": [
                                        0,
                                        1
                                    ],
                                    "title": {
                                        "text": "Percentual [%]"
                                    }
                                }
                            }
                        }
                    },
                    "metadata": {}
                }
            ],
            "metadata": {}
        },
        {
            "cell_type": "code",
            "execution_count": 31,
            "source": [
                "base.columns"
            ],
            "outputs": [
                {
                    "output_type": "execute_result",
                    "data": {
                        "text/plain": [
                            "Index(['Ciclo_Ciclo', 'Revendedor', 'Franqueado', 'Loja', 'Produto_Categoria',\n",
                            "       'Produto_Codigo', 'Produto_Descricao', 'Produto_Linha',\n",
                            "       'Pedido_Valor_Volume', 'Receita_Bruta', 'Receita_Liquida',\n",
                            "       'z_Numero_de_Pedidos', 'Desconto', 'Ciclo'],\n",
                            "      dtype='object')"
                        ]
                    },
                    "metadata": {},
                    "execution_count": 31
                }
            ],
            "metadata": {}
        },
        {
            "cell_type": "code",
            "execution_count": 32,
            "source": [
                "revendedores = base.groupby(['Revendedor', 'Ciclo', 'Franqueado', 'Loja']).\\\n",
                "    agg({'Receita_Bruta':'sum', 'Receita_Liquida':'sum', \\\n",
                "        'Desconto':'sum', 'Pedido_Valor_Volume':'sum', 'z_Numero_de_Pedidos':'nunique'}).round(3).reset_index().\\\n",
                "    rename(columns={\"Pedido_Valor_Volume\": \"Qtde_itens\", 'z_Numero_de_Pedidos': 'Numero_de_Pedidos'}).sort_values(by='Receita_Bruta', ascending=False)"
            ],
            "outputs": [],
            "metadata": {}
        },
        {
            "cell_type": "code",
            "execution_count": 33,
            "source": [
                "#Numero total de pedidos\n",
                "totais_ciclo = revendedores.groupby(['Ciclo']).agg({'Revendedor':'nunique','Loja':'nunique' ,'Numero_de_Pedidos':'sum', 'Qtde_itens':'sum',\\\n",
                "    'Numero_de_Pedidos':'sum', 'Receita_Bruta':'sum', 'Receita_Liquida':'sum'}).rename(columns={'Revendedor':'Qtde_Revend', 'Loja':'Qtde_Lojas'})\n",
                "\n",
                "totais_ciclo['Descontos'] = totais_ciclo['Receita_Bruta'] - totais_ciclo['Receita_Liquida']\n",
                "\n",
                "totais_ciclo['% Qtde_Revend'] = totais_ciclo.apply(lambda x: round(100*(x['Qtde_Revend'] / ((totais_ciclo['Qtde_Revend'].sum()) \\\n",
                "    - x['Qtde_Revend']) - 1), 2), axis=1)\n",
                "\n",
                "\n",
                "totais_ciclo['% Qtde_Lojas'] = totais_ciclo.apply(lambda x: round(100*(x['Qtde_Lojas'] / ((totais_ciclo['Qtde_Lojas'].sum()) \\\n",
                "    - x['Qtde_Lojas']) - 1), 2), axis=1)\n",
                "\n",
                "\n",
                "totais_ciclo['% Numero_de_Pedidos'] = totais_ciclo.apply(lambda x: round(100*(x['Numero_de_Pedidos'] / ((totais_ciclo['Numero_de_Pedidos'].sum()) \\\n",
                "    - x['Numero_de_Pedidos']) - 1), 2), axis=1)\n",
                "\n",
                "\n",
                "totais_ciclo['% itens'] = totais_ciclo.apply(lambda x: round(100*(x['Qtde_itens'] / ((totais_ciclo['Qtde_itens'].sum()) \\\n",
                "    - x['Qtde_itens']) - 1), 2), axis=1)\n",
                "\n",
                "\n",
                "totais_ciclo['% Receita_Bruta'] = totais_ciclo.apply(lambda x: round(100*(x['Receita_Bruta'] / ((totais_ciclo['Receita_Bruta'].sum()) \\\n",
                "    - x['Receita_Bruta']) - 1), 2), axis=1)\n",
                "\n",
                "\n",
                "totais_ciclo['% Receita_Liquida'] = totais_ciclo.apply(lambda x: round(100*(x['Receita_Liquida'] / ((totais_ciclo['Receita_Liquida'].sum()) \\\n",
                "    - x['Receita_Liquida']) - 1), 2), axis=1)\n",
                "\n",
                "\n",
                "totais_ciclo['% Descontos'] = totais_ciclo.apply(lambda x: round(100*(x['Descontos'] / ((totais_ciclo['Descontos'].sum()) \\\n",
                "    - x['Descontos']) - 1), 2), axis=1)\n",
                "\n",
                "\n",
                "totais_ciclo"
            ],
            "outputs": [
                {
                    "output_type": "execute_result",
                    "data": {
                        "text/html": [
                            "<div>\n",
                            "<style scoped>\n",
                            "    .dataframe tbody tr th:only-of-type {\n",
                            "        vertical-align: middle;\n",
                            "    }\n",
                            "\n",
                            "    .dataframe tbody tr th {\n",
                            "        vertical-align: top;\n",
                            "    }\n",
                            "\n",
                            "    .dataframe thead th {\n",
                            "        text-align: right;\n",
                            "    }\n",
                            "</style>\n",
                            "<table border=\"1\" class=\"dataframe\">\n",
                            "  <thead>\n",
                            "    <tr style=\"text-align: right;\">\n",
                            "      <th></th>\n",
                            "      <th>Qtde_Revend</th>\n",
                            "      <th>Qtde_Lojas</th>\n",
                            "      <th>Numero_de_Pedidos</th>\n",
                            "      <th>Qtde_itens</th>\n",
                            "      <th>Receita_Bruta</th>\n",
                            "      <th>Receita_Liquida</th>\n",
                            "      <th>Descontos</th>\n",
                            "      <th>% Qtde_Revend</th>\n",
                            "      <th>% Qtde_Lojas</th>\n",
                            "      <th>% Numero_de_Pedidos</th>\n",
                            "      <th>% itens</th>\n",
                            "      <th>% Receita_Bruta</th>\n",
                            "      <th>% Receita_Liquida</th>\n",
                            "      <th>% Descontos</th>\n",
                            "    </tr>\n",
                            "    <tr>\n",
                            "      <th>Ciclo</th>\n",
                            "      <th></th>\n",
                            "      <th></th>\n",
                            "      <th></th>\n",
                            "      <th></th>\n",
                            "      <th></th>\n",
                            "      <th></th>\n",
                            "      <th></th>\n",
                            "      <th></th>\n",
                            "      <th></th>\n",
                            "      <th></th>\n",
                            "      <th></th>\n",
                            "      <th></th>\n",
                            "      <th></th>\n",
                            "      <th></th>\n",
                            "    </tr>\n",
                            "  </thead>\n",
                            "  <tbody>\n",
                            "    <tr>\n",
                            "      <th>Fev-2020</th>\n",
                            "      <td>38374</td>\n",
                            "      <td>874</td>\n",
                            "      <td>38436</td>\n",
                            "      <td>46636</td>\n",
                            "      <td>4313134.58</td>\n",
                            "      <td>4230544.46</td>\n",
                            "      <td>82590.12</td>\n",
                            "      <td>1.84</td>\n",
                            "      <td>-0.46</td>\n",
                            "      <td>1.74</td>\n",
                            "      <td>-2.01</td>\n",
                            "      <td>12.02</td>\n",
                            "      <td>12.35</td>\n",
                            "      <td>-2.38</td>\n",
                            "    </tr>\n",
                            "    <tr>\n",
                            "      <th>Mar-2020</th>\n",
                            "      <td>37682</td>\n",
                            "      <td>878</td>\n",
                            "      <td>37777</td>\n",
                            "      <td>47592</td>\n",
                            "      <td>3850229.28</td>\n",
                            "      <td>3765625.45</td>\n",
                            "      <td>84603.83</td>\n",
                            "      <td>-1.80</td>\n",
                            "      <td>0.46</td>\n",
                            "      <td>-1.71</td>\n",
                            "      <td>2.05</td>\n",
                            "      <td>-10.73</td>\n",
                            "      <td>-10.99</td>\n",
                            "      <td>2.44</td>\n",
                            "    </tr>\n",
                            "  </tbody>\n",
                            "</table>\n",
                            "</div>"
                        ],
                        "text/plain": [
                            "          Qtde_Revend  Qtde_Lojas  Numero_de_Pedidos  Qtde_itens  \\\n",
                            "Ciclo                                                              \n",
                            "Fev-2020        38374         874              38436       46636   \n",
                            "Mar-2020        37682         878              37777       47592   \n",
                            "\n",
                            "          Receita_Bruta  Receita_Liquida  Descontos  % Qtde_Revend  \\\n",
                            "Ciclo                                                                \n",
                            "Fev-2020     4313134.58       4230544.46   82590.12           1.84   \n",
                            "Mar-2020     3850229.28       3765625.45   84603.83          -1.80   \n",
                            "\n",
                            "          % Qtde_Lojas  % Numero_de_Pedidos  % itens  % Receita_Bruta  \\\n",
                            "Ciclo                                                                   \n",
                            "Fev-2020         -0.46                 1.74    -2.01            12.02   \n",
                            "Mar-2020          0.46                -1.71     2.05           -10.73   \n",
                            "\n",
                            "          % Receita_Liquida  % Descontos  \n",
                            "Ciclo                                     \n",
                            "Fev-2020              12.35        -2.38  \n",
                            "Mar-2020             -10.99         2.44  "
                        ]
                    },
                    "metadata": {},
                    "execution_count": 33
                }
            ],
            "metadata": {}
        },
        {
            "cell_type": "markdown",
            "source": [
                "# Desempenho dos revendedores baseado na receita liquida"
            ],
            "metadata": {}
        },
        {
            "cell_type": "code",
            "execution_count": 34,
            "source": [
                "#Fevereiro\n",
                "revendedores[revendedores['Ciclo'] == 'Fev-2020'].sort_values(by='Receita_Liquida', ascending=False).head(10)"
            ],
            "outputs": [
                {
                    "output_type": "execute_result",
                    "data": {
                        "text/html": [
                            "<div>\n",
                            "<style scoped>\n",
                            "    .dataframe tbody tr th:only-of-type {\n",
                            "        vertical-align: middle;\n",
                            "    }\n",
                            "\n",
                            "    .dataframe tbody tr th {\n",
                            "        vertical-align: top;\n",
                            "    }\n",
                            "\n",
                            "    .dataframe thead th {\n",
                            "        text-align: right;\n",
                            "    }\n",
                            "</style>\n",
                            "<table border=\"1\" class=\"dataframe\">\n",
                            "  <thead>\n",
                            "    <tr style=\"text-align: right;\">\n",
                            "      <th></th>\n",
                            "      <th>Revendedor</th>\n",
                            "      <th>Ciclo</th>\n",
                            "      <th>Franqueado</th>\n",
                            "      <th>Loja</th>\n",
                            "      <th>Receita_Bruta</th>\n",
                            "      <th>Receita_Liquida</th>\n",
                            "      <th>Desconto</th>\n",
                            "      <th>Qtde_itens</th>\n",
                            "      <th>Numero_de_Pedidos</th>\n",
                            "    </tr>\n",
                            "  </thead>\n",
                            "  <tbody>\n",
                            "    <tr>\n",
                            "      <th>19300</th>\n",
                            "      <td>4080295</td>\n",
                            "      <td>Fev-2020</td>\n",
                            "      <td>10005</td>\n",
                            "      <td>13909</td>\n",
                            "      <td>1592.00</td>\n",
                            "      <td>1592.00</td>\n",
                            "      <td>0.00</td>\n",
                            "      <td>8</td>\n",
                            "      <td>1</td>\n",
                            "    </tr>\n",
                            "    <tr>\n",
                            "      <th>8494</th>\n",
                            "      <td>1243237</td>\n",
                            "      <td>Fev-2020</td>\n",
                            "      <td>10039</td>\n",
                            "      <td>13347</td>\n",
                            "      <td>1280.30</td>\n",
                            "      <td>1088.36</td>\n",
                            "      <td>191.94</td>\n",
                            "      <td>27</td>\n",
                            "      <td>2</td>\n",
                            "    </tr>\n",
                            "    <tr>\n",
                            "      <th>34630</th>\n",
                            "      <td>6999063</td>\n",
                            "      <td>Fev-2020</td>\n",
                            "      <td>10383</td>\n",
                            "      <td>19975</td>\n",
                            "      <td>1255.60</td>\n",
                            "      <td>1067.10</td>\n",
                            "      <td>188.50</td>\n",
                            "      <td>44</td>\n",
                            "      <td>2</td>\n",
                            "    </tr>\n",
                            "    <tr>\n",
                            "      <th>25063</th>\n",
                            "      <td>5596406</td>\n",
                            "      <td>Fev-2020</td>\n",
                            "      <td>10126</td>\n",
                            "      <td>17292</td>\n",
                            "      <td>796.00</td>\n",
                            "      <td>796.00</td>\n",
                            "      <td>0.00</td>\n",
                            "      <td>4</td>\n",
                            "      <td>1</td>\n",
                            "    </tr>\n",
                            "    <tr>\n",
                            "      <th>31866</th>\n",
                            "      <td>6692822</td>\n",
                            "      <td>Fev-2020</td>\n",
                            "      <td>10164</td>\n",
                            "      <td>13480</td>\n",
                            "      <td>796.00</td>\n",
                            "      <td>796.00</td>\n",
                            "      <td>0.00</td>\n",
                            "      <td>4</td>\n",
                            "      <td>1</td>\n",
                            "    </tr>\n",
                            "    <tr>\n",
                            "      <th>8363</th>\n",
                            "      <td>1220280</td>\n",
                            "      <td>Fev-2020</td>\n",
                            "      <td>10439</td>\n",
                            "      <td>13437</td>\n",
                            "      <td>897.00</td>\n",
                            "      <td>762.60</td>\n",
                            "      <td>134.40</td>\n",
                            "      <td>30</td>\n",
                            "      <td>1</td>\n",
                            "    </tr>\n",
                            "    <tr>\n",
                            "      <th>20067</th>\n",
                            "      <td>4252834</td>\n",
                            "      <td>Fev-2020</td>\n",
                            "      <td>13031</td>\n",
                            "      <td>13125</td>\n",
                            "      <td>756.40</td>\n",
                            "      <td>756.40</td>\n",
                            "      <td>0.00</td>\n",
                            "      <td>9</td>\n",
                            "      <td>2</td>\n",
                            "    </tr>\n",
                            "    <tr>\n",
                            "      <th>13464</th>\n",
                            "      <td>2538843</td>\n",
                            "      <td>Fev-2020</td>\n",
                            "      <td>13031</td>\n",
                            "      <td>13125</td>\n",
                            "      <td>614.40</td>\n",
                            "      <td>614.40</td>\n",
                            "      <td>0.00</td>\n",
                            "      <td>12</td>\n",
                            "      <td>1</td>\n",
                            "    </tr>\n",
                            "    <tr>\n",
                            "      <th>22014</th>\n",
                            "      <td>4667496</td>\n",
                            "      <td>Fev-2020</td>\n",
                            "      <td>10351</td>\n",
                            "      <td>11105</td>\n",
                            "      <td>597.00</td>\n",
                            "      <td>597.00</td>\n",
                            "      <td>0.00</td>\n",
                            "      <td>3</td>\n",
                            "      <td>1</td>\n",
                            "    </tr>\n",
                            "    <tr>\n",
                            "      <th>1192</th>\n",
                            "      <td>111563</td>\n",
                            "      <td>Fev-2020</td>\n",
                            "      <td>10522</td>\n",
                            "      <td>14750</td>\n",
                            "      <td>597.00</td>\n",
                            "      <td>597.00</td>\n",
                            "      <td>0.00</td>\n",
                            "      <td>3</td>\n",
                            "      <td>1</td>\n",
                            "    </tr>\n",
                            "  </tbody>\n",
                            "</table>\n",
                            "</div>"
                        ],
                        "text/plain": [
                            "       Revendedor     Ciclo  Franqueado   Loja  Receita_Bruta  \\\n",
                            "19300     4080295  Fev-2020       10005  13909        1592.00   \n",
                            "8494      1243237  Fev-2020       10039  13347        1280.30   \n",
                            "34630     6999063  Fev-2020       10383  19975        1255.60   \n",
                            "25063     5596406  Fev-2020       10126  17292         796.00   \n",
                            "31866     6692822  Fev-2020       10164  13480         796.00   \n",
                            "8363      1220280  Fev-2020       10439  13437         897.00   \n",
                            "20067     4252834  Fev-2020       13031  13125         756.40   \n",
                            "13464     2538843  Fev-2020       13031  13125         614.40   \n",
                            "22014     4667496  Fev-2020       10351  11105         597.00   \n",
                            "1192       111563  Fev-2020       10522  14750         597.00   \n",
                            "\n",
                            "       Receita_Liquida  Desconto  Qtde_itens  Numero_de_Pedidos  \n",
                            "19300          1592.00      0.00           8                  1  \n",
                            "8494           1088.36    191.94          27                  2  \n",
                            "34630          1067.10    188.50          44                  2  \n",
                            "25063           796.00      0.00           4                  1  \n",
                            "31866           796.00      0.00           4                  1  \n",
                            "8363            762.60    134.40          30                  1  \n",
                            "20067           756.40      0.00           9                  2  \n",
                            "13464           614.40      0.00          12                  1  \n",
                            "22014           597.00      0.00           3                  1  \n",
                            "1192            597.00      0.00           3                  1  "
                        ]
                    },
                    "metadata": {},
                    "execution_count": 34
                }
            ],
            "metadata": {}
        },
        {
            "cell_type": "code",
            "execution_count": 35,
            "source": [
                "#Março\n",
                "revendedores[revendedores['Ciclo'] == 'Mar-2020'].sort_values(by='Receita_Liquida', ascending=False).head(10)"
            ],
            "outputs": [
                {
                    "output_type": "execute_result",
                    "data": {
                        "text/html": [
                            "<div>\n",
                            "<style scoped>\n",
                            "    .dataframe tbody tr th:only-of-type {\n",
                            "        vertical-align: middle;\n",
                            "    }\n",
                            "\n",
                            "    .dataframe tbody tr th {\n",
                            "        vertical-align: top;\n",
                            "    }\n",
                            "\n",
                            "    .dataframe thead th {\n",
                            "        text-align: right;\n",
                            "    }\n",
                            "</style>\n",
                            "<table border=\"1\" class=\"dataframe\">\n",
                            "  <thead>\n",
                            "    <tr style=\"text-align: right;\">\n",
                            "      <th></th>\n",
                            "      <th>Revendedor</th>\n",
                            "      <th>Ciclo</th>\n",
                            "      <th>Franqueado</th>\n",
                            "      <th>Loja</th>\n",
                            "      <th>Receita_Bruta</th>\n",
                            "      <th>Receita_Liquida</th>\n",
                            "      <th>Desconto</th>\n",
                            "      <th>Qtde_itens</th>\n",
                            "      <th>Numero_de_Pedidos</th>\n",
                            "    </tr>\n",
                            "  </thead>\n",
                            "  <tbody>\n",
                            "    <tr>\n",
                            "      <th>9363</th>\n",
                            "      <td>1406340</td>\n",
                            "      <td>Mar-2020</td>\n",
                            "      <td>10825</td>\n",
                            "      <td>13658</td>\n",
                            "      <td>796.00</td>\n",
                            "      <td>796.00</td>\n",
                            "      <td>0.00</td>\n",
                            "      <td>4</td>\n",
                            "      <td>1</td>\n",
                            "    </tr>\n",
                            "    <tr>\n",
                            "      <th>30496</th>\n",
                            "      <td>6543490</td>\n",
                            "      <td>Mar-2020</td>\n",
                            "      <td>13031</td>\n",
                            "      <td>20890</td>\n",
                            "      <td>796.00</td>\n",
                            "      <td>796.00</td>\n",
                            "      <td>0.00</td>\n",
                            "      <td>4</td>\n",
                            "      <td>1</td>\n",
                            "    </tr>\n",
                            "    <tr>\n",
                            "      <th>30840</th>\n",
                            "      <td>6580794</td>\n",
                            "      <td>Mar-2020</td>\n",
                            "      <td>11143</td>\n",
                            "      <td>11671</td>\n",
                            "      <td>796.00</td>\n",
                            "      <td>796.00</td>\n",
                            "      <td>0.00</td>\n",
                            "      <td>4</td>\n",
                            "      <td>1</td>\n",
                            "    </tr>\n",
                            "    <tr>\n",
                            "      <th>68863</th>\n",
                            "      <td>7771196</td>\n",
                            "      <td>Mar-2020</td>\n",
                            "      <td>13031</td>\n",
                            "      <td>20890</td>\n",
                            "      <td>746.00</td>\n",
                            "      <td>746.00</td>\n",
                            "      <td>0.00</td>\n",
                            "      <td>4</td>\n",
                            "      <td>1</td>\n",
                            "    </tr>\n",
                            "    <tr>\n",
                            "      <th>17533</th>\n",
                            "      <td>3655056</td>\n",
                            "      <td>Mar-2020</td>\n",
                            "      <td>10074</td>\n",
                            "      <td>14363</td>\n",
                            "      <td>846.60</td>\n",
                            "      <td>719.44</td>\n",
                            "      <td>127.16</td>\n",
                            "      <td>34</td>\n",
                            "      <td>1</td>\n",
                            "    </tr>\n",
                            "    <tr>\n",
                            "      <th>19527</th>\n",
                            "      <td>4132723</td>\n",
                            "      <td>Mar-2020</td>\n",
                            "      <td>10133</td>\n",
                            "      <td>18228</td>\n",
                            "      <td>788.50</td>\n",
                            "      <td>670.30</td>\n",
                            "      <td>118.20</td>\n",
                            "      <td>15</td>\n",
                            "      <td>1</td>\n",
                            "    </tr>\n",
                            "    <tr>\n",
                            "      <th>2880</th>\n",
                            "      <td>310534</td>\n",
                            "      <td>Mar-2020</td>\n",
                            "      <td>10282</td>\n",
                            "      <td>20090</td>\n",
                            "      <td>747.00</td>\n",
                            "      <td>634.80</td>\n",
                            "      <td>112.20</td>\n",
                            "      <td>30</td>\n",
                            "      <td>1</td>\n",
                            "    </tr>\n",
                            "    <tr>\n",
                            "      <th>13730</th>\n",
                            "      <td>2612533</td>\n",
                            "      <td>Mar-2020</td>\n",
                            "      <td>10857</td>\n",
                            "      <td>20122</td>\n",
                            "      <td>597.00</td>\n",
                            "      <td>597.00</td>\n",
                            "      <td>0.00</td>\n",
                            "      <td>3</td>\n",
                            "      <td>1</td>\n",
                            "    </tr>\n",
                            "    <tr>\n",
                            "      <th>12637</th>\n",
                            "      <td>2234282</td>\n",
                            "      <td>Mar-2020</td>\n",
                            "      <td>10066</td>\n",
                            "      <td>14044</td>\n",
                            "      <td>597.00</td>\n",
                            "      <td>597.00</td>\n",
                            "      <td>0.00</td>\n",
                            "      <td>3</td>\n",
                            "      <td>2</td>\n",
                            "    </tr>\n",
                            "    <tr>\n",
                            "      <th>34129</th>\n",
                            "      <td>6941062</td>\n",
                            "      <td>Mar-2020</td>\n",
                            "      <td>10009</td>\n",
                            "      <td>3879</td>\n",
                            "      <td>597.00</td>\n",
                            "      <td>597.00</td>\n",
                            "      <td>0.00</td>\n",
                            "      <td>3</td>\n",
                            "      <td>1</td>\n",
                            "    </tr>\n",
                            "  </tbody>\n",
                            "</table>\n",
                            "</div>"
                        ],
                        "text/plain": [
                            "       Revendedor     Ciclo  Franqueado   Loja  Receita_Bruta  \\\n",
                            "9363      1406340  Mar-2020       10825  13658         796.00   \n",
                            "30496     6543490  Mar-2020       13031  20890         796.00   \n",
                            "30840     6580794  Mar-2020       11143  11671         796.00   \n",
                            "68863     7771196  Mar-2020       13031  20890         746.00   \n",
                            "17533     3655056  Mar-2020       10074  14363         846.60   \n",
                            "19527     4132723  Mar-2020       10133  18228         788.50   \n",
                            "2880       310534  Mar-2020       10282  20090         747.00   \n",
                            "13730     2612533  Mar-2020       10857  20122         597.00   \n",
                            "12637     2234282  Mar-2020       10066  14044         597.00   \n",
                            "34129     6941062  Mar-2020       10009   3879         597.00   \n",
                            "\n",
                            "       Receita_Liquida  Desconto  Qtde_itens  Numero_de_Pedidos  \n",
                            "9363            796.00      0.00           4                  1  \n",
                            "30496           796.00      0.00           4                  1  \n",
                            "30840           796.00      0.00           4                  1  \n",
                            "68863           746.00      0.00           4                  1  \n",
                            "17533           719.44    127.16          34                  1  \n",
                            "19527           670.30    118.20          15                  1  \n",
                            "2880            634.80    112.20          30                  1  \n",
                            "13730           597.00      0.00           3                  1  \n",
                            "12637           597.00      0.00           3                  2  \n",
                            "34129           597.00      0.00           3                  1  "
                        ]
                    },
                    "metadata": {},
                    "execution_count": 35
                }
            ],
            "metadata": {}
        },
        {
            "cell_type": "markdown",
            "source": [
                "# Desempenho dos franqueados"
            ],
            "metadata": {}
        },
        {
            "cell_type": "code",
            "execution_count": 75,
            "source": [
                "franqueado = revendedores.groupby(['Franqueado', 'Ciclo']).agg({'Receita_Bruta':'sum', \\\n",
                "    'Receita_Liquida':'sum', 'Desconto':'sum', 'Loja':'nunique', 'Revendedor':'nunique', 'Qtde_itens':'sum', 'Numero_de_Pedidos':'sum'}).\\\n",
                "        round(3).reset_index().rename(columns={\"Loja\": \"Qtde_Lojas\", \"Revendedor\": \"Qtde_Rev\", \"Numero_de_Pedidos\":\"N_pedidos\"}).sort_values(by='Receita_Bruta', ascending=False)\n",
                "\n",
                "franqueado['Liq_Med_p_Item'] = franqueado.apply(lambda x: round((x['Receita_Liquida'] / x['Qtde_itens']),2), axis=1)\n",
                "franqueado['Desc_Med_p_Item'] = franqueado.apply(lambda x: round((x['Desconto'] / x['Qtde_itens']),2), axis=1)\n",
                "franqueado['Desc_Med_p_Loja'] = franqueado.apply(lambda x: round((x['Desconto'] / x['Qtde_Lojas']),2), axis=1)\n",
                "franqueado['Receita_Liq_p_Loja'] = franqueado.apply(lambda x: round((x['Receita_Liquida'] / x['Qtde_Lojas']),2), axis=1)\n",
                "franqueado['Receita_Liq_p_Rev'] = franqueado.apply(lambda x: round((x['Receita_Liquida'] / x['Qtde_Rev']),2), axis=1)\n",
                "\n",
                "franqueado['Qtde_Rev_p_Loja'] = franqueado.apply(lambda x: round((x['Qtde_Rev'] / x['Qtde_Lojas']),2), axis=1)"
            ],
            "outputs": [],
            "metadata": {}
        },
        {
            "cell_type": "code",
            "execution_count": 76,
            "source": [
                "#Maiores receitas liquidas - Franqueados\n",
                "franqueado.head(10)"
            ],
            "outputs": [
                {
                    "output_type": "execute_result",
                    "data": {
                        "text/html": [
                            "<div>\n",
                            "<style scoped>\n",
                            "    .dataframe tbody tr th:only-of-type {\n",
                            "        vertical-align: middle;\n",
                            "    }\n",
                            "\n",
                            "    .dataframe tbody tr th {\n",
                            "        vertical-align: top;\n",
                            "    }\n",
                            "\n",
                            "    .dataframe thead th {\n",
                            "        text-align: right;\n",
                            "    }\n",
                            "</style>\n",
                            "<table border=\"1\" class=\"dataframe\">\n",
                            "  <thead>\n",
                            "    <tr style=\"text-align: right;\">\n",
                            "      <th></th>\n",
                            "      <th>Franqueado</th>\n",
                            "      <th>Ciclo</th>\n",
                            "      <th>Receita_Bruta</th>\n",
                            "      <th>Receita_Liquida</th>\n",
                            "      <th>Desconto</th>\n",
                            "      <th>Qtde_Lojas</th>\n",
                            "      <th>Qtde_Rev</th>\n",
                            "      <th>Qtde_itens</th>\n",
                            "      <th>N_pedidos</th>\n",
                            "      <th>Liq_Med_p_Item</th>\n",
                            "      <th>Desc_Med_p_Item</th>\n",
                            "      <th>Desc_Med_p_Loja</th>\n",
                            "      <th>Receita_Liq_p_Loja</th>\n",
                            "      <th>Receita_Liq_p_Rev</th>\n",
                            "      <th>Qtde_Rev_p_Loja</th>\n",
                            "    </tr>\n",
                            "  </thead>\n",
                            "  <tbody>\n",
                            "    <tr>\n",
                            "      <th>981</th>\n",
                            "      <td>13031</td>\n",
                            "      <td>Fev-2020</td>\n",
                            "      <td>636000.95</td>\n",
                            "      <td>619289.66</td>\n",
                            "      <td>16711.29</td>\n",
                            "      <td>25</td>\n",
                            "      <td>6266</td>\n",
                            "      <td>8073</td>\n",
                            "      <td>6284</td>\n",
                            "      <td>76.71</td>\n",
                            "      <td>2.07</td>\n",
                            "      <td>668.45</td>\n",
                            "      <td>24771.59</td>\n",
                            "      <td>98.83</td>\n",
                            "      <td>250.64</td>\n",
                            "    </tr>\n",
                            "    <tr>\n",
                            "      <th>982</th>\n",
                            "      <td>13031</td>\n",
                            "      <td>Mar-2020</td>\n",
                            "      <td>596118.34</td>\n",
                            "      <td>580552.00</td>\n",
                            "      <td>15566.34</td>\n",
                            "      <td>25</td>\n",
                            "      <td>6506</td>\n",
                            "      <td>8433</td>\n",
                            "      <td>6534</td>\n",
                            "      <td>68.84</td>\n",
                            "      <td>1.85</td>\n",
                            "      <td>622.65</td>\n",
                            "      <td>23222.08</td>\n",
                            "      <td>89.23</td>\n",
                            "      <td>260.24</td>\n",
                            "    </tr>\n",
                            "    <tr>\n",
                            "      <th>323</th>\n",
                            "      <td>10269</td>\n",
                            "      <td>Fev-2020</td>\n",
                            "      <td>117757.25</td>\n",
                            "      <td>116600.11</td>\n",
                            "      <td>1157.14</td>\n",
                            "      <td>17</td>\n",
                            "      <td>872</td>\n",
                            "      <td>958</td>\n",
                            "      <td>872</td>\n",
                            "      <td>121.71</td>\n",
                            "      <td>1.21</td>\n",
                            "      <td>68.07</td>\n",
                            "      <td>6858.83</td>\n",
                            "      <td>133.72</td>\n",
                            "      <td>51.29</td>\n",
                            "    </tr>\n",
                            "    <tr>\n",
                            "      <th>391</th>\n",
                            "      <td>10351</td>\n",
                            "      <td>Fev-2020</td>\n",
                            "      <td>94463.02</td>\n",
                            "      <td>93382.36</td>\n",
                            "      <td>1080.66</td>\n",
                            "      <td>2</td>\n",
                            "      <td>761</td>\n",
                            "      <td>859</td>\n",
                            "      <td>761</td>\n",
                            "      <td>108.71</td>\n",
                            "      <td>1.26</td>\n",
                            "      <td>540.33</td>\n",
                            "      <td>46691.18</td>\n",
                            "      <td>122.71</td>\n",
                            "      <td>380.50</td>\n",
                            "    </tr>\n",
                            "    <tr>\n",
                            "      <th>392</th>\n",
                            "      <td>10351</td>\n",
                            "      <td>Mar-2020</td>\n",
                            "      <td>67896.12</td>\n",
                            "      <td>66622.18</td>\n",
                            "      <td>1273.94</td>\n",
                            "      <td>2</td>\n",
                            "      <td>622</td>\n",
                            "      <td>726</td>\n",
                            "      <td>623</td>\n",
                            "      <td>91.77</td>\n",
                            "      <td>1.75</td>\n",
                            "      <td>636.97</td>\n",
                            "      <td>33311.09</td>\n",
                            "      <td>107.11</td>\n",
                            "      <td>311.00</td>\n",
                            "    </tr>\n",
                            "    <tr>\n",
                            "      <th>324</th>\n",
                            "      <td>10269</td>\n",
                            "      <td>Mar-2020</td>\n",
                            "      <td>66188.63</td>\n",
                            "      <td>64961.33</td>\n",
                            "      <td>1227.30</td>\n",
                            "      <td>17</td>\n",
                            "      <td>584</td>\n",
                            "      <td>657</td>\n",
                            "      <td>585</td>\n",
                            "      <td>98.88</td>\n",
                            "      <td>1.87</td>\n",
                            "      <td>72.19</td>\n",
                            "      <td>3821.25</td>\n",
                            "      <td>111.24</td>\n",
                            "      <td>34.35</td>\n",
                            "    </tr>\n",
                            "    <tr>\n",
                            "      <th>991</th>\n",
                            "      <td>19825</td>\n",
                            "      <td>Fev-2020</td>\n",
                            "      <td>61445.30</td>\n",
                            "      <td>60599.26</td>\n",
                            "      <td>846.04</td>\n",
                            "      <td>2</td>\n",
                            "      <td>511</td>\n",
                            "      <td>578</td>\n",
                            "      <td>511</td>\n",
                            "      <td>104.84</td>\n",
                            "      <td>1.46</td>\n",
                            "      <td>423.02</td>\n",
                            "      <td>30299.63</td>\n",
                            "      <td>118.59</td>\n",
                            "      <td>255.50</td>\n",
                            "    </tr>\n",
                            "    <tr>\n",
                            "      <th>992</th>\n",
                            "      <td>19825</td>\n",
                            "      <td>Mar-2020</td>\n",
                            "      <td>55112.25</td>\n",
                            "      <td>54236.61</td>\n",
                            "      <td>875.64</td>\n",
                            "      <td>2</td>\n",
                            "      <td>484</td>\n",
                            "      <td>615</td>\n",
                            "      <td>485</td>\n",
                            "      <td>88.19</td>\n",
                            "      <td>1.42</td>\n",
                            "      <td>437.82</td>\n",
                            "      <td>27118.31</td>\n",
                            "      <td>112.06</td>\n",
                            "      <td>242.00</td>\n",
                            "    </tr>\n",
                            "    <tr>\n",
                            "      <th>965</th>\n",
                            "      <td>11334</td>\n",
                            "      <td>Fev-2020</td>\n",
                            "      <td>52635.48</td>\n",
                            "      <td>52475.60</td>\n",
                            "      <td>159.88</td>\n",
                            "      <td>9</td>\n",
                            "      <td>355</td>\n",
                            "      <td>359</td>\n",
                            "      <td>355</td>\n",
                            "      <td>146.17</td>\n",
                            "      <td>0.45</td>\n",
                            "      <td>17.76</td>\n",
                            "      <td>5830.62</td>\n",
                            "      <td>147.82</td>\n",
                            "      <td>39.44</td>\n",
                            "    </tr>\n",
                            "    <tr>\n",
                            "      <th>213</th>\n",
                            "      <td>10169</td>\n",
                            "      <td>Mar-2020</td>\n",
                            "      <td>48156.42</td>\n",
                            "      <td>47330.29</td>\n",
                            "      <td>826.13</td>\n",
                            "      <td>2</td>\n",
                            "      <td>420</td>\n",
                            "      <td>571</td>\n",
                            "      <td>422</td>\n",
                            "      <td>82.89</td>\n",
                            "      <td>1.45</td>\n",
                            "      <td>413.06</td>\n",
                            "      <td>23665.15</td>\n",
                            "      <td>112.69</td>\n",
                            "      <td>210.00</td>\n",
                            "    </tr>\n",
                            "  </tbody>\n",
                            "</table>\n",
                            "</div>"
                        ],
                        "text/plain": [
                            "     Franqueado     Ciclo  Receita_Bruta  Receita_Liquida  Desconto  \\\n",
                            "981       13031  Fev-2020      636000.95        619289.66  16711.29   \n",
                            "982       13031  Mar-2020      596118.34        580552.00  15566.34   \n",
                            "323       10269  Fev-2020      117757.25        116600.11   1157.14   \n",
                            "391       10351  Fev-2020       94463.02         93382.36   1080.66   \n",
                            "392       10351  Mar-2020       67896.12         66622.18   1273.94   \n",
                            "324       10269  Mar-2020       66188.63         64961.33   1227.30   \n",
                            "991       19825  Fev-2020       61445.30         60599.26    846.04   \n",
                            "992       19825  Mar-2020       55112.25         54236.61    875.64   \n",
                            "965       11334  Fev-2020       52635.48         52475.60    159.88   \n",
                            "213       10169  Mar-2020       48156.42         47330.29    826.13   \n",
                            "\n",
                            "     Qtde_Lojas  Qtde_Rev  Qtde_itens  N_pedidos  Liq_Med_p_Item  \\\n",
                            "981          25      6266        8073       6284           76.71   \n",
                            "982          25      6506        8433       6534           68.84   \n",
                            "323          17       872         958        872          121.71   \n",
                            "391           2       761         859        761          108.71   \n",
                            "392           2       622         726        623           91.77   \n",
                            "324          17       584         657        585           98.88   \n",
                            "991           2       511         578        511          104.84   \n",
                            "992           2       484         615        485           88.19   \n",
                            "965           9       355         359        355          146.17   \n",
                            "213           2       420         571        422           82.89   \n",
                            "\n",
                            "     Desc_Med_p_Item  Desc_Med_p_Loja  Receita_Liq_p_Loja  Receita_Liq_p_Rev  \\\n",
                            "981             2.07           668.45            24771.59              98.83   \n",
                            "982             1.85           622.65            23222.08              89.23   \n",
                            "323             1.21            68.07             6858.83             133.72   \n",
                            "391             1.26           540.33            46691.18             122.71   \n",
                            "392             1.75           636.97            33311.09             107.11   \n",
                            "324             1.87            72.19             3821.25             111.24   \n",
                            "991             1.46           423.02            30299.63             118.59   \n",
                            "992             1.42           437.82            27118.31             112.06   \n",
                            "965             0.45            17.76             5830.62             147.82   \n",
                            "213             1.45           413.06            23665.15             112.69   \n",
                            "\n",
                            "     Qtde_Rev_p_Loja  \n",
                            "981           250.64  \n",
                            "982           260.24  \n",
                            "323            51.29  \n",
                            "391           380.50  \n",
                            "392           311.00  \n",
                            "324            34.35  \n",
                            "991           255.50  \n",
                            "992           242.00  \n",
                            "965            39.44  \n",
                            "213           210.00  "
                        ]
                    },
                    "metadata": {},
                    "execution_count": 76
                }
            ],
            "metadata": {}
        },
        {
            "cell_type": "code",
            "execution_count": 78,
            "source": [
                "#Maiores Receitas liquidas por Loja\n",
                "franqueado.sort_values(by='Receita_Liq_p_Rev', ascending=False).head(10)"
            ],
            "outputs": [
                {
                    "output_type": "execute_result",
                    "data": {
                        "text/html": [
                            "<div>\n",
                            "<style scoped>\n",
                            "    .dataframe tbody tr th:only-of-type {\n",
                            "        vertical-align: middle;\n",
                            "    }\n",
                            "\n",
                            "    .dataframe tbody tr th {\n",
                            "        vertical-align: top;\n",
                            "    }\n",
                            "\n",
                            "    .dataframe thead th {\n",
                            "        text-align: right;\n",
                            "    }\n",
                            "</style>\n",
                            "<table border=\"1\" class=\"dataframe\">\n",
                            "  <thead>\n",
                            "    <tr style=\"text-align: right;\">\n",
                            "      <th></th>\n",
                            "      <th>Franqueado</th>\n",
                            "      <th>Ciclo</th>\n",
                            "      <th>Receita_Bruta</th>\n",
                            "      <th>Receita_Liquida</th>\n",
                            "      <th>Desconto</th>\n",
                            "      <th>Qtde_Lojas</th>\n",
                            "      <th>Qtde_Rev</th>\n",
                            "      <th>Qtde_itens</th>\n",
                            "      <th>N_pedidos</th>\n",
                            "      <th>Liq_Med_p_Item</th>\n",
                            "      <th>Desc_Med_p_Item</th>\n",
                            "      <th>Desc_Med_p_Loja</th>\n",
                            "      <th>Receita_Liq_p_Loja</th>\n",
                            "      <th>Receita_Liq_p_Rev</th>\n",
                            "      <th>Qtde_Rev_p_Loja</th>\n",
                            "    </tr>\n",
                            "  </thead>\n",
                            "  <tbody>\n",
                            "    <tr>\n",
                            "      <th>242</th>\n",
                            "      <td>10195</td>\n",
                            "      <td>Fev-2020</td>\n",
                            "      <td>845.00</td>\n",
                            "      <td>845.00</td>\n",
                            "      <td>0.00</td>\n",
                            "      <td>1</td>\n",
                            "      <td>4</td>\n",
                            "      <td>5</td>\n",
                            "      <td>4</td>\n",
                            "      <td>169.00</td>\n",
                            "      <td>0.00</td>\n",
                            "      <td>0.00</td>\n",
                            "      <td>845.00</td>\n",
                            "      <td>211.25</td>\n",
                            "      <td>4.00</td>\n",
                            "    </tr>\n",
                            "    <tr>\n",
                            "      <th>338</th>\n",
                            "      <td>10280</td>\n",
                            "      <td>Mar-2020</td>\n",
                            "      <td>6394.90</td>\n",
                            "      <td>6383.82</td>\n",
                            "      <td>11.08</td>\n",
                            "      <td>1</td>\n",
                            "      <td>31</td>\n",
                            "      <td>37</td>\n",
                            "      <td>31</td>\n",
                            "      <td>172.54</td>\n",
                            "      <td>0.30</td>\n",
                            "      <td>11.08</td>\n",
                            "      <td>6383.82</td>\n",
                            "      <td>205.93</td>\n",
                            "      <td>31.00</td>\n",
                            "    </tr>\n",
                            "    <tr>\n",
                            "      <th>787</th>\n",
                            "      <td>10695</td>\n",
                            "      <td>Mar-2020</td>\n",
                            "      <td>547.00</td>\n",
                            "      <td>547.00</td>\n",
                            "      <td>0.00</td>\n",
                            "      <td>1</td>\n",
                            "      <td>3</td>\n",
                            "      <td>3</td>\n",
                            "      <td>3</td>\n",
                            "      <td>182.33</td>\n",
                            "      <td>0.00</td>\n",
                            "      <td>0.00</td>\n",
                            "      <td>547.00</td>\n",
                            "      <td>182.33</td>\n",
                            "      <td>3.00</td>\n",
                            "    </tr>\n",
                            "    <tr>\n",
                            "      <th>421</th>\n",
                            "      <td>10373</td>\n",
                            "      <td>Fev-2020</td>\n",
                            "      <td>547.00</td>\n",
                            "      <td>547.00</td>\n",
                            "      <td>0.00</td>\n",
                            "      <td>1</td>\n",
                            "      <td>3</td>\n",
                            "      <td>3</td>\n",
                            "      <td>3</td>\n",
                            "      <td>182.33</td>\n",
                            "      <td>0.00</td>\n",
                            "      <td>0.00</td>\n",
                            "      <td>547.00</td>\n",
                            "      <td>182.33</td>\n",
                            "      <td>3.00</td>\n",
                            "    </tr>\n",
                            "    <tr>\n",
                            "      <th>930</th>\n",
                            "      <td>10825</td>\n",
                            "      <td>Mar-2020</td>\n",
                            "      <td>1964.05</td>\n",
                            "      <td>1946.09</td>\n",
                            "      <td>17.96</td>\n",
                            "      <td>1</td>\n",
                            "      <td>11</td>\n",
                            "      <td>16</td>\n",
                            "      <td>11</td>\n",
                            "      <td>121.63</td>\n",
                            "      <td>1.12</td>\n",
                            "      <td>17.96</td>\n",
                            "      <td>1946.09</td>\n",
                            "      <td>176.92</td>\n",
                            "      <td>11.00</td>\n",
                            "    </tr>\n",
                            "    <tr>\n",
                            "      <th>768</th>\n",
                            "      <td>10682</td>\n",
                            "      <td>Mar-2020</td>\n",
                            "      <td>348.00</td>\n",
                            "      <td>348.00</td>\n",
                            "      <td>0.00</td>\n",
                            "      <td>1</td>\n",
                            "      <td>2</td>\n",
                            "      <td>2</td>\n",
                            "      <td>2</td>\n",
                            "      <td>174.00</td>\n",
                            "      <td>0.00</td>\n",
                            "      <td>0.00</td>\n",
                            "      <td>348.00</td>\n",
                            "      <td>174.00</td>\n",
                            "      <td>2.00</td>\n",
                            "    </tr>\n",
                            "    <tr>\n",
                            "      <th>52</th>\n",
                            "      <td>10039</td>\n",
                            "      <td>Fev-2020</td>\n",
                            "      <td>2823.70</td>\n",
                            "      <td>2608.88</td>\n",
                            "      <td>214.82</td>\n",
                            "      <td>1</td>\n",
                            "      <td>15</td>\n",
                            "      <td>42</td>\n",
                            "      <td>16</td>\n",
                            "      <td>62.12</td>\n",
                            "      <td>5.11</td>\n",
                            "      <td>214.82</td>\n",
                            "      <td>2608.88</td>\n",
                            "      <td>173.93</td>\n",
                            "      <td>15.00</td>\n",
                            "    </tr>\n",
                            "    <tr>\n",
                            "      <th>305</th>\n",
                            "      <td>10253</td>\n",
                            "      <td>Mar-2020</td>\n",
                            "      <td>19708.30</td>\n",
                            "      <td>19631.38</td>\n",
                            "      <td>76.92</td>\n",
                            "      <td>1</td>\n",
                            "      <td>114</td>\n",
                            "      <td>123</td>\n",
                            "      <td>114</td>\n",
                            "      <td>159.60</td>\n",
                            "      <td>0.63</td>\n",
                            "      <td>76.92</td>\n",
                            "      <td>19631.38</td>\n",
                            "      <td>172.21</td>\n",
                            "      <td>114.00</td>\n",
                            "    </tr>\n",
                            "    <tr>\n",
                            "      <th>342</th>\n",
                            "      <td>10283</td>\n",
                            "      <td>Mar-2020</td>\n",
                            "      <td>13542.10</td>\n",
                            "      <td>13471.86</td>\n",
                            "      <td>70.24</td>\n",
                            "      <td>1</td>\n",
                            "      <td>79</td>\n",
                            "      <td>89</td>\n",
                            "      <td>79</td>\n",
                            "      <td>151.37</td>\n",
                            "      <td>0.79</td>\n",
                            "      <td>70.24</td>\n",
                            "      <td>13471.86</td>\n",
                            "      <td>170.53</td>\n",
                            "      <td>79.00</td>\n",
                            "    </tr>\n",
                            "    <tr>\n",
                            "      <th>243</th>\n",
                            "      <td>10195</td>\n",
                            "      <td>Mar-2020</td>\n",
                            "      <td>845.00</td>\n",
                            "      <td>845.00</td>\n",
                            "      <td>0.00</td>\n",
                            "      <td>1</td>\n",
                            "      <td>5</td>\n",
                            "      <td>5</td>\n",
                            "      <td>5</td>\n",
                            "      <td>169.00</td>\n",
                            "      <td>0.00</td>\n",
                            "      <td>0.00</td>\n",
                            "      <td>845.00</td>\n",
                            "      <td>169.00</td>\n",
                            "      <td>5.00</td>\n",
                            "    </tr>\n",
                            "  </tbody>\n",
                            "</table>\n",
                            "</div>"
                        ],
                        "text/plain": [
                            "     Franqueado     Ciclo  Receita_Bruta  Receita_Liquida  Desconto  \\\n",
                            "242       10195  Fev-2020         845.00           845.00      0.00   \n",
                            "338       10280  Mar-2020        6394.90          6383.82     11.08   \n",
                            "787       10695  Mar-2020         547.00           547.00      0.00   \n",
                            "421       10373  Fev-2020         547.00           547.00      0.00   \n",
                            "930       10825  Mar-2020        1964.05          1946.09     17.96   \n",
                            "768       10682  Mar-2020         348.00           348.00      0.00   \n",
                            "52        10039  Fev-2020        2823.70          2608.88    214.82   \n",
                            "305       10253  Mar-2020       19708.30         19631.38     76.92   \n",
                            "342       10283  Mar-2020       13542.10         13471.86     70.24   \n",
                            "243       10195  Mar-2020         845.00           845.00      0.00   \n",
                            "\n",
                            "     Qtde_Lojas  Qtde_Rev  Qtde_itens  N_pedidos  Liq_Med_p_Item  \\\n",
                            "242           1         4           5          4          169.00   \n",
                            "338           1        31          37         31          172.54   \n",
                            "787           1         3           3          3          182.33   \n",
                            "421           1         3           3          3          182.33   \n",
                            "930           1        11          16         11          121.63   \n",
                            "768           1         2           2          2          174.00   \n",
                            "52            1        15          42         16           62.12   \n",
                            "305           1       114         123        114          159.60   \n",
                            "342           1        79          89         79          151.37   \n",
                            "243           1         5           5          5          169.00   \n",
                            "\n",
                            "     Desc_Med_p_Item  Desc_Med_p_Loja  Receita_Liq_p_Loja  Receita_Liq_p_Rev  \\\n",
                            "242             0.00             0.00              845.00             211.25   \n",
                            "338             0.30            11.08             6383.82             205.93   \n",
                            "787             0.00             0.00              547.00             182.33   \n",
                            "421             0.00             0.00              547.00             182.33   \n",
                            "930             1.12            17.96             1946.09             176.92   \n",
                            "768             0.00             0.00              348.00             174.00   \n",
                            "52              5.11           214.82             2608.88             173.93   \n",
                            "305             0.63            76.92            19631.38             172.21   \n",
                            "342             0.79            70.24            13471.86             170.53   \n",
                            "243             0.00             0.00              845.00             169.00   \n",
                            "\n",
                            "     Qtde_Rev_p_Loja  \n",
                            "242             4.00  \n",
                            "338            31.00  \n",
                            "787             3.00  \n",
                            "421             3.00  \n",
                            "930            11.00  \n",
                            "768             2.00  \n",
                            "52             15.00  \n",
                            "305           114.00  \n",
                            "342            79.00  \n",
                            "243             5.00  "
                        ]
                    },
                    "metadata": {},
                    "execution_count": 78
                }
            ],
            "metadata": {}
        },
        {
            "cell_type": "code",
            "execution_count": null,
            "source": [],
            "outputs": [],
            "metadata": {}
        },
        {
            "cell_type": "markdown",
            "source": [
                "## Calculando o preço médio por  produto agrupado por ciclo"
            ],
            "metadata": {}
        },
        {
            "cell_type": "code",
            "execution_count": 39,
            "source": [
                "prec_med_fev = revendedores[revendedores['Ciclo']=='Fev-2020']['Receita_Bruta'].sum() /\\\n",
                "     revendedores[revendedores['Ciclo']=='Fev-2020']['Qtde_itens'].sum()\n",
                "prec_med_fev"
            ],
            "outputs": [
                {
                    "output_type": "execute_result",
                    "data": {
                        "text/plain": [
                            "92.48508834376877"
                        ]
                    },
                    "metadata": {},
                    "execution_count": 39
                }
            ],
            "metadata": {}
        },
        {
            "cell_type": "code",
            "execution_count": 40,
            "source": [
                "prec_med_mar = revendedores[revendedores['Ciclo']=='Mar-2020']['Receita_Bruta'].sum() /\\\n",
                "     revendedores[revendedores['Ciclo']=='Mar-2020']['Qtde_itens'].sum()\n",
                "prec_med_mar"
            ],
            "outputs": [
                {
                    "output_type": "execute_result",
                    "data": {
                        "text/plain": [
                            "80.90076651538074"
                        ]
                    },
                    "metadata": {},
                    "execution_count": 40
                }
            ],
            "metadata": {}
        },
        {
            "cell_type": "markdown",
            "source": [
                "## Desembolso medio por Revendedor"
            ],
            "metadata": {}
        },
        {
            "cell_type": "code",
            "execution_count": 41,
            "source": [
                "des_med_por_rev_fev = revendedores[revendedores['Ciclo']=='Fev-2020']['Receita_Bruta'].sum() /\\\n",
                "     len(revendedores[revendedores['Ciclo']=='Fev-2020']['Revendedor'].unique())\n",
                "des_med_por_rev_fev"
            ],
            "outputs": [
                {
                    "output_type": "execute_result",
                    "data": {
                        "text/plain": [
                            "112.39731536978162"
                        ]
                    },
                    "metadata": {},
                    "execution_count": 41
                }
            ],
            "metadata": {}
        },
        {
            "cell_type": "code",
            "execution_count": 42,
            "source": [
                "des_med_por_rev_mar = revendedores[revendedores['Ciclo']=='Mar-2020']['Receita_Bruta'].sum() /\\\n",
                "     len(revendedores[revendedores['Ciclo']=='Mar-2020']['Revendedor'].unique())\n",
                "des_med_por_rev_mar"
            ],
            "outputs": [
                {
                    "output_type": "execute_result",
                    "data": {
                        "text/plain": [
                            "102.17688233108646"
                        ]
                    },
                    "metadata": {},
                    "execution_count": 42
                }
            ],
            "metadata": {}
        },
        {
            "cell_type": "markdown",
            "source": [
                "## Média de itens por boleto"
            ],
            "metadata": {}
        },
        {
            "cell_type": "code",
            "execution_count": 43,
            "source": [
                "itens_por_boleto_fev = revendedores[revendedores['Ciclo'] == 'Fev-2020']['Qtde_itens'].sum() /\\\n",
                "     revendedores[revendedores['Ciclo'] == 'Fev-2020']['Numero_de_Pedidos'].sum()\n",
                "itens_por_boleto_fev"
            ],
            "outputs": [
                {
                    "output_type": "execute_result",
                    "data": {
                        "text/plain": [
                            "1.213341658861484"
                        ]
                    },
                    "metadata": {},
                    "execution_count": 43
                }
            ],
            "metadata": {}
        },
        {
            "cell_type": "code",
            "execution_count": 44,
            "source": [
                "itens_por_boleto_mar = revendedores[revendedores['Ciclo'] == 'Mar-2020']['Qtde_itens'].sum() /\\\n",
                "     revendedores[revendedores['Ciclo'] == 'Mar-2020']['Numero_de_Pedidos'].sum()\n",
                "itens_por_boleto_mar"
            ],
            "outputs": [
                {
                    "output_type": "execute_result",
                    "data": {
                        "text/plain": [
                            "1.259814172644731"
                        ]
                    },
                    "metadata": {},
                    "execution_count": 44
                }
            ],
            "metadata": {}
        },
        {
            "cell_type": "markdown",
            "source": [
                "# Basket analisys - Algoritimo Apriori"
            ],
            "metadata": {}
        },
        {
            "cell_type": "markdown",
            "source": [
                "## ------ Fevereiro - 2020 ----------"
            ],
            "metadata": {}
        },
        {
            "cell_type": "code",
            "execution_count": 45,
            "source": [
                "#criando um id para separar os boletos\n",
                "base['id_basket'] = base.apply(lambda x: str(x['Revendedor']) + '-' + str(x['z_Numero_de_Pedidos']), axis=1)\n",
                "\n",
                "basket_plus = base[base['Ciclo'] == 'Fev-2020'].groupby(['id_basket','Produto_Descricao'])['Pedido_Valor_Volume'].\\\n",
                "    sum().unstack().reset_index().fillna(0).set_index('id_basket')\n",
                "\n",
                "#encode\n",
                "basket_plus = basket_plus.applymap(lambda x: 0 if x<=0 else 1)\n",
                "\n",
                "print(f\"Quantidade de pedidos: {len(basket_plus)}\")\n",
                "\n",
                "#filtrando os que tem mais de um item\n",
                "basket_plus = basket_plus[(basket_plus > 0).sum(axis=1) >= 2]\n",
                "\n",
                "print(f\"Quantidade de itens de pedidos com mais de um item: {len(basket_plus)}\")\n"
            ],
            "outputs": [
                {
                    "output_type": "stream",
                    "name": "stdout",
                    "text": [
                        "Quantidade de pedidos: 38436\n",
                        "Quantidade de itens de pedidos com mais de um item: 1424\n"
                    ]
                }
            ],
            "metadata": {}
        },
        {
            "cell_type": "code",
            "execution_count": 46,
            "source": [
                "#Aplicando o algoritmo Apriori\n",
                "frequent_itens = apriori(basket_plus, min_support=0.03, use_colnames=True).\\\n",
                "    sort_values('support', ascending=False).reset_index(drop=True)"
            ],
            "outputs": [],
            "metadata": {}
        },
        {
            "cell_type": "code",
            "execution_count": 49,
            "source": [
                "frequent_itens['length'] = frequent_itens['itemsets'].apply(lambda x: len(x))\n",
                "frequent_itens"
            ],
            "outputs": [
                {
                    "output_type": "execute_result",
                    "data": {
                        "text/html": [
                            "<div>\n",
                            "<style scoped>\n",
                            "    .dataframe tbody tr th:only-of-type {\n",
                            "        vertical-align: middle;\n",
                            "    }\n",
                            "\n",
                            "    .dataframe tbody tr th {\n",
                            "        vertical-align: top;\n",
                            "    }\n",
                            "\n",
                            "    .dataframe thead th {\n",
                            "        text-align: right;\n",
                            "    }\n",
                            "</style>\n",
                            "<table border=\"1\" class=\"dataframe\">\n",
                            "  <thead>\n",
                            "    <tr style=\"text-align: right;\">\n",
                            "      <th></th>\n",
                            "      <th>support</th>\n",
                            "      <th>itemsets</th>\n",
                            "      <th>length</th>\n",
                            "    </tr>\n",
                            "  </thead>\n",
                            "  <tbody>\n",
                            "    <tr>\n",
                            "      <th>0</th>\n",
                            "      <td>0.32</td>\n",
                            "      <td>(BOT PERFUME LILLY 75ML - ED ESPECIAL)</td>\n",
                            "      <td>1</td>\n",
                            "    </tr>\n",
                            "    <tr>\n",
                            "      <th>1</th>\n",
                            "      <td>0.23</td>\n",
                            "      <td>(BOTI DEOS AEROSOL MALBEC 40ML)</td>\n",
                            "      <td>1</td>\n",
                            "    </tr>\n",
                            "    <tr>\n",
                            "      <th>2</th>\n",
                            "      <td>0.16</td>\n",
                            "      <td>(BOT BLOCO DE PEDIDOS VD)</td>\n",
                            "      <td>1</td>\n",
                            "    </tr>\n",
                            "    <tr>\n",
                            "      <th>3</th>\n",
                            "      <td>0.11</td>\n",
                            "      <td>(BOT SABONETE LÍQ LILLY 50ML)</td>\n",
                            "      <td>1</td>\n",
                            "    </tr>\n",
                            "    <tr>\n",
                            "      <th>4</th>\n",
                            "      <td>0.09</td>\n",
                            "      <td>(BOTI MASCARA PROT MALHA CINZA MESCLA M)</td>\n",
                            "      <td>1</td>\n",
                            "    </tr>\n",
                            "    <tr>\n",
                            "      <th>5</th>\n",
                            "      <td>0.09</td>\n",
                            "      <td>(CATALOGO CICLO PROXIMO SELL OUT)</td>\n",
                            "      <td>1</td>\n",
                            "    </tr>\n",
                            "    <tr>\n",
                            "      <th>6</th>\n",
                            "      <td>0.08</td>\n",
                            "      <td>(BOTI MASCARA PROT MALHA PRETA M)</td>\n",
                            "      <td>1</td>\n",
                            "    </tr>\n",
                            "    <tr>\n",
                            "      <th>7</th>\n",
                            "      <td>0.08</td>\n",
                            "      <td>(BOTI SPLASH MALBEC 100ML)</td>\n",
                            "      <td>1</td>\n",
                            "    </tr>\n",
                            "    <tr>\n",
                            "      <th>8</th>\n",
                            "      <td>0.07</td>\n",
                            "      <td>(BOTI NECESS ENVELOPE PU ROSA C/A)</td>\n",
                            "      <td>1</td>\n",
                            "    </tr>\n",
                            "    <tr>\n",
                            "      <th>9</th>\n",
                            "      <td>0.07</td>\n",
                            "      <td>(BOTI MASCARA PROT MALHA PRETA G)</td>\n",
                            "      <td>1</td>\n",
                            "    </tr>\n",
                            "    <tr>\n",
                            "      <th>10</th>\n",
                            "      <td>0.06</td>\n",
                            "      <td>(BOTI NECESS VIAGEM PES C/A)</td>\n",
                            "      <td>1</td>\n",
                            "    </tr>\n",
                            "    <tr>\n",
                            "      <th>11</th>\n",
                            "      <td>0.06</td>\n",
                            "      <td>(BOTI BOLSA TOTE HOLOG TPU C/A)</td>\n",
                            "      <td>1</td>\n",
                            "    </tr>\n",
                            "    <tr>\n",
                            "      <th>12</th>\n",
                            "      <td>0.06</td>\n",
                            "      <td>(BOTI NECESS ENVELOPE DOURADO PU C/A)</td>\n",
                            "      <td>1</td>\n",
                            "    </tr>\n",
                            "    <tr>\n",
                            "      <th>13</th>\n",
                            "      <td>0.05</td>\n",
                            "      <td>(BOTI NECESS POA PRETA PU)</td>\n",
                            "      <td>1</td>\n",
                            "    </tr>\n",
                            "    <tr>\n",
                            "      <th>14</th>\n",
                            "      <td>0.05</td>\n",
                            "      <td>(BOTI MASCARA PROT MALHA CINZA MESCLA M, BOTI ...</td>\n",
                            "      <td>2</td>\n",
                            "    </tr>\n",
                            "    <tr>\n",
                            "      <th>15</th>\n",
                            "      <td>0.05</td>\n",
                            "      <td>(BOTI NECESS MASC MALBEC CLUB PVC C/ALC)</td>\n",
                            "      <td>1</td>\n",
                            "    </tr>\n",
                            "    <tr>\n",
                            "      <th>16</th>\n",
                            "      <td>0.05</td>\n",
                            "      <td>(BOT PERFUME LILLY 75ML - ED ESPECIAL, BOT BLO...</td>\n",
                            "      <td>2</td>\n",
                            "    </tr>\n",
                            "    <tr>\n",
                            "      <th>17</th>\n",
                            "      <td>0.04</td>\n",
                            "      <td>(BOTI POCHETE HOLOG PU C/A)</td>\n",
                            "      <td>1</td>\n",
                            "    </tr>\n",
                            "    <tr>\n",
                            "      <th>18</th>\n",
                            "      <td>0.04</td>\n",
                            "      <td>(BOTI NECESS CINZA NAILON C/A)</td>\n",
                            "      <td>1</td>\n",
                            "    </tr>\n",
                            "    <tr>\n",
                            "      <th>19</th>\n",
                            "      <td>0.04</td>\n",
                            "      <td>(BOTI DEOS AEROSOL MALBEC 40ML, BOT PERFUME LI...</td>\n",
                            "      <td>2</td>\n",
                            "    </tr>\n",
                            "    <tr>\n",
                            "      <th>20</th>\n",
                            "      <td>0.04</td>\n",
                            "      <td>(CATALOGO CICLO PROXIMO SELL OUT, BOT BLOCO DE...</td>\n",
                            "      <td>2</td>\n",
                            "    </tr>\n",
                            "    <tr>\n",
                            "      <th>21</th>\n",
                            "      <td>0.04</td>\n",
                            "      <td>(BOTI MASCARA PROT MALHA CINZA MESCLA M, BOTI ...</td>\n",
                            "      <td>2</td>\n",
                            "    </tr>\n",
                            "    <tr>\n",
                            "      <th>22</th>\n",
                            "      <td>0.03</td>\n",
                            "      <td>(CATALOGO CICLO ATUAL SELL OUT)</td>\n",
                            "      <td>1</td>\n",
                            "    </tr>\n",
                            "    <tr>\n",
                            "      <th>23</th>\n",
                            "      <td>0.03</td>\n",
                            "      <td>(BOTI SACO ORGANIZADOR ALGODAO)</td>\n",
                            "      <td>1</td>\n",
                            "    </tr>\n",
                            "    <tr>\n",
                            "      <th>24</th>\n",
                            "      <td>0.03</td>\n",
                            "      <td>(EGEO SAB BARRA DOLCE 90g)</td>\n",
                            "      <td>1</td>\n",
                            "    </tr>\n",
                            "    <tr>\n",
                            "      <th>25</th>\n",
                            "      <td>0.03</td>\n",
                            "      <td>(BOTI NECESS ENVELOPE PU ROSA C/A, BOTI NECESS...</td>\n",
                            "      <td>2</td>\n",
                            "    </tr>\n",
                            "    <tr>\n",
                            "      <th>26</th>\n",
                            "      <td>0.03</td>\n",
                            "      <td>(BOTI FITA OLFATIVA VD)</td>\n",
                            "      <td>1</td>\n",
                            "    </tr>\n",
                            "  </tbody>\n",
                            "</table>\n",
                            "</div>"
                        ],
                        "text/plain": [
                            "    support                                           itemsets  length\n",
                            "0      0.32             (BOT PERFUME LILLY 75ML - ED ESPECIAL)       1\n",
                            "1      0.23                    (BOTI DEOS AEROSOL MALBEC 40ML)       1\n",
                            "2      0.16                          (BOT BLOCO DE PEDIDOS VD)       1\n",
                            "3      0.11                      (BOT SABONETE LÍQ LILLY 50ML)       1\n",
                            "4      0.09           (BOTI MASCARA PROT MALHA CINZA MESCLA M)       1\n",
                            "5      0.09                  (CATALOGO CICLO PROXIMO SELL OUT)       1\n",
                            "6      0.08                  (BOTI MASCARA PROT MALHA PRETA M)       1\n",
                            "7      0.08                         (BOTI SPLASH MALBEC 100ML)       1\n",
                            "8      0.07                 (BOTI NECESS ENVELOPE PU ROSA C/A)       1\n",
                            "9      0.07                  (BOTI MASCARA PROT MALHA PRETA G)       1\n",
                            "10     0.06                       (BOTI NECESS VIAGEM PES C/A)       1\n",
                            "11     0.06                    (BOTI BOLSA TOTE HOLOG TPU C/A)       1\n",
                            "12     0.06              (BOTI NECESS ENVELOPE DOURADO PU C/A)       1\n",
                            "13     0.05                         (BOTI NECESS POA PRETA PU)       1\n",
                            "14     0.05  (BOTI MASCARA PROT MALHA CINZA MESCLA M, BOTI ...       2\n",
                            "15     0.05           (BOTI NECESS MASC MALBEC CLUB PVC C/ALC)       1\n",
                            "16     0.05  (BOT PERFUME LILLY 75ML - ED ESPECIAL, BOT BLO...       2\n",
                            "17     0.04                        (BOTI POCHETE HOLOG PU C/A)       1\n",
                            "18     0.04                     (BOTI NECESS CINZA NAILON C/A)       1\n",
                            "19     0.04  (BOTI DEOS AEROSOL MALBEC 40ML, BOT PERFUME LI...       2\n",
                            "20     0.04  (CATALOGO CICLO PROXIMO SELL OUT, BOT BLOCO DE...       2\n",
                            "21     0.04  (BOTI MASCARA PROT MALHA CINZA MESCLA M, BOTI ...       2\n",
                            "22     0.03                    (CATALOGO CICLO ATUAL SELL OUT)       1\n",
                            "23     0.03                    (BOTI SACO ORGANIZADOR ALGODAO)       1\n",
                            "24     0.03                         (EGEO SAB BARRA DOLCE 90g)       1\n",
                            "25     0.03  (BOTI NECESS ENVELOPE PU ROSA C/A, BOTI NECESS...       2\n",
                            "26     0.03                            (BOTI FITA OLFATIVA VD)       1"
                        ]
                    },
                    "metadata": {},
                    "execution_count": 49
                }
            ],
            "metadata": {}
        },
        {
            "cell_type": "code",
            "execution_count": 50,
            "source": [
                "#criando as regras de associação\n",
                "association_rules(frequent_itens, metric='lift', min_threshold=0.8).sort_values(by='lift', ascending=False).reset_index(drop=True)"
            ],
            "outputs": [
                {
                    "output_type": "execute_result",
                    "data": {
                        "text/html": [
                            "<div>\n",
                            "<style scoped>\n",
                            "    .dataframe tbody tr th:only-of-type {\n",
                            "        vertical-align: middle;\n",
                            "    }\n",
                            "\n",
                            "    .dataframe tbody tr th {\n",
                            "        vertical-align: top;\n",
                            "    }\n",
                            "\n",
                            "    .dataframe thead th {\n",
                            "        text-align: right;\n",
                            "    }\n",
                            "</style>\n",
                            "<table border=\"1\" class=\"dataframe\">\n",
                            "  <thead>\n",
                            "    <tr style=\"text-align: right;\">\n",
                            "      <th></th>\n",
                            "      <th>antecedents</th>\n",
                            "      <th>consequents</th>\n",
                            "      <th>antecedent support</th>\n",
                            "      <th>consequent support</th>\n",
                            "      <th>support</th>\n",
                            "      <th>confidence</th>\n",
                            "      <th>lift</th>\n",
                            "      <th>leverage</th>\n",
                            "      <th>conviction</th>\n",
                            "    </tr>\n",
                            "  </thead>\n",
                            "  <tbody>\n",
                            "    <tr>\n",
                            "      <th>0</th>\n",
                            "      <td>(BOTI NECESS ENVELOPE PU ROSA C/A)</td>\n",
                            "      <td>(BOTI NECESS ENVELOPE DOURADO PU C/A)</td>\n",
                            "      <td>0.07</td>\n",
                            "      <td>0.06</td>\n",
                            "      <td>0.03</td>\n",
                            "      <td>0.42</td>\n",
                            "      <td>7.21</td>\n",
                            "      <td>0.03</td>\n",
                            "      <td>1.61</td>\n",
                            "    </tr>\n",
                            "    <tr>\n",
                            "      <th>1</th>\n",
                            "      <td>(BOTI NECESS ENVELOPE DOURADO PU C/A)</td>\n",
                            "      <td>(BOTI NECESS ENVELOPE PU ROSA C/A)</td>\n",
                            "      <td>0.06</td>\n",
                            "      <td>0.07</td>\n",
                            "      <td>0.03</td>\n",
                            "      <td>0.54</td>\n",
                            "      <td>7.21</td>\n",
                            "      <td>0.03</td>\n",
                            "      <td>2.00</td>\n",
                            "    </tr>\n",
                            "    <tr>\n",
                            "      <th>2</th>\n",
                            "      <td>(BOTI MASCARA PROT MALHA CINZA MESCLA M)</td>\n",
                            "      <td>(BOTI MASCARA PROT MALHA PRETA M)</td>\n",
                            "      <td>0.09</td>\n",
                            "      <td>0.08</td>\n",
                            "      <td>0.05</td>\n",
                            "      <td>0.59</td>\n",
                            "      <td>7.11</td>\n",
                            "      <td>0.05</td>\n",
                            "      <td>2.26</td>\n",
                            "    </tr>\n",
                            "    <tr>\n",
                            "      <th>3</th>\n",
                            "      <td>(BOTI MASCARA PROT MALHA PRETA M)</td>\n",
                            "      <td>(BOTI MASCARA PROT MALHA CINZA MESCLA M)</td>\n",
                            "      <td>0.08</td>\n",
                            "      <td>0.09</td>\n",
                            "      <td>0.05</td>\n",
                            "      <td>0.64</td>\n",
                            "      <td>7.11</td>\n",
                            "      <td>0.05</td>\n",
                            "      <td>2.52</td>\n",
                            "    </tr>\n",
                            "    <tr>\n",
                            "      <th>4</th>\n",
                            "      <td>(BOTI MASCARA PROT MALHA CINZA MESCLA M)</td>\n",
                            "      <td>(BOTI MASCARA PROT MALHA PRETA G)</td>\n",
                            "      <td>0.09</td>\n",
                            "      <td>0.07</td>\n",
                            "      <td>0.04</td>\n",
                            "      <td>0.39</td>\n",
                            "      <td>5.40</td>\n",
                            "      <td>0.03</td>\n",
                            "      <td>1.52</td>\n",
                            "    </tr>\n",
                            "    <tr>\n",
                            "      <th>5</th>\n",
                            "      <td>(BOTI MASCARA PROT MALHA PRETA G)</td>\n",
                            "      <td>(BOTI MASCARA PROT MALHA CINZA MESCLA M)</td>\n",
                            "      <td>0.07</td>\n",
                            "      <td>0.09</td>\n",
                            "      <td>0.04</td>\n",
                            "      <td>0.49</td>\n",
                            "      <td>5.40</td>\n",
                            "      <td>0.03</td>\n",
                            "      <td>1.77</td>\n",
                            "    </tr>\n",
                            "    <tr>\n",
                            "      <th>6</th>\n",
                            "      <td>(CATALOGO CICLO PROXIMO SELL OUT)</td>\n",
                            "      <td>(BOT BLOCO DE PEDIDOS VD)</td>\n",
                            "      <td>0.09</td>\n",
                            "      <td>0.16</td>\n",
                            "      <td>0.04</td>\n",
                            "      <td>0.39</td>\n",
                            "      <td>2.42</td>\n",
                            "      <td>0.02</td>\n",
                            "      <td>1.38</td>\n",
                            "    </tr>\n",
                            "    <tr>\n",
                            "      <th>7</th>\n",
                            "      <td>(BOT BLOCO DE PEDIDOS VD)</td>\n",
                            "      <td>(CATALOGO CICLO PROXIMO SELL OUT)</td>\n",
                            "      <td>0.16</td>\n",
                            "      <td>0.09</td>\n",
                            "      <td>0.04</td>\n",
                            "      <td>0.22</td>\n",
                            "      <td>2.42</td>\n",
                            "      <td>0.02</td>\n",
                            "      <td>1.16</td>\n",
                            "    </tr>\n",
                            "    <tr>\n",
                            "      <th>8</th>\n",
                            "      <td>(BOT PERFUME LILLY 75ML - ED ESPECIAL)</td>\n",
                            "      <td>(BOT BLOCO DE PEDIDOS VD)</td>\n",
                            "      <td>0.32</td>\n",
                            "      <td>0.16</td>\n",
                            "      <td>0.05</td>\n",
                            "      <td>0.15</td>\n",
                            "      <td>0.89</td>\n",
                            "      <td>-0.01</td>\n",
                            "      <td>0.98</td>\n",
                            "    </tr>\n",
                            "    <tr>\n",
                            "      <th>9</th>\n",
                            "      <td>(BOT BLOCO DE PEDIDOS VD)</td>\n",
                            "      <td>(BOT PERFUME LILLY 75ML - ED ESPECIAL)</td>\n",
                            "      <td>0.16</td>\n",
                            "      <td>0.32</td>\n",
                            "      <td>0.05</td>\n",
                            "      <td>0.28</td>\n",
                            "      <td>0.89</td>\n",
                            "      <td>-0.01</td>\n",
                            "      <td>0.95</td>\n",
                            "    </tr>\n",
                            "  </tbody>\n",
                            "</table>\n",
                            "</div>"
                        ],
                        "text/plain": [
                            "                                antecedents  \\\n",
                            "0        (BOTI NECESS ENVELOPE PU ROSA C/A)   \n",
                            "1     (BOTI NECESS ENVELOPE DOURADO PU C/A)   \n",
                            "2  (BOTI MASCARA PROT MALHA CINZA MESCLA M)   \n",
                            "3         (BOTI MASCARA PROT MALHA PRETA M)   \n",
                            "4  (BOTI MASCARA PROT MALHA CINZA MESCLA M)   \n",
                            "5         (BOTI MASCARA PROT MALHA PRETA G)   \n",
                            "6         (CATALOGO CICLO PROXIMO SELL OUT)   \n",
                            "7                 (BOT BLOCO DE PEDIDOS VD)   \n",
                            "8    (BOT PERFUME LILLY 75ML - ED ESPECIAL)   \n",
                            "9                 (BOT BLOCO DE PEDIDOS VD)   \n",
                            "\n",
                            "                                consequents  antecedent support  \\\n",
                            "0     (BOTI NECESS ENVELOPE DOURADO PU C/A)                0.07   \n",
                            "1        (BOTI NECESS ENVELOPE PU ROSA C/A)                0.06   \n",
                            "2         (BOTI MASCARA PROT MALHA PRETA M)                0.09   \n",
                            "3  (BOTI MASCARA PROT MALHA CINZA MESCLA M)                0.08   \n",
                            "4         (BOTI MASCARA PROT MALHA PRETA G)                0.09   \n",
                            "5  (BOTI MASCARA PROT MALHA CINZA MESCLA M)                0.07   \n",
                            "6                 (BOT BLOCO DE PEDIDOS VD)                0.09   \n",
                            "7         (CATALOGO CICLO PROXIMO SELL OUT)                0.16   \n",
                            "8                 (BOT BLOCO DE PEDIDOS VD)                0.32   \n",
                            "9    (BOT PERFUME LILLY 75ML - ED ESPECIAL)                0.16   \n",
                            "\n",
                            "   consequent support  support  confidence  lift  leverage  conviction  \n",
                            "0                0.06     0.03        0.42  7.21      0.03        1.61  \n",
                            "1                0.07     0.03        0.54  7.21      0.03        2.00  \n",
                            "2                0.08     0.05        0.59  7.11      0.05        2.26  \n",
                            "3                0.09     0.05        0.64  7.11      0.05        2.52  \n",
                            "4                0.07     0.04        0.39  5.40      0.03        1.52  \n",
                            "5                0.09     0.04        0.49  5.40      0.03        1.77  \n",
                            "6                0.16     0.04        0.39  2.42      0.02        1.38  \n",
                            "7                0.09     0.04        0.22  2.42      0.02        1.16  \n",
                            "8                0.16     0.05        0.15  0.89     -0.01        0.98  \n",
                            "9                0.32     0.05        0.28  0.89     -0.01        0.95  "
                        ]
                    },
                    "metadata": {},
                    "execution_count": 50
                }
            ],
            "metadata": {}
        },
        {
            "cell_type": "markdown",
            "source": [
                "## ------ Março - 2020 ----------"
            ],
            "metadata": {}
        },
        {
            "cell_type": "code",
            "execution_count": 51,
            "source": [
                "basket_plus_mar = base[base['Ciclo'] == 'Mar-2020'].groupby(['id_basket','Produto_Descricao'])['Pedido_Valor_Volume'].\\\n",
                "    sum().unstack().reset_index().fillna(0).set_index('id_basket')\n",
                "\n",
                "#encode\n",
                "basket_plus_mar = basket_plus_mar.applymap(lambda x: 0 if x<=0 else 1)\n",
                "\n",
                "print(f\"Quantidade de pedidos: {len(basket_plus_mar)}\")\n",
                "\n",
                "#filtrando os que tem mais de um item\n",
                "basket_plus_mar = basket_plus_mar[(basket_plus_mar > 0).sum(axis=1) >= 2]\n",
                "\n",
                "print(f\"Quantidade de itens de pedidos com mais de um item: {len(basket_plus_mar)}\")"
            ],
            "outputs": [
                {
                    "output_type": "stream",
                    "name": "stdout",
                    "text": [
                        "Quantidade de pedidos: 37777\n",
                        "Quantidade de itens de pedidos com mais de um item: 2046\n"
                    ]
                }
            ],
            "metadata": {}
        },
        {
            "cell_type": "code",
            "execution_count": 52,
            "source": [
                "#Aplicando o algoritmo Apriori\n",
                "frequent_itens_mar = apriori(basket_plus_mar, min_support=0.03, use_colnames=True).\\\n",
                "    sort_values('support', ascending=False).reset_index(drop=True)"
            ],
            "outputs": [],
            "metadata": {}
        },
        {
            "cell_type": "code",
            "execution_count": 53,
            "source": [
                "frequent_itens_mar['length'] = frequent_itens_mar['itemsets'].apply(lambda x: len(x))\n",
                "frequent_itens_mar"
            ],
            "outputs": [
                {
                    "output_type": "execute_result",
                    "data": {
                        "text/html": [
                            "<div>\n",
                            "<style scoped>\n",
                            "    .dataframe tbody tr th:only-of-type {\n",
                            "        vertical-align: middle;\n",
                            "    }\n",
                            "\n",
                            "    .dataframe tbody tr th {\n",
                            "        vertical-align: top;\n",
                            "    }\n",
                            "\n",
                            "    .dataframe thead th {\n",
                            "        text-align: right;\n",
                            "    }\n",
                            "</style>\n",
                            "<table border=\"1\" class=\"dataframe\">\n",
                            "  <thead>\n",
                            "    <tr style=\"text-align: right;\">\n",
                            "      <th></th>\n",
                            "      <th>support</th>\n",
                            "      <th>itemsets</th>\n",
                            "      <th>length</th>\n",
                            "    </tr>\n",
                            "  </thead>\n",
                            "  <tbody>\n",
                            "    <tr>\n",
                            "      <th>0</th>\n",
                            "      <td>0.25</td>\n",
                            "      <td>(BOT PERFUME LILLY 75ML - ED ESPECIAL)</td>\n",
                            "      <td>1</td>\n",
                            "    </tr>\n",
                            "    <tr>\n",
                            "      <th>1</th>\n",
                            "      <td>0.19</td>\n",
                            "      <td>(CATALOGO CICLO PROXIMO SELL OUT)</td>\n",
                            "      <td>1</td>\n",
                            "    </tr>\n",
                            "    <tr>\n",
                            "      <th>2</th>\n",
                            "      <td>0.18</td>\n",
                            "      <td>(BOTI NECESS ENVELOPE PU ROSA C/A)</td>\n",
                            "      <td>1</td>\n",
                            "    </tr>\n",
                            "    <tr>\n",
                            "      <th>3</th>\n",
                            "      <td>0.17</td>\n",
                            "      <td>(BOT BLOCO DE PEDIDOS VD)</td>\n",
                            "      <td>1</td>\n",
                            "    </tr>\n",
                            "    <tr>\n",
                            "      <th>4</th>\n",
                            "      <td>0.16</td>\n",
                            "      <td>(BOTI NECESS ENVELOPE DOURADO PU C/A)</td>\n",
                            "      <td>1</td>\n",
                            "    </tr>\n",
                            "    <tr>\n",
                            "      <th>5</th>\n",
                            "      <td>0.15</td>\n",
                            "      <td>(BOTI MASCARA PROT MALHA PRETA M)</td>\n",
                            "      <td>1</td>\n",
                            "    </tr>\n",
                            "    <tr>\n",
                            "      <th>6</th>\n",
                            "      <td>0.14</td>\n",
                            "      <td>(BOTI DEOS AEROSOL MALBEC 40ML)</td>\n",
                            "      <td>1</td>\n",
                            "    </tr>\n",
                            "    <tr>\n",
                            "      <th>7</th>\n",
                            "      <td>0.11</td>\n",
                            "      <td>(BOTI MASCARA PROT MALHA CINZA MESCLA M)</td>\n",
                            "      <td>1</td>\n",
                            "    </tr>\n",
                            "    <tr>\n",
                            "      <th>8</th>\n",
                            "      <td>0.11</td>\n",
                            "      <td>(BOTI NECESS ENVELOPE PU ROSA C/A, BOTI NECESS...</td>\n",
                            "      <td>2</td>\n",
                            "    </tr>\n",
                            "    <tr>\n",
                            "      <th>9</th>\n",
                            "      <td>0.09</td>\n",
                            "      <td>(BOTI FITA OLFATIVA VD)</td>\n",
                            "      <td>1</td>\n",
                            "    </tr>\n",
                            "    <tr>\n",
                            "      <th>10</th>\n",
                            "      <td>0.08</td>\n",
                            "      <td>(BOTI MASCARA PROT MALHA CINZA MESCLA M, BOTI ...</td>\n",
                            "      <td>2</td>\n",
                            "    </tr>\n",
                            "    <tr>\n",
                            "      <th>11</th>\n",
                            "      <td>0.08</td>\n",
                            "      <td>(CATALOGO CICLO ATUAL SELL OUT)</td>\n",
                            "      <td>1</td>\n",
                            "    </tr>\n",
                            "    <tr>\n",
                            "      <th>12</th>\n",
                            "      <td>0.07</td>\n",
                            "      <td>(CATALOGO CICLO PROXIMO SELL OUT, CATALOGO CIC...</td>\n",
                            "      <td>2</td>\n",
                            "    </tr>\n",
                            "    <tr>\n",
                            "      <th>13</th>\n",
                            "      <td>0.07</td>\n",
                            "      <td>(BOT SABONETE LÍQ LILLY 50ML)</td>\n",
                            "      <td>1</td>\n",
                            "    </tr>\n",
                            "    <tr>\n",
                            "      <th>14</th>\n",
                            "      <td>0.07</td>\n",
                            "      <td>(BOTI SPLASH MALBEC 100ML)</td>\n",
                            "      <td>1</td>\n",
                            "    </tr>\n",
                            "    <tr>\n",
                            "      <th>15</th>\n",
                            "      <td>0.06</td>\n",
                            "      <td>(CATALOGO CICLO PROXIMO SELL OUT, BOT BLOCO DE...</td>\n",
                            "      <td>2</td>\n",
                            "    </tr>\n",
                            "    <tr>\n",
                            "      <th>16</th>\n",
                            "      <td>0.04</td>\n",
                            "      <td>(BOTI FITA OLFATIVA VD, BOT BLOCO DE PEDIDOS VD)</td>\n",
                            "      <td>2</td>\n",
                            "    </tr>\n",
                            "    <tr>\n",
                            "      <th>17</th>\n",
                            "      <td>0.04</td>\n",
                            "      <td>(BOTI NECESS MASC MALBEC CLUB PVC C/ALC)</td>\n",
                            "      <td>1</td>\n",
                            "    </tr>\n",
                            "    <tr>\n",
                            "      <th>18</th>\n",
                            "      <td>0.04</td>\n",
                            "      <td>(BOTI MASCARA PROT MALHA PRETA G)</td>\n",
                            "      <td>1</td>\n",
                            "    </tr>\n",
                            "    <tr>\n",
                            "      <th>19</th>\n",
                            "      <td>0.04</td>\n",
                            "      <td>(CATALOGO CICLO PROXIMO SELL OUT, BOT PERFUME ...</td>\n",
                            "      <td>2</td>\n",
                            "    </tr>\n",
                            "    <tr>\n",
                            "      <th>20</th>\n",
                            "      <td>0.04</td>\n",
                            "      <td>(BOTI BOLSA TOTE HOLOG TPU C/A)</td>\n",
                            "      <td>1</td>\n",
                            "    </tr>\n",
                            "    <tr>\n",
                            "      <th>21</th>\n",
                            "      <td>0.04</td>\n",
                            "      <td>(BOTI NECESS VIAGEM PES C/A)</td>\n",
                            "      <td>1</td>\n",
                            "    </tr>\n",
                            "    <tr>\n",
                            "      <th>22</th>\n",
                            "      <td>0.03</td>\n",
                            "      <td>(BOTI NECESS HOLOG DREAM PVC S/ALC)</td>\n",
                            "      <td>1</td>\n",
                            "    </tr>\n",
                            "    <tr>\n",
                            "      <th>23</th>\n",
                            "      <td>0.03</td>\n",
                            "      <td>(BOTI POCHETE HOLOG PU C/A)</td>\n",
                            "      <td>1</td>\n",
                            "    </tr>\n",
                            "  </tbody>\n",
                            "</table>\n",
                            "</div>"
                        ],
                        "text/plain": [
                            "    support                                           itemsets  length\n",
                            "0      0.25             (BOT PERFUME LILLY 75ML - ED ESPECIAL)       1\n",
                            "1      0.19                  (CATALOGO CICLO PROXIMO SELL OUT)       1\n",
                            "2      0.18                 (BOTI NECESS ENVELOPE PU ROSA C/A)       1\n",
                            "3      0.17                          (BOT BLOCO DE PEDIDOS VD)       1\n",
                            "4      0.16              (BOTI NECESS ENVELOPE DOURADO PU C/A)       1\n",
                            "5      0.15                  (BOTI MASCARA PROT MALHA PRETA M)       1\n",
                            "6      0.14                    (BOTI DEOS AEROSOL MALBEC 40ML)       1\n",
                            "7      0.11           (BOTI MASCARA PROT MALHA CINZA MESCLA M)       1\n",
                            "8      0.11  (BOTI NECESS ENVELOPE PU ROSA C/A, BOTI NECESS...       2\n",
                            "9      0.09                            (BOTI FITA OLFATIVA VD)       1\n",
                            "10     0.08  (BOTI MASCARA PROT MALHA CINZA MESCLA M, BOTI ...       2\n",
                            "11     0.08                    (CATALOGO CICLO ATUAL SELL OUT)       1\n",
                            "12     0.07  (CATALOGO CICLO PROXIMO SELL OUT, CATALOGO CIC...       2\n",
                            "13     0.07                      (BOT SABONETE LÍQ LILLY 50ML)       1\n",
                            "14     0.07                         (BOTI SPLASH MALBEC 100ML)       1\n",
                            "15     0.06  (CATALOGO CICLO PROXIMO SELL OUT, BOT BLOCO DE...       2\n",
                            "16     0.04   (BOTI FITA OLFATIVA VD, BOT BLOCO DE PEDIDOS VD)       2\n",
                            "17     0.04           (BOTI NECESS MASC MALBEC CLUB PVC C/ALC)       1\n",
                            "18     0.04                  (BOTI MASCARA PROT MALHA PRETA G)       1\n",
                            "19     0.04  (CATALOGO CICLO PROXIMO SELL OUT, BOT PERFUME ...       2\n",
                            "20     0.04                    (BOTI BOLSA TOTE HOLOG TPU C/A)       1\n",
                            "21     0.04                       (BOTI NECESS VIAGEM PES C/A)       1\n",
                            "22     0.03                (BOTI NECESS HOLOG DREAM PVC S/ALC)       1\n",
                            "23     0.03                        (BOTI POCHETE HOLOG PU C/A)       1"
                        ]
                    },
                    "metadata": {},
                    "execution_count": 53
                }
            ],
            "metadata": {}
        },
        {
            "cell_type": "code",
            "execution_count": 58,
            "source": [
                "#criando as regras de associação\n",
                "association_rules(frequent_itens_mar, metric='lift', min_threshold=0.5).sort_values(by='lift', ascending=False).reset_index(drop=True)"
            ],
            "outputs": [
                {
                    "output_type": "execute_result",
                    "data": {
                        "text/html": [
                            "<div>\n",
                            "<style scoped>\n",
                            "    .dataframe tbody tr th:only-of-type {\n",
                            "        vertical-align: middle;\n",
                            "    }\n",
                            "\n",
                            "    .dataframe tbody tr th {\n",
                            "        vertical-align: top;\n",
                            "    }\n",
                            "\n",
                            "    .dataframe thead th {\n",
                            "        text-align: right;\n",
                            "    }\n",
                            "</style>\n",
                            "<table border=\"1\" class=\"dataframe\">\n",
                            "  <thead>\n",
                            "    <tr style=\"text-align: right;\">\n",
                            "      <th></th>\n",
                            "      <th>antecedents</th>\n",
                            "      <th>consequents</th>\n",
                            "      <th>antecedent support</th>\n",
                            "      <th>consequent support</th>\n",
                            "      <th>support</th>\n",
                            "      <th>confidence</th>\n",
                            "      <th>lift</th>\n",
                            "      <th>leverage</th>\n",
                            "      <th>conviction</th>\n",
                            "    </tr>\n",
                            "  </thead>\n",
                            "  <tbody>\n",
                            "    <tr>\n",
                            "      <th>0</th>\n",
                            "      <td>(BOTI MASCARA PROT MALHA PRETA M)</td>\n",
                            "      <td>(BOTI MASCARA PROT MALHA CINZA MESCLA M)</td>\n",
                            "      <td>0.15</td>\n",
                            "      <td>0.11</td>\n",
                            "      <td>0.08</td>\n",
                            "      <td>0.54</td>\n",
                            "      <td>4.80</td>\n",
                            "      <td>0.06</td>\n",
                            "      <td>1.91</td>\n",
                            "    </tr>\n",
                            "    <tr>\n",
                            "      <th>1</th>\n",
                            "      <td>(BOTI MASCARA PROT MALHA CINZA MESCLA M)</td>\n",
                            "      <td>(BOTI MASCARA PROT MALHA PRETA M)</td>\n",
                            "      <td>0.11</td>\n",
                            "      <td>0.15</td>\n",
                            "      <td>0.08</td>\n",
                            "      <td>0.73</td>\n",
                            "      <td>4.80</td>\n",
                            "      <td>0.06</td>\n",
                            "      <td>3.17</td>\n",
                            "    </tr>\n",
                            "    <tr>\n",
                            "      <th>2</th>\n",
                            "      <td>(CATALOGO CICLO PROXIMO SELL OUT)</td>\n",
                            "      <td>(CATALOGO CICLO ATUAL SELL OUT)</td>\n",
                            "      <td>0.19</td>\n",
                            "      <td>0.08</td>\n",
                            "      <td>0.07</td>\n",
                            "      <td>0.35</td>\n",
                            "      <td>4.31</td>\n",
                            "      <td>0.05</td>\n",
                            "      <td>1.42</td>\n",
                            "    </tr>\n",
                            "    <tr>\n",
                            "      <th>3</th>\n",
                            "      <td>(CATALOGO CICLO ATUAL SELL OUT)</td>\n",
                            "      <td>(CATALOGO CICLO PROXIMO SELL OUT)</td>\n",
                            "      <td>0.08</td>\n",
                            "      <td>0.19</td>\n",
                            "      <td>0.07</td>\n",
                            "      <td>0.84</td>\n",
                            "      <td>4.31</td>\n",
                            "      <td>0.05</td>\n",
                            "      <td>4.98</td>\n",
                            "    </tr>\n",
                            "    <tr>\n",
                            "      <th>4</th>\n",
                            "      <td>(BOTI NECESS ENVELOPE PU ROSA C/A)</td>\n",
                            "      <td>(BOTI NECESS ENVELOPE DOURADO PU C/A)</td>\n",
                            "      <td>0.18</td>\n",
                            "      <td>0.16</td>\n",
                            "      <td>0.11</td>\n",
                            "      <td>0.60</td>\n",
                            "      <td>3.84</td>\n",
                            "      <td>0.08</td>\n",
                            "      <td>2.09</td>\n",
                            "    </tr>\n",
                            "    <tr>\n",
                            "      <th>5</th>\n",
                            "      <td>(BOTI NECESS ENVELOPE DOURADO PU C/A)</td>\n",
                            "      <td>(BOTI NECESS ENVELOPE PU ROSA C/A)</td>\n",
                            "      <td>0.16</td>\n",
                            "      <td>0.18</td>\n",
                            "      <td>0.11</td>\n",
                            "      <td>0.69</td>\n",
                            "      <td>3.84</td>\n",
                            "      <td>0.08</td>\n",
                            "      <td>2.66</td>\n",
                            "    </tr>\n",
                            "    <tr>\n",
                            "      <th>6</th>\n",
                            "      <td>(BOTI FITA OLFATIVA VD)</td>\n",
                            "      <td>(BOT BLOCO DE PEDIDOS VD)</td>\n",
                            "      <td>0.09</td>\n",
                            "      <td>0.17</td>\n",
                            "      <td>0.04</td>\n",
                            "      <td>0.49</td>\n",
                            "      <td>2.99</td>\n",
                            "      <td>0.03</td>\n",
                            "      <td>1.65</td>\n",
                            "    </tr>\n",
                            "    <tr>\n",
                            "      <th>7</th>\n",
                            "      <td>(BOT BLOCO DE PEDIDOS VD)</td>\n",
                            "      <td>(BOTI FITA OLFATIVA VD)</td>\n",
                            "      <td>0.17</td>\n",
                            "      <td>0.09</td>\n",
                            "      <td>0.04</td>\n",
                            "      <td>0.26</td>\n",
                            "      <td>2.99</td>\n",
                            "      <td>0.03</td>\n",
                            "      <td>1.23</td>\n",
                            "    </tr>\n",
                            "    <tr>\n",
                            "      <th>8</th>\n",
                            "      <td>(CATALOGO CICLO PROXIMO SELL OUT)</td>\n",
                            "      <td>(BOT BLOCO DE PEDIDOS VD)</td>\n",
                            "      <td>0.19</td>\n",
                            "      <td>0.17</td>\n",
                            "      <td>0.06</td>\n",
                            "      <td>0.28</td>\n",
                            "      <td>1.72</td>\n",
                            "      <td>0.02</td>\n",
                            "      <td>1.17</td>\n",
                            "    </tr>\n",
                            "    <tr>\n",
                            "      <th>9</th>\n",
                            "      <td>(BOT BLOCO DE PEDIDOS VD)</td>\n",
                            "      <td>(CATALOGO CICLO PROXIMO SELL OUT)</td>\n",
                            "      <td>0.17</td>\n",
                            "      <td>0.19</td>\n",
                            "      <td>0.06</td>\n",
                            "      <td>0.33</td>\n",
                            "      <td>1.72</td>\n",
                            "      <td>0.02</td>\n",
                            "      <td>1.21</td>\n",
                            "    </tr>\n",
                            "    <tr>\n",
                            "      <th>10</th>\n",
                            "      <td>(CATALOGO CICLO PROXIMO SELL OUT)</td>\n",
                            "      <td>(BOT PERFUME LILLY 75ML - ED ESPECIAL)</td>\n",
                            "      <td>0.19</td>\n",
                            "      <td>0.25</td>\n",
                            "      <td>0.04</td>\n",
                            "      <td>0.20</td>\n",
                            "      <td>0.82</td>\n",
                            "      <td>-0.01</td>\n",
                            "      <td>0.94</td>\n",
                            "    </tr>\n",
                            "    <tr>\n",
                            "      <th>11</th>\n",
                            "      <td>(BOT PERFUME LILLY 75ML - ED ESPECIAL)</td>\n",
                            "      <td>(CATALOGO CICLO PROXIMO SELL OUT)</td>\n",
                            "      <td>0.25</td>\n",
                            "      <td>0.19</td>\n",
                            "      <td>0.04</td>\n",
                            "      <td>0.16</td>\n",
                            "      <td>0.82</td>\n",
                            "      <td>-0.01</td>\n",
                            "      <td>0.96</td>\n",
                            "    </tr>\n",
                            "  </tbody>\n",
                            "</table>\n",
                            "</div>"
                        ],
                        "text/plain": [
                            "                                 antecedents  \\\n",
                            "0          (BOTI MASCARA PROT MALHA PRETA M)   \n",
                            "1   (BOTI MASCARA PROT MALHA CINZA MESCLA M)   \n",
                            "2          (CATALOGO CICLO PROXIMO SELL OUT)   \n",
                            "3            (CATALOGO CICLO ATUAL SELL OUT)   \n",
                            "4         (BOTI NECESS ENVELOPE PU ROSA C/A)   \n",
                            "5      (BOTI NECESS ENVELOPE DOURADO PU C/A)   \n",
                            "6                    (BOTI FITA OLFATIVA VD)   \n",
                            "7                  (BOT BLOCO DE PEDIDOS VD)   \n",
                            "8          (CATALOGO CICLO PROXIMO SELL OUT)   \n",
                            "9                  (BOT BLOCO DE PEDIDOS VD)   \n",
                            "10         (CATALOGO CICLO PROXIMO SELL OUT)   \n",
                            "11    (BOT PERFUME LILLY 75ML - ED ESPECIAL)   \n",
                            "\n",
                            "                                 consequents  antecedent support  \\\n",
                            "0   (BOTI MASCARA PROT MALHA CINZA MESCLA M)                0.15   \n",
                            "1          (BOTI MASCARA PROT MALHA PRETA M)                0.11   \n",
                            "2            (CATALOGO CICLO ATUAL SELL OUT)                0.19   \n",
                            "3          (CATALOGO CICLO PROXIMO SELL OUT)                0.08   \n",
                            "4      (BOTI NECESS ENVELOPE DOURADO PU C/A)                0.18   \n",
                            "5         (BOTI NECESS ENVELOPE PU ROSA C/A)                0.16   \n",
                            "6                  (BOT BLOCO DE PEDIDOS VD)                0.09   \n",
                            "7                    (BOTI FITA OLFATIVA VD)                0.17   \n",
                            "8                  (BOT BLOCO DE PEDIDOS VD)                0.19   \n",
                            "9          (CATALOGO CICLO PROXIMO SELL OUT)                0.17   \n",
                            "10    (BOT PERFUME LILLY 75ML - ED ESPECIAL)                0.19   \n",
                            "11         (CATALOGO CICLO PROXIMO SELL OUT)                0.25   \n",
                            "\n",
                            "    consequent support  support  confidence  lift  leverage  conviction  \n",
                            "0                 0.11     0.08        0.54  4.80      0.06        1.91  \n",
                            "1                 0.15     0.08        0.73  4.80      0.06        3.17  \n",
                            "2                 0.08     0.07        0.35  4.31      0.05        1.42  \n",
                            "3                 0.19     0.07        0.84  4.31      0.05        4.98  \n",
                            "4                 0.16     0.11        0.60  3.84      0.08        2.09  \n",
                            "5                 0.18     0.11        0.69  3.84      0.08        2.66  \n",
                            "6                 0.17     0.04        0.49  2.99      0.03        1.65  \n",
                            "7                 0.09     0.04        0.26  2.99      0.03        1.23  \n",
                            "8                 0.17     0.06        0.28  1.72      0.02        1.17  \n",
                            "9                 0.19     0.06        0.33  1.72      0.02        1.21  \n",
                            "10                0.25     0.04        0.20  0.82     -0.01        0.94  \n",
                            "11                0.19     0.04        0.16  0.82     -0.01        0.96  "
                        ]
                    },
                    "metadata": {},
                    "execution_count": 58
                }
            ],
            "metadata": {}
        },
        {
            "cell_type": "code",
            "execution_count": null,
            "source": [],
            "outputs": [],
            "metadata": {}
        },
        {
            "cell_type": "code",
            "execution_count": null,
            "source": [],
            "outputs": [],
            "metadata": {}
        }
    ],
    "metadata": {
        "orig_nbformat": 4,
        "language_info": {
            "name": "python",
            "version": "3.6.9",
            "mimetype": "text/x-python",
            "codemirror_mode": {
                "name": "ipython",
                "version": 3
            },
            "pygments_lexer": "ipython3",
            "nbconvert_exporter": "python",
            "file_extension": ".py"
        },
        "kernelspec": {
            "name": "python3",
            "display_name": "Python 3.6.9 64-bit"
        },
        "interpreter": {
            "hash": "31f2aee4e71d21fbe5cf8b01ff0e069b9275f58929596ceb00d14d90e3e16cd6"
        }
    },
    "nbformat": 4,
    "nbformat_minor": 2
}